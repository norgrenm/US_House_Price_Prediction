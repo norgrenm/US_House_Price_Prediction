{
 "cells": [
  {
   "cell_type": "markdown",
   "metadata": {},
   "source": [
    "# Data Mining Project\n",
    "### By:  Group 3: Elio Aybar, Cristal Garcia, Sunny Li, Matt Norgren"
   ]
  },
  {
   "cell_type": "markdown",
   "metadata": {},
   "source": [
    "### Data Cleaning"
   ]
  },
  {
   "cell_type": "code",
   "execution_count": 2,
   "metadata": {},
   "outputs": [],
   "source": [
    "#Packages to import\n",
    "import os\n",
    "import pandas as pd\n",
    "import numpy as np\n"
   ]
  },
  {
   "cell_type": "code",
   "execution_count": 1,
   "metadata": {},
   "outputs": [
    {
     "name": "stdout",
     "output_type": "stream",
     "text": [
      "C:\\Users\\MAN\\OneDrive - The University of Chicago\\2020_Autumn\\Data Mining Platforms [MSCA 31008]\\Group_Project\n"
     ]
    }
   ],
   "source": [
    "### IMPORT SET\n",
    "\n",
    "#Change working directory to match where the large files are stored\n",
    "# it is not best practice to centrally store files this large - although\n",
    "# git LFS should be explored\n",
    "\n",
    "### CWD -  MAN\n",
    "%cd \"C:\\Users\\MAN\\OneDrive - The University of Chicago\\2020_Autumn\\Data Mining Platforms [MSCA 31008]\\Group_Project\\\"\n",
    "## CWD - Cristal\n",
    "#%cd \"C:\\Users\\cgarc\\OneDrive - The University of Chicago\\GitHub\\US_HousingData-\\docs\"\n",
    "#cd\n",
    "## CWD - Elio \n",
    "#cd\n",
    "## CWD - Sunny\n",
    "#cd"
   ]
  },
  {
   "cell_type": "code",
   "execution_count": 3,
   "metadata": {},
   "outputs": [
    {
     "name": "stderr",
     "output_type": "stream",
     "text": [
      "C:\\ProgramData\\Anaconda3\\lib\\site-packages\\IPython\\core\\interactiveshell.py:3145: DtypeWarning: Columns (1) have mixed types.Specify dtype option on import or set low_memory=False.\n",
      "  has_raised = await self.run_ast_nodes(code_ast.body, cell_name,\n"
     ]
    }
   ],
   "source": [
    "### Establish Pandas Data Frames / Import\n",
    "\n",
    "### Zillow Set\n",
    "## Cities Crosswalk  Dataset \n",
    "cc_df = pd.read_csv('cities_crosswalk.csv', index_col='Unique_City_ID')\n",
    "## City Time Series \n",
    "cts_df = pd.read_csv('City_time_series.csv', index_col='RegionName')\n",
    "## County Time Series \n",
    "cots_df = pd.read_csv('County_time_series.csv', index_col='RegionName')\n",
    "## County Cross Walk \n",
    "ccw_df = pd.read_csv('CountyCrossWalk_Zillow.csv', index_col='CBSAName')\n",
    "## Metro Time Series \n",
    "mts_df = pd.read_csv('metro_time_series.csv', index_col='RegionName')\n",
    "## Neighborhood Time Series - Import \n",
    "nbh_df = pd.read_csv('Neighborhood_time_series.csv', index_col='RegionName')\n",
    "##State Time Series \n",
    "sts_df = pd.read_csv('State_time_series.csv', index_col='RegionName')\n",
    "## Zip \n",
    "zip_df = pd.read_csv('Zip_time_series.csv')  ### Issues with NaN on import\n",
    "\n",
    "## Public School Ratings \n",
    "PS_df = pd.read_csv('Public_Schools.csv')\n",
    "\n",
    "## Starbucks Upto 2017 for 70 Countries\n",
    "SBUX_df = pd.read_csv('directory.csv')\n",
    "\n",
    "## Food Desert \n",
    "foodlookup_df = pd.read_csv('food_access_variable_lookup.csv')\n",
    "food_df = pd.read_csv('food_access_research_atlas.csv') \n",
    "\n",
    "## Hospital Quality Care \n",
    "hospital_df = pd.read_csv('Hospital General Information.csv', encoding=\"ISO-8859-1\")\n",
    "\n",
    "## Target Up to 2017 for US \n",
    "TGT_df = pd.read_csv('target.csv', encoding=\"ISO-8859-1\")"
   ]
  },
  {
   "cell_type": "markdown",
   "metadata": {},
   "source": [
    "### Individual Set Cleaning (Preparing for Combination"
   ]
  },
  {
   "cell_type": "code",
   "execution_count": 6,
   "metadata": {},
   "outputs": [
    {
     "data": {
      "text/plain": [
       "(25341, 3)"
      ]
     },
     "execution_count": 6,
     "metadata": {},
     "output_type": "execute_result"
    }
   ],
   "source": [
    "## Cities Crosswalk  Dataset -- Cleaning EA\n",
    "cc_df.shape"
   ]
  },
  {
   "cell_type": "code",
   "execution_count": 10,
   "metadata": {},
   "outputs": [
    {
     "data": {
      "text/plain": [
       "(211182, 94)"
      ]
     },
     "execution_count": 10,
     "metadata": {},
     "output_type": "execute_result"
    }
   ],
   "source": [
    "## Metro Time Series -- Cleaning EA\n",
    "mts_df.shape"
   ]
  },
  {
   "cell_type": "code",
   "execution_count": 19,
   "metadata": {},
   "outputs": [
    {
     "data": {
      "text/plain": [
       "(1829, 47)"
      ]
     },
     "execution_count": 19,
     "metadata": {},
     "output_type": "execute_result"
    }
   ],
   "source": [
    "## Target -- Cleaning EA\n",
    "TGT_df.shape"
   ]
  },
  {
   "cell_type": "code",
   "execution_count": 16,
   "metadata": {},
   "outputs": [
    {
     "data": {
      "text/plain": [
       "(25600, 13)"
      ]
     },
     "execution_count": 16,
     "metadata": {},
     "output_type": "execute_result"
    }
   ],
   "source": [
    "## Starbucks -- Cleaning EA\n",
    "SBUX_df.shape"
   ]
  },
  {
   "cell_type": "code",
   "execution_count": 11,
   "metadata": {},
   "outputs": [
    {
     "data": {
      "text/plain": [
       "(1695038, 75)"
      ]
     },
     "execution_count": 11,
     "metadata": {},
     "output_type": "execute_result"
    }
   ],
   "source": [
    "## Neighborhood Time Series -- Cleaning SL\n",
    "nbh_df.shape"
   ]
  },
  {
   "cell_type": "code",
   "execution_count": 12,
   "metadata": {},
   "outputs": [
    {
     "data": {
      "text/plain": [
       "(13212, 81)"
      ]
     },
     "execution_count": 12,
     "metadata": {},
     "output_type": "execute_result"
    }
   ],
   "source": [
    "##State Time Series -- Cleaning SL\n",
    "sts_df.shape"
   ]
  },
  {
   "cell_type": "code",
   "execution_count": 8,
   "metadata": {},
   "outputs": [
    {
     "data": {
      "text/html": [
       "<div>\n",
       "<style scoped>\n",
       "    .dataframe tbody tr th:only-of-type {\n",
       "        vertical-align: middle;\n",
       "    }\n",
       "\n",
       "    .dataframe tbody tr th {\n",
       "        vertical-align: top;\n",
       "    }\n",
       "\n",
       "    .dataframe thead th {\n",
       "        text-align: right;\n",
       "    }\n",
       "</style>\n",
       "<table border=\"1\" class=\"dataframe\">\n",
       "  <thead>\n",
       "    <tr style=\"text-align: right;\">\n",
       "      <th></th>\n",
       "      <th>InventorySeasonallyAdjusted_AllHomes</th>\n",
       "      <th>InventoryRaw_AllHomes</th>\n",
       "      <th>MedianListingPricePerSqft_1Bedroom</th>\n",
       "      <th>MedianListingPricePerSqft_2Bedroom</th>\n",
       "      <th>MedianListingPricePerSqft_3Bedroom</th>\n",
       "      <th>MedianListingPricePerSqft_4Bedroom</th>\n",
       "      <th>MedianListingPricePerSqft_5BedroomOrMore</th>\n",
       "      <th>MedianListingPricePerSqft_AllHomes</th>\n",
       "      <th>MedianListingPricePerSqft_CondoCoop</th>\n",
       "      <th>MedianListingPricePerSqft_DuplexTriplex</th>\n",
       "      <th>...</th>\n",
       "      <th>ZHVI_BottomTier</th>\n",
       "      <th>ZHVI_CondoCoop</th>\n",
       "      <th>ZHVI_MiddleTier</th>\n",
       "      <th>ZHVI_SingleFamilyResidence</th>\n",
       "      <th>ZHVI_TopTier</th>\n",
       "      <th>ZRI_AllHomes</th>\n",
       "      <th>ZRI_AllHomesPlusMultifamily</th>\n",
       "      <th>ZriPerSqft_AllHomes</th>\n",
       "      <th>Zri_MultiFamilyResidenceRental</th>\n",
       "      <th>Zri_SingleFamilyResidenceRental</th>\n",
       "    </tr>\n",
       "  </thead>\n",
       "  <tbody>\n",
       "    <tr>\n",
       "      <th>count</th>\n",
       "      <td>771744.000000</td>\n",
       "      <td>771744.000000</td>\n",
       "      <td>7670.000000</td>\n",
       "      <td>74574.000000</td>\n",
       "      <td>250633.000000</td>\n",
       "      <td>144183.000000</td>\n",
       "      <td>37653.000000</td>\n",
       "      <td>551975.000000</td>\n",
       "      <td>54821.000000</td>\n",
       "      <td>7584.000000</td>\n",
       "      <td>...</td>\n",
       "      <td>2.599397e+06</td>\n",
       "      <td>8.235740e+05</td>\n",
       "      <td>3.077548e+06</td>\n",
       "      <td>3.075331e+06</td>\n",
       "      <td>3.115759e+06</td>\n",
       "      <td>1.098167e+06</td>\n",
       "      <td>1.100850e+06</td>\n",
       "      <td>1.009397e+06</td>\n",
       "      <td>450219.000000</td>\n",
       "      <td>1.098919e+06</td>\n",
       "    </tr>\n",
       "    <tr>\n",
       "      <th>mean</th>\n",
       "      <td>163.438201</td>\n",
       "      <td>163.469371</td>\n",
       "      <td>260.912038</td>\n",
       "      <td>167.764079</td>\n",
       "      <td>145.076803</td>\n",
       "      <td>154.369271</td>\n",
       "      <td>193.162108</td>\n",
       "      <td>151.277372</td>\n",
       "      <td>207.499579</td>\n",
       "      <td>102.725920</td>\n",
       "      <td>...</td>\n",
       "      <td>1.445351e+05</td>\n",
       "      <td>1.826798e+05</td>\n",
       "      <td>1.898498e+05</td>\n",
       "      <td>1.967398e+05</td>\n",
       "      <td>2.802083e+05</td>\n",
       "      <td>1.402930e+03</td>\n",
       "      <td>1.391671e+03</td>\n",
       "      <td>9.108979e-01</td>\n",
       "      <td>1322.360111</td>\n",
       "      <td>1.424704e+03</td>\n",
       "    </tr>\n",
       "    <tr>\n",
       "      <th>std</th>\n",
       "      <td>451.979813</td>\n",
       "      <td>452.845056</td>\n",
       "      <td>169.798120</td>\n",
       "      <td>118.391115</td>\n",
       "      <td>93.495189</td>\n",
       "      <td>98.637567</td>\n",
       "      <td>163.339295</td>\n",
       "      <td>100.278583</td>\n",
       "      <td>139.111165</td>\n",
       "      <td>98.811634</td>\n",
       "      <td>...</td>\n",
       "      <td>1.271271e+05</td>\n",
       "      <td>1.233000e+05</td>\n",
       "      <td>1.791446e+05</td>\n",
       "      <td>1.969876e+05</td>\n",
       "      <td>2.974863e+05</td>\n",
       "      <td>7.509482e+02</td>\n",
       "      <td>7.282890e+02</td>\n",
       "      <td>3.361167e-01</td>\n",
       "      <td>528.027246</td>\n",
       "      <td>8.083801e+02</td>\n",
       "    </tr>\n",
       "    <tr>\n",
       "      <th>min</th>\n",
       "      <td>3.000000</td>\n",
       "      <td>2.000000</td>\n",
       "      <td>26.422764</td>\n",
       "      <td>18.564356</td>\n",
       "      <td>19.561061</td>\n",
       "      <td>20.084340</td>\n",
       "      <td>13.507109</td>\n",
       "      <td>20.293026</td>\n",
       "      <td>33.783784</td>\n",
       "      <td>13.849547</td>\n",
       "      <td>...</td>\n",
       "      <td>1.620000e+04</td>\n",
       "      <td>2.650000e+04</td>\n",
       "      <td>1.660000e+04</td>\n",
       "      <td>1.660000e+04</td>\n",
       "      <td>2.390000e+04</td>\n",
       "      <td>4.700000e+02</td>\n",
       "      <td>4.700000e+02</td>\n",
       "      <td>3.440000e-01</td>\n",
       "      <td>465.000000</td>\n",
       "      <td>4.700000e+02</td>\n",
       "    </tr>\n",
       "    <tr>\n",
       "      <th>25%</th>\n",
       "      <td>37.000000</td>\n",
       "      <td>37.000000</td>\n",
       "      <td>152.631579</td>\n",
       "      <td>95.744681</td>\n",
       "      <td>93.259047</td>\n",
       "      <td>100.187527</td>\n",
       "      <td>104.269883</td>\n",
       "      <td>93.436666</td>\n",
       "      <td>119.265026</td>\n",
       "      <td>46.080614</td>\n",
       "      <td>...</td>\n",
       "      <td>7.500000e+04</td>\n",
       "      <td>1.076000e+05</td>\n",
       "      <td>9.930000e+04</td>\n",
       "      <td>9.990000e+04</td>\n",
       "      <td>1.458000e+05</td>\n",
       "      <td>9.970000e+02</td>\n",
       "      <td>9.930000e+02</td>\n",
       "      <td>6.980000e-01</td>\n",
       "      <td>963.000000</td>\n",
       "      <td>9.970000e+02</td>\n",
       "    </tr>\n",
       "    <tr>\n",
       "      <th>50%</th>\n",
       "      <td>72.000000</td>\n",
       "      <td>72.000000</td>\n",
       "      <td>211.220755</td>\n",
       "      <td>133.341651</td>\n",
       "      <td>120.592248</td>\n",
       "      <td>126.864068</td>\n",
       "      <td>140.528604</td>\n",
       "      <td>124.423276</td>\n",
       "      <td>165.359396</td>\n",
       "      <td>73.041174</td>\n",
       "      <td>...</td>\n",
       "      <td>1.109000e+05</td>\n",
       "      <td>1.471000e+05</td>\n",
       "      <td>1.426000e+05</td>\n",
       "      <td>1.444000e+05</td>\n",
       "      <td>2.068000e+05</td>\n",
       "      <td>1.227000e+03</td>\n",
       "      <td>1.222000e+03</td>\n",
       "      <td>8.320000e-01</td>\n",
       "      <td>1220.000000</td>\n",
       "      <td>1.231000e+03</td>\n",
       "    </tr>\n",
       "    <tr>\n",
       "      <th>75%</th>\n",
       "      <td>154.000000</td>\n",
       "      <td>154.000000</td>\n",
       "      <td>326.499714</td>\n",
       "      <td>195.039238</td>\n",
       "      <td>163.556465</td>\n",
       "      <td>171.834625</td>\n",
       "      <td>217.749529</td>\n",
       "      <td>172.413793</td>\n",
       "      <td>255.524154</td>\n",
       "      <td>123.478987</td>\n",
       "      <td>...</td>\n",
       "      <td>1.671000e+05</td>\n",
       "      <td>2.174000e+05</td>\n",
       "      <td>2.180000e+05</td>\n",
       "      <td>2.236000e+05</td>\n",
       "      <td>3.132000e+05</td>\n",
       "      <td>1.555000e+03</td>\n",
       "      <td>1.545000e+03</td>\n",
       "      <td>1.020000e+00</td>\n",
       "      <td>1529.000000</td>\n",
       "      <td>1.574000e+03</td>\n",
       "    </tr>\n",
       "    <tr>\n",
       "      <th>max</th>\n",
       "      <td>29395.000000</td>\n",
       "      <td>30031.000000</td>\n",
       "      <td>1129.518072</td>\n",
       "      <td>1313.762626</td>\n",
       "      <td>2071.403891</td>\n",
       "      <td>1374.562848</td>\n",
       "      <td>1427.267987</td>\n",
       "      <td>1789.677944</td>\n",
       "      <td>1574.360127</td>\n",
       "      <td>827.887713</td>\n",
       "      <td>...</td>\n",
       "      <td>4.136400e+06</td>\n",
       "      <td>1.953300e+06</td>\n",
       "      <td>7.257800e+06</td>\n",
       "      <td>7.264100e+06</td>\n",
       "      <td>1.298030e+07</td>\n",
       "      <td>2.332500e+04</td>\n",
       "      <td>2.284600e+04</td>\n",
       "      <td>6.496000e+00</td>\n",
       "      <td>15852.000000</td>\n",
       "      <td>2.301400e+04</td>\n",
       "    </tr>\n",
       "  </tbody>\n",
       "</table>\n",
       "<p>8 rows × 79 columns</p>\n",
       "</div>"
      ],
      "text/plain": [
       "       InventorySeasonallyAdjusted_AllHomes  InventoryRaw_AllHomes  \\\n",
       "count                         771744.000000          771744.000000   \n",
       "mean                             163.438201             163.469371   \n",
       "std                              451.979813             452.845056   \n",
       "min                                3.000000               2.000000   \n",
       "25%                               37.000000              37.000000   \n",
       "50%                               72.000000              72.000000   \n",
       "75%                              154.000000             154.000000   \n",
       "max                            29395.000000           30031.000000   \n",
       "\n",
       "       MedianListingPricePerSqft_1Bedroom  MedianListingPricePerSqft_2Bedroom  \\\n",
       "count                         7670.000000                        74574.000000   \n",
       "mean                           260.912038                          167.764079   \n",
       "std                            169.798120                          118.391115   \n",
       "min                             26.422764                           18.564356   \n",
       "25%                            152.631579                           95.744681   \n",
       "50%                            211.220755                          133.341651   \n",
       "75%                            326.499714                          195.039238   \n",
       "max                           1129.518072                         1313.762626   \n",
       "\n",
       "       MedianListingPricePerSqft_3Bedroom  MedianListingPricePerSqft_4Bedroom  \\\n",
       "count                       250633.000000                       144183.000000   \n",
       "mean                           145.076803                          154.369271   \n",
       "std                             93.495189                           98.637567   \n",
       "min                             19.561061                           20.084340   \n",
       "25%                             93.259047                          100.187527   \n",
       "50%                            120.592248                          126.864068   \n",
       "75%                            163.556465                          171.834625   \n",
       "max                           2071.403891                         1374.562848   \n",
       "\n",
       "       MedianListingPricePerSqft_5BedroomOrMore  \\\n",
       "count                              37653.000000   \n",
       "mean                                 193.162108   \n",
       "std                                  163.339295   \n",
       "min                                   13.507109   \n",
       "25%                                  104.269883   \n",
       "50%                                  140.528604   \n",
       "75%                                  217.749529   \n",
       "max                                 1427.267987   \n",
       "\n",
       "       MedianListingPricePerSqft_AllHomes  \\\n",
       "count                       551975.000000   \n",
       "mean                           151.277372   \n",
       "std                            100.278583   \n",
       "min                             20.293026   \n",
       "25%                             93.436666   \n",
       "50%                            124.423276   \n",
       "75%                            172.413793   \n",
       "max                           1789.677944   \n",
       "\n",
       "       MedianListingPricePerSqft_CondoCoop  \\\n",
       "count                         54821.000000   \n",
       "mean                            207.499579   \n",
       "std                             139.111165   \n",
       "min                              33.783784   \n",
       "25%                             119.265026   \n",
       "50%                             165.359396   \n",
       "75%                             255.524154   \n",
       "max                            1574.360127   \n",
       "\n",
       "       MedianListingPricePerSqft_DuplexTriplex  ...  ZHVI_BottomTier  \\\n",
       "count                              7584.000000  ...     2.599397e+06   \n",
       "mean                                102.725920  ...     1.445351e+05   \n",
       "std                                  98.811634  ...     1.271271e+05   \n",
       "min                                  13.849547  ...     1.620000e+04   \n",
       "25%                                  46.080614  ...     7.500000e+04   \n",
       "50%                                  73.041174  ...     1.109000e+05   \n",
       "75%                                 123.478987  ...     1.671000e+05   \n",
       "max                                 827.887713  ...     4.136400e+06   \n",
       "\n",
       "       ZHVI_CondoCoop  ZHVI_MiddleTier  ZHVI_SingleFamilyResidence  \\\n",
       "count    8.235740e+05     3.077548e+06                3.075331e+06   \n",
       "mean     1.826798e+05     1.898498e+05                1.967398e+05   \n",
       "std      1.233000e+05     1.791446e+05                1.969876e+05   \n",
       "min      2.650000e+04     1.660000e+04                1.660000e+04   \n",
       "25%      1.076000e+05     9.930000e+04                9.990000e+04   \n",
       "50%      1.471000e+05     1.426000e+05                1.444000e+05   \n",
       "75%      2.174000e+05     2.180000e+05                2.236000e+05   \n",
       "max      1.953300e+06     7.257800e+06                7.264100e+06   \n",
       "\n",
       "       ZHVI_TopTier  ZRI_AllHomes  ZRI_AllHomesPlusMultifamily  \\\n",
       "count  3.115759e+06  1.098167e+06                 1.100850e+06   \n",
       "mean   2.802083e+05  1.402930e+03                 1.391671e+03   \n",
       "std    2.974863e+05  7.509482e+02                 7.282890e+02   \n",
       "min    2.390000e+04  4.700000e+02                 4.700000e+02   \n",
       "25%    1.458000e+05  9.970000e+02                 9.930000e+02   \n",
       "50%    2.068000e+05  1.227000e+03                 1.222000e+03   \n",
       "75%    3.132000e+05  1.555000e+03                 1.545000e+03   \n",
       "max    1.298030e+07  2.332500e+04                 2.284600e+04   \n",
       "\n",
       "       ZriPerSqft_AllHomes  Zri_MultiFamilyResidenceRental  \\\n",
       "count         1.009397e+06                   450219.000000   \n",
       "mean          9.108979e-01                     1322.360111   \n",
       "std           3.361167e-01                      528.027246   \n",
       "min           3.440000e-01                      465.000000   \n",
       "25%           6.980000e-01                      963.000000   \n",
       "50%           8.320000e-01                     1220.000000   \n",
       "75%           1.020000e+00                     1529.000000   \n",
       "max           6.496000e+00                    15852.000000   \n",
       "\n",
       "       Zri_SingleFamilyResidenceRental  \n",
       "count                     1.098919e+06  \n",
       "mean                      1.424704e+03  \n",
       "std                       8.083801e+02  \n",
       "min                       4.700000e+02  \n",
       "25%                       9.970000e+02  \n",
       "50%                       1.231000e+03  \n",
       "75%                       1.574000e+03  \n",
       "max                       2.301400e+04  \n",
       "\n",
       "[8 rows x 79 columns]"
      ]
     },
     "execution_count": 8,
     "metadata": {},
     "output_type": "execute_result"
    }
   ],
   "source": [
    "###################################\n",
    "## City Time Seris -- Cleaning MN #\n",
    "###################################\n",
    "cts_df.shape\n",
    "#cts_df.columns\n",
    "##Understand the amount of null  data\n",
    "cts_df.describe()"
   ]
  },
  {
   "cell_type": "code",
   "execution_count": null,
   "metadata": {},
   "outputs": [],
   "source": []
  },
  {
   "cell_type": "code",
   "execution_count": null,
   "metadata": {},
   "outputs": [],
   "source": []
  },
  {
   "cell_type": "code",
   "execution_count": null,
   "metadata": {},
   "outputs": [],
   "source": []
  },
  {
   "cell_type": "code",
   "execution_count": 9,
   "metadata": {},
   "outputs": [
    {
     "data": {
      "text/html": [
       "<div>\n",
       "<style scoped>\n",
       "    .dataframe tbody tr th:only-of-type {\n",
       "        vertical-align: middle;\n",
       "    }\n",
       "\n",
       "    .dataframe tbody tr th {\n",
       "        vertical-align: top;\n",
       "    }\n",
       "\n",
       "    .dataframe thead th {\n",
       "        text-align: right;\n",
       "    }\n",
       "</style>\n",
       "<table border=\"1\" class=\"dataframe\">\n",
       "  <thead>\n",
       "    <tr style=\"text-align: right;\">\n",
       "      <th></th>\n",
       "      <th>RegionName</th>\n",
       "      <th>InventorySeasonallyAdjusted_AllHomes</th>\n",
       "      <th>InventoryRaw_AllHomes</th>\n",
       "      <th>MedianListingPricePerSqft_1Bedroom</th>\n",
       "      <th>MedianListingPricePerSqft_2Bedroom</th>\n",
       "      <th>MedianListingPricePerSqft_3Bedroom</th>\n",
       "      <th>MedianListingPricePerSqft_4Bedroom</th>\n",
       "      <th>MedianListingPricePerSqft_5BedroomOrMore</th>\n",
       "      <th>MedianListingPricePerSqft_AllHomes</th>\n",
       "      <th>MedianListingPricePerSqft_CondoCoop</th>\n",
       "      <th>...</th>\n",
       "      <th>ZHVI_BottomTier</th>\n",
       "      <th>ZHVI_CondoCoop</th>\n",
       "      <th>ZHVI_MiddleTier</th>\n",
       "      <th>ZHVI_SingleFamilyResidence</th>\n",
       "      <th>ZHVI_TopTier</th>\n",
       "      <th>ZRI_AllHomes</th>\n",
       "      <th>ZRI_AllHomesPlusMultifamily</th>\n",
       "      <th>ZriPerSqft_AllHomes</th>\n",
       "      <th>Zri_MultiFamilyResidenceRental</th>\n",
       "      <th>Zri_SingleFamilyResidenceRental</th>\n",
       "    </tr>\n",
       "  </thead>\n",
       "  <tbody>\n",
       "    <tr>\n",
       "      <th>count</th>\n",
       "      <td>4.383885e+06</td>\n",
       "      <td>1.051104e+06</td>\n",
       "      <td>1.051104e+06</td>\n",
       "      <td>8194.000000</td>\n",
       "      <td>86554.000000</td>\n",
       "      <td>384738.000000</td>\n",
       "      <td>197581.000000</td>\n",
       "      <td>33722.000000</td>\n",
       "      <td>814908.000000</td>\n",
       "      <td>72778.000000</td>\n",
       "      <td>...</td>\n",
       "      <td>3.073015e+06</td>\n",
       "      <td>1.296485e+06</td>\n",
       "      <td>3.631566e+06</td>\n",
       "      <td>3.612063e+06</td>\n",
       "      <td>3.684376e+06</td>\n",
       "      <td>1.337362e+06</td>\n",
       "      <td>1.339353e+06</td>\n",
       "      <td>1.253969e+06</td>\n",
       "      <td>723542.000000</td>\n",
       "      <td>1.334321e+06</td>\n",
       "    </tr>\n",
       "    <tr>\n",
       "      <th>mean</th>\n",
       "      <td>4.683726e+04</td>\n",
       "      <td>1.230490e+02</td>\n",
       "      <td>1.230721e+02</td>\n",
       "      <td>322.914946</td>\n",
       "      <td>188.769142</td>\n",
       "      <td>144.331279</td>\n",
       "      <td>154.549637</td>\n",
       "      <td>223.571617</td>\n",
       "      <td>158.755338</td>\n",
       "      <td>273.766816</td>\n",
       "      <td>...</td>\n",
       "      <td>1.485749e+05</td>\n",
       "      <td>1.877266e+05</td>\n",
       "      <td>1.977040e+05</td>\n",
       "      <td>2.079495e+05</td>\n",
       "      <td>2.932095e+05</td>\n",
       "      <td>1.429688e+03</td>\n",
       "      <td>1.414117e+03</td>\n",
       "      <td>9.484601e-01</td>\n",
       "      <td>1325.079733</td>\n",
       "      <td>1.463457e+03</td>\n",
       "    </tr>\n",
       "    <tr>\n",
       "      <th>std</th>\n",
       "      <td>2.883334e+04</td>\n",
       "      <td>1.172875e+02</td>\n",
       "      <td>1.180173e+02</td>\n",
       "      <td>301.027216</td>\n",
       "      <td>186.646266</td>\n",
       "      <td>115.581365</td>\n",
       "      <td>114.846920</td>\n",
       "      <td>216.186771</td>\n",
       "      <td>134.386742</td>\n",
       "      <td>290.412769</td>\n",
       "      <td>...</td>\n",
       "      <td>1.240348e+05</td>\n",
       "      <td>1.426228e+05</td>\n",
       "      <td>1.771804e+05</td>\n",
       "      <td>2.040974e+05</td>\n",
       "      <td>2.970779e+05</td>\n",
       "      <td>7.197163e+02</td>\n",
       "      <td>6.913265e+02</td>\n",
       "      <td>4.240444e-01</td>\n",
       "      <td>568.827402</td>\n",
       "      <td>8.077924e+02</td>\n",
       "    </tr>\n",
       "    <tr>\n",
       "      <th>min</th>\n",
       "      <td>7.450000e+02</td>\n",
       "      <td>3.000000e+00</td>\n",
       "      <td>2.000000e+00</td>\n",
       "      <td>24.793388</td>\n",
       "      <td>21.045918</td>\n",
       "      <td>20.833333</td>\n",
       "      <td>21.384804</td>\n",
       "      <td>19.370574</td>\n",
       "      <td>15.716151</td>\n",
       "      <td>28.750000</td>\n",
       "      <td>...</td>\n",
       "      <td>1.350000e+04</td>\n",
       "      <td>2.700000e+04</td>\n",
       "      <td>1.670000e+04</td>\n",
       "      <td>1.670000e+04</td>\n",
       "      <td>2.690000e+04</td>\n",
       "      <td>4.110000e+02</td>\n",
       "      <td>4.110000e+02</td>\n",
       "      <td>2.760000e-01</td>\n",
       "      <td>414.000000</td>\n",
       "      <td>4.110000e+02</td>\n",
       "    </tr>\n",
       "    <tr>\n",
       "      <th>25%</th>\n",
       "      <td>2.183000e+04</td>\n",
       "      <td>4.600000e+01</td>\n",
       "      <td>4.600000e+01</td>\n",
       "      <td>155.056896</td>\n",
       "      <td>97.826937</td>\n",
       "      <td>91.187739</td>\n",
       "      <td>99.996853</td>\n",
       "      <td>109.830759</td>\n",
       "      <td>92.095406</td>\n",
       "      <td>122.861795</td>\n",
       "      <td>...</td>\n",
       "      <td>7.560000e+04</td>\n",
       "      <td>1.045000e+05</td>\n",
       "      <td>1.014000e+05</td>\n",
       "      <td>1.022000e+05</td>\n",
       "      <td>1.499000e+05</td>\n",
       "      <td>1.006000e+03</td>\n",
       "      <td>1.000000e+03</td>\n",
       "      <td>6.980000e-01</td>\n",
       "      <td>933.000000</td>\n",
       "      <td>1.007000e+03</td>\n",
       "    </tr>\n",
       "    <tr>\n",
       "      <th>50%</th>\n",
       "      <td>4.466900e+04</td>\n",
       "      <td>8.800000e+01</td>\n",
       "      <td>8.800000e+01</td>\n",
       "      <td>230.835830</td>\n",
       "      <td>139.332358</td>\n",
       "      <td>117.742281</td>\n",
       "      <td>125.722509</td>\n",
       "      <td>147.375569</td>\n",
       "      <td>122.694639</td>\n",
       "      <td>184.293515</td>\n",
       "      <td>...</td>\n",
       "      <td>1.129000e+05</td>\n",
       "      <td>1.457000e+05</td>\n",
       "      <td>1.470000e+05</td>\n",
       "      <td>1.495000e+05</td>\n",
       "      <td>2.152000e+05</td>\n",
       "      <td>1.246000e+03</td>\n",
       "      <td>1.238000e+03</td>\n",
       "      <td>8.340000e-01</td>\n",
       "      <td>1194.000000</td>\n",
       "      <td>1.251000e+03</td>\n",
       "    </tr>\n",
       "    <tr>\n",
       "      <th>75%</th>\n",
       "      <td>7.271800e+04</td>\n",
       "      <td>1.600000e+02</td>\n",
       "      <td>1.600000e+02</td>\n",
       "      <td>380.292972</td>\n",
       "      <td>215.616002</td>\n",
       "      <td>160.705393</td>\n",
       "      <td>168.603216</td>\n",
       "      <td>241.664617</td>\n",
       "      <td>175.354721</td>\n",
       "      <td>312.237594</td>\n",
       "      <td>...</td>\n",
       "      <td>1.735000e+05</td>\n",
       "      <td>2.211000e+05</td>\n",
       "      <td>2.301000e+05</td>\n",
       "      <td>2.390000e+05</td>\n",
       "      <td>3.318000e+05</td>\n",
       "      <td>1.613000e+03</td>\n",
       "      <td>1.598000e+03</td>\n",
       "      <td>1.052000e+00</td>\n",
       "      <td>1549.000000</td>\n",
       "      <td>1.642000e+03</td>\n",
       "    </tr>\n",
       "    <tr>\n",
       "      <th>max</th>\n",
       "      <td>9.990100e+04</td>\n",
       "      <td>2.560000e+03</td>\n",
       "      <td>2.639000e+03</td>\n",
       "      <td>2128.129602</td>\n",
       "      <td>2746.913580</td>\n",
       "      <td>3167.641326</td>\n",
       "      <td>3364.485981</td>\n",
       "      <td>2310.628893</td>\n",
       "      <td>2799.423447</td>\n",
       "      <td>2802.346570</td>\n",
       "      <td>...</td>\n",
       "      <td>3.872400e+06</td>\n",
       "      <td>3.083700e+06</td>\n",
       "      <td>7.212500e+06</td>\n",
       "      <td>7.313400e+06</td>\n",
       "      <td>1.296680e+07</td>\n",
       "      <td>1.837500e+04</td>\n",
       "      <td>1.780800e+04</td>\n",
       "      <td>6.496000e+00</td>\n",
       "      <td>15891.000000</td>\n",
       "      <td>2.096400e+04</td>\n",
       "    </tr>\n",
       "  </tbody>\n",
       "</table>\n",
       "<p>8 rows × 75 columns</p>\n",
       "</div>"
      ],
      "text/plain": [
       "         RegionName  InventorySeasonallyAdjusted_AllHomes  \\\n",
       "count  4.383885e+06                          1.051104e+06   \n",
       "mean   4.683726e+04                          1.230490e+02   \n",
       "std    2.883334e+04                          1.172875e+02   \n",
       "min    7.450000e+02                          3.000000e+00   \n",
       "25%    2.183000e+04                          4.600000e+01   \n",
       "50%    4.466900e+04                          8.800000e+01   \n",
       "75%    7.271800e+04                          1.600000e+02   \n",
       "max    9.990100e+04                          2.560000e+03   \n",
       "\n",
       "       InventoryRaw_AllHomes  MedianListingPricePerSqft_1Bedroom  \\\n",
       "count           1.051104e+06                         8194.000000   \n",
       "mean            1.230721e+02                          322.914946   \n",
       "std             1.180173e+02                          301.027216   \n",
       "min             2.000000e+00                           24.793388   \n",
       "25%             4.600000e+01                          155.056896   \n",
       "50%             8.800000e+01                          230.835830   \n",
       "75%             1.600000e+02                          380.292972   \n",
       "max             2.639000e+03                         2128.129602   \n",
       "\n",
       "       MedianListingPricePerSqft_2Bedroom  MedianListingPricePerSqft_3Bedroom  \\\n",
       "count                        86554.000000                       384738.000000   \n",
       "mean                           188.769142                          144.331279   \n",
       "std                            186.646266                          115.581365   \n",
       "min                             21.045918                           20.833333   \n",
       "25%                             97.826937                           91.187739   \n",
       "50%                            139.332358                          117.742281   \n",
       "75%                            215.616002                          160.705393   \n",
       "max                           2746.913580                         3167.641326   \n",
       "\n",
       "       MedianListingPricePerSqft_4Bedroom  \\\n",
       "count                       197581.000000   \n",
       "mean                           154.549637   \n",
       "std                            114.846920   \n",
       "min                             21.384804   \n",
       "25%                             99.996853   \n",
       "50%                            125.722509   \n",
       "75%                            168.603216   \n",
       "max                           3364.485981   \n",
       "\n",
       "       MedianListingPricePerSqft_5BedroomOrMore  \\\n",
       "count                              33722.000000   \n",
       "mean                                 223.571617   \n",
       "std                                  216.186771   \n",
       "min                                   19.370574   \n",
       "25%                                  109.830759   \n",
       "50%                                  147.375569   \n",
       "75%                                  241.664617   \n",
       "max                                 2310.628893   \n",
       "\n",
       "       MedianListingPricePerSqft_AllHomes  \\\n",
       "count                       814908.000000   \n",
       "mean                           158.755338   \n",
       "std                            134.386742   \n",
       "min                             15.716151   \n",
       "25%                             92.095406   \n",
       "50%                            122.694639   \n",
       "75%                            175.354721   \n",
       "max                           2799.423447   \n",
       "\n",
       "       MedianListingPricePerSqft_CondoCoop  ...  ZHVI_BottomTier  \\\n",
       "count                         72778.000000  ...     3.073015e+06   \n",
       "mean                            273.766816  ...     1.485749e+05   \n",
       "std                             290.412769  ...     1.240348e+05   \n",
       "min                              28.750000  ...     1.350000e+04   \n",
       "25%                             122.861795  ...     7.560000e+04   \n",
       "50%                             184.293515  ...     1.129000e+05   \n",
       "75%                             312.237594  ...     1.735000e+05   \n",
       "max                            2802.346570  ...     3.872400e+06   \n",
       "\n",
       "       ZHVI_CondoCoop  ZHVI_MiddleTier  ZHVI_SingleFamilyResidence  \\\n",
       "count    1.296485e+06     3.631566e+06                3.612063e+06   \n",
       "mean     1.877266e+05     1.977040e+05                2.079495e+05   \n",
       "std      1.426228e+05     1.771804e+05                2.040974e+05   \n",
       "min      2.700000e+04     1.670000e+04                1.670000e+04   \n",
       "25%      1.045000e+05     1.014000e+05                1.022000e+05   \n",
       "50%      1.457000e+05     1.470000e+05                1.495000e+05   \n",
       "75%      2.211000e+05     2.301000e+05                2.390000e+05   \n",
       "max      3.083700e+06     7.212500e+06                7.313400e+06   \n",
       "\n",
       "       ZHVI_TopTier  ZRI_AllHomes  ZRI_AllHomesPlusMultifamily  \\\n",
       "count  3.684376e+06  1.337362e+06                 1.339353e+06   \n",
       "mean   2.932095e+05  1.429688e+03                 1.414117e+03   \n",
       "std    2.970779e+05  7.197163e+02                 6.913265e+02   \n",
       "min    2.690000e+04  4.110000e+02                 4.110000e+02   \n",
       "25%    1.499000e+05  1.006000e+03                 1.000000e+03   \n",
       "50%    2.152000e+05  1.246000e+03                 1.238000e+03   \n",
       "75%    3.318000e+05  1.613000e+03                 1.598000e+03   \n",
       "max    1.296680e+07  1.837500e+04                 1.780800e+04   \n",
       "\n",
       "       ZriPerSqft_AllHomes  Zri_MultiFamilyResidenceRental  \\\n",
       "count         1.253969e+06                   723542.000000   \n",
       "mean          9.484601e-01                     1325.079733   \n",
       "std           4.240444e-01                      568.827402   \n",
       "min           2.760000e-01                      414.000000   \n",
       "25%           6.980000e-01                      933.000000   \n",
       "50%           8.340000e-01                     1194.000000   \n",
       "75%           1.052000e+00                     1549.000000   \n",
       "max           6.496000e+00                    15891.000000   \n",
       "\n",
       "       Zri_SingleFamilyResidenceRental  \n",
       "count                     1.334321e+06  \n",
       "mean                      1.463457e+03  \n",
       "std                       8.077924e+02  \n",
       "min                       4.110000e+02  \n",
       "25%                       1.007000e+03  \n",
       "50%                       1.251000e+03  \n",
       "75%                       1.642000e+03  \n",
       "max                       2.096400e+04  \n",
       "\n",
       "[8 rows x 75 columns]"
      ]
     },
     "execution_count": 9,
     "metadata": {},
     "output_type": "execute_result"
    }
   ],
   "source": [
    "########################\n",
    "## Zip -- Cleaning MN  #\n",
    "########################\n",
    "zip_df.shape\n",
    "#zip_df.columns\n",
    "## Understand the overall \n",
    "zip_df.describe()"
   ]
  },
  {
   "cell_type": "code",
   "execution_count": 10,
   "metadata": {},
   "outputs": [
    {
     "data": {
      "text/plain": [
       "Date                                          0\n",
       "RegionName                                    0\n",
       "InventorySeasonallyAdjusted_AllHomes    3332781\n",
       "InventoryRaw_AllHomes                   3332781\n",
       "MedianListingPricePerSqft_1Bedroom      4375691\n",
       "                                         ...   \n",
       "ZRI_AllHomes                            3046523\n",
       "ZRI_AllHomesPlusMultifamily             3044532\n",
       "ZriPerSqft_AllHomes                     3129916\n",
       "Zri_MultiFamilyResidenceRental          3660343\n",
       "Zri_SingleFamilyResidenceRental         3049564\n",
       "Length: 76, dtype: int64"
      ]
     },
     "execution_count": 10,
     "metadata": {},
     "output_type": "execute_result"
    }
   ],
   "source": [
    "##Understand the amount of null  data\n",
    "zip_df.isnull().sum()"
   ]
  },
  {
   "cell_type": "code",
   "execution_count": null,
   "metadata": {},
   "outputs": [],
   "source": []
  },
  {
   "cell_type": "code",
   "execution_count": null,
   "metadata": {},
   "outputs": [],
   "source": []
  },
  {
   "cell_type": "code",
   "execution_count": 8,
   "metadata": {},
   "outputs": [
    {
     "data": {
      "text/plain": [
       "(518791, 81)"
      ]
     },
     "execution_count": 8,
     "metadata": {},
     "output_type": "execute_result"
    }
   ],
   "source": [
    "## County Time Series -- Cleaning CG\n",
    "cots_df.shape"
   ]
  },
  {
   "cell_type": "code",
   "execution_count": 9,
   "metadata": {},
   "outputs": [
    {
     "data": {
      "text/plain": [
       "(3144, 9)"
      ]
     },
     "execution_count": 9,
     "metadata": {},
     "output_type": "execute_result"
    }
   ],
   "source": [
    "## County Cross Walk -- Cleaning CG\n",
    "ccw_df.shape"
   ]
  },
  {
   "cell_type": "code",
   "execution_count": 15,
   "metadata": {},
   "outputs": [
    {
     "data": {
      "text/plain": [
       "(102370, 33)"
      ]
     },
     "execution_count": 15,
     "metadata": {},
     "output_type": "execute_result"
    }
   ],
   "source": [
    "## Public School Ratings -- Cleaning CG\n",
    "PS_df.shape"
   ]
  },
  {
   "cell_type": "code",
   "execution_count": 17,
   "metadata": {},
   "outputs": [
    {
     "data": {
      "text/plain": [
       "(72864, 147)"
      ]
     },
     "execution_count": 17,
     "metadata": {},
     "output_type": "execute_result"
    }
   ],
   "source": [
    "## Food Desert -- Cleaning CG\n",
    "food_df.shape"
   ]
  },
  {
   "cell_type": "code",
   "execution_count": 18,
   "metadata": {},
   "outputs": [
    {
     "data": {
      "text/plain": [
       "(4812, 28)"
      ]
     },
     "execution_count": 18,
     "metadata": {},
     "output_type": "execute_result"
    }
   ],
   "source": [
    "## Hospital Quality Care -- Cleaning CG\n",
    "hospital_df.shape"
   ]
  },
  {
   "cell_type": "markdown",
   "metadata": {},
   "source": [
    "### Consolidation"
   ]
  },
  {
   "cell_type": "code",
   "execution_count": null,
   "metadata": {},
   "outputs": [],
   "source": [
    "#### Consolidate dataframes for ease of use\n",
    "pd.concat()\n"
   ]
  },
  {
   "cell_type": "code",
   "execution_count": null,
   "metadata": {},
   "outputs": [],
   "source": []
  },
  {
   "cell_type": "code",
   "execution_count": null,
   "metadata": {},
   "outputs": [],
   "source": []
  },
  {
   "cell_type": "markdown",
   "metadata": {},
   "source": [
    "### Feature Engineering"
   ]
  },
  {
   "cell_type": "code",
   "execution_count": null,
   "metadata": {},
   "outputs": [],
   "source": []
  },
  {
   "cell_type": "code",
   "execution_count": null,
   "metadata": {},
   "outputs": [],
   "source": []
  },
  {
   "cell_type": "code",
   "execution_count": null,
   "metadata": {},
   "outputs": [],
   "source": []
  },
  {
   "cell_type": "code",
   "execution_count": null,
   "metadata": {},
   "outputs": [],
   "source": []
  },
  {
   "cell_type": "code",
   "execution_count": null,
   "metadata": {},
   "outputs": [],
   "source": []
  },
  {
   "cell_type": "markdown",
   "metadata": {},
   "source": [
    "### Model Training"
   ]
  },
  {
   "cell_type": "code",
   "execution_count": null,
   "metadata": {},
   "outputs": [],
   "source": [
    "#(test as much algorithm as possible, possible models include Random Forest, Gradient Boosting, Ada-Boosting, Voting Classifier...)"
   ]
  },
  {
   "cell_type": "code",
   "execution_count": null,
   "metadata": {},
   "outputs": [],
   "source": []
  },
  {
   "cell_type": "code",
   "execution_count": null,
   "metadata": {},
   "outputs": [],
   "source": []
  },
  {
   "cell_type": "code",
   "execution_count": null,
   "metadata": {},
   "outputs": [],
   "source": []
  },
  {
   "cell_type": "code",
   "execution_count": null,
   "metadata": {},
   "outputs": [],
   "source": []
  },
  {
   "cell_type": "markdown",
   "metadata": {},
   "source": [
    "### Hyperparameter Tuning"
   ]
  },
  {
   "cell_type": "code",
   "execution_count": null,
   "metadata": {},
   "outputs": [],
   "source": []
  },
  {
   "cell_type": "code",
   "execution_count": null,
   "metadata": {},
   "outputs": [],
   "source": []
  },
  {
   "cell_type": "code",
   "execution_count": null,
   "metadata": {},
   "outputs": [],
   "source": []
  },
  {
   "cell_type": "code",
   "execution_count": null,
   "metadata": {},
   "outputs": [],
   "source": []
  },
  {
   "cell_type": "code",
   "execution_count": null,
   "metadata": {},
   "outputs": [],
   "source": []
  },
  {
   "cell_type": "markdown",
   "metadata": {},
   "source": [
    "### Model Accuracy Testing"
   ]
  },
  {
   "cell_type": "code",
   "execution_count": null,
   "metadata": {},
   "outputs": [],
   "source": []
  },
  {
   "cell_type": "code",
   "execution_count": null,
   "metadata": {},
   "outputs": [],
   "source": []
  },
  {
   "cell_type": "code",
   "execution_count": null,
   "metadata": {},
   "outputs": [],
   "source": []
  },
  {
   "cell_type": "code",
   "execution_count": null,
   "metadata": {},
   "outputs": [],
   "source": []
  },
  {
   "cell_type": "code",
   "execution_count": null,
   "metadata": {},
   "outputs": [],
   "source": []
  }
 ],
 "metadata": {
  "kernelspec": {
   "display_name": "Python 3",
   "language": "python",
   "name": "python3"
  },
  "language_info": {
   "codemirror_mode": {
    "name": "ipython",
    "version": 3
   },
   "file_extension": ".py",
   "mimetype": "text/x-python",
   "name": "python",
   "nbconvert_exporter": "python",
   "pygments_lexer": "ipython3",
   "version": "3.8.5"
  }
 },
 "nbformat": 4,
 "nbformat_minor": 4
}
