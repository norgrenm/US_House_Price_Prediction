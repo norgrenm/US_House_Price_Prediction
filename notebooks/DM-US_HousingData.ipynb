{
 "cells": [
  {
   "cell_type": "markdown",
   "metadata": {},
   "source": [
    "# Data Mining Project\n",
    "### By:  Group 3: Elio Aybar, Cristal Garcia, Sunny Li, Matt Norgren"
   ]
  },
  {
   "cell_type": "markdown",
   "metadata": {},
   "source": [
    "### Data Cleaning"
   ]
  },
  {
   "cell_type": "code",
   "execution_count": 58,
   "metadata": {},
   "outputs": [],
   "source": [
    "#Packages to import\n",
    "import os\n",
    "import pandas as pd\n",
    "import numpy as np\n",
    "from scipy import stats\n",
    "import seaborn as sns\n",
    "import matplotlib.pyplot as plt\n",
    "\n",
    "pd.set_option('display.max_columns', 100) # Setting pandas to display a N number of columns\n",
    "pd.set_option('display.max_rows', 10) # Setting pandas to display a N number rows\n",
    "pd.set_option('display.width', 1000)\n",
    "\n",
    "from sklearn.ensemble import AdaBoostRegressor,GradientBoostingRegressor,VotingClassifier,BaggingRegressor,RandomForestRegressor\n",
    "from sklearn.model_selection import train_test_split\n",
    "from hypopt import GridSearch\n",
    "from sklearn.metrics import accuracy_score, confusion_matrix\n",
    "from sklearn.tree import DecisionTreeRegressor\n",
    "from sklearn.linear_model import LogisticRegression,Perceptron,SGDRegressor\n",
    "from sklearn.preprocessing import StandardScaler\n",
    "\n",
    "\n",
    "import warnings\n",
    "warnings.filterwarnings('ignore')"
   ]
  },
  {
   "cell_type": "code",
   "execution_count": 3,
   "metadata": {},
   "outputs": [
    {
     "name": "stdout",
     "output_type": "stream",
     "text": [
      "/Users/sunny/Data mining/final project\n"
     ]
    }
   ],
   "source": [
    "### IMPORT SET\n",
    "\n",
    "#Change working directory to match where the large files are stored\n",
    "# it is not best practice to centrally store files this large - although\n",
    "# git LFS should be explored\n",
    "\n",
    "### CWD -  MAN\n",
    "#%cd \"C:\\Users\\Matth\\OneDrive - The University of Chicago\\2020_Autumn\\Data Mining Platforms [MSCA 31008]\\Group_Project\\\"\n",
    "## CWD - Cristal\n",
    "#%cd \"C:\\Users\\cgarc\\OneDrive - The University of Chicago\\GitHub\\US_HousingData-\\docs\"\n",
    "#cd\n",
    "## CWD - Elio \n",
    "#%cd \"C:\\Users\\Tipo\\Desktop\\GitHub\\Project\"\n",
    "## CWD - Sunny\n",
    "%cd \"/Users/sunny/Data mining/final project\"\n"
   ]
  },
  {
   "cell_type": "code",
   "execution_count": 3,
   "metadata": {},
   "outputs": [],
   "source": [
    "### Establish Pandas Data Frames / Import\n",
    "\n",
    "### Zillow Set\n",
    "## Cities Crosswalk  Dataset \n",
    "#cc_df = pd.read_csv('cities_crosswalk.csv', index_col='Unique_City_ID')\n",
    "## City Time Series \n",
    "#cts_df = pd.read_csv('City_time_series.csv', index_col='RegionName')\n",
    "## County Time Series \n",
    "cots_df = pd.read_csv('County_time_series.csv', index_col='RegionName')\n",
    "## County Cross Walk \n",
    "#ccw_df = pd.read_csv('CountyCrossWalk_Zillow.csv', index_col='CBSAName')\n",
    "## Metro Time Series \n",
    "#mts_df = pd.read_csv('metro_time_series.csv', index_col='RegionName')\n",
    "## Neighborhood Time Series - Import \n",
    "#nbh_df = pd.read_csv('Neighborhood_time_series.csv', index_col='RegionName')\n",
    "##State Time Series \n",
    "#sts_df = pd.read_csv('State_time_series.csv', index_col='RegionName')\n",
    "## Zip \n",
    "zip_df = pd.read_csv('Zip_time_series.csv')  ### Issues with NaN on import\n",
    "## Public School Ratings \n",
    "PS_df = pd.read_csv('Public_Schools.csv')\n",
    "## Starbucks Upto 2017 for 70 Countries\n",
    "SBUX_df = pd.read_csv('directory.csv')\n",
    "## Food Desert \n",
    "foodlookup_df = pd.read_csv('food_access_variable_lookup.csv')\n",
    "food_df = pd.read_csv('food_access_research_atlas.csv') \n",
    "## Hospital Quality Care \n",
    "hospital_df = pd.read_csv('Hospital General Information.csv', encoding=\"ISO-8859-1\")\n",
    "## Target Up to 2017 for US \n",
    "TGT_df = pd.read_csv('target.csv', encoding=\"ISO-8859-1\")"
   ]
  },
  {
   "cell_type": "code",
   "execution_count": null,
   "metadata": {},
   "outputs": [],
   "source": [
    "## Starbucks Upto 2017 for 70 Countries\n",
    "SBUX_df = pd.read_csv('directory.csv')\n",
    "\n",
    "## Target Up to 2017 for US \n",
    "TGT_df = pd.read_csv('target.csv', encoding=\"ISO-8859-1\")"
   ]
  },
  {
   "cell_type": "markdown",
   "metadata": {},
   "source": [
    "### Individual Set Cleaning (Preparing for Combination"
   ]
  },
  {
   "cell_type": "code",
   "execution_count": null,
   "metadata": {},
   "outputs": [],
   "source": [
    "#######################################\n",
    "## County Cross Walk -- Cleaning CG  ##\n",
    "#######################################\n",
    "#ccw_df.shape\n",
    "\n",
    "#ccw_df.apply(lambda x: sum(x.isnull()))\n",
    "#ccw_df.apply(lambda x: len(x.unique()))"
   ]
  },
  {
   "cell_type": "code",
   "execution_count": 4,
   "metadata": {},
   "outputs": [
    {
     "data": {
      "text/plain": [
       "(72864, 147)"
      ]
     },
     "execution_count": 4,
     "metadata": {},
     "output_type": "execute_result"
    }
   ],
   "source": [
    "################################\n",
    "## Food Desert -- Cleaning CG  #\n",
    "################################\n",
    "food_df.shape"
   ]
  },
  {
   "cell_type": "code",
   "execution_count": null,
   "metadata": {},
   "outputs": [],
   "source": [
    "#food_df.apply(lambda x: sum(x.isnull()))\n",
    "#food_df.apply(lambda x: len(x.unique()))"
   ]
  },
  {
   "cell_type": "code",
   "execution_count": 5,
   "metadata": {},
   "outputs": [],
   "source": [
    "#Columns to drop\n",
    "food_df.drop(['GroupQuartersFlag', 'NUMGQTRS', 'PCTGQTRS', 'LILATracts_Vehicle',  'LATractsVehicle_20', 'LAPOP1_10', 'LAPOP05_10', 'LAPOP1_20', 'LALOWI1_10', 'LALOWI05_10', 'LALOWI1_20', 'lapophalf', 'lapophalfshare', 'lalowihalf', 'lalowihalfshare', 'lakidshalf', 'lakidshalfshare', 'laseniorshalf', 'laseniorshalfshare', 'lawhitehalf', 'lawhitehalfshare', 'lablackhalf', 'lablackhalfshare', 'laasianhalf', 'laasianhalfshare'], axis = 1, inplace = True)\n",
    "food_df.drop(['lanhopihalf', 'lanhopihalfshare', 'laaianhalf', 'laaianhalfshare', 'laomultirhalf', 'laomultirhalfshare', 'lahisphalf', 'lahisphalfshare', 'lahunvhalf', 'lahunvhalfshare', 'lasnaphalf', 'lasnaphalfshare', 'lapop1', 'lapop1share', 'lalowi1', 'lalowi1share', 'lakids1', 'lakids1share', 'laseniors1', 'laseniors1share', 'lawhite1', 'lawhite1share', 'lablack1', 'lablack1share', 'laasian1', 'laasian1share', 'lanhopi1', 'lanhopi1share', 'laaian1', 'laaian1share', 'laomultir1', 'laomultir1share', 'lahisp1', 'lahisp1share', 'lahunv1', 'lahunv1share'], axis = 1, inplace = True)\n",
    "food_df.drop(['lasnap1', 'lasnap1share', 'lapop10', 'lapop10share', 'lalowi10', 'lalowi10share', 'lakids10', 'lakids10share', 'laseniors10', 'laseniors10share', 'lawhite10', 'lawhite10share', 'lablack10', 'lablack10share', 'laasian10', 'laasian10share', 'lanhopi10', 'lanhopi10share', 'laaian10', 'laaian10share', 'laomultir10', 'laomultir10share', 'lahisp10', 'lahisp10share', 'lahunv10', 'lahunv10share', 'lasnap10', 'lasnap10share', 'lapop20', 'lapop20share', 'lalowi20', 'lalowi20share', 'lakids20', 'lakids20share', 'laseniors20', 'laseniors20share'], axis = 1, inplace = True)\n",
    "food_df.drop(['lawhite20', 'lawhite20share', 'lablack20', 'lablack20share', 'laasian20', 'laasian20share', 'lanhopi20', 'lanhopi20share', 'laaian20', 'laaian20share', 'laomultir20', 'laomultir20share', 'lahisp20', 'lahisp20share', 'lahunv20', 'lahunv20share'], axis = 1, inplace = True)\n",
    "food_df.drop(['LILATracts_1And10', 'LILATracts_halfAnd10', 'LILATracts_1And20', 'HUNVFlag', 'lasnap20', 'lasnap20share', 'TractLOWI', 'TractKids', 'TractSeniors', 'TractWhite', 'TractBlack', 'TractAsian', 'TractNHOPI', 'TractAIAN', 'TractOMultir', 'TractHispanic', 'TractHUNV', 'TractSNAP'], axis = 1, inplace = True)"
   ]
  },
  {
   "cell_type": "code",
   "execution_count": 6,
   "metadata": {},
   "outputs": [
    {
     "data": {
      "text/plain": [
       "Index(['CensusTract', 'State', 'County', 'Urban', 'POP2010', 'OHU2010', 'LowIncomeTracts', 'PovertyRate', 'MedianFamilyIncome', 'LA1and10', 'LAhalfand10', 'LA1and20', 'LATracts_half', 'LATracts1', 'LATracts10', 'LATracts20'], dtype='object')"
      ]
     },
     "execution_count": 6,
     "metadata": {},
     "output_type": "execute_result"
    }
   ],
   "source": [
    "food_df.columns"
   ]
  },
  {
   "cell_type": "code",
   "execution_count": 7,
   "metadata": {},
   "outputs": [],
   "source": [
    "#Test PCA on Food desert variables to see which make up variability\n",
    "from sklearn.decomposition import PCA\n",
    "from sklearn.preprocessing import StandardScaler\n",
    "from sklearn.pipeline import make_pipeline\n",
    "import matplotlib.pyplot as plt"
   ]
  },
  {
   "cell_type": "code",
   "execution_count": 8,
   "metadata": {},
   "outputs": [],
   "source": [
    "#No need to standardize data since dummy variables\n",
    "pca_food = food_df.drop(['CensusTract', 'State', 'County', 'Urban', 'POP2010', 'OHU2010', 'LowIncomeTracts', 'PovertyRate', 'MedianFamilyIncome'], axis = 1)"
   ]
  },
  {
   "cell_type": "code",
   "execution_count": 13,
   "metadata": {},
   "outputs": [],
   "source": [
    "pca_food = pca_food.as_matrix().astype(\"float32\", copy = False)"
   ]
  },
  {
   "cell_type": "code",
   "execution_count": 11,
   "metadata": {},
   "outputs": [],
   "source": [
    "def fit_pca(df, n_components):\n",
    "    pca = PCA(n_components)  \n",
    "    pca = pca.fit(df)  #fit the PCA model to the df (which will be the original, non-reduced df when used below)\n",
    "    \n",
    "    return pca"
   ]
  },
  {
   "cell_type": "code",
   "execution_count": 15,
   "metadata": {},
   "outputs": [],
   "source": [
    "# we keep only 5 components\n",
    "n_components = 5\n",
    "pca = fit_pca(pca_food, n_components=n_components)"
   ]
  },
  {
   "cell_type": "code",
   "execution_count": 16,
   "metadata": {},
   "outputs": [],
   "source": [
    "def plot_scaled_variance(pca):\n",
    "    #same as above, create a subplot, decorate the plot, and show the percentage of variance\n",
    "    fig, ax = plt.subplots(figsize=(10, 6)) \n",
    "    ax.set_xlabel('Dimension #')\n",
    "    ax.set_ylabel('Explained Variance Ratio')\n",
    "    ax.set_title('Fraction of Explained Variance')\n",
    "    ax.plot(pca.explained_variance_ratio_)   \n",
    "    \n",
    "    return ax"
   ]
  },
  {
   "cell_type": "code",
   "execution_count": 17,
   "metadata": {},
   "outputs": [
    {
     "data": {
      "image/png": "[encoded data removed]",
      "text/plain": [
       "<Figure size 720x432 with 1 Axes>"
      ]
     },
     "metadata": {
      "needs_background": "light"
     },
     "output_type": "display_data"
    }
   ],
   "source": [
    "ax = plot_scaled_variance(pca)"
   ]
  },
  {
   "cell_type": "code",
   "execution_count": 22,
   "metadata": {},
   "outputs": [
    {
     "data": {
      "text/plain": [
       "PCA(copy=True, iterated_power='auto', n_components=5, random_state=None,\n",
       "    svd_solver='auto', tol=0.0, whiten=False)"
      ]
     },
     "execution_count": 22,
     "metadata": {},
     "output_type": "execute_result"
    }
   ],
   "source": [
    "def reduce(pca, array):\n",
    "    reduced = pca.transform(array)  #reduce the model by transforming the PCA of the scaled dataset\n",
    "    return reduced"
   ]
  },
  {
   "cell_type": "code",
   "execution_count": 19,
   "metadata": {},
   "outputs": [],
   "source": [
    "reduced = reduce(pca, pca_food)"
   ]
  },
  {
   "cell_type": "code",
   "execution_count": 21,
   "metadata": {},
   "outputs": [
    {
     "data": {
      "text/plain": [
       "(72864, 5)"
      ]
     },
     "execution_count": 21,
     "metadata": {},
     "output_type": "execute_result"
    }
   ],
   "source": [
    "reduced.shape"
   ]
  },
  {
   "cell_type": "code",
   "execution_count": null,
   "metadata": {},
   "outputs": [],
   "source": []
  },
  {
   "cell_type": "code",
   "execution_count": null,
   "metadata": {},
   "outputs": [],
   "source": []
  },
  {
   "cell_type": "code",
   "execution_count": null,
   "metadata": {},
   "outputs": [],
   "source": [
    "####################################################################\n",
    "## Public School Ratings (2014-2015 School years) -- Cleaning CG  ##\n",
    "####################################################################\n",
    "\n",
    "PS_df.shape"
   ]
  },
  {
   "cell_type": "code",
   "execution_count": null,
   "metadata": {},
   "outputs": [],
   "source": [
    "#Drop ZIP4 because 43% of data missing and already have other location indicators; don't need Telephone, website, source, \n",
    "#'VAL_METHOD', 'NAICS_CODE'; 'NAICS_DESC' is generalized description of 'LEVEL'; SHELTER_ID doesn't have 76% of data available \n",
    "\n",
    "PS_df.drop(['ZIP4', 'TELEPHONE', 'SHELTER_ID', 'WEBSITE', 'SOURCE', 'VAL_METHOD', 'NAICS_CODE', 'NAICS_DESC'], axis = 1, inplace = True)\n",
    "\n",
    "#Drop Puerto Rico location\n",
    "PS_df = PS_df[PS_df.COUNTRY != 'PRI']\n",
    "\n",
    "#Drop Country column since all inland\n",
    "PS_df.drop(['COUNTRY', 'NAME', 'ADDRESS', 'CITY', 'STATE', 'COUNTY', 'VAL_DATE'], axis = 1, inplace = True)\n",
    "\n",
    "from sklearn.preprocessing import LabelEncoder\n",
    "#Instantiate LabelEncoder\n",
    "le = LabelEncoder()\n",
    "\n",
    "#Encode 'LEVEL_'\n",
    "PS_df['LEVEL_'] = le.fit_transform(PS_df['LEVEL_'] )\n",
    "\n",
    "#Encode 'ST_GRADE'\n",
    "PS_df['ST_GRADE'] = le.fit_transform(PS_df['ST_GRADE'] )\n",
    "                                           \n",
    "#Encode 'END_GRADE'\n",
    "PS_df['END_GRADE'] = le.fit_transform(PS_df['END_GRADE'])\n",
    "\n",
    "#Convert SOURCEDATE to actual datatime type\n",
    "PS_df['SOURCEDATE'] = pd.to_datetime(PS_df['SOURCEDATE'])"
   ]
  },
  {
   "cell_type": "code",
   "execution_count": null,
   "metadata": {},
   "outputs": [],
   "source": [
    "PS_df.head()"
   ]
  },
  {
   "cell_type": "code",
   "execution_count": null,
   "metadata": {},
   "outputs": [],
   "source": [
    "#############################################\n",
    "## Cities Crosswalk  Dataset -- Cleaning EA #\n",
    "#############################################\n",
    "#cc_df.shape"
   ]
  },
  {
   "cell_type": "code",
   "execution_count": null,
   "metadata": {},
   "outputs": [],
   "source": [
    "#cc_df.isnull().sum()"
   ]
  },
  {
   "cell_type": "code",
   "execution_count": null,
   "metadata": {},
   "outputs": [],
   "source": [
    "##########################\n",
    "## Target -- Cleaning EA #\n",
    "##########################\n",
    "TGT_df.shape"
   ]
  },
  {
   "cell_type": "code",
   "execution_count": null,
   "metadata": {},
   "outputs": [],
   "source": [
    "TGT_df.info()"
   ]
  },
  {
   "cell_type": "code",
   "execution_count": null,
   "metadata": {},
   "outputs": [],
   "source": [
    "#Select desired variables\n",
    "TGT_df = TGT_df[['Address.FormattedAddress','Address.AddressLine1','Address.City','Address.CountryName','Address.Latitude','Address.Longitude','Address.County','Address.PostalCode','Address.Subdivision']]"
   ]
  },
  {
   "cell_type": "code",
   "execution_count": null,
   "metadata": {},
   "outputs": [],
   "source": [
    "#Analize variable information\n",
    "TGT_df.info()"
   ]
  },
  {
   "cell_type": "code",
   "execution_count": null,
   "metadata": {},
   "outputs": [],
   "source": [
    "# Count the number of nan values in each column\n",
    "print(TGT_df.isnull().sum())"
   ]
  },
  {
   "cell_type": "code",
   "execution_count": null,
   "metadata": {},
   "outputs": [],
   "source": [
    "#Change variable names\n",
    "TGT_df = TGT_df.rename(columns={\"Address.FormattedAddress\": \"FormattedAddress\", \n",
    "                   \"Address.AddressLine1\": \"AddressLine1\",\n",
    "                   \"Address.City\": \"City\",\n",
    "                   \"Address.CountryName\": \"CountryName\",\n",
    "                   \"Address.Latitude\": \"Latitude\",\n",
    "                   \"Address.Longitude\": \"Longitude\",\n",
    "                   \"Address.County\": \"County\",\n",
    "                   \"Address.PostalCode\": \"PostalCode\",\n",
    "                   \"Address.Subdivision\": \"Subdivision\",\n",
    "                  })"
   ]
  },
  {
   "cell_type": "code",
   "execution_count": null,
   "metadata": {},
   "outputs": [],
   "source": [
    "#Drop missing values in column County variable\n",
    "TGT_df = TGT_df[TGT_df.County.notnull()]"
   ]
  },
  {
   "cell_type": "code",
   "execution_count": null,
   "metadata": {},
   "outputs": [],
   "source": [
    "TGT_df.head()"
   ]
  },
  {
   "cell_type": "code",
   "execution_count": null,
   "metadata": {},
   "outputs": [],
   "source": [
    "#!pip install missingno\n",
    "#import missingno as msno\n",
    "#%matplotlib inline\n",
    "#msno.matrix(TGT_df)"
   ]
  },
  {
   "cell_type": "code",
   "execution_count": null,
   "metadata": {},
   "outputs": [],
   "source": [
    "# Count the number of nan values in each column\n",
    "print(TGT_df.isnull().sum())"
   ]
  },
  {
   "cell_type": "code",
   "execution_count": null,
   "metadata": {},
   "outputs": [],
   "source": []
  },
  {
   "cell_type": "code",
   "execution_count": null,
   "metadata": {},
   "outputs": [],
   "source": [
    "#####################################\n",
    "## Metro Time Series -- Cleaning EA #\n",
    "#####################################\n",
    "#mts_df.shape"
   ]
  },
  {
   "cell_type": "code",
   "execution_count": null,
   "metadata": {},
   "outputs": [],
   "source": [
    "#############################\n",
    "## Starbucks -- Cleaning EA #\n",
    "#############################\n",
    "SBUX_df.shape"
   ]
  },
  {
   "cell_type": "code",
   "execution_count": null,
   "metadata": {},
   "outputs": [],
   "source": [
    "#############################\n",
    "SBUX_df.info()"
   ]
  },
  {
   "cell_type": "code",
   "execution_count": null,
   "metadata": {},
   "outputs": [],
   "source": [
    "A_1 = SBUX_df['Brand']\n",
    "print(A_1.groupby(A_1).count())"
   ]
  },
  {
   "cell_type": "code",
   "execution_count": null,
   "metadata": {},
   "outputs": [],
   "source": [
    "A_2 = SBUX_df['Country']\n",
    "print(A_2.groupby(A_2).count())"
   ]
  },
  {
   "cell_type": "code",
   "execution_count": null,
   "metadata": {},
   "outputs": [],
   "source": [
    "SBUX_df = SBUX_df[SBUX_df[\"Brand\"] == 'Starbucks']"
   ]
  },
  {
   "cell_type": "code",
   "execution_count": null,
   "metadata": {},
   "outputs": [],
   "source": [
    "SBUX_df = SBUX_df[SBUX_df[\"Country\"] == 'US']"
   ]
  },
  {
   "cell_type": "code",
   "execution_count": null,
   "metadata": {},
   "outputs": [],
   "source": [
    "#Select desired variables\n",
    "SBUX_df = SBUX_df[['Brand','Street Address','City','State/Province','Country','Postcode','Longitude','Latitude']]"
   ]
  },
  {
   "cell_type": "code",
   "execution_count": null,
   "metadata": {},
   "outputs": [],
   "source": [
    "SBUX_df.head()"
   ]
  },
  {
   "cell_type": "code",
   "execution_count": null,
   "metadata": {},
   "outputs": [],
   "source": [
    "# Count the number of nan values in each column\n",
    "print(SBUX_df.isnull().sum())"
   ]
  },
  {
   "cell_type": "code",
   "execution_count": null,
   "metadata": {},
   "outputs": [],
   "source": [
    "#Drop missing values in column County variable\n",
    "SBUX_df = SBUX_df[SBUX_df.Postcode .notnull()]"
   ]
  },
  {
   "cell_type": "code",
   "execution_count": null,
   "metadata": {},
   "outputs": [],
   "source": [
    "# Count the number of nan values in each column\n",
    "print(SBUX_df.isnull().sum())"
   ]
  },
  {
   "cell_type": "code",
   "execution_count": null,
   "metadata": {},
   "outputs": [],
   "source": [
    "SBUX_df.info()"
   ]
  },
  {
   "cell_type": "code",
   "execution_count": null,
   "metadata": {},
   "outputs": [],
   "source": []
  },
  {
   "cell_type": "code",
   "execution_count": 4,
   "metadata": {},
   "outputs": [
    {
     "data": {
      "text/html": [
       "<div>\n",
       "<style scoped>\n",
       "    .dataframe tbody tr th:only-of-type {\n",
       "        vertical-align: middle;\n",
       "    }\n",
       "\n",
       "    .dataframe tbody tr th {\n",
       "        vertical-align: top;\n",
       "    }\n",
       "\n",
       "    .dataframe thead th {\n",
       "        text-align: right;\n",
       "    }\n",
       "</style>\n",
       "<table border=\"1\" class=\"dataframe\">\n",
       "  <thead>\n",
       "    <tr style=\"text-align: right;\">\n",
       "      <th></th>\n",
       "      <th>RegionName</th>\n",
       "      <th>InventorySeasonallyAdjusted_AllHomes</th>\n",
       "      <th>InventoryRaw_AllHomes</th>\n",
       "      <th>MedianListingPricePerSqft_1Bedroom</th>\n",
       "      <th>MedianListingPricePerSqft_2Bedroom</th>\n",
       "      <th>MedianListingPricePerSqft_3Bedroom</th>\n",
       "      <th>MedianListingPricePerSqft_4Bedroom</th>\n",
       "      <th>MedianListingPricePerSqft_5BedroomOrMore</th>\n",
       "      <th>MedianListingPricePerSqft_AllHomes</th>\n",
       "      <th>MedianListingPricePerSqft_CondoCoop</th>\n",
       "      <th>...</th>\n",
       "      <th>ZHVI_BottomTier</th>\n",
       "      <th>ZHVI_CondoCoop</th>\n",
       "      <th>ZHVI_MiddleTier</th>\n",
       "      <th>ZHVI_SingleFamilyResidence</th>\n",
       "      <th>ZHVI_TopTier</th>\n",
       "      <th>ZRI_AllHomes</th>\n",
       "      <th>ZRI_AllHomesPlusMultifamily</th>\n",
       "      <th>ZriPerSqft_AllHomes</th>\n",
       "      <th>Zri_MultiFamilyResidenceRental</th>\n",
       "      <th>Zri_SingleFamilyResidenceRental</th>\n",
       "    </tr>\n",
       "  </thead>\n",
       "  <tbody>\n",
       "    <tr>\n",
       "      <th>count</th>\n",
       "      <td>4.383885e+06</td>\n",
       "      <td>1.051104e+06</td>\n",
       "      <td>1.051104e+06</td>\n",
       "      <td>8194.000000</td>\n",
       "      <td>86554.000000</td>\n",
       "      <td>384738.000000</td>\n",
       "      <td>197581.000000</td>\n",
       "      <td>33722.000000</td>\n",
       "      <td>814908.000000</td>\n",
       "      <td>72778.000000</td>\n",
       "      <td>...</td>\n",
       "      <td>3.073015e+06</td>\n",
       "      <td>1.296485e+06</td>\n",
       "      <td>3.631566e+06</td>\n",
       "      <td>3.612063e+06</td>\n",
       "      <td>3.684376e+06</td>\n",
       "      <td>1.337362e+06</td>\n",
       "      <td>1.339353e+06</td>\n",
       "      <td>1.253969e+06</td>\n",
       "      <td>723542.000000</td>\n",
       "      <td>1.334321e+06</td>\n",
       "    </tr>\n",
       "    <tr>\n",
       "      <th>mean</th>\n",
       "      <td>4.683726e+04</td>\n",
       "      <td>1.230490e+02</td>\n",
       "      <td>1.230721e+02</td>\n",
       "      <td>322.914946</td>\n",
       "      <td>188.769142</td>\n",
       "      <td>144.331279</td>\n",
       "      <td>154.549637</td>\n",
       "      <td>223.571617</td>\n",
       "      <td>158.755338</td>\n",
       "      <td>273.766816</td>\n",
       "      <td>...</td>\n",
       "      <td>1.485749e+05</td>\n",
       "      <td>1.877266e+05</td>\n",
       "      <td>1.977040e+05</td>\n",
       "      <td>2.079495e+05</td>\n",
       "      <td>2.932095e+05</td>\n",
       "      <td>1.429688e+03</td>\n",
       "      <td>1.414117e+03</td>\n",
       "      <td>9.484601e-01</td>\n",
       "      <td>1325.079733</td>\n",
       "      <td>1.463457e+03</td>\n",
       "    </tr>\n",
       "    <tr>\n",
       "      <th>std</th>\n",
       "      <td>2.883334e+04</td>\n",
       "      <td>1.172875e+02</td>\n",
       "      <td>1.180173e+02</td>\n",
       "      <td>301.027216</td>\n",
       "      <td>186.646266</td>\n",
       "      <td>115.581365</td>\n",
       "      <td>114.846920</td>\n",
       "      <td>216.186771</td>\n",
       "      <td>134.386742</td>\n",
       "      <td>290.412769</td>\n",
       "      <td>...</td>\n",
       "      <td>1.240348e+05</td>\n",
       "      <td>1.426228e+05</td>\n",
       "      <td>1.771804e+05</td>\n",
       "      <td>2.040974e+05</td>\n",
       "      <td>2.970779e+05</td>\n",
       "      <td>7.197163e+02</td>\n",
       "      <td>6.913265e+02</td>\n",
       "      <td>4.240444e-01</td>\n",
       "      <td>568.827402</td>\n",
       "      <td>8.077924e+02</td>\n",
       "    </tr>\n",
       "    <tr>\n",
       "      <th>min</th>\n",
       "      <td>7.450000e+02</td>\n",
       "      <td>3.000000e+00</td>\n",
       "      <td>2.000000e+00</td>\n",
       "      <td>24.793388</td>\n",
       "      <td>21.045918</td>\n",
       "      <td>20.833333</td>\n",
       "      <td>21.384804</td>\n",
       "      <td>19.370574</td>\n",
       "      <td>15.716151</td>\n",
       "      <td>28.750000</td>\n",
       "      <td>...</td>\n",
       "      <td>1.350000e+04</td>\n",
       "      <td>2.700000e+04</td>\n",
       "      <td>1.670000e+04</td>\n",
       "      <td>1.670000e+04</td>\n",
       "      <td>2.690000e+04</td>\n",
       "      <td>4.110000e+02</td>\n",
       "      <td>4.110000e+02</td>\n",
       "      <td>2.760000e-01</td>\n",
       "      <td>414.000000</td>\n",
       "      <td>4.110000e+02</td>\n",
       "    </tr>\n",
       "    <tr>\n",
       "      <th>25%</th>\n",
       "      <td>2.183000e+04</td>\n",
       "      <td>4.600000e+01</td>\n",
       "      <td>4.600000e+01</td>\n",
       "      <td>155.056896</td>\n",
       "      <td>97.826937</td>\n",
       "      <td>91.187739</td>\n",
       "      <td>99.996853</td>\n",
       "      <td>109.830759</td>\n",
       "      <td>92.095406</td>\n",
       "      <td>122.861795</td>\n",
       "      <td>...</td>\n",
       "      <td>7.560000e+04</td>\n",
       "      <td>1.045000e+05</td>\n",
       "      <td>1.014000e+05</td>\n",
       "      <td>1.022000e+05</td>\n",
       "      <td>1.499000e+05</td>\n",
       "      <td>1.006000e+03</td>\n",
       "      <td>1.000000e+03</td>\n",
       "      <td>6.980000e-01</td>\n",
       "      <td>933.000000</td>\n",
       "      <td>1.007000e+03</td>\n",
       "    </tr>\n",
       "    <tr>\n",
       "      <th>50%</th>\n",
       "      <td>4.466900e+04</td>\n",
       "      <td>8.800000e+01</td>\n",
       "      <td>8.800000e+01</td>\n",
       "      <td>230.835830</td>\n",
       "      <td>139.332358</td>\n",
       "      <td>117.742281</td>\n",
       "      <td>125.722509</td>\n",
       "      <td>147.375569</td>\n",
       "      <td>122.694639</td>\n",
       "      <td>184.293515</td>\n",
       "      <td>...</td>\n",
       "      <td>1.129000e+05</td>\n",
       "      <td>1.457000e+05</td>\n",
       "      <td>1.470000e+05</td>\n",
       "      <td>1.495000e+05</td>\n",
       "      <td>2.152000e+05</td>\n",
       "      <td>1.246000e+03</td>\n",
       "      <td>1.238000e+03</td>\n",
       "      <td>8.340000e-01</td>\n",
       "      <td>1194.000000</td>\n",
       "      <td>1.251000e+03</td>\n",
       "    </tr>\n",
       "    <tr>\n",
       "      <th>75%</th>\n",
       "      <td>7.271800e+04</td>\n",
       "      <td>1.600000e+02</td>\n",
       "      <td>1.600000e+02</td>\n",
       "      <td>380.292972</td>\n",
       "      <td>215.616002</td>\n",
       "      <td>160.705393</td>\n",
       "      <td>168.603216</td>\n",
       "      <td>241.664617</td>\n",
       "      <td>175.354721</td>\n",
       "      <td>312.237594</td>\n",
       "      <td>...</td>\n",
       "      <td>1.735000e+05</td>\n",
       "      <td>2.211000e+05</td>\n",
       "      <td>2.301000e+05</td>\n",
       "      <td>2.390000e+05</td>\n",
       "      <td>3.318000e+05</td>\n",
       "      <td>1.613000e+03</td>\n",
       "      <td>1.598000e+03</td>\n",
       "      <td>1.052000e+00</td>\n",
       "      <td>1549.000000</td>\n",
       "      <td>1.642000e+03</td>\n",
       "    </tr>\n",
       "    <tr>\n",
       "      <th>max</th>\n",
       "      <td>9.990100e+04</td>\n",
       "      <td>2.560000e+03</td>\n",
       "      <td>2.639000e+03</td>\n",
       "      <td>2128.129602</td>\n",
       "      <td>2746.913580</td>\n",
       "      <td>3167.641326</td>\n",
       "      <td>3364.485981</td>\n",
       "      <td>2310.628893</td>\n",
       "      <td>2799.423447</td>\n",
       "      <td>2802.346570</td>\n",
       "      <td>...</td>\n",
       "      <td>3.872400e+06</td>\n",
       "      <td>3.083700e+06</td>\n",
       "      <td>7.212500e+06</td>\n",
       "      <td>7.313400e+06</td>\n",
       "      <td>1.296680e+07</td>\n",
       "      <td>1.837500e+04</td>\n",
       "      <td>1.780800e+04</td>\n",
       "      <td>6.496000e+00</td>\n",
       "      <td>15891.000000</td>\n",
       "      <td>2.096400e+04</td>\n",
       "    </tr>\n",
       "  </tbody>\n",
       "</table>\n",
       "<p>8 rows × 75 columns</p>\n",
       "</div>"
      ],
      "text/plain": [
       "         RegionName  InventorySeasonallyAdjusted_AllHomes  \\\n",
       "count  4.383885e+06                          1.051104e+06   \n",
       "mean   4.683726e+04                          1.230490e+02   \n",
       "std    2.883334e+04                          1.172875e+02   \n",
       "min    7.450000e+02                          3.000000e+00   \n",
       "25%    2.183000e+04                          4.600000e+01   \n",
       "50%    4.466900e+04                          8.800000e+01   \n",
       "75%    7.271800e+04                          1.600000e+02   \n",
       "max    9.990100e+04                          2.560000e+03   \n",
       "\n",
       "       InventoryRaw_AllHomes  MedianListingPricePerSqft_1Bedroom  \\\n",
       "count           1.051104e+06                         8194.000000   \n",
       "mean            1.230721e+02                          322.914946   \n",
       "std             1.180173e+02                          301.027216   \n",
       "min             2.000000e+00                           24.793388   \n",
       "25%             4.600000e+01                          155.056896   \n",
       "50%             8.800000e+01                          230.835830   \n",
       "75%             1.600000e+02                          380.292972   \n",
       "max             2.639000e+03                         2128.129602   \n",
       "\n",
       "       MedianListingPricePerSqft_2Bedroom  MedianListingPricePerSqft_3Bedroom  \\\n",
       "count                        86554.000000                       384738.000000   \n",
       "mean                           188.769142                          144.331279   \n",
       "std                            186.646266                          115.581365   \n",
       "min                             21.045918                           20.833333   \n",
       "25%                             97.826937                           91.187739   \n",
       "50%                            139.332358                          117.742281   \n",
       "75%                            215.616002                          160.705393   \n",
       "max                           2746.913580                         3167.641326   \n",
       "\n",
       "       MedianListingPricePerSqft_4Bedroom  \\\n",
       "count                       197581.000000   \n",
       "mean                           154.549637   \n",
       "std                            114.846920   \n",
       "min                             21.384804   \n",
       "25%                             99.996853   \n",
       "50%                            125.722509   \n",
       "75%                            168.603216   \n",
       "max                           3364.485981   \n",
       "\n",
       "       MedianListingPricePerSqft_5BedroomOrMore  \\\n",
       "count                              33722.000000   \n",
       "mean                                 223.571617   \n",
       "std                                  216.186771   \n",
       "min                                   19.370574   \n",
       "25%                                  109.830759   \n",
       "50%                                  147.375569   \n",
       "75%                                  241.664617   \n",
       "max                                 2310.628893   \n",
       "\n",
       "       MedianListingPricePerSqft_AllHomes  \\\n",
       "count                       814908.000000   \n",
       "mean                           158.755338   \n",
       "std                            134.386742   \n",
       "min                             15.716151   \n",
       "25%                             92.095406   \n",
       "50%                            122.694639   \n",
       "75%                            175.354721   \n",
       "max                           2799.423447   \n",
       "\n",
       "       MedianListingPricePerSqft_CondoCoop  ...  ZHVI_BottomTier  \\\n",
       "count                         72778.000000  ...     3.073015e+06   \n",
       "mean                            273.766816  ...     1.485749e+05   \n",
       "std                             290.412769  ...     1.240348e+05   \n",
       "min                              28.750000  ...     1.350000e+04   \n",
       "25%                             122.861795  ...     7.560000e+04   \n",
       "50%                             184.293515  ...     1.129000e+05   \n",
       "75%                             312.237594  ...     1.735000e+05   \n",
       "max                            2802.346570  ...     3.872400e+06   \n",
       "\n",
       "       ZHVI_CondoCoop  ZHVI_MiddleTier  ZHVI_SingleFamilyResidence  \\\n",
       "count    1.296485e+06     3.631566e+06                3.612063e+06   \n",
       "mean     1.877266e+05     1.977040e+05                2.079495e+05   \n",
       "std      1.426228e+05     1.771804e+05                2.040974e+05   \n",
       "min      2.700000e+04     1.670000e+04                1.670000e+04   \n",
       "25%      1.045000e+05     1.014000e+05                1.022000e+05   \n",
       "50%      1.457000e+05     1.470000e+05                1.495000e+05   \n",
       "75%      2.211000e+05     2.301000e+05                2.390000e+05   \n",
       "max      3.083700e+06     7.212500e+06                7.313400e+06   \n",
       "\n",
       "       ZHVI_TopTier  ZRI_AllHomes  ZRI_AllHomesPlusMultifamily  \\\n",
       "count  3.684376e+06  1.337362e+06                 1.339353e+06   \n",
       "mean   2.932095e+05  1.429688e+03                 1.414117e+03   \n",
       "std    2.970779e+05  7.197163e+02                 6.913265e+02   \n",
       "min    2.690000e+04  4.110000e+02                 4.110000e+02   \n",
       "25%    1.499000e+05  1.006000e+03                 1.000000e+03   \n",
       "50%    2.152000e+05  1.246000e+03                 1.238000e+03   \n",
       "75%    3.318000e+05  1.613000e+03                 1.598000e+03   \n",
       "max    1.296680e+07  1.837500e+04                 1.780800e+04   \n",
       "\n",
       "       ZriPerSqft_AllHomes  Zri_MultiFamilyResidenceRental  \\\n",
       "count         1.253969e+06                   723542.000000   \n",
       "mean          9.484601e-01                     1325.079733   \n",
       "std           4.240444e-01                      568.827402   \n",
       "min           2.760000e-01                      414.000000   \n",
       "25%           6.980000e-01                      933.000000   \n",
       "50%           8.340000e-01                     1194.000000   \n",
       "75%           1.052000e+00                     1549.000000   \n",
       "max           6.496000e+00                    15891.000000   \n",
       "\n",
       "       Zri_SingleFamilyResidenceRental  \n",
       "count                     1.334321e+06  \n",
       "mean                      1.463457e+03  \n",
       "std                       8.077924e+02  \n",
       "min                       4.110000e+02  \n",
       "25%                       1.007000e+03  \n",
       "50%                       1.251000e+03  \n",
       "75%                       1.642000e+03  \n",
       "max                       2.096400e+04  \n",
       "\n",
       "[8 rows x 75 columns]"
      ]
     },
     "execution_count": 4,
     "metadata": {},
     "output_type": "execute_result"
    }
   ],
   "source": [
    "#######################\n",
    "## Zip -- Cleaning MN #\n",
    "#######################\n",
    "zip_df.shape\n",
    "#Understand range of outputs\n",
    "zip_df.describe()"
   ]
  },
  {
   "cell_type": "code",
   "execution_count": 5,
   "metadata": {},
   "outputs": [
    {
     "data": {
      "text/plain": [
       "Date                                          0\n",
       "RegionName                                    0\n",
       "InventorySeasonallyAdjusted_AllHomes    3332781\n",
       "InventoryRaw_AllHomes                   3332781\n",
       "MedianListingPricePerSqft_1Bedroom      4375691\n",
       "                                         ...   \n",
       "ZRI_AllHomes                            3046523\n",
       "ZRI_AllHomesPlusMultifamily             3044532\n",
       "ZriPerSqft_AllHomes                     3129916\n",
       "Zri_MultiFamilyResidenceRental          3660343\n",
       "Zri_SingleFamilyResidenceRental         3049564\n",
       "Length: 76, dtype: int64"
      ]
     },
     "execution_count": 5,
     "metadata": {},
     "output_type": "execute_result"
    }
   ],
   "source": [
    "## Understand the number of nulls\n",
    "zip_df.isnull().sum()"
   ]
  },
  {
   "cell_type": "code",
   "execution_count": 6,
   "metadata": {},
   "outputs": [],
   "source": [
    "## Establish two new columns in order to test logic of replacement / consolidation\n",
    "zip_df['MedianListingPricePerSqft'] = 0\n",
    "zip_df['NumberOfBedrooms'] = 0"
   ]
  },
  {
   "cell_type": "code",
   "execution_count": 7,
   "metadata": {},
   "outputs": [],
   "source": [
    "## Replace null with 0\n",
    "zip_df['MedianListingPricePerSqft_1Bedroom'] = zip_df['MedianListingPricePerSqft_1Bedroom'].fillna(0)\n",
    "zip_df['MedianListingPricePerSqft_2Bedroom'] = zip_df['MedianListingPricePerSqft_2Bedroom'].fillna(0)\n",
    "zip_df['MedianListingPricePerSqft_3Bedroom'] = zip_df['MedianListingPricePerSqft_3Bedroom'].fillna(0)\n",
    "zip_df['MedianListingPricePerSqft_4Bedroom'] = zip_df['MedianListingPricePerSqft_4Bedroom'].fillna(0)\n",
    "zip_df['MedianListingPricePerSqft_5BedroomOrMore'] = zip_df['MedianListingPricePerSqft_5BedroomOrMore'].fillna(0)\n",
    "##\n",
    "zip_df['MedianListingPrice_1Bedroom'] = zip_df['MedianListingPrice_1Bedroom'].fillna(0)\n",
    "zip_df['MedianListingPrice_2Bedroom'] = zip_df['MedianListingPrice_2Bedroom'].fillna(0)\n",
    "zip_df['MedianListingPrice_3Bedroom'] = zip_df['MedianListingPrice_3Bedroom'].fillna(0)\n",
    "zip_df['MedianListingPrice_4Bedroom'] = zip_df['MedianListingPrice_4Bedroom'].fillna(0)\n",
    "zip_df['MedianListingPrice_5BedroomOrMore'] = zip_df['MedianListingPrice_5BedroomOrMore'].fillna(0)\n",
    "##\n",
    "zip_df['MedianRentalPricePerSqft_1Bedroom'] = zip_df['MedianRentalPricePerSqft_1Bedroom'].fillna(0)\n",
    "zip_df['MedianRentalPricePerSqft_2Bedroom'] = zip_df['MedianRentalPricePerSqft_2Bedroom'].fillna(0)\n",
    "zip_df['MedianRentalPricePerSqft_3Bedroom'] = zip_df['MedianRentalPricePerSqft_3Bedroom'].fillna(0)\n",
    "zip_df['MedianRentalPricePerSqft_4Bedroom'] = zip_df['MedianRentalPricePerSqft_4Bedroom'].fillna(0)\n",
    "zip_df['MedianRentalPricePerSqft_5BedroomOrMore'] = zip_df['MedianRentalPricePerSqft_5BedroomOrMore'].fillna(0)\n",
    "##\n",
    "zip_df['MedianRentalPrice_1Bedroom'] = zip_df['MedianRentalPrice_1Bedroom'].fillna(0)\n",
    "zip_df['MedianRentalPrice_2Bedroom'] = zip_df['MedianRentalPrice_2Bedroom'].fillna(0)\n",
    "zip_df['MedianRentalPrice_3Bedroom'] = zip_df['MedianRentalPrice_3Bedroom'].fillna(0)\n",
    "zip_df['MedianRentalPrice_4Bedroom'] = zip_df['MedianRentalPrice_4Bedroom'].fillna(0)\n",
    "zip_df['MedianRentalPrice_5BedroomOrMore'] = zip_df['MedianRentalPrice_5BedroomOrMore'].fillna(0)"
   ]
  },
  {
   "cell_type": "code",
   "execution_count": 8,
   "metadata": {},
   "outputs": [],
   "source": [
    "## Optimized set in order to iterate through and assign a value to the new column created\n",
    "## Many prior attempts utilized a more if then style structure but inevitably took a considerably long time\n",
    "## and replaced when the value was 0  thus overwriting the prior data at every run\n",
    "##WC: https://guillim.github.io/pandas/2018/10/22/Pandas-if-else-on-columns.html \n",
    "\n",
    "condlist = [\n",
    "    (zip_df['MedianListingPricePerSqft_1Bedroom'] != 0)\n",
    "    #,(zip_df['MedianListingPrice_1Bedroom'] != 0)\n",
    "    #,(zip_df['MedianRentalPricePerSqft_1Bedroom'] != 0)\n",
    "    #,(zip_df['MedianRentalPrice_1Bedroom'] != 0)\n",
    "    #,(zip_df['ZHVI_1bedroom'] != 0)\n",
    "    ,(zip_df['MedianListingPricePerSqft_2Bedroom'] != 0)\n",
    "    ,(zip_df['MedianListingPricePerSqft_3Bedroom'] != 0)\n",
    "    ,(zip_df['MedianListingPricePerSqft_4Bedroom'] != 0)\n",
    "    ,(zip_df['MedianListingPricePerSqft_5BedroomOrMore'] != 0)\n",
    "]\n",
    "#Establish if the criteria is met - what is the result\n",
    "choicelist = [1,2,3,4,5]\n",
    "#Overwrite the number of bedroom columns with the given logic output \n",
    "zip_df['NumberOfBedrooms'] = np.select(condlist,choicelist)"
   ]
  },
  {
   "cell_type": "code",
   "execution_count": 9,
   "metadata": {},
   "outputs": [
    {
     "data": {
      "text/plain": [
       "NumberOfBedrooms\n",
       "0    3951999\n",
       "1       8194\n",
       "2      80569\n",
       "3     310476\n",
       "4      30627\n",
       "5       2020\n",
       "Name: NumberOfBedrooms, dtype: int64"
      ]
     },
     "execution_count": 9,
     "metadata": {},
     "output_type": "execute_result"
    }
   ],
   "source": [
    "## Count of distribution\n",
    "T0 = zip_df['NumberOfBedrooms'].groupby(zip_df['NumberOfBedrooms']).count()\n",
    "T0\n",
    "#zip_df['MedianListingPricePerSqft_1Bedroom'].unique\n",
    "#zip_df['NumberOfBedrooms'].isnull().sum()\n",
    "#zip_df['NumberOfBedrooms'].unique()"
   ]
  },
  {
   "cell_type": "code",
   "execution_count": 10,
   "metadata": {},
   "outputs": [],
   "source": [
    "##Further Cleanup of like variables\n",
    "\n",
    "## Optimized set in order to iterate through and assign a value to the new column created\n",
    "## Many prior attempts utilized a more if then style structure but inevitably took a considerably long time\n",
    "## and replaced when the value was 0  thus overwriting the prior data at every run\n",
    "##WC: https://guillim.github.io/pandas/2018/10/22/Pandas-if-else-on-columns.html \n",
    "\n",
    "condlist2 = [\n",
    "    (zip_df['MedianListingPrice_1Bedroom'] != 0)\n",
    "    ,(zip_df['MedianRentalPrice_1Bedroom'] != 0)\n",
    "    ,(zip_df['MedianRentalPricePerSqft_1Bedroom'] != 0)\n",
    "    ,(zip_df['MedianListingPrice_2Bedroom'] != 0)\n",
    "    ,(zip_df['MedianRentalPrice_2Bedroom'] != 0)\n",
    "    ,(zip_df['MedianRentalPricePerSqft_2Bedroom'] != 0)\n",
    "    ,(zip_df['MedianListingPrice_3Bedroom'] != 0)\n",
    "    ,(zip_df['MedianRentalPrice_3Bedroom'] != 0)\n",
    "    ,(zip_df['MedianRentalPricePerSqft_3Bedroom'] != 0)\n",
    "    ,(zip_df['MedianListingPrice_4Bedroom'] != 0)\n",
    "    ,(zip_df['MedianRentalPrice_4Bedroom'] != 0)\n",
    "    ,(zip_df['MedianRentalPricePerSqft_4Bedroom'] != 0)\n",
    "    ,(zip_df['MedianListingPrice_5BedroomOrMore'] != 0)\n",
    "    ,(zip_df['MedianRentalPrice_5BedroomOrMore'] != 0)\n",
    "    ,(zip_df['MedianRentalPricePerSqft_5BedroomOrMore'] != 0)\n",
    "]\n",
    "#Establish if the criteria is met - what is the result\n",
    "choicelist2 = [1,1,1,2,2,2,3,3,3,4,4,4,5,5,5]\n",
    "#Overwrite the number of bedroom columns with the given logic output \n",
    "zip_df['NumberOfBedrooms'] = np.select(condlist2,choicelist2)"
   ]
  },
  {
   "cell_type": "code",
   "execution_count": 11,
   "metadata": {},
   "outputs": [
    {
     "data": {
      "text/plain": [
       "NumberOfBedrooms\n",
       "0    3977736\n",
       "1      37370\n",
       "2      74481\n",
       "3     257926\n",
       "4      33606\n",
       "5       2766\n",
       "Name: NumberOfBedrooms, dtype: int64"
      ]
     },
     "execution_count": 11,
     "metadata": {},
     "output_type": "execute_result"
    }
   ],
   "source": [
    "## Count of distribution - Post Cleanup 2\n",
    "T1 = zip_df['NumberOfBedrooms'].groupby(zip_df['NumberOfBedrooms']).count()\n",
    "T1"
   ]
  },
  {
   "cell_type": "code",
   "execution_count": null,
   "metadata": {},
   "outputs": [],
   "source": [
    "## Net increase driven by cleaning additional columns\n",
    "#T0 comp to T1 <> 0"
   ]
  },
  {
   "cell_type": "code",
   "execution_count": 13,
   "metadata": {},
   "outputs": [
    {
     "data": {
      "text/html": [
       "<div>\n",
       "<style scoped>\n",
       "    .dataframe tbody tr th:only-of-type {\n",
       "        vertical-align: middle;\n",
       "    }\n",
       "\n",
       "    .dataframe tbody tr th {\n",
       "        vertical-align: top;\n",
       "    }\n",
       "\n",
       "    .dataframe thead th {\n",
       "        text-align: right;\n",
       "    }\n",
       "</style>\n",
       "<table border=\"1\" class=\"dataframe\">\n",
       "  <thead>\n",
       "    <tr style=\"text-align: right;\">\n",
       "      <th></th>\n",
       "      <th>Date</th>\n",
       "      <th>RegionName</th>\n",
       "      <th>InventorySeasonallyAdjusted_AllHomes</th>\n",
       "      <th>InventoryRaw_AllHomes</th>\n",
       "      <th>MedianListingPricePerSqft_1Bedroom</th>\n",
       "      <th>MedianListingPricePerSqft_2Bedroom</th>\n",
       "      <th>MedianListingPricePerSqft_3Bedroom</th>\n",
       "      <th>MedianListingPricePerSqft_4Bedroom</th>\n",
       "      <th>MedianListingPricePerSqft_5BedroomOrMore</th>\n",
       "      <th>MedianListingPricePerSqft_AllHomes</th>\n",
       "      <th>...</th>\n",
       "      <th>PctOfHomesIncreasingInValues_AllHomes</th>\n",
       "      <th>PctOfListingsWithPriceReductionsSeasAdj_AllHomes</th>\n",
       "      <th>PctOfListingsWithPriceReductionsSeasAdj_CondoCoop</th>\n",
       "      <th>PctOfListingsWithPriceReductionsSeasAdj_SingleFamilyResidence</th>\n",
       "      <th>PctOfListingsWithPriceReductions_AllHomes</th>\n",
       "      <th>PctOfListingsWithPriceReductions_CondoCoop</th>\n",
       "      <th>PctOfListingsWithPriceReductions_SingleFamilyResidence</th>\n",
       "      <th>PriceToRentRatio_AllHomes</th>\n",
       "      <th>MedianListingPricePerSqft</th>\n",
       "      <th>NumberOfBedrooms</th>\n",
       "    </tr>\n",
       "  </thead>\n",
       "  <tbody>\n",
       "    <tr>\n",
       "      <th>0</th>\n",
       "      <td>1996-04-30</td>\n",
       "      <td>1001</td>\n",
       "      <td>NaN</td>\n",
       "      <td>NaN</td>\n",
       "      <td>0.0</td>\n",
       "      <td>0.0</td>\n",
       "      <td>0.000000</td>\n",
       "      <td>0.0</td>\n",
       "      <td>0.0</td>\n",
       "      <td>NaN</td>\n",
       "      <td>...</td>\n",
       "      <td>NaN</td>\n",
       "      <td>NaN</td>\n",
       "      <td>NaN</td>\n",
       "      <td>NaN</td>\n",
       "      <td>NaN</td>\n",
       "      <td>NaN</td>\n",
       "      <td>NaN</td>\n",
       "      <td>NaN</td>\n",
       "      <td>0</td>\n",
       "      <td>0</td>\n",
       "    </tr>\n",
       "    <tr>\n",
       "      <th>1</th>\n",
       "      <td>1996-04-30</td>\n",
       "      <td>1002</td>\n",
       "      <td>NaN</td>\n",
       "      <td>NaN</td>\n",
       "      <td>0.0</td>\n",
       "      <td>0.0</td>\n",
       "      <td>0.000000</td>\n",
       "      <td>0.0</td>\n",
       "      <td>0.0</td>\n",
       "      <td>NaN</td>\n",
       "      <td>...</td>\n",
       "      <td>NaN</td>\n",
       "      <td>NaN</td>\n",
       "      <td>NaN</td>\n",
       "      <td>NaN</td>\n",
       "      <td>NaN</td>\n",
       "      <td>NaN</td>\n",
       "      <td>NaN</td>\n",
       "      <td>NaN</td>\n",
       "      <td>0</td>\n",
       "      <td>0</td>\n",
       "    </tr>\n",
       "    <tr>\n",
       "      <th>2</th>\n",
       "      <td>1996-04-30</td>\n",
       "      <td>1005</td>\n",
       "      <td>NaN</td>\n",
       "      <td>NaN</td>\n",
       "      <td>0.0</td>\n",
       "      <td>0.0</td>\n",
       "      <td>0.000000</td>\n",
       "      <td>0.0</td>\n",
       "      <td>0.0</td>\n",
       "      <td>NaN</td>\n",
       "      <td>...</td>\n",
       "      <td>NaN</td>\n",
       "      <td>NaN</td>\n",
       "      <td>NaN</td>\n",
       "      <td>NaN</td>\n",
       "      <td>NaN</td>\n",
       "      <td>NaN</td>\n",
       "      <td>NaN</td>\n",
       "      <td>NaN</td>\n",
       "      <td>0</td>\n",
       "      <td>0</td>\n",
       "    </tr>\n",
       "    <tr>\n",
       "      <th>3</th>\n",
       "      <td>1996-04-30</td>\n",
       "      <td>1007</td>\n",
       "      <td>NaN</td>\n",
       "      <td>NaN</td>\n",
       "      <td>0.0</td>\n",
       "      <td>0.0</td>\n",
       "      <td>0.000000</td>\n",
       "      <td>0.0</td>\n",
       "      <td>0.0</td>\n",
       "      <td>NaN</td>\n",
       "      <td>...</td>\n",
       "      <td>NaN</td>\n",
       "      <td>NaN</td>\n",
       "      <td>NaN</td>\n",
       "      <td>NaN</td>\n",
       "      <td>NaN</td>\n",
       "      <td>NaN</td>\n",
       "      <td>NaN</td>\n",
       "      <td>NaN</td>\n",
       "      <td>0</td>\n",
       "      <td>0</td>\n",
       "    </tr>\n",
       "    <tr>\n",
       "      <th>4</th>\n",
       "      <td>1996-04-30</td>\n",
       "      <td>1008</td>\n",
       "      <td>NaN</td>\n",
       "      <td>NaN</td>\n",
       "      <td>0.0</td>\n",
       "      <td>0.0</td>\n",
       "      <td>0.000000</td>\n",
       "      <td>0.0</td>\n",
       "      <td>0.0</td>\n",
       "      <td>NaN</td>\n",
       "      <td>...</td>\n",
       "      <td>NaN</td>\n",
       "      <td>NaN</td>\n",
       "      <td>NaN</td>\n",
       "      <td>NaN</td>\n",
       "      <td>NaN</td>\n",
       "      <td>NaN</td>\n",
       "      <td>NaN</td>\n",
       "      <td>NaN</td>\n",
       "      <td>0</td>\n",
       "      <td>0</td>\n",
       "    </tr>\n",
       "    <tr>\n",
       "      <th>...</th>\n",
       "      <td>...</td>\n",
       "      <td>...</td>\n",
       "      <td>...</td>\n",
       "      <td>...</td>\n",
       "      <td>...</td>\n",
       "      <td>...</td>\n",
       "      <td>...</td>\n",
       "      <td>...</td>\n",
       "      <td>...</td>\n",
       "      <td>...</td>\n",
       "      <td>...</td>\n",
       "      <td>...</td>\n",
       "      <td>...</td>\n",
       "      <td>...</td>\n",
       "      <td>...</td>\n",
       "      <td>...</td>\n",
       "      <td>...</td>\n",
       "      <td>...</td>\n",
       "      <td>...</td>\n",
       "      <td>...</td>\n",
       "      <td>...</td>\n",
       "    </tr>\n",
       "    <tr>\n",
       "      <th>4383880</th>\n",
       "      <td>2017-12-31</td>\n",
       "      <td>99709</td>\n",
       "      <td>57.0</td>\n",
       "      <td>34.0</td>\n",
       "      <td>0.0</td>\n",
       "      <td>0.0</td>\n",
       "      <td>0.000000</td>\n",
       "      <td>0.0</td>\n",
       "      <td>0.0</td>\n",
       "      <td>176.886792</td>\n",
       "      <td>...</td>\n",
       "      <td>NaN</td>\n",
       "      <td>12.349473</td>\n",
       "      <td>NaN</td>\n",
       "      <td>12.809327</td>\n",
       "      <td>6.779661</td>\n",
       "      <td>NaN</td>\n",
       "      <td>7.142857</td>\n",
       "      <td>11.33</td>\n",
       "      <td>0</td>\n",
       "      <td>0</td>\n",
       "    </tr>\n",
       "    <tr>\n",
       "      <th>4383881</th>\n",
       "      <td>2017-12-31</td>\n",
       "      <td>99712</td>\n",
       "      <td>43.0</td>\n",
       "      <td>30.0</td>\n",
       "      <td>0.0</td>\n",
       "      <td>0.0</td>\n",
       "      <td>0.000000</td>\n",
       "      <td>0.0</td>\n",
       "      <td>0.0</td>\n",
       "      <td>NaN</td>\n",
       "      <td>...</td>\n",
       "      <td>NaN</td>\n",
       "      <td>NaN</td>\n",
       "      <td>NaN</td>\n",
       "      <td>NaN</td>\n",
       "      <td>NaN</td>\n",
       "      <td>NaN</td>\n",
       "      <td>NaN</td>\n",
       "      <td>11.94</td>\n",
       "      <td>0</td>\n",
       "      <td>0</td>\n",
       "    </tr>\n",
       "    <tr>\n",
       "      <th>4383882</th>\n",
       "      <td>2017-12-31</td>\n",
       "      <td>99801</td>\n",
       "      <td>80.0</td>\n",
       "      <td>74.0</td>\n",
       "      <td>0.0</td>\n",
       "      <td>0.0</td>\n",
       "      <td>228.168542</td>\n",
       "      <td>0.0</td>\n",
       "      <td>0.0</td>\n",
       "      <td>219.997535</td>\n",
       "      <td>...</td>\n",
       "      <td>NaN</td>\n",
       "      <td>10.323291</td>\n",
       "      <td>NaN</td>\n",
       "      <td>10.556306</td>\n",
       "      <td>7.964602</td>\n",
       "      <td>NaN</td>\n",
       "      <td>8.247423</td>\n",
       "      <td>14.07</td>\n",
       "      <td>0</td>\n",
       "      <td>3</td>\n",
       "    </tr>\n",
       "    <tr>\n",
       "      <th>4383883</th>\n",
       "      <td>2017-12-31</td>\n",
       "      <td>99835</td>\n",
       "      <td>NaN</td>\n",
       "      <td>NaN</td>\n",
       "      <td>0.0</td>\n",
       "      <td>0.0</td>\n",
       "      <td>0.000000</td>\n",
       "      <td>0.0</td>\n",
       "      <td>0.0</td>\n",
       "      <td>NaN</td>\n",
       "      <td>...</td>\n",
       "      <td>NaN</td>\n",
       "      <td>NaN</td>\n",
       "      <td>NaN</td>\n",
       "      <td>NaN</td>\n",
       "      <td>NaN</td>\n",
       "      <td>NaN</td>\n",
       "      <td>NaN</td>\n",
       "      <td>NaN</td>\n",
       "      <td>0</td>\n",
       "      <td>0</td>\n",
       "    </tr>\n",
       "    <tr>\n",
       "      <th>4383884</th>\n",
       "      <td>2017-12-31</td>\n",
       "      <td>99901</td>\n",
       "      <td>NaN</td>\n",
       "      <td>NaN</td>\n",
       "      <td>0.0</td>\n",
       "      <td>0.0</td>\n",
       "      <td>0.000000</td>\n",
       "      <td>0.0</td>\n",
       "      <td>0.0</td>\n",
       "      <td>186.440678</td>\n",
       "      <td>...</td>\n",
       "      <td>NaN</td>\n",
       "      <td>NaN</td>\n",
       "      <td>NaN</td>\n",
       "      <td>NaN</td>\n",
       "      <td>NaN</td>\n",
       "      <td>NaN</td>\n",
       "      <td>NaN</td>\n",
       "      <td>12.95</td>\n",
       "      <td>0</td>\n",
       "      <td>0</td>\n",
       "    </tr>\n",
       "  </tbody>\n",
       "</table>\n",
       "<p>4383885 rows × 62 columns</p>\n",
       "</div>"
      ],
      "text/plain": [
       "               Date  RegionName  InventorySeasonallyAdjusted_AllHomes  \\\n",
       "0        1996-04-30        1001                                   NaN   \n",
       "1        1996-04-30        1002                                   NaN   \n",
       "2        1996-04-30        1005                                   NaN   \n",
       "3        1996-04-30        1007                                   NaN   \n",
       "4        1996-04-30        1008                                   NaN   \n",
       "...             ...         ...                                   ...   \n",
       "4383880  2017-12-31       99709                                  57.0   \n",
       "4383881  2017-12-31       99712                                  43.0   \n",
       "4383882  2017-12-31       99801                                  80.0   \n",
       "4383883  2017-12-31       99835                                   NaN   \n",
       "4383884  2017-12-31       99901                                   NaN   \n",
       "\n",
       "         InventoryRaw_AllHomes  MedianListingPricePerSqft_1Bedroom  \\\n",
       "0                          NaN                                 0.0   \n",
       "1                          NaN                                 0.0   \n",
       "2                          NaN                                 0.0   \n",
       "3                          NaN                                 0.0   \n",
       "4                          NaN                                 0.0   \n",
       "...                        ...                                 ...   \n",
       "4383880                   34.0                                 0.0   \n",
       "4383881                   30.0                                 0.0   \n",
       "4383882                   74.0                                 0.0   \n",
       "4383883                    NaN                                 0.0   \n",
       "4383884                    NaN                                 0.0   \n",
       "\n",
       "         MedianListingPricePerSqft_2Bedroom  \\\n",
       "0                                       0.0   \n",
       "1                                       0.0   \n",
       "2                                       0.0   \n",
       "3                                       0.0   \n",
       "4                                       0.0   \n",
       "...                                     ...   \n",
       "4383880                                 0.0   \n",
       "4383881                                 0.0   \n",
       "4383882                                 0.0   \n",
       "4383883                                 0.0   \n",
       "4383884                                 0.0   \n",
       "\n",
       "         MedianListingPricePerSqft_3Bedroom  \\\n",
       "0                                  0.000000   \n",
       "1                                  0.000000   \n",
       "2                                  0.000000   \n",
       "3                                  0.000000   \n",
       "4                                  0.000000   \n",
       "...                                     ...   \n",
       "4383880                            0.000000   \n",
       "4383881                            0.000000   \n",
       "4383882                          228.168542   \n",
       "4383883                            0.000000   \n",
       "4383884                            0.000000   \n",
       "\n",
       "         MedianListingPricePerSqft_4Bedroom  \\\n",
       "0                                       0.0   \n",
       "1                                       0.0   \n",
       "2                                       0.0   \n",
       "3                                       0.0   \n",
       "4                                       0.0   \n",
       "...                                     ...   \n",
       "4383880                                 0.0   \n",
       "4383881                                 0.0   \n",
       "4383882                                 0.0   \n",
       "4383883                                 0.0   \n",
       "4383884                                 0.0   \n",
       "\n",
       "         MedianListingPricePerSqft_5BedroomOrMore  \\\n",
       "0                                             0.0   \n",
       "1                                             0.0   \n",
       "2                                             0.0   \n",
       "3                                             0.0   \n",
       "4                                             0.0   \n",
       "...                                           ...   \n",
       "4383880                                       0.0   \n",
       "4383881                                       0.0   \n",
       "4383882                                       0.0   \n",
       "4383883                                       0.0   \n",
       "4383884                                       0.0   \n",
       "\n",
       "         MedianListingPricePerSqft_AllHomes  ...  \\\n",
       "0                                       NaN  ...   \n",
       "1                                       NaN  ...   \n",
       "2                                       NaN  ...   \n",
       "3                                       NaN  ...   \n",
       "4                                       NaN  ...   \n",
       "...                                     ...  ...   \n",
       "4383880                          176.886792  ...   \n",
       "4383881                                 NaN  ...   \n",
       "4383882                          219.997535  ...   \n",
       "4383883                                 NaN  ...   \n",
       "4383884                          186.440678  ...   \n",
       "\n",
       "         PctOfHomesIncreasingInValues_AllHomes  \\\n",
       "0                                          NaN   \n",
       "1                                          NaN   \n",
       "2                                          NaN   \n",
       "3                                          NaN   \n",
       "4                                          NaN   \n",
       "...                                        ...   \n",
       "4383880                                    NaN   \n",
       "4383881                                    NaN   \n",
       "4383882                                    NaN   \n",
       "4383883                                    NaN   \n",
       "4383884                                    NaN   \n",
       "\n",
       "         PctOfListingsWithPriceReductionsSeasAdj_AllHomes  \\\n",
       "0                                                     NaN   \n",
       "1                                                     NaN   \n",
       "2                                                     NaN   \n",
       "3                                                     NaN   \n",
       "4                                                     NaN   \n",
       "...                                                   ...   \n",
       "4383880                                         12.349473   \n",
       "4383881                                               NaN   \n",
       "4383882                                         10.323291   \n",
       "4383883                                               NaN   \n",
       "4383884                                               NaN   \n",
       "\n",
       "         PctOfListingsWithPriceReductionsSeasAdj_CondoCoop  \\\n",
       "0                                                      NaN   \n",
       "1                                                      NaN   \n",
       "2                                                      NaN   \n",
       "3                                                      NaN   \n",
       "4                                                      NaN   \n",
       "...                                                    ...   \n",
       "4383880                                                NaN   \n",
       "4383881                                                NaN   \n",
       "4383882                                                NaN   \n",
       "4383883                                                NaN   \n",
       "4383884                                                NaN   \n",
       "\n",
       "         PctOfListingsWithPriceReductionsSeasAdj_SingleFamilyResidence  \\\n",
       "0                                                      NaN               \n",
       "1                                                      NaN               \n",
       "2                                                      NaN               \n",
       "3                                                      NaN               \n",
       "4                                                      NaN               \n",
       "...                                                    ...               \n",
       "4383880                                          12.809327               \n",
       "4383881                                                NaN               \n",
       "4383882                                          10.556306               \n",
       "4383883                                                NaN               \n",
       "4383884                                                NaN               \n",
       "\n",
       "         PctOfListingsWithPriceReductions_AllHomes  \\\n",
       "0                                              NaN   \n",
       "1                                              NaN   \n",
       "2                                              NaN   \n",
       "3                                              NaN   \n",
       "4                                              NaN   \n",
       "...                                            ...   \n",
       "4383880                                   6.779661   \n",
       "4383881                                        NaN   \n",
       "4383882                                   7.964602   \n",
       "4383883                                        NaN   \n",
       "4383884                                        NaN   \n",
       "\n",
       "         PctOfListingsWithPriceReductions_CondoCoop  \\\n",
       "0                                               NaN   \n",
       "1                                               NaN   \n",
       "2                                               NaN   \n",
       "3                                               NaN   \n",
       "4                                               NaN   \n",
       "...                                             ...   \n",
       "4383880                                         NaN   \n",
       "4383881                                         NaN   \n",
       "4383882                                         NaN   \n",
       "4383883                                         NaN   \n",
       "4383884                                         NaN   \n",
       "\n",
       "         PctOfListingsWithPriceReductions_SingleFamilyResidence  \\\n",
       "0                                                      NaN        \n",
       "1                                                      NaN        \n",
       "2                                                      NaN        \n",
       "3                                                      NaN        \n",
       "4                                                      NaN        \n",
       "...                                                    ...        \n",
       "4383880                                           7.142857        \n",
       "4383881                                                NaN        \n",
       "4383882                                           8.247423        \n",
       "4383883                                                NaN        \n",
       "4383884                                                NaN        \n",
       "\n",
       "         PriceToRentRatio_AllHomes  MedianListingPricePerSqft  \\\n",
       "0                              NaN                          0   \n",
       "1                              NaN                          0   \n",
       "2                              NaN                          0   \n",
       "3                              NaN                          0   \n",
       "4                              NaN                          0   \n",
       "...                            ...                        ...   \n",
       "4383880                      11.33                          0   \n",
       "4383881                      11.94                          0   \n",
       "4383882                      14.07                          0   \n",
       "4383883                        NaN                          0   \n",
       "4383884                      12.95                          0   \n",
       "\n",
       "         NumberOfBedrooms  \n",
       "0                       0  \n",
       "1                       0  \n",
       "2                       0  \n",
       "3                       0  \n",
       "4                       0  \n",
       "...                   ...  \n",
       "4383880                 0  \n",
       "4383881                 0  \n",
       "4383882                 3  \n",
       "4383883                 0  \n",
       "4383884                 0  \n",
       "\n",
       "[4383885 rows x 62 columns]"
      ]
     },
     "execution_count": 13,
     "metadata": {},
     "output_type": "execute_result"
    }
   ],
   "source": [
    "## Drop Zillow based columns - estimate based\n",
    "zip_df.drop([\n",
    "'ZHVI_1bedroom'\n",
    ",'ZHVI_2bedroom'\n",
    ",'ZHVI_3bedroom'\n",
    ",'ZHVI_4bedroom'\n",
    ",'ZHVI_5BedroomOrMore'\n",
    ",'ZHVI_AllHomes'\n",
    ",'ZHVI_BottomTier'\n",
    ",'ZHVI_CondoCoop'\n",
    ",'ZHVI_MiddleTier'\n",
    ",'ZHVI_SingleFamilyResidence'\n",
    ",'ZHVI_TopTier'\n",
    ",'ZRI_AllHomes'\n",
    ",'ZRI_AllHomesPlusMultifamily'\n",
    ",'ZriPerSqft_AllHomes'\n",
    ",'Zri_MultiFamilyResidenceRental'\n",
    ",'Zri_SingleFamilyResidenceRental'],axis=1)"
   ]
  },
  {
   "cell_type": "code",
   "execution_count": null,
   "metadata": {},
   "outputs": [],
   "source": [
    "##Combine the bedroom columns into the median listing price per sqft column to reduce column space\n",
    "\n",
    "#zip_df['MedianListingPricePerSqft'] = pd.concat(['MedianListingPricePerSqft_1Bedroom'\n",
    "#          , 'MedianListingPricePerSqft_2Bedroom'\n",
    "#          , 'MedianListingPricePerSqft_3Bedroom'\n",
    "#          , 'MedianListingPricePerSqft_4Bedroom'\n",
    "#          , 'MedianListingPricePerSqft_5BedroomOrMore'],axis=0)\n",
    "#mapping = {'MedianListingPricePerSqft_1Bedroom': 'MedianListingPricePerSqft'\n",
    "#          , 'MedianListingPricePerSqft_2Bedroom':'MedianListingPricePerSqft'\n",
    "#          , 'MedianListingPricePerSqft_3Bedroom':'MedianListingPricePerSqft'\n",
    "#          , 'MedianListingPricePerSqft_4Bedroom':'MedianListingPricePerSqft'\n",
    "#          , 'MedianListingPricePerSqft_5BedroomOrMore':'MedianListingPricePerSqft'}\n",
    "#mapping = sum('MedianListingPricePerSqft_1Bedroom'\n",
    "#          , 'MedianListingPricePerSqft_2Bedroom')\n",
    "#          , 'MedianListingPricePerSqft_3Bedroom'\n",
    "#           , 'MedianListingPricePerSqft_4Bedroom'\n",
    "#           , 'MedianListingPricePerSqft_5BedroomOrMore')\n",
    "\n",
    "#zip_df['MedianListingPricePerSqft'].combine('MedianListingPricePerSqft_1Bedroom'\n",
    "#                                            ,'MedianListingPricePerSqft_2Bedroom'\n",
    "#                                            ,'MedianListingPricePerSqft_3Bedroom')\n",
    "#                                            ,'MedianListingPricePerSqft_4Bedroom'\n",
    "#                                            ,'MedianListingPricePerSqft_5BedroomOrMore')\n"
   ]
  },
  {
   "cell_type": "code",
   "execution_count": null,
   "metadata": {},
   "outputs": [],
   "source": [
    "## Drop duplicative columns post\n",
    "#zip_df.drop([''],axis=1)\n"
   ]
  },
  {
   "cell_type": "code",
   "execution_count": null,
   "metadata": {},
   "outputs": [],
   "source": [
    "## Count by year?\n",
    "\n"
   ]
  },
  {
   "cell_type": "code",
   "execution_count": null,
   "metadata": {},
   "outputs": [],
   "source": [
    "## Count -> by non-Zillow Data - driven by value <> 0\n",
    "\n",
    "\n",
    "#Isolate by zip repeating\n"
   ]
  },
  {
   "cell_type": "code",
   "execution_count": null,
   "metadata": {},
   "outputs": [],
   "source": [
    "## \n",
    "\n"
   ]
  },
  {
   "cell_type": "code",
   "execution_count": null,
   "metadata": {},
   "outputs": [],
   "source": [
    "#######################################\n",
    "## County Time Series -- Cleaning CG ##\n",
    "#######################################\n",
    "cots_df.shape\n",
    "\n",
    "#cots_df.apply(lambda x: len(x.unique()))\n",
    "#cots_df.apply(lambda x: sum(x.isnull()))"
   ]
  },
  {
   "cell_type": "code",
   "execution_count": null,
   "metadata": {},
   "outputs": [],
   "source": [
    "#####################################\n",
    "## City Time Series  -- Cleaning MN #\n",
    "#####################################\n",
    "#cts_df.shape\n",
    "#Understand range of outputs\n",
    "#cts_df.describe()"
   ]
  },
  {
   "cell_type": "code",
   "execution_count": null,
   "metadata": {},
   "outputs": [],
   "source": [
    "#cts_df.isnull().sum()"
   ]
  },
  {
   "cell_type": "code",
   "execution_count": null,
   "metadata": {},
   "outputs": [],
   "source": [
    "############################################\n",
    "## Neighborhood Time Series -- Cleaning SL #\n",
    "############################################\n",
    "nbh_df.shape"
   ]
  },
  {
   "cell_type": "code",
   "execution_count": null,
   "metadata": {},
   "outputs": [],
   "source": [
    "####################################\n",
    "##State Time Series -- Cleaning SL #\n",
    "####################################\n",
    "sts_df.shape"
   ]
  },
  {
   "cell_type": "code",
   "execution_count": 5,
   "metadata": {},
   "outputs": [
    {
     "data": {
      "text/plain": [
       "(4812, 28)"
      ]
     },
     "execution_count": 5,
     "metadata": {},
     "output_type": "execute_result"
    }
   ],
   "source": [
    "#########################################\n",
    "## Hospital Quality Care -- Cleaning SL #\n",
    "#########################################\n",
    "hospital_df.shape"
   ]
  },
  {
   "cell_type": "code",
   "execution_count": 6,
   "metadata": {},
   "outputs": [
    {
     "data": {
      "text/html": [
       "<div>\n",
       "<style scoped>\n",
       "    .dataframe tbody tr th:only-of-type {\n",
       "        vertical-align: middle;\n",
       "    }\n",
       "\n",
       "    .dataframe tbody tr th {\n",
       "        vertical-align: top;\n",
       "    }\n",
       "\n",
       "    .dataframe thead th {\n",
       "        text-align: right;\n",
       "    }\n",
       "</style>\n",
       "<table border=\"1\" class=\"dataframe\">\n",
       "  <thead>\n",
       "    <tr style=\"text-align: right;\">\n",
       "      <th></th>\n",
       "      <th>Provider ID</th>\n",
       "      <th>Hospital Name</th>\n",
       "      <th>Address</th>\n",
       "      <th>City</th>\n",
       "      <th>State</th>\n",
       "      <th>ZIP Code</th>\n",
       "      <th>County Name</th>\n",
       "      <th>Phone Number</th>\n",
       "      <th>Hospital Type</th>\n",
       "      <th>Hospital Ownership</th>\n",
       "      <th>Emergency Services</th>\n",
       "      <th>Meets criteria for meaningful use of EHRs</th>\n",
       "      <th>Hospital overall rating</th>\n",
       "      <th>Hospital overall rating footnote</th>\n",
       "      <th>Mortality national comparison</th>\n",
       "      <th>Mortality national comparison footnote</th>\n",
       "      <th>Safety of care national comparison</th>\n",
       "      <th>Safety of care national comparison footnote</th>\n",
       "      <th>Readmission national comparison</th>\n",
       "      <th>Readmission national comparison footnote</th>\n",
       "      <th>Patient experience national comparison</th>\n",
       "      <th>Patient experience national comparison footnote</th>\n",
       "      <th>Effectiveness of care national comparison</th>\n",
       "      <th>Effectiveness of care national comparison footnote</th>\n",
       "      <th>Timeliness of care national comparison</th>\n",
       "      <th>Timeliness of care national comparison footnote</th>\n",
       "      <th>Efficient use of medical imaging national comparison</th>\n",
       "      <th>Efficient use of medical imaging national comparison footnote</th>\n",
       "    </tr>\n",
       "  </thead>\n",
       "  <tbody>\n",
       "    <tr>\n",
       "      <th>0</th>\n",
       "      <td>10001</td>\n",
       "      <td>SOUTHEAST ALABAMA MEDICAL CENTER</td>\n",
       "      <td>1108 ROSS CLARK CIRCLE</td>\n",
       "      <td>DOTHAN</td>\n",
       "      <td>AL</td>\n",
       "      <td>36301</td>\n",
       "      <td>HOUSTON</td>\n",
       "      <td>3347938701</td>\n",
       "      <td>Acute Care Hospitals</td>\n",
       "      <td>Government - Hospital District or Authority</td>\n",
       "      <td>Yes</td>\n",
       "      <td>Y</td>\n",
       "      <td>3</td>\n",
       "      <td>NaN</td>\n",
       "      <td>Same as the national average</td>\n",
       "      <td>NaN</td>\n",
       "      <td>Above the national average</td>\n",
       "      <td>NaN</td>\n",
       "      <td>Same as the national average</td>\n",
       "      <td>NaN</td>\n",
       "      <td>Below the national average</td>\n",
       "      <td>NaN</td>\n",
       "      <td>Same as the national average</td>\n",
       "      <td>NaN</td>\n",
       "      <td>Same as the national average</td>\n",
       "      <td>NaN</td>\n",
       "      <td>Same as the national average</td>\n",
       "      <td>NaN</td>\n",
       "    </tr>\n",
       "    <tr>\n",
       "      <th>1</th>\n",
       "      <td>10005</td>\n",
       "      <td>MARSHALL MEDICAL CENTER SOUTH</td>\n",
       "      <td>2505 U S HIGHWAY 431 NORTH</td>\n",
       "      <td>BOAZ</td>\n",
       "      <td>AL</td>\n",
       "      <td>35957</td>\n",
       "      <td>MARSHALL</td>\n",
       "      <td>2565938310</td>\n",
       "      <td>Acute Care Hospitals</td>\n",
       "      <td>Government - Hospital District or Authority</td>\n",
       "      <td>Yes</td>\n",
       "      <td>Y</td>\n",
       "      <td>3</td>\n",
       "      <td>NaN</td>\n",
       "      <td>Below the national average</td>\n",
       "      <td>NaN</td>\n",
       "      <td>Same as the national average</td>\n",
       "      <td>NaN</td>\n",
       "      <td>Above the national average</td>\n",
       "      <td>NaN</td>\n",
       "      <td>Same as the national average</td>\n",
       "      <td>NaN</td>\n",
       "      <td>Same as the national average</td>\n",
       "      <td>NaN</td>\n",
       "      <td>Above the national average</td>\n",
       "      <td>NaN</td>\n",
       "      <td>Below the national average</td>\n",
       "      <td>NaN</td>\n",
       "    </tr>\n",
       "    <tr>\n",
       "      <th>2</th>\n",
       "      <td>10006</td>\n",
       "      <td>ELIZA COFFEE MEMORIAL HOSPITAL</td>\n",
       "      <td>205 MARENGO STREET</td>\n",
       "      <td>FLORENCE</td>\n",
       "      <td>AL</td>\n",
       "      <td>35631</td>\n",
       "      <td>LAUDERDALE</td>\n",
       "      <td>2567688400</td>\n",
       "      <td>Acute Care Hospitals</td>\n",
       "      <td>Government - Hospital District or Authority</td>\n",
       "      <td>Yes</td>\n",
       "      <td>Y</td>\n",
       "      <td>2</td>\n",
       "      <td>NaN</td>\n",
       "      <td>Below the national average</td>\n",
       "      <td>NaN</td>\n",
       "      <td>Same as the national average</td>\n",
       "      <td>NaN</td>\n",
       "      <td>Same as the national average</td>\n",
       "      <td>NaN</td>\n",
       "      <td>Below the national average</td>\n",
       "      <td>NaN</td>\n",
       "      <td>Same as the national average</td>\n",
       "      <td>NaN</td>\n",
       "      <td>Above the national average</td>\n",
       "      <td>NaN</td>\n",
       "      <td>Same as the national average</td>\n",
       "      <td>NaN</td>\n",
       "    </tr>\n",
       "    <tr>\n",
       "      <th>3</th>\n",
       "      <td>10007</td>\n",
       "      <td>MIZELL MEMORIAL HOSPITAL</td>\n",
       "      <td>702 N MAIN ST</td>\n",
       "      <td>OPP</td>\n",
       "      <td>AL</td>\n",
       "      <td>36467</td>\n",
       "      <td>COVINGTON</td>\n",
       "      <td>3344933541</td>\n",
       "      <td>Acute Care Hospitals</td>\n",
       "      <td>Voluntary non-profit - Private</td>\n",
       "      <td>Yes</td>\n",
       "      <td>Y</td>\n",
       "      <td>2</td>\n",
       "      <td>NaN</td>\n",
       "      <td>Same as the national average</td>\n",
       "      <td>NaN</td>\n",
       "      <td>Not Available</td>\n",
       "      <td>Results are not available for this reporting p...</td>\n",
       "      <td>Below the national average</td>\n",
       "      <td>NaN</td>\n",
       "      <td>Same as the national average</td>\n",
       "      <td>NaN</td>\n",
       "      <td>Below the national average</td>\n",
       "      <td>NaN</td>\n",
       "      <td>Above the national average</td>\n",
       "      <td>NaN</td>\n",
       "      <td>Not Available</td>\n",
       "      <td>Results are not available for this reporting p...</td>\n",
       "    </tr>\n",
       "    <tr>\n",
       "      <th>4</th>\n",
       "      <td>10008</td>\n",
       "      <td>CRENSHAW COMMUNITY HOSPITAL</td>\n",
       "      <td>101 HOSPITAL CIRCLE</td>\n",
       "      <td>LUVERNE</td>\n",
       "      <td>AL</td>\n",
       "      <td>36049</td>\n",
       "      <td>CRENSHAW</td>\n",
       "      <td>3343353374</td>\n",
       "      <td>Acute Care Hospitals</td>\n",
       "      <td>Proprietary</td>\n",
       "      <td>Yes</td>\n",
       "      <td>Y</td>\n",
       "      <td>3</td>\n",
       "      <td>NaN</td>\n",
       "      <td>Same as the national average</td>\n",
       "      <td>NaN</td>\n",
       "      <td>Not Available</td>\n",
       "      <td>Results are not available for this reporting p...</td>\n",
       "      <td>Same as the national average</td>\n",
       "      <td>NaN</td>\n",
       "      <td>Not Available</td>\n",
       "      <td>Results are not available for this reporting p...</td>\n",
       "      <td>Same as the national average</td>\n",
       "      <td>NaN</td>\n",
       "      <td>Above the national average</td>\n",
       "      <td>NaN</td>\n",
       "      <td>Not Available</td>\n",
       "      <td>Results are not available for this reporting p...</td>\n",
       "    </tr>\n",
       "  </tbody>\n",
       "</table>\n",
       "</div>"
      ],
      "text/plain": [
       "   Provider ID                     Hospital Name                     Address      City State  ZIP Code County Name  Phone Number         Hospital Type                           Hospital Ownership Emergency Services Meets criteria for meaningful use of EHRs Hospital overall rating Hospital overall rating footnote Mortality national comparison Mortality national comparison footnote Safety of care national comparison        Safety of care national comparison footnote Readmission national comparison Readmission national comparison footnote Patient experience national comparison    Patient experience national comparison footnote Effectiveness of care national comparison Effectiveness of care national comparison footnote Timeliness of care national comparison Timeliness of care national comparison footnote Efficient use of medical imaging national comparison Efficient use of medical imaging national comparison footnote\n",
       "0        10001  SOUTHEAST ALABAMA MEDICAL CENTER      1108 ROSS CLARK CIRCLE    DOTHAN    AL     36301     HOUSTON    3347938701  Acute Care Hospitals  Government - Hospital District or Authority                Yes                                         Y                       3                              NaN  Same as the national average                                    NaN         Above the national average                                                NaN    Same as the national average                                      NaN             Below the national average                                                NaN              Same as the national average                                                NaN           Same as the national average                                             NaN                       Same as the national average                                                  NaN           \n",
       "1        10005     MARSHALL MEDICAL CENTER SOUTH  2505 U S HIGHWAY 431 NORTH      BOAZ    AL     35957    MARSHALL    2565938310  Acute Care Hospitals  Government - Hospital District or Authority                Yes                                         Y                       3                              NaN    Below the national average                                    NaN       Same as the national average                                                NaN      Above the national average                                      NaN           Same as the national average                                                NaN              Same as the national average                                                NaN             Above the national average                                             NaN                         Below the national average                                                  NaN           \n",
       "2        10006    ELIZA COFFEE MEMORIAL HOSPITAL          205 MARENGO STREET  FLORENCE    AL     35631  LAUDERDALE    2567688400  Acute Care Hospitals  Government - Hospital District or Authority                Yes                                         Y                       2                              NaN    Below the national average                                    NaN       Same as the national average                                                NaN    Same as the national average                                      NaN             Below the national average                                                NaN              Same as the national average                                                NaN             Above the national average                                             NaN                       Same as the national average                                                  NaN           \n",
       "3        10007          MIZELL MEMORIAL HOSPITAL               702 N MAIN ST       OPP    AL     36467   COVINGTON    3344933541  Acute Care Hospitals               Voluntary non-profit - Private                Yes                                         Y                       2                              NaN  Same as the national average                                    NaN                      Not Available  Results are not available for this reporting p...      Below the national average                                      NaN           Same as the national average                                                NaN                Below the national average                                                NaN             Above the national average                                             NaN                                      Not Available    Results are not available for this reporting p...           \n",
       "4        10008       CRENSHAW COMMUNITY HOSPITAL         101 HOSPITAL CIRCLE   LUVERNE    AL     36049    CRENSHAW    3343353374  Acute Care Hospitals                                  Proprietary                Yes                                         Y                       3                              NaN  Same as the national average                                    NaN                      Not Available  Results are not available for this reporting p...    Same as the national average                                      NaN                          Not Available  Results are not available for this reporting p...              Same as the national average                                                NaN             Above the national average                                             NaN                                      Not Available    Results are not available for this reporting p...           "
      ]
     },
     "execution_count": 6,
     "metadata": {},
     "output_type": "execute_result"
    }
   ],
   "source": [
    "hospital_df.head()"
   ]
  },
  {
   "cell_type": "code",
   "execution_count": 17,
   "metadata": {},
   "outputs": [
    {
     "name": "stdout",
     "output_type": "stream",
     "text": [
      "<class 'pandas.core.frame.DataFrame'>\n",
      "RangeIndex: 4812 entries, 0 to 4811\n",
      "Data columns (total 28 columns):\n",
      " #   Column                                                         Non-Null Count  Dtype \n",
      "---  ------                                                         --------------  ----- \n",
      " 0   Provider ID                                                    4812 non-null   int64 \n",
      " 1   Hospital Name                                                  4812 non-null   object\n",
      " 2   Address                                                        4812 non-null   object\n",
      " 3   City                                                           4812 non-null   object\n",
      " 4   State                                                          4812 non-null   object\n",
      " 5   ZIP Code                                                       4812 non-null   int64 \n",
      " 6   County Name                                                    4797 non-null   object\n",
      " 7   Phone Number                                                   4812 non-null   int64 \n",
      " 8   Hospital Type                                                  4812 non-null   object\n",
      " 9   Hospital Ownership                                             4812 non-null   object\n",
      " 10  Emergency Services                                             4812 non-null   object\n",
      " 11  Meets criteria for meaningful use of EHRs                      4669 non-null   object\n",
      " 12  Hospital overall rating                                        4812 non-null   object\n",
      " 13  Hospital overall rating footnote                               1398 non-null   object\n",
      " 14  Mortality national comparison                                  4812 non-null   object\n",
      " 15  Mortality national comparison footnote                         1352 non-null   object\n",
      " 16  Safety of care national comparison                             4812 non-null   object\n",
      " 17  Safety of care national comparison footnote                    2168 non-null   object\n",
      " 18  Readmission national comparison                                4812 non-null   object\n",
      " 19  Readmission national comparison footnote                       1017 non-null   object\n",
      " 20  Patient experience national comparison                         4812 non-null   object\n",
      " 21  Patient experience national comparison footnote                1369 non-null   object\n",
      " 22  Effectiveness of care national comparison                      4812 non-null   object\n",
      " 23  Effectiveness of care national comparison footnote             1202 non-null   object\n",
      " 24  Timeliness of care national comparison                         4812 non-null   object\n",
      " 25  Timeliness of care national comparison footnote                1266 non-null   object\n",
      " 26  Efficient use of medical imaging national comparison           4812 non-null   object\n",
      " 27  Efficient use of medical imaging national comparison footnote  2033 non-null   object\n",
      "dtypes: int64(3), object(25)\n",
      "memory usage: 1.0+ MB\n"
     ]
    }
   ],
   "source": [
    "hospital_df.info()"
   ]
  },
  {
   "cell_type": "code",
   "execution_count": 26,
   "metadata": {
    "scrolled": true
   },
   "outputs": [
    {
     "data": {
      "text/html": [
       "<div>\n",
       "<style scoped>\n",
       "    .dataframe tbody tr th:only-of-type {\n",
       "        vertical-align: middle;\n",
       "    }\n",
       "\n",
       "    .dataframe tbody tr th {\n",
       "        vertical-align: top;\n",
       "    }\n",
       "\n",
       "    .dataframe thead th {\n",
       "        text-align: right;\n",
       "    }\n",
       "</style>\n",
       "<table border=\"1\" class=\"dataframe\">\n",
       "  <thead>\n",
       "    <tr style=\"text-align: right;\">\n",
       "      <th></th>\n",
       "      <th>index</th>\n",
       "      <th>missing_value</th>\n",
       "    </tr>\n",
       "  </thead>\n",
       "  <tbody>\n",
       "    <tr>\n",
       "      <th>0</th>\n",
       "      <td>County Name</td>\n",
       "      <td>15</td>\n",
       "    </tr>\n",
       "    <tr>\n",
       "      <th>1</th>\n",
       "      <td>Meets criteria for meaningful use of EHRs</td>\n",
       "      <td>143</td>\n",
       "    </tr>\n",
       "    <tr>\n",
       "      <th>2</th>\n",
       "      <td>Safety of care national comparison footnote</td>\n",
       "      <td>2644</td>\n",
       "    </tr>\n",
       "    <tr>\n",
       "      <th>3</th>\n",
       "      <td>Efficient use of medical imaging national comp...</td>\n",
       "      <td>2779</td>\n",
       "    </tr>\n",
       "    <tr>\n",
       "      <th>4</th>\n",
       "      <td>Hospital overall rating footnote</td>\n",
       "      <td>3414</td>\n",
       "    </tr>\n",
       "    <tr>\n",
       "      <th>5</th>\n",
       "      <td>Patient experience national comparison footnote</td>\n",
       "      <td>3443</td>\n",
       "    </tr>\n",
       "    <tr>\n",
       "      <th>6</th>\n",
       "      <td>Mortality national comparison footnote</td>\n",
       "      <td>3460</td>\n",
       "    </tr>\n",
       "    <tr>\n",
       "      <th>7</th>\n",
       "      <td>Timeliness of care national comparison footnote</td>\n",
       "      <td>3546</td>\n",
       "    </tr>\n",
       "    <tr>\n",
       "      <th>8</th>\n",
       "      <td>Effectiveness of care national comparison foot...</td>\n",
       "      <td>3610</td>\n",
       "    </tr>\n",
       "    <tr>\n",
       "      <th>9</th>\n",
       "      <td>Readmission national comparison footnote</td>\n",
       "      <td>3795</td>\n",
       "    </tr>\n",
       "  </tbody>\n",
       "</table>\n",
       "</div>"
      ],
      "text/plain": [
       "                                               index  missing_value\n",
       "0                                        County Name             15\n",
       "1          Meets criteria for meaningful use of EHRs            143\n",
       "2        Safety of care national comparison footnote           2644\n",
       "3  Efficient use of medical imaging national comp...           2779\n",
       "4                   Hospital overall rating footnote           3414\n",
       "5    Patient experience national comparison footnote           3443\n",
       "6             Mortality national comparison footnote           3460\n",
       "7    Timeliness of care national comparison footnote           3546\n",
       "8  Effectiveness of care national comparison foot...           3610\n",
       "9           Readmission national comparison footnote           3795"
      ]
     },
     "execution_count": 26,
     "metadata": {},
     "output_type": "execute_result"
    }
   ],
   "source": [
    "null_df = hospital_df.isnull().sum(axis = 0).sort_values().to_frame('missing_value')\n",
    "null_df[null_df['missing_value'] > 0].reset_index()"
   ]
  },
  {
   "cell_type": "code",
   "execution_count": 53,
   "metadata": {},
   "outputs": [],
   "source": [
    "# drop provider id, hospital name, address, phone number since they are all irrelevant \n",
    "# also drop all footnote since they are all incorporate in the other columns.\n",
    "drop_these = ['Provider ID', 'Hospital Name', 'Phone Number']\n",
    "drop_these.extend([col for col in hospital_df if 'footnote' in col])\n",
    "hospital_df = hospital_df.drop(columns = drop_these)\n",
    "\n",
    "# hospital_df.loc[:,hospital_df.columns.str.endswith('footnote')]"
   ]
  },
  {
   "cell_type": "code",
   "execution_count": 55,
   "metadata": {},
   "outputs": [
    {
     "data": {
      "text/html": [
       "<div>\n",
       "<style scoped>\n",
       "    .dataframe tbody tr th:only-of-type {\n",
       "        vertical-align: middle;\n",
       "    }\n",
       "\n",
       "    .dataframe tbody tr th {\n",
       "        vertical-align: top;\n",
       "    }\n",
       "\n",
       "    .dataframe thead th {\n",
       "        text-align: right;\n",
       "    }\n",
       "</style>\n",
       "<table border=\"1\" class=\"dataframe\">\n",
       "  <thead>\n",
       "    <tr style=\"text-align: right;\">\n",
       "      <th></th>\n",
       "      <th>Address</th>\n",
       "      <th>City</th>\n",
       "      <th>State</th>\n",
       "      <th>ZIP Code</th>\n",
       "      <th>County Name</th>\n",
       "      <th>Hospital Type</th>\n",
       "      <th>Hospital Ownership</th>\n",
       "      <th>Emergency Services</th>\n",
       "      <th>Meets criteria for meaningful use of EHRs</th>\n",
       "      <th>Hospital overall rating</th>\n",
       "      <th>Mortality national comparison</th>\n",
       "      <th>Safety of care national comparison</th>\n",
       "      <th>Readmission national comparison</th>\n",
       "      <th>Patient experience national comparison</th>\n",
       "      <th>Effectiveness of care national comparison</th>\n",
       "      <th>Timeliness of care national comparison</th>\n",
       "      <th>Efficient use of medical imaging national comparison</th>\n",
       "    </tr>\n",
       "  </thead>\n",
       "  <tbody>\n",
       "    <tr>\n",
       "      <th>0</th>\n",
       "      <td>1108 ROSS CLARK CIRCLE</td>\n",
       "      <td>DOTHAN</td>\n",
       "      <td>AL</td>\n",
       "      <td>36301</td>\n",
       "      <td>HOUSTON</td>\n",
       "      <td>Acute Care Hospitals</td>\n",
       "      <td>Government - Hospital District or Authority</td>\n",
       "      <td>Yes</td>\n",
       "      <td>Y</td>\n",
       "      <td>3</td>\n",
       "      <td>Same as the national average</td>\n",
       "      <td>Above the national average</td>\n",
       "      <td>Same as the national average</td>\n",
       "      <td>Below the national average</td>\n",
       "      <td>Same as the national average</td>\n",
       "      <td>Same as the national average</td>\n",
       "      <td>Same as the national average</td>\n",
       "    </tr>\n",
       "    <tr>\n",
       "      <th>1</th>\n",
       "      <td>2505 U S HIGHWAY 431 NORTH</td>\n",
       "      <td>BOAZ</td>\n",
       "      <td>AL</td>\n",
       "      <td>35957</td>\n",
       "      <td>MARSHALL</td>\n",
       "      <td>Acute Care Hospitals</td>\n",
       "      <td>Government - Hospital District or Authority</td>\n",
       "      <td>Yes</td>\n",
       "      <td>Y</td>\n",
       "      <td>3</td>\n",
       "      <td>Below the national average</td>\n",
       "      <td>Same as the national average</td>\n",
       "      <td>Above the national average</td>\n",
       "      <td>Same as the national average</td>\n",
       "      <td>Same as the national average</td>\n",
       "      <td>Above the national average</td>\n",
       "      <td>Below the national average</td>\n",
       "    </tr>\n",
       "    <tr>\n",
       "      <th>2</th>\n",
       "      <td>205 MARENGO STREET</td>\n",
       "      <td>FLORENCE</td>\n",
       "      <td>AL</td>\n",
       "      <td>35631</td>\n",
       "      <td>LAUDERDALE</td>\n",
       "      <td>Acute Care Hospitals</td>\n",
       "      <td>Government - Hospital District or Authority</td>\n",
       "      <td>Yes</td>\n",
       "      <td>Y</td>\n",
       "      <td>2</td>\n",
       "      <td>Below the national average</td>\n",
       "      <td>Same as the national average</td>\n",
       "      <td>Same as the national average</td>\n",
       "      <td>Below the national average</td>\n",
       "      <td>Same as the national average</td>\n",
       "      <td>Above the national average</td>\n",
       "      <td>Same as the national average</td>\n",
       "    </tr>\n",
       "    <tr>\n",
       "      <th>3</th>\n",
       "      <td>702 N MAIN ST</td>\n",
       "      <td>OPP</td>\n",
       "      <td>AL</td>\n",
       "      <td>36467</td>\n",
       "      <td>COVINGTON</td>\n",
       "      <td>Acute Care Hospitals</td>\n",
       "      <td>Voluntary non-profit - Private</td>\n",
       "      <td>Yes</td>\n",
       "      <td>Y</td>\n",
       "      <td>2</td>\n",
       "      <td>Same as the national average</td>\n",
       "      <td>Not Available</td>\n",
       "      <td>Below the national average</td>\n",
       "      <td>Same as the national average</td>\n",
       "      <td>Below the national average</td>\n",
       "      <td>Above the national average</td>\n",
       "      <td>Not Available</td>\n",
       "    </tr>\n",
       "    <tr>\n",
       "      <th>4</th>\n",
       "      <td>101 HOSPITAL CIRCLE</td>\n",
       "      <td>LUVERNE</td>\n",
       "      <td>AL</td>\n",
       "      <td>36049</td>\n",
       "      <td>CRENSHAW</td>\n",
       "      <td>Acute Care Hospitals</td>\n",
       "      <td>Proprietary</td>\n",
       "      <td>Yes</td>\n",
       "      <td>Y</td>\n",
       "      <td>3</td>\n",
       "      <td>Same as the national average</td>\n",
       "      <td>Not Available</td>\n",
       "      <td>Same as the national average</td>\n",
       "      <td>Not Available</td>\n",
       "      <td>Same as the national average</td>\n",
       "      <td>Above the national average</td>\n",
       "      <td>Not Available</td>\n",
       "    </tr>\n",
       "  </tbody>\n",
       "</table>\n",
       "</div>"
      ],
      "text/plain": [
       "                      Address      City State  ZIP Code County Name         Hospital Type                           Hospital Ownership Emergency Services Meets criteria for meaningful use of EHRs Hospital overall rating Mortality national comparison Safety of care national comparison Readmission national comparison Patient experience national comparison Effectiveness of care national comparison Timeliness of care national comparison Efficient use of medical imaging national comparison\n",
       "0      1108 ROSS CLARK CIRCLE    DOTHAN    AL     36301     HOUSTON  Acute Care Hospitals  Government - Hospital District or Authority                Yes                                         Y                       3  Same as the national average         Above the national average    Same as the national average             Below the national average              Same as the national average           Same as the national average                       Same as the national average  \n",
       "1  2505 U S HIGHWAY 431 NORTH      BOAZ    AL     35957    MARSHALL  Acute Care Hospitals  Government - Hospital District or Authority                Yes                                         Y                       3    Below the national average       Same as the national average      Above the national average           Same as the national average              Same as the national average             Above the national average                         Below the national average  \n",
       "2          205 MARENGO STREET  FLORENCE    AL     35631  LAUDERDALE  Acute Care Hospitals  Government - Hospital District or Authority                Yes                                         Y                       2    Below the national average       Same as the national average    Same as the national average             Below the national average              Same as the national average             Above the national average                       Same as the national average  \n",
       "3               702 N MAIN ST       OPP    AL     36467   COVINGTON  Acute Care Hospitals               Voluntary non-profit - Private                Yes                                         Y                       2  Same as the national average                      Not Available      Below the national average           Same as the national average                Below the national average             Above the national average                                      Not Available  \n",
       "4         101 HOSPITAL CIRCLE   LUVERNE    AL     36049    CRENSHAW  Acute Care Hospitals                                  Proprietary                Yes                                         Y                       3  Same as the national average                      Not Available    Same as the national average                          Not Available              Same as the national average             Above the national average                                      Not Available  "
      ]
     },
     "execution_count": 55,
     "metadata": {},
     "output_type": "execute_result"
    }
   ],
   "source": [
    "hospital_df.head()"
   ]
  },
  {
   "cell_type": "code",
   "execution_count": 56,
   "metadata": {},
   "outputs": [
    {
     "name": "stdout",
     "output_type": "stream",
     "text": [
      "<class 'pandas.core.frame.DataFrame'>\n",
      "RangeIndex: 4812 entries, 0 to 4811\n",
      "Data columns (total 17 columns):\n",
      " #   Column                                                Non-Null Count  Dtype \n",
      "---  ------                                                --------------  ----- \n",
      " 0   Address                                               4812 non-null   object\n",
      " 1   City                                                  4812 non-null   object\n",
      " 2   State                                                 4812 non-null   object\n",
      " 3   ZIP Code                                              4812 non-null   int64 \n",
      " 4   County Name                                           4797 non-null   object\n",
      " 5   Hospital Type                                         4812 non-null   object\n",
      " 6   Hospital Ownership                                    4812 non-null   object\n",
      " 7   Emergency Services                                    4812 non-null   object\n",
      " 8   Meets criteria for meaningful use of EHRs             4669 non-null   object\n",
      " 9   Hospital overall rating                               4812 non-null   object\n",
      " 10  Mortality national comparison                         4812 non-null   object\n",
      " 11  Safety of care national comparison                    4812 non-null   object\n",
      " 12  Readmission national comparison                       4812 non-null   object\n",
      " 13  Patient experience national comparison                4812 non-null   object\n",
      " 14  Effectiveness of care national comparison             4812 non-null   object\n",
      " 15  Timeliness of care national comparison                4812 non-null   object\n",
      " 16  Efficient use of medical imaging national comparison  4812 non-null   object\n",
      "dtypes: int64(1), object(16)\n",
      "memory usage: 639.2+ KB\n"
     ]
    }
   ],
   "source": [
    "hospital_df.info()"
   ]
  },
  {
   "cell_type": "code",
   "execution_count": 57,
   "metadata": {},
   "outputs": [
    {
     "data": {
      "text/html": [
       "<div>\n",
       "<style scoped>\n",
       "    .dataframe tbody tr th:only-of-type {\n",
       "        vertical-align: middle;\n",
       "    }\n",
       "\n",
       "    .dataframe tbody tr th {\n",
       "        vertical-align: top;\n",
       "    }\n",
       "\n",
       "    .dataframe thead th {\n",
       "        text-align: right;\n",
       "    }\n",
       "</style>\n",
       "<table border=\"1\" class=\"dataframe\">\n",
       "  <thead>\n",
       "    <tr style=\"text-align: right;\">\n",
       "      <th></th>\n",
       "      <th>index</th>\n",
       "      <th>missing_value</th>\n",
       "    </tr>\n",
       "  </thead>\n",
       "  <tbody>\n",
       "    <tr>\n",
       "      <th>0</th>\n",
       "      <td>County Name</td>\n",
       "      <td>15</td>\n",
       "    </tr>\n",
       "    <tr>\n",
       "      <th>1</th>\n",
       "      <td>Meets criteria for meaningful use of EHRs</td>\n",
       "      <td>143</td>\n",
       "    </tr>\n",
       "  </tbody>\n",
       "</table>\n",
       "</div>"
      ],
      "text/plain": [
       "                                       index  missing_value\n",
       "0                                County Name             15\n",
       "1  Meets criteria for meaningful use of EHRs            143"
      ]
     },
     "execution_count": 57,
     "metadata": {},
     "output_type": "execute_result"
    }
   ],
   "source": [
    "null_df = hospital_df.isnull().sum(axis = 0).sort_values().to_frame('missing_value')\n",
    "null_df[null_df['missing_value'] > 0].reset_index()"
   ]
  },
  {
   "cell_type": "code",
   "execution_count": 61,
   "metadata": {
    "scrolled": true
   },
   "outputs": [
    {
     "data": {
      "text/plain": [
       "Y                4668\n",
       "Not Available       1\n",
       "Name: Meets criteria for meaningful use of EHRs, dtype: int64"
      ]
     },
     "execution_count": 61,
     "metadata": {},
     "output_type": "execute_result"
    }
   ],
   "source": [
    "hospital_df['Meets criteria for meaningful use of EHRs'].value_counts()"
   ]
  },
  {
   "cell_type": "code",
   "execution_count": 62,
   "metadata": {},
   "outputs": [],
   "source": [
    "hospital_df['Meets criteria for meaningful use of EHRs'] = hospital_df['Meets criteria for meaningful use of EHRs'].fillna('Not Available')"
   ]
  },
  {
   "cell_type": "code",
   "execution_count": 65,
   "metadata": {},
   "outputs": [
    {
     "data": {
      "text/plain": [
       "LOS ANGELES     83\n",
       "COOK            51\n",
       "JEFFERSON       47\n",
       "WASHINGTON      44\n",
       "MONTGOMERY      43\n",
       "                ..\n",
       "MCCONE           1\n",
       "TISHOMINGO       1\n",
       "HAMPTON CITY     1\n",
       "PIATT            1\n",
       "CLOUD            1\n",
       "Name: County Name, Length: 1563, dtype: int64"
      ]
     },
     "execution_count": 65,
     "metadata": {},
     "output_type": "execute_result"
    }
   ],
   "source": [
    "hospital_df['County Name'].value_counts()"
   ]
  },
  {
   "cell_type": "code",
   "execution_count": 66,
   "metadata": {},
   "outputs": [
    {
     "data": {
      "text/html": [
       "<div>\n",
       "<style scoped>\n",
       "    .dataframe tbody tr th:only-of-type {\n",
       "        vertical-align: middle;\n",
       "    }\n",
       "\n",
       "    .dataframe tbody tr th {\n",
       "        vertical-align: top;\n",
       "    }\n",
       "\n",
       "    .dataframe thead th {\n",
       "        text-align: right;\n",
       "    }\n",
       "</style>\n",
       "<table border=\"1\" class=\"dataframe\">\n",
       "  <thead>\n",
       "    <tr style=\"text-align: right;\">\n",
       "      <th></th>\n",
       "      <th>Address</th>\n",
       "      <th>City</th>\n",
       "      <th>State</th>\n",
       "      <th>ZIP Code</th>\n",
       "      <th>County Name</th>\n",
       "      <th>Hospital Type</th>\n",
       "      <th>Hospital Ownership</th>\n",
       "      <th>Emergency Services</th>\n",
       "      <th>Meets criteria for meaningful use of EHRs</th>\n",
       "      <th>Hospital overall rating</th>\n",
       "      <th>Mortality national comparison</th>\n",
       "      <th>Safety of care national comparison</th>\n",
       "      <th>Readmission national comparison</th>\n",
       "      <th>Patient experience national comparison</th>\n",
       "      <th>Effectiveness of care national comparison</th>\n",
       "      <th>Timeliness of care national comparison</th>\n",
       "      <th>Efficient use of medical imaging national comparison</th>\n",
       "    </tr>\n",
       "  </thead>\n",
       "  <tbody>\n",
       "    <tr>\n",
       "      <th>0</th>\n",
       "      <td>1108 ROSS CLARK CIRCLE</td>\n",
       "      <td>DOTHAN</td>\n",
       "      <td>AL</td>\n",
       "      <td>36301</td>\n",
       "      <td>HOUSTON</td>\n",
       "      <td>Acute Care Hospitals</td>\n",
       "      <td>Government - Hospital District or Authority</td>\n",
       "      <td>Yes</td>\n",
       "      <td>Y</td>\n",
       "      <td>3</td>\n",
       "      <td>Same as the national average</td>\n",
       "      <td>Above the national average</td>\n",
       "      <td>Same as the national average</td>\n",
       "      <td>Below the national average</td>\n",
       "      <td>Same as the national average</td>\n",
       "      <td>Same as the national average</td>\n",
       "      <td>Same as the national average</td>\n",
       "    </tr>\n",
       "    <tr>\n",
       "      <th>1</th>\n",
       "      <td>2505 U S HIGHWAY 431 NORTH</td>\n",
       "      <td>BOAZ</td>\n",
       "      <td>AL</td>\n",
       "      <td>35957</td>\n",
       "      <td>MARSHALL</td>\n",
       "      <td>Acute Care Hospitals</td>\n",
       "      <td>Government - Hospital District or Authority</td>\n",
       "      <td>Yes</td>\n",
       "      <td>Y</td>\n",
       "      <td>3</td>\n",
       "      <td>Below the national average</td>\n",
       "      <td>Same as the national average</td>\n",
       "      <td>Above the national average</td>\n",
       "      <td>Same as the national average</td>\n",
       "      <td>Same as the national average</td>\n",
       "      <td>Above the national average</td>\n",
       "      <td>Below the national average</td>\n",
       "    </tr>\n",
       "    <tr>\n",
       "      <th>2</th>\n",
       "      <td>205 MARENGO STREET</td>\n",
       "      <td>FLORENCE</td>\n",
       "      <td>AL</td>\n",
       "      <td>35631</td>\n",
       "      <td>LAUDERDALE</td>\n",
       "      <td>Acute Care Hospitals</td>\n",
       "      <td>Government - Hospital District or Authority</td>\n",
       "      <td>Yes</td>\n",
       "      <td>Y</td>\n",
       "      <td>2</td>\n",
       "      <td>Below the national average</td>\n",
       "      <td>Same as the national average</td>\n",
       "      <td>Same as the national average</td>\n",
       "      <td>Below the national average</td>\n",
       "      <td>Same as the national average</td>\n",
       "      <td>Above the national average</td>\n",
       "      <td>Same as the national average</td>\n",
       "    </tr>\n",
       "    <tr>\n",
       "      <th>3</th>\n",
       "      <td>702 N MAIN ST</td>\n",
       "      <td>OPP</td>\n",
       "      <td>AL</td>\n",
       "      <td>36467</td>\n",
       "      <td>COVINGTON</td>\n",
       "      <td>Acute Care Hospitals</td>\n",
       "      <td>Voluntary non-profit - Private</td>\n",
       "      <td>Yes</td>\n",
       "      <td>Y</td>\n",
       "      <td>2</td>\n",
       "      <td>Same as the national average</td>\n",
       "      <td>Not Available</td>\n",
       "      <td>Below the national average</td>\n",
       "      <td>Same as the national average</td>\n",
       "      <td>Below the national average</td>\n",
       "      <td>Above the national average</td>\n",
       "      <td>Not Available</td>\n",
       "    </tr>\n",
       "    <tr>\n",
       "      <th>4</th>\n",
       "      <td>101 HOSPITAL CIRCLE</td>\n",
       "      <td>LUVERNE</td>\n",
       "      <td>AL</td>\n",
       "      <td>36049</td>\n",
       "      <td>CRENSHAW</td>\n",
       "      <td>Acute Care Hospitals</td>\n",
       "      <td>Proprietary</td>\n",
       "      <td>Yes</td>\n",
       "      <td>Y</td>\n",
       "      <td>3</td>\n",
       "      <td>Same as the national average</td>\n",
       "      <td>Not Available</td>\n",
       "      <td>Same as the national average</td>\n",
       "      <td>Not Available</td>\n",
       "      <td>Same as the national average</td>\n",
       "      <td>Above the national average</td>\n",
       "      <td>Not Available</td>\n",
       "    </tr>\n",
       "  </tbody>\n",
       "</table>\n",
       "</div>"
      ],
      "text/plain": [
       "                      Address      City State  ZIP Code County Name         Hospital Type                           Hospital Ownership Emergency Services Meets criteria for meaningful use of EHRs Hospital overall rating Mortality national comparison Safety of care national comparison Readmission national comparison Patient experience national comparison Effectiveness of care national comparison Timeliness of care national comparison Efficient use of medical imaging national comparison\n",
       "0      1108 ROSS CLARK CIRCLE    DOTHAN    AL     36301     HOUSTON  Acute Care Hospitals  Government - Hospital District or Authority                Yes                                         Y                       3  Same as the national average         Above the national average    Same as the national average             Below the national average              Same as the national average           Same as the national average                       Same as the national average  \n",
       "1  2505 U S HIGHWAY 431 NORTH      BOAZ    AL     35957    MARSHALL  Acute Care Hospitals  Government - Hospital District or Authority                Yes                                         Y                       3    Below the national average       Same as the national average      Above the national average           Same as the national average              Same as the national average             Above the national average                         Below the national average  \n",
       "2          205 MARENGO STREET  FLORENCE    AL     35631  LAUDERDALE  Acute Care Hospitals  Government - Hospital District or Authority                Yes                                         Y                       2    Below the national average       Same as the national average    Same as the national average             Below the national average              Same as the national average             Above the national average                       Same as the national average  \n",
       "3               702 N MAIN ST       OPP    AL     36467   COVINGTON  Acute Care Hospitals               Voluntary non-profit - Private                Yes                                         Y                       2  Same as the national average                      Not Available      Below the national average           Same as the national average                Below the national average             Above the national average                                      Not Available  \n",
       "4         101 HOSPITAL CIRCLE   LUVERNE    AL     36049    CRENSHAW  Acute Care Hospitals                                  Proprietary                Yes                                         Y                       3  Same as the national average                      Not Available    Same as the national average                          Not Available              Same as the national average             Above the national average                                      Not Available  "
      ]
     },
     "execution_count": 66,
     "metadata": {},
     "output_type": "execute_result"
    }
   ],
   "source": [
    "hospital_df.head()"
   ]
  },
  {
   "cell_type": "code",
   "execution_count": 67,
   "metadata": {},
   "outputs": [
    {
     "data": {
      "text/plain": [
       "Voluntary non-profit - Private                 2052\n",
       "Proprietary                                     800\n",
       "Government - Hospital District or Authority     561\n",
       "Voluntary non-profit - Other                    462\n",
       "Government - Local                              407\n",
       "Voluntary non-profit - Church                   343\n",
       "Physician                                        68\n",
       "Government - State                               65\n",
       "Government - Federal                             45\n",
       "Tribal                                            9\n",
       "Name: Hospital Ownership, dtype: int64"
      ]
     },
     "execution_count": 67,
     "metadata": {},
     "output_type": "execute_result"
    }
   ],
   "source": [
    "hospital_df['Hospital Ownership'].value_counts()"
   ]
  },
  {
   "cell_type": "code",
   "execution_count": 68,
   "metadata": {},
   "outputs": [],
   "source": [
    "hospital_df['Hospital Ownership'] = hospital_df['Hospital Ownership'].replace({\n",
    "                    'Voluntary non-profit - Private': 'non-profit', \n",
    "                    'Proprietary':'for-profit', \n",
    "                    'Government - Hospital District or Authority': 'government',\n",
    "                    'Voluntary non-profit - Other':'non-profit',\n",
    "                    'Government - Local':'government',\n",
    "                    'Voluntary non-profit - Church':'non-profit',\n",
    "                    'Physician':'for-profit',\n",
    "                    'Government - State':'government',\n",
    "                    'Tribal ':'government',\n",
    "                    'Government - Federal':'government',\n",
    "                                  })"
   ]
  },
  {
   "cell_type": "code",
   "execution_count": 69,
   "metadata": {
    "scrolled": true
   },
   "outputs": [
    {
     "data": {
      "text/plain": [
       "Acute Care Hospitals         3369\n",
       "Critical Access Hospitals    1344\n",
       "Childrens                      99\n",
       "Name: Hospital Type, dtype: int64"
      ]
     },
     "execution_count": 69,
     "metadata": {},
     "output_type": "execute_result"
    }
   ],
   "source": [
    "hospital_df['Hospital Type'].value_counts()"
   ]
  },
  {
   "cell_type": "markdown",
   "metadata": {},
   "source": [
    "There are four level in the following 7 aspect: \n",
    "Mortality national comparison; \n",
    "Safety of care national comparison;\n",
    "Safety of care national comparison;\n",
    "Readmission national comparison\tPatient experience national comparison\tEffectiveness of care national comparison\tTimeliness of care national comparison\tEfficient use of medical imaging national comparison\n",
    "-1 Below the national average\n",
    "0Same as the national average                    \n",
    "1Above the national average       \n",
    "Not Available   "
   ]
  },
  {
   "cell_type": "code",
   "execution_count": 70,
   "metadata": {},
   "outputs": [
    {
     "data": {
      "text/plain": [
       "Same as the national average    2719\n",
       "Not Available                   1352\n",
       "Above the national average       400\n",
       "Below the national average       341\n",
       "Name: Mortality national comparison, dtype: int64"
      ]
     },
     "execution_count": 70,
     "metadata": {},
     "output_type": "execute_result"
    }
   ],
   "source": [
    "# there are four level in the following 7 aspect\n",
    "#Same as the national average    \n",
    "#Not Available                   \n",
    "#Above the national average       \n",
    "#Below the national average\n",
    "hospital_df['Mortality national comparison'].value_counts()"
   ]
  },
  {
   "cell_type": "code",
   "execution_count": 71,
   "metadata": {},
   "outputs": [
    {
     "data": {
      "text/plain": [
       "Not Available                   2168\n",
       "Same as the national average    1194\n",
       "Above the national average       786\n",
       "Below the national average       664\n",
       "Name: Safety of care national comparison, dtype: int64"
      ]
     },
     "execution_count": 71,
     "metadata": {},
     "output_type": "execute_result"
    }
   ],
   "source": [
    "hospital_df['Safety of care national comparison'].value_counts()"
   ]
  },
  {
   "cell_type": "code",
   "execution_count": 72,
   "metadata": {},
   "outputs": [
    {
     "data": {
      "text/plain": [
       "Same as the national average    2119\n",
       "Not Available                   1017\n",
       "Below the national average       866\n",
       "Above the national average       810\n",
       "Name: Readmission national comparison, dtype: int64"
      ]
     },
     "execution_count": 72,
     "metadata": {},
     "output_type": "execute_result"
    }
   ],
   "source": [
    "\n",
    "hospital_df['Readmission national comparison'].value_counts()"
   ]
  },
  {
   "cell_type": "code",
   "execution_count": null,
   "metadata": {},
   "outputs": [],
   "source": [
    "hospital_df['Safety of care national comparison'].value_counts()"
   ]
  },
  {
   "cell_type": "code",
   "execution_count": null,
   "metadata": {},
   "outputs": [],
   "source": []
  },
  {
   "cell_type": "code",
   "execution_count": null,
   "metadata": {},
   "outputs": [],
   "source": []
  },
  {
   "cell_type": "code",
   "execution_count": null,
   "metadata": {},
   "outputs": [],
   "source": []
  },
  {
   "cell_type": "markdown",
   "metadata": {},
   "source": [
    "### Consolidation\n",
    "https://jakevdp.github.io/PythonDataScienceHandbook/03.07-merge-and-join.html"
   ]
  },
  {
   "cell_type": "code",
   "execution_count": null,
   "metadata": {},
   "outputs": [],
   "source": [
    "#### Consolidate dataframes for ease of use\n",
    "pd.concat()\n"
   ]
  },
  {
   "cell_type": "code",
   "execution_count": null,
   "metadata": {},
   "outputs": [],
   "source": []
  },
  {
   "cell_type": "code",
   "execution_count": null,
   "metadata": {},
   "outputs": [],
   "source": []
  },
  {
   "cell_type": "code",
   "execution_count": null,
   "metadata": {},
   "outputs": [],
   "source": []
  },
  {
   "cell_type": "markdown",
   "metadata": {},
   "source": [
    "### Dimensional Reduction & Quick Analysis"
   ]
  },
  {
   "cell_type": "code",
   "execution_count": null,
   "metadata": {},
   "outputs": [],
   "source": []
  },
  {
   "cell_type": "code",
   "execution_count": null,
   "metadata": {},
   "outputs": [],
   "source": []
  },
  {
   "cell_type": "code",
   "execution_count": null,
   "metadata": {},
   "outputs": [],
   "source": []
  },
  {
   "cell_type": "code",
   "execution_count": null,
   "metadata": {},
   "outputs": [],
   "source": []
  },
  {
   "cell_type": "markdown",
   "metadata": {},
   "source": [
    "### Feature Engineering\n",
    "https://pypi.org/project/autoimpute/"
   ]
  },
  {
   "cell_type": "code",
   "execution_count": null,
   "metadata": {},
   "outputs": [],
   "source": []
  },
  {
   "cell_type": "code",
   "execution_count": null,
   "metadata": {},
   "outputs": [],
   "source": []
  },
  {
   "cell_type": "code",
   "execution_count": null,
   "metadata": {},
   "outputs": [],
   "source": []
  },
  {
   "cell_type": "code",
   "execution_count": null,
   "metadata": {},
   "outputs": [],
   "source": []
  },
  {
   "cell_type": "code",
   "execution_count": null,
   "metadata": {},
   "outputs": [],
   "source": []
  },
  {
   "cell_type": "markdown",
   "metadata": {},
   "source": [
    "### Model Training"
   ]
  },
  {
   "cell_type": "code",
   "execution_count": null,
   "metadata": {},
   "outputs": [],
   "source": [
    "#(test as much algorithm as possible, possible models include Random Forest, Gradient Boosting, Ada-Boosting, Voting Classifier...)"
   ]
  },
  {
   "cell_type": "code",
   "execution_count": null,
   "metadata": {},
   "outputs": [],
   "source": []
  },
  {
   "cell_type": "code",
   "execution_count": null,
   "metadata": {},
   "outputs": [],
   "source": []
  },
  {
   "cell_type": "code",
   "execution_count": null,
   "metadata": {},
   "outputs": [],
   "source": []
  },
  {
   "cell_type": "code",
   "execution_count": null,
   "metadata": {},
   "outputs": [],
   "source": []
  },
  {
   "cell_type": "markdown",
   "metadata": {},
   "source": [
    "### Hyperparameter Tuning"
   ]
  },
  {
   "cell_type": "markdown",
   "metadata": {},
   "source": [
    "Use Randome search training for parameters found in following article: \n",
    "https://towardsdatascience.com/hyperparameter-tuning-the-random-forest-in-python-using-scikit-learn-28d2aa77dd74\n",
    "\n",
    "#### Maximum number of levels in tree\n",
    "max_depth = [int(x) for x in np.linspace(2, 20, num = 10)]\n",
    "max_depth.append(None)\n",
    "\n",
    "#### Minimum number of samples required at each leaf node\n",
    "min_samples_leaf = [0.05, 0.10, 0.13, 0.15, 0.20, 0.26, 0.5]\n",
    "\n",
    "#### Create the random grid\n",
    "random_grid = {'max_depth': max_depth, 'min_samples_leaf': min_samples_leaf}\n",
    "pprint(random_grid)\n",
    "\n",
    "#### Use the random grid to search for best hyperparameters\n",
    "#### First create the base model to tune\n",
    "dt = DecisionTreeRegressor()\n",
    "\n",
    "#### Random search of parameters, using 10 fold cross validation, \n",
    "dt_random = RandomizedSearchCV(estimator = dt, param_distributions = random_grid, cv = 10, random_state=3, n_jobs = -1)\n",
    "#dt_random = RandomizedSearchCV(estimator = dt, param_distributions = random_grid, n_iter = 100, cv = 10, verbose=2, random_state=3, n_jobs = -1)\n",
    "\n",
    "#### Fit the random search model\n",
    "dt_random.fit(X_train, y_train)\n",
    "\n",
    "#### See what best parameters from fitting the random search: \n",
    "dt_random.best_params_"
   ]
  },
  {
   "cell_type": "code",
   "execution_count": null,
   "metadata": {},
   "outputs": [],
   "source": []
  },
  {
   "cell_type": "code",
   "execution_count": null,
   "metadata": {},
   "outputs": [],
   "source": []
  },
  {
   "cell_type": "code",
   "execution_count": null,
   "metadata": {},
   "outputs": [],
   "source": []
  },
  {
   "cell_type": "code",
   "execution_count": null,
   "metadata": {},
   "outputs": [],
   "source": []
  },
  {
   "cell_type": "markdown",
   "metadata": {},
   "source": [
    "### Model Accuracy Testing"
   ]
  },
  {
   "cell_type": "code",
   "execution_count": null,
   "metadata": {},
   "outputs": [],
   "source": []
  },
  {
   "cell_type": "code",
   "execution_count": null,
   "metadata": {},
   "outputs": [],
   "source": []
  },
  {
   "cell_type": "code",
   "execution_count": null,
   "metadata": {},
   "outputs": [],
   "source": []
  },
  {
   "cell_type": "code",
   "execution_count": null,
   "metadata": {},
   "outputs": [],
   "source": []
  },
  {
   "cell_type": "code",
   "execution_count": null,
   "metadata": {},
   "outputs": [],
   "source": []
  }
 ],
 "metadata": {
  "kernelspec": {
   "display_name": "Python 3",
   "language": "python",
   "name": "python3"
  },
  "language_info": {
   "codemirror_mode": {
    "name": "ipython",
    "version": 3
   },
   "file_extension": ".py",
   "mimetype": "text/x-python",
   "name": "python",
   "nbconvert_exporter": "python",
   "pygments_lexer": "ipython3",
   "version": "3.7.6"
  }
 },
 "nbformat": 4,
 "nbformat_minor": 4
}
