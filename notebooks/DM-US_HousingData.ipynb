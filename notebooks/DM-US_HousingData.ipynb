{
 "cells": [
  {
   "cell_type": "markdown",
   "metadata": {},
   "source": [
    "# Data Mining Project\n",
    "### By:  Group 3: Elio Aybar, Cristal Garcia, Sunny Li, Matt Norgren"
   ]
  },
  {
   "cell_type": "markdown",
   "metadata": {},
   "source": [
    "### Data Cleaning"
   ]
  },
  {
   "cell_type": "code",
   "execution_count": 1,
   "metadata": {},
   "outputs": [],
   "source": [
    "#Packages to import\n",
    "import os\n",
    "import pandas as pd\n",
    "import numpy as np\n",
    "from scipy import stats\n",
    "import seaborn as sns\n",
    "import matplotlib.pyplot as plt\n",
    "import datetime as dt\n",
    "#import pandas._testing as tm\n",
    "\n",
    "pd.set_option('display.max_columns', 100) # Setting pandas to display a N number of columns\n",
    "pd.set_option('display.max_rows', 10) # Setting pandas to display a N number rows\n",
    "pd.set_option('display.width', 1000)\n",
    "\n",
    "from sklearn.ensemble import AdaBoostRegressor,GradientBoostingRegressor,VotingClassifier,BaggingRegressor,RandomForestRegressor\n",
    "from sklearn.model_selection import train_test_split\n",
    "#from hypopt import GridSearch\n",
    "from sklearn.metrics import accuracy_score, confusion_matrix\n",
    "from sklearn.tree import DecisionTreeRegressor\n",
    "from sklearn.linear_model import LogisticRegression,Perceptron,SGDRegressor\n",
    "from sklearn.preprocessing import StandardScaler\n",
    "\n",
    "import warnings\n",
    "warnings.filterwarnings('ignore')"
   ]
  },
  {
   "cell_type": "code",
   "execution_count": 2,
   "metadata": {},
   "outputs": [
    {
     "name": "stdout",
     "output_type": "stream",
     "text": [
      "C:\\Users\\MAN\\OneDrive - The University of Chicago\\2020_Autumn\\Data Mining Platforms [MSCA 31008]\\Group_Project\n"
     ]
    }
   ],
   "source": [
    "### IMPORT SET\n",
    "\n",
    "#Change working directory to match where the large files are stored\n",
    "# it is not best practice to centrally store files this large - although\n",
    "# git LFS should be explored\n",
    "\n",
    "### CWD -  MAN\n",
    "%cd \"C:\\Users\\MAN\\OneDrive - The University of Chicago\\2020_Autumn\\Data Mining Platforms [MSCA 31008]\\Group_Project\\\"\n",
    "## CWD - Cristal\n",
    "#%cd \"C:\\Users\\cgarc\\OneDrive - The University of Chicago\\GitHub\\US_HousingData-\\docs\"\n",
    "#cd\n",
    "## CWD - Elio \n",
    "#%cd \"C:\\Users\\Tipo\\Desktop\\GitHub\\Project\"\n",
    "## CWD - Sunny\n",
    "#%cd \"/Users/sunny/Data mining/final project\"\n"
   ]
  },
  {
   "cell_type": "code",
   "execution_count": 3,
   "metadata": {},
   "outputs": [],
   "source": [
    "### Establish Pandas Data Frames / Import\n",
    "\n",
    "### Zillow Set- Zip \n",
    "zip_df = pd.read_csv('Zip_time_series.csv', index_col = 'Date')  ### Issues with NaN on import\n",
    "\n",
    "## Public School Ratings \n",
    "PS_df = pd.read_csv('Public_Schools.csv')\n",
    "\n",
    "## Starbucks Upto 2017 for 70 Countries\n",
    "SBUX_df = pd.read_csv('directory.csv')\n",
    "\n",
    "## Food Desert \n",
    "foodlookup_df = pd.read_csv('food_access_variable_lookup.csv')\n",
    "food_df = pd.read_csv('food_access_research_atlas.csv') \n",
    "\n",
    "## Hospital Quality Care \n",
    "hospital_df = pd.read_csv('Hospital General Information.csv', encoding=\"ISO-8859-1\")\n",
    "\n",
    "## Target Up to 2017 for US \n",
    "TGT_df = pd.read_csv('target.csv', encoding=\"ISO-8859-1\")"
   ]
  },
  {
   "cell_type": "markdown",
   "metadata": {},
   "source": [
    "### Individual Set Cleaning (Preparing for Combination)"
   ]
  },
  {
   "cell_type": "code",
   "execution_count": 4,
   "metadata": {},
   "outputs": [
    {
     "data": {
      "text/plain": [
       "(72827, 148)"
      ]
     },
     "execution_count": 4,
     "metadata": {},
     "output_type": "execute_result"
    }
   ],
   "source": [
    "################################\n",
    "## Food Desert -- Cleaning CG  #\n",
    "################################\n",
    "food_df.shape"
   ]
  },
  {
   "cell_type": "code",
   "execution_count": 5,
   "metadata": {},
   "outputs": [],
   "source": [
    "#Columns to drop\n",
    "food_df.drop(['GroupQuartersFlag', 'NUMGQTRS', 'PCTGQTRS', 'LILATracts_Vehicle',  'LATractsVehicle_20', 'LAPOP1_10', 'LAPOP05_10', 'LAPOP1_20', 'LALOWI1_10', 'LALOWI05_10', 'LALOWI1_20', 'lapophalf', 'lapophalfshare', 'lalowihalf', 'lalowihalfshare', 'lakidshalf', 'lakidshalfshare', 'laseniorshalf', 'laseniorshalfshare', 'lawhitehalf', 'lawhitehalfshare', 'lablackhalf', 'lablackhalfshare', 'laasianhalf', 'laasianhalfshare'], axis = 1, inplace = True)\n",
    "food_df.drop(['lanhopihalf', 'lanhopihalfshare', 'laaianhalf', 'laaianhalfshare', 'laomultirhalf', 'laomultirhalfshare', 'lahisphalf', 'lahisphalfshare', 'lahunvhalf', 'lahunvhalfshare', 'lasnaphalf', 'lasnaphalfshare', 'lapop1', 'lapop1share', 'lalowi1', 'lalowi1share', 'lakids1', 'lakids1share', 'laseniors1', 'laseniors1share', 'lawhite1', 'lawhite1share', 'lablack1', 'lablack1share', 'laasian1', 'laasian1share', 'lanhopi1', 'lanhopi1share', 'laaian1', 'laaian1share', 'laomultir1', 'laomultir1share', 'lahisp1', 'lahisp1share', 'lahunv1', 'lahunv1share'], axis = 1, inplace = True)\n",
    "food_df.drop(['lasnap1', 'lasnap1share', 'lapop10', 'lapop10share', 'lalowi10', 'lalowi10share', 'lakids10', 'lakids10share', 'laseniors10', 'laseniors10share', 'lawhite10', 'lawhite10share', 'lablack10', 'lablack10share', 'laasian10', 'laasian10share', 'lanhopi10', 'lanhopi10share', 'laaian10', 'laaian10share', 'laomultir10', 'laomultir10share', 'lahisp10', 'lahisp10share', 'lahunv10', 'lahunv10share', 'lasnap10', 'lasnap10share', 'lapop20', 'lapop20share', 'lalowi20', 'lalowi20share', 'lakids20', 'lakids20share', 'laseniors20', 'laseniors20share'], axis = 1, inplace = True)\n",
    "food_df.drop(['lawhite20', 'lawhite20share', 'lablack20', 'lablack20share', 'laasian20', 'laasian20share', 'lanhopi20', 'lanhopi20share', 'laaian20', 'laaian20share', 'laomultir20', 'laomultir20share', 'lahisp20', 'lahisp20share', 'lahunv20', 'lahunv20share'], axis = 1, inplace = True)\n",
    "food_df.drop(['LILATracts_1And10', 'LILATracts_halfAnd10', 'LILATracts_1And20', 'HUNVFlag', 'lasnap20', 'lasnap20share', 'TractLOWI', 'TractKids', 'TractSeniors', 'TractWhite', 'TractBlack', 'TractAsian', 'TractNHOPI', 'TractAIAN', 'TractOMultir', 'TractHispanic', 'TractHUNV', 'TractSNAP'], axis = 1, inplace = True)\n",
    "food_df.drop(['LAhalfand10', 'LA1and20', 'LATracts_half', 'LATracts1', 'LATracts10', 'LATracts20'], axis = 1, inplace = True)"
   ]
  },
  {
   "cell_type": "code",
   "execution_count": 6,
   "metadata": {},
   "outputs": [],
   "source": [
    "#Drop Duplication rows\n",
    "food_df.drop_duplicates(inplace= True)"
   ]
  },
  {
   "cell_type": "code",
   "execution_count": 7,
   "metadata": {},
   "outputs": [],
   "source": [
    "#There are rows in the data with censustract numbers that no longer apply and the respective row has zero values. Zipcodes \n",
    "#couldn't be identified and were replaced with NA's. Drop these respective rows with NA's in zipcode because those aren't \n",
    "#functional censustract numbers and the rows also have 0's for more than 70% of columns\n",
    "food_df = food_df[food_df['Zipcode'].notna()]"
   ]
  },
  {
   "cell_type": "code",
   "execution_count": 8,
   "metadata": {},
   "outputs": [
    {
     "data": {
      "text/plain": [
       "(72701, 11)"
      ]
     },
     "execution_count": 8,
     "metadata": {},
     "output_type": "execute_result"
    }
   ],
   "source": [
    "food_df.shape"
   ]
  },
  {
   "cell_type": "code",
   "execution_count": 9,
   "metadata": {},
   "outputs": [
    {
     "data": {
      "text/plain": [
       "CensusTract           0\n",
       "Zipcode               0\n",
       "State                 0\n",
       "County                0\n",
       "Urban                 0\n",
       "                     ..\n",
       "OHU2010               0\n",
       "LowIncomeTracts       0\n",
       "PovertyRate           0\n",
       "MedianFamilyIncome    0\n",
       "LA1and10              0\n",
       "Length: 11, dtype: int64"
      ]
     },
     "execution_count": 9,
     "metadata": {},
     "output_type": "execute_result"
    }
   ],
   "source": [
    "#Check missing values\n",
    "food_df.apply(lambda x: sum(x.isnull()))"
   ]
  },
  {
   "cell_type": "code",
   "execution_count": 10,
   "metadata": {},
   "outputs": [
    {
     "data": {
      "text/plain": [
       "CensusTract           72701\n",
       "Zipcode               17496\n",
       "State                    51\n",
       "County                 1837\n",
       "Urban                     2\n",
       "                      ...  \n",
       "OHU2010                4100\n",
       "LowIncomeTracts           2\n",
       "PovertyRate             829\n",
       "MedianFamilyIncome    38925\n",
       "LA1and10                  2\n",
       "Length: 11, dtype: int64"
      ]
     },
     "execution_count": 10,
     "metadata": {},
     "output_type": "execute_result"
    }
   ],
   "source": [
    "#Check unique values\n",
    "food_df.apply(lambda x: len(x.unique()))"
   ]
  },
  {
   "cell_type": "code",
   "execution_count": 11,
   "metadata": {},
   "outputs": [
    {
     "name": "stdout",
     "output_type": "stream",
     "text": [
      "<class 'pandas.core.frame.DataFrame'>\n",
      "Int64Index: 72701 entries, 0 to 72826\n",
      "Data columns (total 11 columns):\n",
      " #   Column              Non-Null Count  Dtype  \n",
      "---  ------              --------------  -----  \n",
      " 0   CensusTract         72701 non-null  int64  \n",
      " 1   Zipcode             72701 non-null  float64\n",
      " 2   State               72701 non-null  object \n",
      " 3   County              72701 non-null  object \n",
      " 4   Urban               72701 non-null  int64  \n",
      " 5   POP2010             72701 non-null  int64  \n",
      " 6   OHU2010             72701 non-null  int64  \n",
      " 7   LowIncomeTracts     72701 non-null  int64  \n",
      " 8   PovertyRate         72701 non-null  float64\n",
      " 9   MedianFamilyIncome  72701 non-null  int64  \n",
      " 10  LA1and10            72701 non-null  int64  \n",
      "dtypes: float64(2), int64(7), object(2)\n",
      "memory usage: 6.7+ MB\n"
     ]
    }
   ],
   "source": [
    "food_df.info()"
   ]
  },
  {
   "cell_type": "code",
   "execution_count": 12,
   "metadata": {
    "scrolled": true
   },
   "outputs": [
    {
     "data": {
      "image/png": "[encoded data removed]",
      "text/plain": [
       "<Figure size 720x576 with 2 Axes>"
      ]
     },
     "metadata": {
      "needs_background": "light"
     },
     "output_type": "display_data"
    }
   ],
   "source": [
    "import seaborn as sns\n",
    "#Visually represent collinearity\n",
    "import matplotlib.pyplot as plt\n",
    "plt.figure(figsize=(10,8))\n",
    "sns.heatmap(food_df.corr(),annot=True,cmap=\"YlGnBu\")\n",
    "plt.show()"
   ]
  },
  {
   "cell_type": "code",
   "execution_count": 13,
   "metadata": {},
   "outputs": [
    {
     "data": {
      "text/plain": [
       "(72701, 11)"
      ]
     },
     "execution_count": 13,
     "metadata": {},
     "output_type": "execute_result"
    }
   ],
   "source": [
    "food_df.shape"
   ]
  },
  {
   "cell_type": "code",
   "execution_count": 14,
   "metadata": {},
   "outputs": [],
   "source": [
    "#Drop because of collinearity\n",
    "food_df.drop(['POP2010', 'PovertyRate'], axis = 1, inplace = True)"
   ]
  },
  {
   "cell_type": "code",
   "execution_count": 15,
   "metadata": {},
   "outputs": [],
   "source": [
    "#Groupby Zipcode and find the average of features\n",
    "food_df = food_df.groupby('Zipcode', as_index=False)['Urban', 'OHU2010', 'LowIncomeTracts', 'MedianFamilyIncome', 'LA1and10'].mean()"
   ]
  },
  {
   "cell_type": "code",
   "execution_count": 16,
   "metadata": {},
   "outputs": [
    {
     "data": {
      "text/plain": [
       "Zipcode               17496\n",
       "Urban                   100\n",
       "OHU2010                9746\n",
       "LowIncomeTracts         156\n",
       "MedianFamilyIncome    16252\n",
       "LA1and10                124\n",
       "dtype: int64"
      ]
     },
     "execution_count": 16,
     "metadata": {},
     "output_type": "execute_result"
    }
   ],
   "source": [
    "food_df.apply(lambda x: len(x.unique()))"
   ]
  },
  {
   "cell_type": "code",
   "execution_count": 17,
   "metadata": {},
   "outputs": [
    {
     "data": {
      "text/html": [
       "<div>\n",
       "<style scoped>\n",
       "    .dataframe tbody tr th:only-of-type {\n",
       "        vertical-align: middle;\n",
       "    }\n",
       "\n",
       "    .dataframe tbody tr th {\n",
       "        vertical-align: top;\n",
       "    }\n",
       "\n",
       "    .dataframe thead th {\n",
       "        text-align: right;\n",
       "    }\n",
       "</style>\n",
       "<table border=\"1\" class=\"dataframe\">\n",
       "  <thead>\n",
       "    <tr style=\"text-align: right;\">\n",
       "      <th></th>\n",
       "      <th>Zipcode</th>\n",
       "      <th>Urban</th>\n",
       "      <th>OHU2010</th>\n",
       "      <th>LowIncomeTracts</th>\n",
       "      <th>MedianFamilyIncome</th>\n",
       "      <th>LA1and10</th>\n",
       "    </tr>\n",
       "  </thead>\n",
       "  <tbody>\n",
       "    <tr>\n",
       "      <th>0</th>\n",
       "      <td>1001.0</td>\n",
       "      <td>1.000000</td>\n",
       "      <td>2098.000000</td>\n",
       "      <td>0.200000</td>\n",
       "      <td>73672.800000</td>\n",
       "      <td>1.000000</td>\n",
       "    </tr>\n",
       "    <tr>\n",
       "      <th>1</th>\n",
       "      <td>1002.0</td>\n",
       "      <td>0.777778</td>\n",
       "      <td>1298.666667</td>\n",
       "      <td>0.666667</td>\n",
       "      <td>76141.333333</td>\n",
       "      <td>0.666667</td>\n",
       "    </tr>\n",
       "    <tr>\n",
       "      <th>2</th>\n",
       "      <td>1005.0</td>\n",
       "      <td>0.000000</td>\n",
       "      <td>2025.000000</td>\n",
       "      <td>0.000000</td>\n",
       "      <td>80846.000000</td>\n",
       "      <td>0.000000</td>\n",
       "    </tr>\n",
       "    <tr>\n",
       "      <th>3</th>\n",
       "      <td>1007.0</td>\n",
       "      <td>0.000000</td>\n",
       "      <td>2797.500000</td>\n",
       "      <td>0.000000</td>\n",
       "      <td>93071.000000</td>\n",
       "      <td>0.000000</td>\n",
       "    </tr>\n",
       "    <tr>\n",
       "      <th>4</th>\n",
       "      <td>1008.0</td>\n",
       "      <td>0.000000</td>\n",
       "      <td>2826.000000</td>\n",
       "      <td>0.000000</td>\n",
       "      <td>79719.000000</td>\n",
       "      <td>1.000000</td>\n",
       "    </tr>\n",
       "  </tbody>\n",
       "</table>\n",
       "</div>"
      ],
      "text/plain": [
       "   Zipcode     Urban      OHU2010  LowIncomeTracts  MedianFamilyIncome  LA1and10\n",
       "0   1001.0  1.000000  2098.000000         0.200000        73672.800000  1.000000\n",
       "1   1002.0  0.777778  1298.666667         0.666667        76141.333333  0.666667\n",
       "2   1005.0  0.000000  2025.000000         0.000000        80846.000000  0.000000\n",
       "3   1007.0  0.000000  2797.500000         0.000000        93071.000000  0.000000\n",
       "4   1008.0  0.000000  2826.000000         0.000000        79719.000000  1.000000"
      ]
     },
     "execution_count": 17,
     "metadata": {},
     "output_type": "execute_result"
    }
   ],
   "source": [
    "food_df.head()"
   ]
  },
  {
   "cell_type": "code",
   "execution_count": 18,
   "metadata": {},
   "outputs": [
    {
     "data": {
      "text/plain": [
       "(17496, 6)"
      ]
     },
     "execution_count": 18,
     "metadata": {},
     "output_type": "execute_result"
    }
   ],
   "source": [
    "food_df.shape"
   ]
  },
  {
   "cell_type": "code",
   "execution_count": 19,
   "metadata": {},
   "outputs": [
    {
     "data": {
      "text/plain": [
       "(102370, 33)"
      ]
     },
     "execution_count": 19,
     "metadata": {},
     "output_type": "execute_result"
    }
   ],
   "source": [
    "####################################################################\n",
    "## Public School Ratings (2014-2015 School years) -- Cleaning CG  ##\n",
    "####################################################################\n",
    "\n",
    "PS_df.shape"
   ]
  },
  {
   "cell_type": "code",
   "execution_count": 20,
   "metadata": {},
   "outputs": [],
   "source": [
    "#Change 'LEVEL_' to change to integer (1: elementary, 2: middle school, 3: high school, 4:PK-13, N=0: Not specified)\n",
    "PS_df['LEVEL_'] = PS_df['LEVEL_'].apply({'N':0, '1':1, '2':2, '3':3, '4':4 }.get)"
   ]
  },
  {
   "cell_type": "code",
   "execution_count": 21,
   "metadata": {},
   "outputs": [],
   "source": [
    "#Drop ZIP4 because 43% of data missing and already have other location indicators; don't need Telephone, website, source, \n",
    "#'VAL_METHOD', 'NAICS_CODE'; 'NAICS_DESC' is generalized description of 'LEVEL'; SHELTER_ID doesn't have 76% of data available \n",
    "\n",
    "PS_df.drop(['X', 'Y', 'OBJECTID', 'NCESID', 'ZIP4', 'TELEPHONE', 'NAICS_CODE', 'NAICS_DESC', 'SOURCE', 'VAL_METHOD', 'VAL_DATE',  'WEBSITE', 'ST_GRADE', 'END_GRADE', 'DISTRICTID',  'SHELTER_ID'], axis = 1, inplace = True)\n",
    "\n",
    "#Drop Puerto Rico location\n",
    "PS_df = PS_df[PS_df.COUNTRY != 'PRI']\n",
    "\n",
    "#Drop Country column since all inland\n",
    "PS_df.drop(['COUNTRY'], axis = 1, inplace = True)\n",
    "\n",
    "#Convert SOURCEDATE to actual datatime type\n",
    "PS_df['SOURCEDATE'] = pd.to_datetime(PS_df['SOURCEDATE'])"
   ]
  },
  {
   "cell_type": "code",
   "execution_count": 22,
   "metadata": {},
   "outputs": [],
   "source": [
    "#Drop Duplication rows\n",
    "PS_df.drop_duplicates(inplace= True)"
   ]
  },
  {
   "cell_type": "code",
   "execution_count": 23,
   "metadata": {},
   "outputs": [],
   "source": [
    "#Drop schools with 0 and negative enrolment\n",
    "PS_df = PS_df[PS_df.ENROLLMENT > 0]"
   ]
  },
  {
   "cell_type": "code",
   "execution_count": 24,
   "metadata": {},
   "outputs": [],
   "source": [
    "#Drop schools with 0 and negative count of teachers\n",
    "PS_df = PS_df[PS_df.FT_TEACHER > 0]"
   ]
  },
  {
   "cell_type": "code",
   "execution_count": 25,
   "metadata": {},
   "outputs": [],
   "source": [
    "#Create Student: Teacher ratio based on enrollment and Teacher count. 30:1 is the ideal ratio \n",
    "PS_df['Class_Teacher_RATIO'] = PS_df['ENROLLMENT'] / PS_df['FT_TEACHER']"
   ]
  },
  {
   "cell_type": "code",
   "execution_count": 26,
   "metadata": {},
   "outputs": [
    {
     "data": {
      "image/png": "[encoded data removed]",
      "text/plain": [
       "<Figure size 720x576 with 2 Axes>"
      ]
     },
     "metadata": {
      "needs_background": "light"
     },
     "output_type": "display_data"
    }
   ],
   "source": [
    "import seaborn as sns\n",
    "#Visually represent collinearity\n",
    "import matplotlib.pyplot as plt\n",
    "plt.figure(figsize=(10,8))\n",
    "sns.heatmap(PS_df.corr(),annot=True,cmap=\"YlGnBu\")\n",
    "plt.show()"
   ]
  },
  {
   "cell_type": "code",
   "execution_count": 27,
   "metadata": {},
   "outputs": [],
   "source": [
    "#Drop Population, Enrollment, and FT_Teacher columns since they have collinearity and enrollment and FT_teacher included in \n",
    "#Class_Teacher_RATIO. Drop Type and Status because couldn't find what the values represent in Kaggle nor education website. \n",
    "PS_df.drop(['TYPE', 'STATUS', 'POPULATION', 'ENROLLMENT', 'FT_TEACHER'], axis = 1, inplace = True)"
   ]
  },
  {
   "cell_type": "code",
   "execution_count": 28,
   "metadata": {},
   "outputs": [
    {
     "data": {
      "text/html": [
       "<div>\n",
       "<style scoped>\n",
       "    .dataframe tbody tr th:only-of-type {\n",
       "        vertical-align: middle;\n",
       "    }\n",
       "\n",
       "    .dataframe tbody tr th {\n",
       "        vertical-align: top;\n",
       "    }\n",
       "\n",
       "    .dataframe thead th {\n",
       "        text-align: right;\n",
       "    }\n",
       "</style>\n",
       "<table border=\"1\" class=\"dataframe\">\n",
       "  <thead>\n",
       "    <tr style=\"text-align: right;\">\n",
       "      <th></th>\n",
       "      <th>NAME</th>\n",
       "      <th>ADDRESS</th>\n",
       "      <th>CITY</th>\n",
       "      <th>STATE</th>\n",
       "      <th>ZIP</th>\n",
       "      <th>COUNTY</th>\n",
       "      <th>COUNTYFIPS</th>\n",
       "      <th>LATITUDE</th>\n",
       "      <th>LONGITUDE</th>\n",
       "      <th>SOURCEDATE</th>\n",
       "      <th>LEVEL_</th>\n",
       "      <th>Class_Teacher_RATIO</th>\n",
       "    </tr>\n",
       "  </thead>\n",
       "  <tbody>\n",
       "    <tr>\n",
       "      <th>0</th>\n",
       "      <td>SAMSULA ACADEMY</td>\n",
       "      <td>248 N SAMSULA DR</td>\n",
       "      <td>NEW SMYRNA</td>\n",
       "      <td>FL</td>\n",
       "      <td>32168</td>\n",
       "      <td>VOLUSIA</td>\n",
       "      <td>12127</td>\n",
       "      <td>29.022271</td>\n",
       "      <td>-81.050895</td>\n",
       "      <td>2014-02-04 00:00:00+00:00</td>\n",
       "      <td>1</td>\n",
       "      <td>17.076923</td>\n",
       "    </tr>\n",
       "    <tr>\n",
       "      <th>1</th>\n",
       "      <td>CAROLINE DORMON JUNIOR HIGH SCHOOL</td>\n",
       "      <td>8906 HWY 165 SOUTH</td>\n",
       "      <td>WOODWORTH</td>\n",
       "      <td>LA</td>\n",
       "      <td>71485</td>\n",
       "      <td>RAPIDES</td>\n",
       "      <td>22079</td>\n",
       "      <td>31.180659</td>\n",
       "      <td>-92.507288</td>\n",
       "      <td>2015-05-08 00:00:00+00:00</td>\n",
       "      <td>1</td>\n",
       "      <td>14.857143</td>\n",
       "    </tr>\n",
       "    <tr>\n",
       "      <th>2</th>\n",
       "      <td>HARRIET BEECHER STOWE ELEMENTARY</td>\n",
       "      <td>44 MCKEEN STREET</td>\n",
       "      <td>BRUNSWICK</td>\n",
       "      <td>ME</td>\n",
       "      <td>4011</td>\n",
       "      <td>CUMBERLAND</td>\n",
       "      <td>23005</td>\n",
       "      <td>43.908147</td>\n",
       "      <td>-69.971880</td>\n",
       "      <td>2014-02-04 00:00:00+00:00</td>\n",
       "      <td>1</td>\n",
       "      <td>14.211538</td>\n",
       "    </tr>\n",
       "    <tr>\n",
       "      <th>3</th>\n",
       "      <td>LEAKE CENTRAL ELEMENTARY SCHOOL</td>\n",
       "      <td>603 HWY. 16 WEST</td>\n",
       "      <td>CARTHAGE</td>\n",
       "      <td>MS</td>\n",
       "      <td>39051</td>\n",
       "      <td>LEAKE</td>\n",
       "      <td>28079</td>\n",
       "      <td>32.728496</td>\n",
       "      <td>-89.542799</td>\n",
       "      <td>2009-10-13 00:00:00+00:00</td>\n",
       "      <td>1</td>\n",
       "      <td>18.396825</td>\n",
       "    </tr>\n",
       "    <tr>\n",
       "      <th>4</th>\n",
       "      <td>KEARNEY ELEM.</td>\n",
       "      <td>902 S JEFFERSON</td>\n",
       "      <td>KEARNEY</td>\n",
       "      <td>MO</td>\n",
       "      <td>64060</td>\n",
       "      <td>CLAY</td>\n",
       "      <td>29047</td>\n",
       "      <td>39.364359</td>\n",
       "      <td>-94.361775</td>\n",
       "      <td>2009-10-13 00:00:00+00:00</td>\n",
       "      <td>1</td>\n",
       "      <td>12.454545</td>\n",
       "    </tr>\n",
       "  </tbody>\n",
       "</table>\n",
       "</div>"
      ],
      "text/plain": [
       "                                 NAME             ADDRESS        CITY STATE    ZIP      COUNTY  COUNTYFIPS   LATITUDE  LONGITUDE                SOURCEDATE  LEVEL_  Class_Teacher_RATIO\n",
       "0                     SAMSULA ACADEMY    248 N SAMSULA DR  NEW SMYRNA    FL  32168     VOLUSIA       12127  29.022271 -81.050895 2014-02-04 00:00:00+00:00       1            17.076923\n",
       "1  CAROLINE DORMON JUNIOR HIGH SCHOOL  8906 HWY 165 SOUTH   WOODWORTH    LA  71485     RAPIDES       22079  31.180659 -92.507288 2015-05-08 00:00:00+00:00       1            14.857143\n",
       "2    HARRIET BEECHER STOWE ELEMENTARY    44 MCKEEN STREET   BRUNSWICK    ME   4011  CUMBERLAND       23005  43.908147 -69.971880 2014-02-04 00:00:00+00:00       1            14.211538\n",
       "3     LEAKE CENTRAL ELEMENTARY SCHOOL    603 HWY. 16 WEST    CARTHAGE    MS  39051       LEAKE       28079  32.728496 -89.542799 2009-10-13 00:00:00+00:00       1            18.396825\n",
       "4                       KEARNEY ELEM.     902 S JEFFERSON     KEARNEY    MO  64060        CLAY       29047  39.364359 -94.361775 2009-10-13 00:00:00+00:00       1            12.454545"
      ]
     },
     "execution_count": 28,
     "metadata": {},
     "output_type": "execute_result"
    }
   ],
   "source": [
    "PS_df.head()"
   ]
  },
  {
   "cell_type": "code",
   "execution_count": 29,
   "metadata": {},
   "outputs": [
    {
     "data": {
      "text/plain": [
       "(85938, 12)"
      ]
     },
     "execution_count": 29,
     "metadata": {},
     "output_type": "execute_result"
    }
   ],
   "source": [
    "PS_df.shape"
   ]
  },
  {
   "cell_type": "code",
   "execution_count": 30,
   "metadata": {},
   "outputs": [],
   "source": [
    "#Groupby Zipcode and find avg of features per zipcode\n",
    "PS_df = PS_df.groupby('ZIP', as_index=False)['LEVEL_', 'Class_Teacher_RATIO'].mean()"
   ]
  },
  {
   "cell_type": "code",
   "execution_count": 31,
   "metadata": {},
   "outputs": [
    {
     "data": {
      "text/plain": [
       "ZIP                    20732\n",
       "LEVEL_                   243\n",
       "Class_Teacher_RATIO    17328\n",
       "dtype: int64"
      ]
     },
     "execution_count": 31,
     "metadata": {},
     "output_type": "execute_result"
    }
   ],
   "source": [
    "PS_df.apply(lambda x: len(x.unique()))"
   ]
  },
  {
   "cell_type": "code",
   "execution_count": 32,
   "metadata": {},
   "outputs": [
    {
     "data": {
      "text/plain": [
       "(20732, 3)"
      ]
     },
     "execution_count": 32,
     "metadata": {},
     "output_type": "execute_result"
    }
   ],
   "source": [
    "PS_df.shape"
   ]
  },
  {
   "cell_type": "code",
   "execution_count": 33,
   "metadata": {},
   "outputs": [
    {
     "data": {
      "text/html": [
       "<div>\n",
       "<style scoped>\n",
       "    .dataframe tbody tr th:only-of-type {\n",
       "        vertical-align: middle;\n",
       "    }\n",
       "\n",
       "    .dataframe tbody tr th {\n",
       "        vertical-align: top;\n",
       "    }\n",
       "\n",
       "    .dataframe thead th {\n",
       "        text-align: right;\n",
       "    }\n",
       "</style>\n",
       "<table border=\"1\" class=\"dataframe\">\n",
       "  <thead>\n",
       "    <tr style=\"text-align: right;\">\n",
       "      <th></th>\n",
       "      <th>ZIP</th>\n",
       "      <th>LEVEL_</th>\n",
       "      <th>Class_Teacher_RATIO</th>\n",
       "    </tr>\n",
       "  </thead>\n",
       "  <tbody>\n",
       "    <tr>\n",
       "      <th>0</th>\n",
       "      <td>1001</td>\n",
       "      <td>1.50</td>\n",
       "      <td>15.247192</td>\n",
       "    </tr>\n",
       "    <tr>\n",
       "      <th>1</th>\n",
       "      <td>1002</td>\n",
       "      <td>1.50</td>\n",
       "      <td>10.940945</td>\n",
       "    </tr>\n",
       "    <tr>\n",
       "      <th>2</th>\n",
       "      <td>1005</td>\n",
       "      <td>2.25</td>\n",
       "      <td>13.025238</td>\n",
       "    </tr>\n",
       "    <tr>\n",
       "      <th>3</th>\n",
       "      <td>1007</td>\n",
       "      <td>1.80</td>\n",
       "      <td>13.791365</td>\n",
       "    </tr>\n",
       "    <tr>\n",
       "      <th>4</th>\n",
       "      <td>1010</td>\n",
       "      <td>1.00</td>\n",
       "      <td>10.777778</td>\n",
       "    </tr>\n",
       "  </tbody>\n",
       "</table>\n",
       "</div>"
      ],
      "text/plain": [
       "    ZIP  LEVEL_  Class_Teacher_RATIO\n",
       "0  1001    1.50            15.247192\n",
       "1  1002    1.50            10.940945\n",
       "2  1005    2.25            13.025238\n",
       "3  1007    1.80            13.791365\n",
       "4  1010    1.00            10.777778"
      ]
     },
     "execution_count": 33,
     "metadata": {},
     "output_type": "execute_result"
    }
   ],
   "source": [
    "PS_df.head()"
   ]
  },
  {
   "cell_type": "code",
   "execution_count": 34,
   "metadata": {},
   "outputs": [
    {
     "data": {
      "text/plain": [
       "(1829, 47)"
      ]
     },
     "execution_count": 34,
     "metadata": {},
     "output_type": "execute_result"
    }
   ],
   "source": [
    "##########################\n",
    "## Target -- Cleaning EA #\n",
    "##########################\n",
    "TGT_df.shape"
   ]
  },
  {
   "cell_type": "code",
   "execution_count": 35,
   "metadata": {},
   "outputs": [
    {
     "name": "stdout",
     "output_type": "stream",
     "text": [
      "<class 'pandas.core.frame.DataFrame'>\n",
      "RangeIndex: 1829 entries, 0 to 1828\n",
      "Data columns (total 47 columns):\n",
      " #   Column                               Non-Null Count  Dtype  \n",
      "---  ------                               --------------  -----  \n",
      " 0   X.locale                             1829 non-null   object \n",
      " 1   Address.AddressLine1                 1829 non-null   object \n",
      " 2   Address.AddressLine2                 58 non-null     object \n",
      " 3   Address.City                         1829 non-null   object \n",
      " 4   Address.CountryName                  1829 non-null   object \n",
      " 5   Address.County                       1828 non-null   object \n",
      " 6   Address.FormattedAddress             1829 non-null   object \n",
      " 7   Address.IntersectionDescription      1828 non-null   object \n",
      " 8   Address.Latitude                     1829 non-null   float64\n",
      " 9   Address.Longitude                    1829 non-null   float64\n",
      " 10  Address.PostalCode                   1829 non-null   object \n",
      " 11  Address.Subdivision                  1829 non-null   object \n",
      " 12  AlternateIdentifier.ID               1829 non-null   object \n",
      " 13  ID                                   1829 non-null   int64  \n",
      " 14  IsDaylightSavingsTimeRecognized      1829 non-null   bool   \n",
      " 15  LocationMilestones.LastRemodelDate   1434 non-null   object \n",
      " 16  LocationMilestones.OpenDate          1829 non-null   object \n",
      " 17  Market                               1738 non-null   object \n",
      " 18  Name                                 1829 non-null   object \n",
      " 19  OperatingHours..timeFormat           1829 non-null   object \n",
      " 20  Store.StoreDistrictID                1829 non-null   int64  \n",
      " 21  Store.StoreGroupID                   1829 non-null   int64  \n",
      " 22  Store.StoreRegionID                  1829 non-null   int64  \n",
      " 23  SubTypeDescription                   307 non-null    object \n",
      " 24  TimeZone.TimeZoneCode                1829 non-null   object \n",
      " 25  TimeZone.TimeZoneDescription         1829 non-null   object \n",
      " 26  TimeZone.TimeZoneOffset.OffsetCode   1829 non-null   object \n",
      " 27  TimeZone.TimeZoneOffset.OffsetHours  1829 non-null   int64  \n",
      " 28  TypeCode                             1829 non-null   object \n",
      " 29  PhoneNumber                          1829 non-null   object \n",
      " 30  FaxNumber                            1795 non-null   object \n",
      " 31  BeginTime.MF                         1829 non-null   object \n",
      " 32  Is24Hours.MF                         1829 non-null   bool   \n",
      " 33  IsOpen.MF                            1829 non-null   bool   \n",
      " 34  Summary.MF                           1829 non-null   object \n",
      " 35  ThruTime.MF                          1829 non-null   object \n",
      " 36  BeginTime.Sat                        1829 non-null   object \n",
      " 37  Is24Hours.Sat                        1829 non-null   bool   \n",
      " 38  IsOpen.Sat                           1829 non-null   bool   \n",
      " 39  Summary.Sat                          1829 non-null   object \n",
      " 40  ThruTime.Sat                         1829 non-null   object \n",
      " 41  BeginTime.Sun                        1824 non-null   object \n",
      " 42  Is24Hours.Sun                        1824 non-null   object \n",
      " 43  IsOpen.Sun                           1824 non-null   object \n",
      " 44  Summary.Sun                          1824 non-null   object \n",
      " 45  ThruTime.Sun                         1824 non-null   object \n",
      " 46  AllCapability                        1817 non-null   object \n",
      "dtypes: bool(5), float64(2), int64(5), object(35)\n",
      "memory usage: 609.2+ KB\n"
     ]
    }
   ],
   "source": [
    "TGT_df.info()"
   ]
  },
  {
   "cell_type": "code",
   "execution_count": 36,
   "metadata": {},
   "outputs": [],
   "source": [
    "#Select desired variables\n",
    "TGT_df = TGT_df[['Address.FormattedAddress','Address.AddressLine1','Address.City','Address.CountryName','Address.Latitude','Address.Longitude','Address.County','Address.PostalCode','Address.Subdivision']]"
   ]
  },
  {
   "cell_type": "code",
   "execution_count": 37,
   "metadata": {},
   "outputs": [
    {
     "name": "stdout",
     "output_type": "stream",
     "text": [
      "<class 'pandas.core.frame.DataFrame'>\n",
      "RangeIndex: 1829 entries, 0 to 1828\n",
      "Data columns (total 9 columns):\n",
      " #   Column                    Non-Null Count  Dtype  \n",
      "---  ------                    --------------  -----  \n",
      " 0   Address.FormattedAddress  1829 non-null   object \n",
      " 1   Address.AddressLine1      1829 non-null   object \n",
      " 2   Address.City              1829 non-null   object \n",
      " 3   Address.CountryName       1829 non-null   object \n",
      " 4   Address.Latitude          1829 non-null   float64\n",
      " 5   Address.Longitude         1829 non-null   float64\n",
      " 6   Address.County            1828 non-null   object \n",
      " 7   Address.PostalCode        1829 non-null   object \n",
      " 8   Address.Subdivision       1829 non-null   object \n",
      "dtypes: float64(2), object(7)\n",
      "memory usage: 128.7+ KB\n"
     ]
    }
   ],
   "source": [
    "#Analize variable information\n",
    "TGT_df.info()"
   ]
  },
  {
   "cell_type": "code",
   "execution_count": 38,
   "metadata": {},
   "outputs": [
    {
     "name": "stdout",
     "output_type": "stream",
     "text": [
      "Address.FormattedAddress    0\n",
      "Address.AddressLine1        0\n",
      "Address.City                0\n",
      "Address.CountryName         0\n",
      "Address.Latitude            0\n",
      "Address.Longitude           0\n",
      "Address.County              1\n",
      "Address.PostalCode          0\n",
      "Address.Subdivision         0\n",
      "dtype: int64\n"
     ]
    }
   ],
   "source": [
    "# Count the number of nan values in each column\n",
    "print(TGT_df.isnull().sum())"
   ]
  },
  {
   "cell_type": "code",
   "execution_count": 39,
   "metadata": {},
   "outputs": [],
   "source": [
    "#Change variable names\n",
    "TGT_df = TGT_df.rename(columns={\"Address.FormattedAddress\": \"FormattedAddress\", \n",
    "                   \"Address.AddressLine1\": \"AddressLine1\",\n",
    "                   \"Address.City\": \"City\",\n",
    "                   \"Address.CountryName\": \"CountryName\",\n",
    "                   \"Address.Latitude\": \"Latitude\",\n",
    "                   \"Address.Longitude\": \"Longitude\",\n",
    "                   \"Address.County\": \"County\",\n",
    "                   \"Address.PostalCode\": \"PostalCode\",\n",
    "                   \"Address.Subdivision\": \"Subdivision\",\n",
    "                  })"
   ]
  },
  {
   "cell_type": "code",
   "execution_count": 40,
   "metadata": {},
   "outputs": [],
   "source": [
    "#Drop missing values in column County variable\n",
    "TGT_df = TGT_df[TGT_df.County.notnull()]"
   ]
  },
  {
   "cell_type": "code",
   "execution_count": 41,
   "metadata": {},
   "outputs": [
    {
     "data": {
      "text/html": [
       "<div>\n",
       "<style scoped>\n",
       "    .dataframe tbody tr th:only-of-type {\n",
       "        vertical-align: middle;\n",
       "    }\n",
       "\n",
       "    .dataframe tbody tr th {\n",
       "        vertical-align: top;\n",
       "    }\n",
       "\n",
       "    .dataframe thead th {\n",
       "        text-align: right;\n",
       "    }\n",
       "</style>\n",
       "<table border=\"1\" class=\"dataframe\">\n",
       "  <thead>\n",
       "    <tr style=\"text-align: right;\">\n",
       "      <th></th>\n",
       "      <th>FormattedAddress</th>\n",
       "      <th>AddressLine1</th>\n",
       "      <th>City</th>\n",
       "      <th>CountryName</th>\n",
       "      <th>Latitude</th>\n",
       "      <th>Longitude</th>\n",
       "      <th>County</th>\n",
       "      <th>PostalCode</th>\n",
       "      <th>Subdivision</th>\n",
       "    </tr>\n",
       "  </thead>\n",
       "  <tbody>\n",
       "    <tr>\n",
       "      <th>0</th>\n",
       "      <td>400 Oxford Exchange Blvd, Oxford, AL 36203-3459</td>\n",
       "      <td>400 Oxford Exchange Blvd</td>\n",
       "      <td>Oxford</td>\n",
       "      <td>United States</td>\n",
       "      <td>33.608825</td>\n",
       "      <td>-85.783182</td>\n",
       "      <td>Calhoun</td>\n",
       "      <td>36203-3459</td>\n",
       "      <td>AL</td>\n",
       "    </tr>\n",
       "    <tr>\n",
       "      <th>1</th>\n",
       "      <td>2640 Enterprise Dr, Opelika, AL 36801-1511</td>\n",
       "      <td>2640 Enterprise Dr</td>\n",
       "      <td>Opelika</td>\n",
       "      <td>United States</td>\n",
       "      <td>32.618108</td>\n",
       "      <td>-85.410636</td>\n",
       "      <td>Lee</td>\n",
       "      <td>36801-1511</td>\n",
       "      <td>AL</td>\n",
       "    </tr>\n",
       "    <tr>\n",
       "      <th>2</th>\n",
       "      <td>1129 S Park St, Carrollton, GA 30117-4429</td>\n",
       "      <td>1129 S Park St</td>\n",
       "      <td>Carrollton</td>\n",
       "      <td>United States</td>\n",
       "      <td>33.558920</td>\n",
       "      <td>-85.076473</td>\n",
       "      <td>Carroll</td>\n",
       "      <td>30117-4429</td>\n",
       "      <td>GA</td>\n",
       "    </tr>\n",
       "    <tr>\n",
       "      <th>3</th>\n",
       "      <td>555 Bullsboro Dr, Newnan, GA 30265-1045</td>\n",
       "      <td>555 Bullsboro Dr</td>\n",
       "      <td>Newnan</td>\n",
       "      <td>United States</td>\n",
       "      <td>33.392907</td>\n",
       "      <td>-84.758875</td>\n",
       "      <td>Coweta</td>\n",
       "      <td>30265-1045</td>\n",
       "      <td>GA</td>\n",
       "    </tr>\n",
       "    <tr>\n",
       "      <th>4</th>\n",
       "      <td>1591 Bradley Park Dr, Columbus, GA 31904-3071</td>\n",
       "      <td>1591 Bradley Park Dr</td>\n",
       "      <td>Columbus</td>\n",
       "      <td>United States</td>\n",
       "      <td>32.534649</td>\n",
       "      <td>-84.971073</td>\n",
       "      <td>Muscogee</td>\n",
       "      <td>31904-3071</td>\n",
       "      <td>GA</td>\n",
       "    </tr>\n",
       "  </tbody>\n",
       "</table>\n",
       "</div>"
      ],
      "text/plain": [
       "                                  FormattedAddress              AddressLine1        City    CountryName   Latitude  Longitude    County  PostalCode Subdivision\n",
       "0  400 Oxford Exchange Blvd, Oxford, AL 36203-3459  400 Oxford Exchange Blvd      Oxford  United States  33.608825 -85.783182   Calhoun  36203-3459          AL\n",
       "1       2640 Enterprise Dr, Opelika, AL 36801-1511        2640 Enterprise Dr     Opelika  United States  32.618108 -85.410636       Lee  36801-1511          AL\n",
       "2        1129 S Park St, Carrollton, GA 30117-4429            1129 S Park St  Carrollton  United States  33.558920 -85.076473   Carroll  30117-4429          GA\n",
       "3          555 Bullsboro Dr, Newnan, GA 30265-1045          555 Bullsboro Dr      Newnan  United States  33.392907 -84.758875    Coweta  30265-1045          GA\n",
       "4    1591 Bradley Park Dr, Columbus, GA 31904-3071      1591 Bradley Park Dr    Columbus  United States  32.534649 -84.971073  Muscogee  31904-3071          GA"
      ]
     },
     "execution_count": 41,
     "metadata": {},
     "output_type": "execute_result"
    }
   ],
   "source": [
    "TGT_df.head()"
   ]
  },
  {
   "cell_type": "code",
   "execution_count": 42,
   "metadata": {},
   "outputs": [
    {
     "name": "stdout",
     "output_type": "stream",
     "text": [
      "FormattedAddress    0\n",
      "AddressLine1        0\n",
      "City                0\n",
      "CountryName         0\n",
      "Latitude            0\n",
      "Longitude           0\n",
      "County              0\n",
      "PostalCode          0\n",
      "Subdivision         0\n",
      "dtype: int64\n"
     ]
    }
   ],
   "source": [
    "# Count the number of nan values in each column\n",
    "print(TGT_df.isnull().sum())"
   ]
  },
  {
   "cell_type": "code",
   "execution_count": 43,
   "metadata": {
    "scrolled": true
   },
   "outputs": [
    {
     "data": {
      "text/html": [
       "<div>\n",
       "<style scoped>\n",
       "    .dataframe tbody tr th:only-of-type {\n",
       "        vertical-align: middle;\n",
       "    }\n",
       "\n",
       "    .dataframe tbody tr th {\n",
       "        vertical-align: top;\n",
       "    }\n",
       "\n",
       "    .dataframe thead th {\n",
       "        text-align: right;\n",
       "    }\n",
       "</style>\n",
       "<table border=\"1\" class=\"dataframe\">\n",
       "  <thead>\n",
       "    <tr style=\"text-align: right;\">\n",
       "      <th></th>\n",
       "      <th>FormattedAddress</th>\n",
       "      <th>AddressLine1</th>\n",
       "      <th>City</th>\n",
       "      <th>CountryName</th>\n",
       "      <th>Latitude</th>\n",
       "      <th>Longitude</th>\n",
       "      <th>County</th>\n",
       "      <th>PostalCode</th>\n",
       "      <th>Subdivision</th>\n",
       "    </tr>\n",
       "  </thead>\n",
       "  <tbody>\n",
       "    <tr>\n",
       "      <th>0</th>\n",
       "      <td>400 Oxford Exchange Blvd, Oxford, AL 36203-3459</td>\n",
       "      <td>400 Oxford Exchange Blvd</td>\n",
       "      <td>Oxford</td>\n",
       "      <td>United States</td>\n",
       "      <td>33.608825</td>\n",
       "      <td>-85.783182</td>\n",
       "      <td>Calhoun</td>\n",
       "      <td>36203-3459</td>\n",
       "      <td>AL</td>\n",
       "    </tr>\n",
       "    <tr>\n",
       "      <th>1</th>\n",
       "      <td>2640 Enterprise Dr, Opelika, AL 36801-1511</td>\n",
       "      <td>2640 Enterprise Dr</td>\n",
       "      <td>Opelika</td>\n",
       "      <td>United States</td>\n",
       "      <td>32.618108</td>\n",
       "      <td>-85.410636</td>\n",
       "      <td>Lee</td>\n",
       "      <td>36801-1511</td>\n",
       "      <td>AL</td>\n",
       "    </tr>\n",
       "    <tr>\n",
       "      <th>2</th>\n",
       "      <td>1129 S Park St, Carrollton, GA 30117-4429</td>\n",
       "      <td>1129 S Park St</td>\n",
       "      <td>Carrollton</td>\n",
       "      <td>United States</td>\n",
       "      <td>33.558920</td>\n",
       "      <td>-85.076473</td>\n",
       "      <td>Carroll</td>\n",
       "      <td>30117-4429</td>\n",
       "      <td>GA</td>\n",
       "    </tr>\n",
       "    <tr>\n",
       "      <th>3</th>\n",
       "      <td>555 Bullsboro Dr, Newnan, GA 30265-1045</td>\n",
       "      <td>555 Bullsboro Dr</td>\n",
       "      <td>Newnan</td>\n",
       "      <td>United States</td>\n",
       "      <td>33.392907</td>\n",
       "      <td>-84.758875</td>\n",
       "      <td>Coweta</td>\n",
       "      <td>30265-1045</td>\n",
       "      <td>GA</td>\n",
       "    </tr>\n",
       "    <tr>\n",
       "      <th>4</th>\n",
       "      <td>1591 Bradley Park Dr, Columbus, GA 31904-3071</td>\n",
       "      <td>1591 Bradley Park Dr</td>\n",
       "      <td>Columbus</td>\n",
       "      <td>United States</td>\n",
       "      <td>32.534649</td>\n",
       "      <td>-84.971073</td>\n",
       "      <td>Muscogee</td>\n",
       "      <td>31904-3071</td>\n",
       "      <td>GA</td>\n",
       "    </tr>\n",
       "  </tbody>\n",
       "</table>\n",
       "</div>"
      ],
      "text/plain": [
       "                                  FormattedAddress              AddressLine1        City    CountryName   Latitude  Longitude    County  PostalCode Subdivision\n",
       "0  400 Oxford Exchange Blvd, Oxford, AL 36203-3459  400 Oxford Exchange Blvd      Oxford  United States  33.608825 -85.783182   Calhoun  36203-3459          AL\n",
       "1       2640 Enterprise Dr, Opelika, AL 36801-1511        2640 Enterprise Dr     Opelika  United States  32.618108 -85.410636       Lee  36801-1511          AL\n",
       "2        1129 S Park St, Carrollton, GA 30117-4429            1129 S Park St  Carrollton  United States  33.558920 -85.076473   Carroll  30117-4429          GA\n",
       "3          555 Bullsboro Dr, Newnan, GA 30265-1045          555 Bullsboro Dr      Newnan  United States  33.392907 -84.758875    Coweta  30265-1045          GA\n",
       "4    1591 Bradley Park Dr, Columbus, GA 31904-3071      1591 Bradley Park Dr    Columbus  United States  32.534649 -84.971073  Muscogee  31904-3071          GA"
      ]
     },
     "execution_count": 43,
     "metadata": {},
     "output_type": "execute_result"
    }
   ],
   "source": [
    "TGT_df.head()"
   ]
  },
  {
   "cell_type": "code",
   "execution_count": 44,
   "metadata": {},
   "outputs": [],
   "source": [
    "#Add column that identifies Target at specified address (will groupby zipcode and count the number of targets by zipcode)\n",
    "TGT_df['Target_count'] = 1\n",
    "TGT_df = TGT_df.groupby('PostalCode', as_index=False)['Target_count'].count()"
   ]
  },
  {
   "cell_type": "code",
   "execution_count": 45,
   "metadata": {},
   "outputs": [],
   "source": [
    "#Pull shortened zipcode for Target data\n",
    "TGT_df['PostalCode'] = [x[:5] for x in TGT_df['PostalCode']]"
   ]
  },
  {
   "cell_type": "code",
   "execution_count": 46,
   "metadata": {},
   "outputs": [],
   "source": [
    "#Convert values to integers\n",
    "TGT_df['PostalCode'] = TGT_df.PostalCode.astype(int)"
   ]
  },
  {
   "cell_type": "code",
   "execution_count": 47,
   "metadata": {},
   "outputs": [
    {
     "name": "stdout",
     "output_type": "stream",
     "text": [
      "<class 'pandas.core.frame.DataFrame'>\n",
      "Int64Index: 1828 entries, 0 to 1827\n",
      "Data columns (total 2 columns):\n",
      " #   Column        Non-Null Count  Dtype\n",
      "---  ------        --------------  -----\n",
      " 0   PostalCode    1828 non-null   int32\n",
      " 1   Target_count  1828 non-null   int64\n",
      "dtypes: int32(1), int64(1)\n",
      "memory usage: 35.7 KB\n"
     ]
    }
   ],
   "source": [
    "TGT_df.info()"
   ]
  },
  {
   "cell_type": "code",
   "execution_count": 48,
   "metadata": {},
   "outputs": [
    {
     "data": {
      "text/plain": [
       "(1828, 2)"
      ]
     },
     "execution_count": 48,
     "metadata": {},
     "output_type": "execute_result"
    }
   ],
   "source": [
    "TGT_df.shape"
   ]
  },
  {
   "cell_type": "code",
   "execution_count": 49,
   "metadata": {},
   "outputs": [
    {
     "data": {
      "text/plain": [
       "(25600, 13)"
      ]
     },
     "execution_count": 49,
     "metadata": {},
     "output_type": "execute_result"
    }
   ],
   "source": [
    "#############################\n",
    "## Starbucks -- Cleaning EA #\n",
    "#############################\n",
    "SBUX_df.shape"
   ]
  },
  {
   "cell_type": "code",
   "execution_count": 50,
   "metadata": {},
   "outputs": [
    {
     "name": "stdout",
     "output_type": "stream",
     "text": [
      "<class 'pandas.core.frame.DataFrame'>\n",
      "RangeIndex: 25600 entries, 0 to 25599\n",
      "Data columns (total 13 columns):\n",
      " #   Column          Non-Null Count  Dtype  \n",
      "---  ------          --------------  -----  \n",
      " 0   Brand           25600 non-null  object \n",
      " 1   Store Number    25600 non-null  object \n",
      " 2   Store Name      25600 non-null  object \n",
      " 3   Ownership Type  25600 non-null  object \n",
      " 4   Street Address  25598 non-null  object \n",
      " 5   City            25585 non-null  object \n",
      " 6   State/Province  25600 non-null  object \n",
      " 7   Country         25600 non-null  object \n",
      " 8   Postcode        24078 non-null  object \n",
      " 9   Phone Number    18739 non-null  object \n",
      " 10  Timezone        25600 non-null  object \n",
      " 11  Longitude       25599 non-null  float64\n",
      " 12  Latitude        25599 non-null  float64\n",
      "dtypes: float64(2), object(11)\n",
      "memory usage: 2.5+ MB\n"
     ]
    }
   ],
   "source": [
    "SBUX_df.info()"
   ]
  },
  {
   "cell_type": "code",
   "execution_count": 51,
   "metadata": {},
   "outputs": [
    {
     "name": "stdout",
     "output_type": "stream",
     "text": [
      "Brand\n",
      "Coffee House Holdings        1\n",
      "Evolution Fresh              2\n",
      "Starbucks                25249\n",
      "Teavana                    348\n",
      "Name: Brand, dtype: int64\n"
     ]
    }
   ],
   "source": [
    "A_1 = SBUX_df['Brand']\n",
    "print(A_1.groupby(A_1).count())"
   ]
  },
  {
   "cell_type": "code",
   "execution_count": 52,
   "metadata": {},
   "outputs": [
    {
     "name": "stdout",
     "output_type": "stream",
     "text": [
      "Country\n",
      "AD        1\n",
      "AE      144\n",
      "AR      108\n",
      "AT       18\n",
      "AU       22\n",
      "      ...  \n",
      "TT        3\n",
      "TW      394\n",
      "US    13608\n",
      "VN       25\n",
      "ZA        3\n",
      "Name: Country, Length: 73, dtype: int64\n"
     ]
    }
   ],
   "source": [
    "A_2 = SBUX_df['Country']\n",
    "print(A_2.groupby(A_2).count())"
   ]
  },
  {
   "cell_type": "code",
   "execution_count": 53,
   "metadata": {},
   "outputs": [],
   "source": [
    "SBUX_df = SBUX_df[SBUX_df[\"Brand\"] == 'Starbucks']"
   ]
  },
  {
   "cell_type": "code",
   "execution_count": 54,
   "metadata": {},
   "outputs": [],
   "source": [
    "SBUX_df = SBUX_df[SBUX_df[\"Country\"] == 'US']"
   ]
  },
  {
   "cell_type": "code",
   "execution_count": 55,
   "metadata": {},
   "outputs": [],
   "source": [
    "#Select desired variables\n",
    "SBUX_df = SBUX_df[['Brand','Street Address','City','State/Province','Country','Postcode','Longitude','Latitude']]"
   ]
  },
  {
   "cell_type": "code",
   "execution_count": 56,
   "metadata": {},
   "outputs": [
    {
     "data": {
      "text/html": [
       "<div>\n",
       "<style scoped>\n",
       "    .dataframe tbody tr th:only-of-type {\n",
       "        vertical-align: middle;\n",
       "    }\n",
       "\n",
       "    .dataframe tbody tr th {\n",
       "        vertical-align: top;\n",
       "    }\n",
       "\n",
       "    .dataframe thead th {\n",
       "        text-align: right;\n",
       "    }\n",
       "</style>\n",
       "<table border=\"1\" class=\"dataframe\">\n",
       "  <thead>\n",
       "    <tr style=\"text-align: right;\">\n",
       "      <th></th>\n",
       "      <th>Brand</th>\n",
       "      <th>Street Address</th>\n",
       "      <th>City</th>\n",
       "      <th>State/Province</th>\n",
       "      <th>Country</th>\n",
       "      <th>Postcode</th>\n",
       "      <th>Longitude</th>\n",
       "      <th>Latitude</th>\n",
       "    </tr>\n",
       "  </thead>\n",
       "  <tbody>\n",
       "    <tr>\n",
       "      <th>11964</th>\n",
       "      <td>Starbucks</td>\n",
       "      <td>5600 Debarr Rd Ste 9</td>\n",
       "      <td>Anchorage</td>\n",
       "      <td>AK</td>\n",
       "      <td>US</td>\n",
       "      <td>995042300</td>\n",
       "      <td>-149.78</td>\n",
       "      <td>61.21</td>\n",
       "    </tr>\n",
       "    <tr>\n",
       "      <th>11965</th>\n",
       "      <td>Starbucks</td>\n",
       "      <td>1725 Abbott Rd</td>\n",
       "      <td>Anchorage</td>\n",
       "      <td>AK</td>\n",
       "      <td>US</td>\n",
       "      <td>995073444</td>\n",
       "      <td>-149.84</td>\n",
       "      <td>61.14</td>\n",
       "    </tr>\n",
       "    <tr>\n",
       "      <th>11966</th>\n",
       "      <td>Starbucks</td>\n",
       "      <td>1501 Huffman Rd</td>\n",
       "      <td>Anchorage</td>\n",
       "      <td>AK</td>\n",
       "      <td>US</td>\n",
       "      <td>995153596</td>\n",
       "      <td>-149.85</td>\n",
       "      <td>61.11</td>\n",
       "    </tr>\n",
       "    <tr>\n",
       "      <th>11967</th>\n",
       "      <td>Starbucks</td>\n",
       "      <td>320 W. 100th Ave, 100, Southgate Shopping Ctr ...</td>\n",
       "      <td>Anchorage</td>\n",
       "      <td>AK</td>\n",
       "      <td>US</td>\n",
       "      <td>99515</td>\n",
       "      <td>-149.89</td>\n",
       "      <td>61.13</td>\n",
       "    </tr>\n",
       "    <tr>\n",
       "      <th>11968</th>\n",
       "      <td>Starbucks</td>\n",
       "      <td>1005 E Dimond Blvd</td>\n",
       "      <td>Anchorage</td>\n",
       "      <td>AK</td>\n",
       "      <td>US</td>\n",
       "      <td>995152050</td>\n",
       "      <td>-149.86</td>\n",
       "      <td>61.14</td>\n",
       "    </tr>\n",
       "  </tbody>\n",
       "</table>\n",
       "</div>"
      ],
      "text/plain": [
       "           Brand                                     Street Address       City State/Province Country   Postcode  Longitude  Latitude\n",
       "11964  Starbucks                               5600 Debarr Rd Ste 9  Anchorage             AK      US  995042300    -149.78     61.21\n",
       "11965  Starbucks                                     1725 Abbott Rd  Anchorage             AK      US  995073444    -149.84     61.14\n",
       "11966  Starbucks                                    1501 Huffman Rd  Anchorage             AK      US  995153596    -149.85     61.11\n",
       "11967  Starbucks  320 W. 100th Ave, 100, Southgate Shopping Ctr ...  Anchorage             AK      US      99515    -149.89     61.13\n",
       "11968  Starbucks                                 1005 E Dimond Blvd  Anchorage             AK      US  995152050    -149.86     61.14"
      ]
     },
     "execution_count": 56,
     "metadata": {},
     "output_type": "execute_result"
    }
   ],
   "source": [
    "SBUX_df.head()"
   ]
  },
  {
   "cell_type": "code",
   "execution_count": 57,
   "metadata": {},
   "outputs": [
    {
     "name": "stdout",
     "output_type": "stream",
     "text": [
      "Brand             0\n",
      "Street Address    0\n",
      "City              0\n",
      "State/Province    0\n",
      "Country           0\n",
      "Postcode          1\n",
      "Longitude         0\n",
      "Latitude          0\n",
      "dtype: int64\n"
     ]
    }
   ],
   "source": [
    "# Count the number of nan values in each column\n",
    "print(SBUX_df.isnull().sum())"
   ]
  },
  {
   "cell_type": "code",
   "execution_count": 58,
   "metadata": {},
   "outputs": [],
   "source": [
    "#Drop missing values in column County variable\n",
    "SBUX_df = SBUX_df[SBUX_df.Postcode .notnull()]"
   ]
  },
  {
   "cell_type": "code",
   "execution_count": 59,
   "metadata": {},
   "outputs": [
    {
     "name": "stdout",
     "output_type": "stream",
     "text": [
      "Brand             0\n",
      "Street Address    0\n",
      "City              0\n",
      "State/Province    0\n",
      "Country           0\n",
      "Postcode          0\n",
      "Longitude         0\n",
      "Latitude          0\n",
      "dtype: int64\n"
     ]
    }
   ],
   "source": [
    "# Count the number of nan values in each column\n",
    "print(SBUX_df.isnull().sum())"
   ]
  },
  {
   "cell_type": "code",
   "execution_count": 60,
   "metadata": {},
   "outputs": [
    {
     "name": "stdout",
     "output_type": "stream",
     "text": [
      "<class 'pandas.core.frame.DataFrame'>\n",
      "Int64Index: 13310 entries, 11964 to 25571\n",
      "Data columns (total 8 columns):\n",
      " #   Column          Non-Null Count  Dtype  \n",
      "---  ------          --------------  -----  \n",
      " 0   Brand           13310 non-null  object \n",
      " 1   Street Address  13310 non-null  object \n",
      " 2   City            13310 non-null  object \n",
      " 3   State/Province  13310 non-null  object \n",
      " 4   Country         13310 non-null  object \n",
      " 5   Postcode        13310 non-null  object \n",
      " 6   Longitude       13310 non-null  float64\n",
      " 7   Latitude        13310 non-null  float64\n",
      "dtypes: float64(2), object(6)\n",
      "memory usage: 935.9+ KB\n"
     ]
    }
   ],
   "source": [
    "SBUX_df.info()"
   ]
  },
  {
   "cell_type": "code",
   "execution_count": 61,
   "metadata": {},
   "outputs": [],
   "source": [
    "#Add column that identifies Starbucks at specified address (will groupby zipcode and count the number of targets by zipcode)\n",
    "SBUX_df['Starbucks_count'] = 1"
   ]
  },
  {
   "cell_type": "code",
   "execution_count": 62,
   "metadata": {},
   "outputs": [
    {
     "data": {
      "text/html": [
       "<div>\n",
       "<style scoped>\n",
       "    .dataframe tbody tr th:only-of-type {\n",
       "        vertical-align: middle;\n",
       "    }\n",
       "\n",
       "    .dataframe tbody tr th {\n",
       "        vertical-align: top;\n",
       "    }\n",
       "\n",
       "    .dataframe thead th {\n",
       "        text-align: right;\n",
       "    }\n",
       "</style>\n",
       "<table border=\"1\" class=\"dataframe\">\n",
       "  <thead>\n",
       "    <tr style=\"text-align: right;\">\n",
       "      <th></th>\n",
       "      <th>Brand</th>\n",
       "      <th>Street Address</th>\n",
       "      <th>City</th>\n",
       "      <th>State/Province</th>\n",
       "      <th>Country</th>\n",
       "      <th>Postcode</th>\n",
       "      <th>Longitude</th>\n",
       "      <th>Latitude</th>\n",
       "      <th>Starbucks_count</th>\n",
       "    </tr>\n",
       "  </thead>\n",
       "  <tbody>\n",
       "    <tr>\n",
       "      <th>11964</th>\n",
       "      <td>Starbucks</td>\n",
       "      <td>5600 Debarr Rd Ste 9</td>\n",
       "      <td>Anchorage</td>\n",
       "      <td>AK</td>\n",
       "      <td>US</td>\n",
       "      <td>995042300</td>\n",
       "      <td>-149.78</td>\n",
       "      <td>61.21</td>\n",
       "      <td>1</td>\n",
       "    </tr>\n",
       "    <tr>\n",
       "      <th>11965</th>\n",
       "      <td>Starbucks</td>\n",
       "      <td>1725 Abbott Rd</td>\n",
       "      <td>Anchorage</td>\n",
       "      <td>AK</td>\n",
       "      <td>US</td>\n",
       "      <td>995073444</td>\n",
       "      <td>-149.84</td>\n",
       "      <td>61.14</td>\n",
       "      <td>1</td>\n",
       "    </tr>\n",
       "    <tr>\n",
       "      <th>11966</th>\n",
       "      <td>Starbucks</td>\n",
       "      <td>1501 Huffman Rd</td>\n",
       "      <td>Anchorage</td>\n",
       "      <td>AK</td>\n",
       "      <td>US</td>\n",
       "      <td>995153596</td>\n",
       "      <td>-149.85</td>\n",
       "      <td>61.11</td>\n",
       "      <td>1</td>\n",
       "    </tr>\n",
       "    <tr>\n",
       "      <th>11967</th>\n",
       "      <td>Starbucks</td>\n",
       "      <td>320 W. 100th Ave, 100, Southgate Shopping Ctr ...</td>\n",
       "      <td>Anchorage</td>\n",
       "      <td>AK</td>\n",
       "      <td>US</td>\n",
       "      <td>99515</td>\n",
       "      <td>-149.89</td>\n",
       "      <td>61.13</td>\n",
       "      <td>1</td>\n",
       "    </tr>\n",
       "    <tr>\n",
       "      <th>11968</th>\n",
       "      <td>Starbucks</td>\n",
       "      <td>1005 E Dimond Blvd</td>\n",
       "      <td>Anchorage</td>\n",
       "      <td>AK</td>\n",
       "      <td>US</td>\n",
       "      <td>995152050</td>\n",
       "      <td>-149.86</td>\n",
       "      <td>61.14</td>\n",
       "      <td>1</td>\n",
       "    </tr>\n",
       "  </tbody>\n",
       "</table>\n",
       "</div>"
      ],
      "text/plain": [
       "           Brand                                     Street Address       City State/Province Country   Postcode  Longitude  Latitude  Starbucks_count\n",
       "11964  Starbucks                               5600 Debarr Rd Ste 9  Anchorage             AK      US  995042300    -149.78     61.21                1\n",
       "11965  Starbucks                                     1725 Abbott Rd  Anchorage             AK      US  995073444    -149.84     61.14                1\n",
       "11966  Starbucks                                    1501 Huffman Rd  Anchorage             AK      US  995153596    -149.85     61.11                1\n",
       "11967  Starbucks  320 W. 100th Ave, 100, Southgate Shopping Ctr ...  Anchorage             AK      US      99515    -149.89     61.13                1\n",
       "11968  Starbucks                                 1005 E Dimond Blvd  Anchorage             AK      US  995152050    -149.86     61.14                1"
      ]
     },
     "execution_count": 62,
     "metadata": {},
     "output_type": "execute_result"
    }
   ],
   "source": [
    "SBUX_df.head()"
   ]
  },
  {
   "cell_type": "code",
   "execution_count": 63,
   "metadata": {},
   "outputs": [
    {
     "data": {
      "text/plain": [
       "(13310, 9)"
      ]
     },
     "execution_count": 63,
     "metadata": {},
     "output_type": "execute_result"
    }
   ],
   "source": [
    "SBUX_df.shape"
   ]
  },
  {
   "cell_type": "code",
   "execution_count": 64,
   "metadata": {
    "scrolled": true
   },
   "outputs": [
    {
     "data": {
      "text/plain": [
       "Brand                  1\n",
       "Street Address     13194\n",
       "City                3171\n",
       "State/Province        51\n",
       "Country                1\n",
       "Postcode           12008\n",
       "Longitude           3330\n",
       "Latitude            1967\n",
       "Starbucks_count        1\n",
       "dtype: int64"
      ]
     },
     "execution_count": 64,
     "metadata": {},
     "output_type": "execute_result"
    }
   ],
   "source": [
    "SBUX_df.apply(lambda x: len(x.unique()))"
   ]
  },
  {
   "cell_type": "code",
   "execution_count": 65,
   "metadata": {},
   "outputs": [],
   "source": [
    "#Pull shortened zipcode for Starbucks data\n",
    "SBUX_df['Postcode'] = [x[:5] for x in SBUX_df['Postcode']]"
   ]
  },
  {
   "cell_type": "code",
   "execution_count": 66,
   "metadata": {},
   "outputs": [],
   "source": [
    "SBUX_df = SBUX_df.groupby('Postcode', as_index=False)['Starbucks_count'].count()"
   ]
  },
  {
   "cell_type": "code",
   "execution_count": 67,
   "metadata": {},
   "outputs": [],
   "source": [
    "#Convert values to integers\n",
    "SBUX_df['Postcode']= SBUX_df.Postcode.astype(int)"
   ]
  },
  {
   "cell_type": "code",
   "execution_count": 68,
   "metadata": {},
   "outputs": [
    {
     "name": "stdout",
     "output_type": "stream",
     "text": [
      "<class 'pandas.core.frame.DataFrame'>\n",
      "Int64Index: 5983 entries, 0 to 5982\n",
      "Data columns (total 2 columns):\n",
      " #   Column           Non-Null Count  Dtype\n",
      "---  ------           --------------  -----\n",
      " 0   Postcode         5983 non-null   int32\n",
      " 1   Starbucks_count  5983 non-null   int64\n",
      "dtypes: int32(1), int64(1)\n",
      "memory usage: 116.9 KB\n"
     ]
    }
   ],
   "source": [
    "SBUX_df.info()"
   ]
  },
  {
   "cell_type": "code",
   "execution_count": 69,
   "metadata": {},
   "outputs": [
    {
     "data": {
      "text/plain": [
       "(5983, 2)"
      ]
     },
     "execution_count": 69,
     "metadata": {},
     "output_type": "execute_result"
    }
   ],
   "source": [
    "SBUX_df.shape"
   ]
  },
  {
   "cell_type": "code",
   "execution_count": 70,
   "metadata": {},
   "outputs": [
    {
     "data": {
      "text/html": [
       "<div>\n",
       "<style scoped>\n",
       "    .dataframe tbody tr th:only-of-type {\n",
       "        vertical-align: middle;\n",
       "    }\n",
       "\n",
       "    .dataframe tbody tr th {\n",
       "        vertical-align: top;\n",
       "    }\n",
       "\n",
       "    .dataframe thead th {\n",
       "        text-align: right;\n",
       "    }\n",
       "</style>\n",
       "<table border=\"1\" class=\"dataframe\">\n",
       "  <thead>\n",
       "    <tr style=\"text-align: right;\">\n",
       "      <th></th>\n",
       "      <th>Postcode</th>\n",
       "      <th>Starbucks_count</th>\n",
       "    </tr>\n",
       "  </thead>\n",
       "  <tbody>\n",
       "    <tr>\n",
       "      <th>0</th>\n",
       "      <td>10001</td>\n",
       "      <td>15</td>\n",
       "    </tr>\n",
       "    <tr>\n",
       "      <th>1</th>\n",
       "      <td>10002</td>\n",
       "      <td>1</td>\n",
       "    </tr>\n",
       "    <tr>\n",
       "      <th>2</th>\n",
       "      <td>10003</td>\n",
       "      <td>10</td>\n",
       "    </tr>\n",
       "    <tr>\n",
       "      <th>3</th>\n",
       "      <td>10004</td>\n",
       "      <td>6</td>\n",
       "    </tr>\n",
       "    <tr>\n",
       "      <th>4</th>\n",
       "      <td>10005</td>\n",
       "      <td>6</td>\n",
       "    </tr>\n",
       "  </tbody>\n",
       "</table>\n",
       "</div>"
      ],
      "text/plain": [
       "   Postcode  Starbucks_count\n",
       "0     10001               15\n",
       "1     10002                1\n",
       "2     10003               10\n",
       "3     10004                6\n",
       "4     10005                6"
      ]
     },
     "execution_count": 70,
     "metadata": {},
     "output_type": "execute_result"
    }
   ],
   "source": [
    "SBUX_df.head()"
   ]
  },
  {
   "cell_type": "code",
   "execution_count": 71,
   "metadata": {},
   "outputs": [
    {
     "data": {
      "text/html": [
       "<div>\n",
       "<style scoped>\n",
       "    .dataframe tbody tr th:only-of-type {\n",
       "        vertical-align: middle;\n",
       "    }\n",
       "\n",
       "    .dataframe tbody tr th {\n",
       "        vertical-align: top;\n",
       "    }\n",
       "\n",
       "    .dataframe thead th {\n",
       "        text-align: right;\n",
       "    }\n",
       "</style>\n",
       "<table border=\"1\" class=\"dataframe\">\n",
       "  <thead>\n",
       "    <tr style=\"text-align: right;\">\n",
       "      <th></th>\n",
       "      <th>RegionName</th>\n",
       "      <th>InventorySeasonallyAdjusted_AllHomes</th>\n",
       "      <th>InventoryRaw_AllHomes</th>\n",
       "      <th>MedianListingPricePerSqft_1Bedroom</th>\n",
       "      <th>MedianListingPricePerSqft_2Bedroom</th>\n",
       "      <th>MedianListingPricePerSqft_3Bedroom</th>\n",
       "      <th>MedianListingPricePerSqft_4Bedroom</th>\n",
       "      <th>MedianListingPricePerSqft_5BedroomOrMore</th>\n",
       "      <th>MedianListingPricePerSqft_AllHomes</th>\n",
       "      <th>MedianListingPricePerSqft_CondoCoop</th>\n",
       "      <th>MedianListingPricePerSqft_DuplexTriplex</th>\n",
       "      <th>MedianListingPricePerSqft_SingleFamilyResidence</th>\n",
       "      <th>MedianListingPrice_1Bedroom</th>\n",
       "      <th>MedianListingPrice_2Bedroom</th>\n",
       "      <th>MedianListingPrice_3Bedroom</th>\n",
       "      <th>MedianListingPrice_4Bedroom</th>\n",
       "      <th>MedianListingPrice_5BedroomOrMore</th>\n",
       "      <th>MedianListingPrice_AllHomes</th>\n",
       "      <th>MedianListingPrice_CondoCoop</th>\n",
       "      <th>MedianListingPrice_DuplexTriplex</th>\n",
       "      <th>MedianListingPrice_SingleFamilyResidence</th>\n",
       "      <th>MedianPctOfPriceReduction_AllHomes</th>\n",
       "      <th>MedianPctOfPriceReduction_CondoCoop</th>\n",
       "      <th>MedianPctOfPriceReduction_SingleFamilyResidence</th>\n",
       "      <th>MedianPriceCutDollar_AllHomes</th>\n",
       "      <th>MedianPriceCutDollar_CondoCoop</th>\n",
       "      <th>MedianPriceCutDollar_SingleFamilyResidence</th>\n",
       "      <th>MedianRentalPricePerSqft_1Bedroom</th>\n",
       "      <th>MedianRentalPricePerSqft_2Bedroom</th>\n",
       "      <th>MedianRentalPricePerSqft_3Bedroom</th>\n",
       "      <th>MedianRentalPricePerSqft_4Bedroom</th>\n",
       "      <th>MedianRentalPricePerSqft_5BedroomOrMore</th>\n",
       "      <th>MedianRentalPricePerSqft_AllHomes</th>\n",
       "      <th>MedianRentalPricePerSqft_CondoCoop</th>\n",
       "      <th>MedianRentalPricePerSqft_DuplexTriplex</th>\n",
       "      <th>MedianRentalPricePerSqft_MultiFamilyResidence5PlusUnits</th>\n",
       "      <th>MedianRentalPricePerSqft_SingleFamilyResidence</th>\n",
       "      <th>MedianRentalPricePerSqft_Studio</th>\n",
       "      <th>MedianRentalPrice_1Bedroom</th>\n",
       "      <th>MedianRentalPrice_2Bedroom</th>\n",
       "      <th>MedianRentalPrice_3Bedroom</th>\n",
       "      <th>MedianRentalPrice_4Bedroom</th>\n",
       "      <th>MedianRentalPrice_5BedroomOrMore</th>\n",
       "      <th>MedianRentalPrice_AllHomes</th>\n",
       "      <th>MedianRentalPrice_CondoCoop</th>\n",
       "      <th>MedianRentalPrice_DuplexTriplex</th>\n",
       "      <th>MedianRentalPrice_MultiFamilyResidence5PlusUnits</th>\n",
       "      <th>MedianRentalPrice_SingleFamilyResidence</th>\n",
       "      <th>MedianRentalPrice_Studio</th>\n",
       "      <th>ZHVIPerSqft_AllHomes</th>\n",
       "      <th>PctOfHomesDecreasingInValues_AllHomes</th>\n",
       "      <th>PctOfHomesIncreasingInValues_AllHomes</th>\n",
       "      <th>PctOfListingsWithPriceReductionsSeasAdj_AllHomes</th>\n",
       "      <th>PctOfListingsWithPriceReductionsSeasAdj_CondoCoop</th>\n",
       "      <th>PctOfListingsWithPriceReductionsSeasAdj_SingleFamilyResidence</th>\n",
       "      <th>PctOfListingsWithPriceReductions_AllHomes</th>\n",
       "      <th>PctOfListingsWithPriceReductions_CondoCoop</th>\n",
       "      <th>PctOfListingsWithPriceReductions_SingleFamilyResidence</th>\n",
       "      <th>PriceToRentRatio_AllHomes</th>\n",
       "      <th>ZHVI_1bedroom</th>\n",
       "      <th>ZHVI_2bedroom</th>\n",
       "      <th>ZHVI_3bedroom</th>\n",
       "      <th>ZHVI_4bedroom</th>\n",
       "      <th>ZHVI_5BedroomOrMore</th>\n",
       "      <th>ZHVI_AllHomes</th>\n",
       "      <th>ZHVI_BottomTier</th>\n",
       "      <th>ZHVI_CondoCoop</th>\n",
       "      <th>ZHVI_MiddleTier</th>\n",
       "      <th>ZHVI_SingleFamilyResidence</th>\n",
       "      <th>ZHVI_TopTier</th>\n",
       "      <th>ZRI_AllHomes</th>\n",
       "      <th>ZRI_AllHomesPlusMultifamily</th>\n",
       "      <th>ZriPerSqft_AllHomes</th>\n",
       "      <th>Zri_MultiFamilyResidenceRental</th>\n",
       "      <th>Zri_SingleFamilyResidenceRental</th>\n",
       "    </tr>\n",
       "  </thead>\n",
       "  <tbody>\n",
       "    <tr>\n",
       "      <th>count</th>\n",
       "      <td>4.383885e+06</td>\n",
       "      <td>1.051104e+06</td>\n",
       "      <td>1.051104e+06</td>\n",
       "      <td>8194.000000</td>\n",
       "      <td>86554.000000</td>\n",
       "      <td>384738.000000</td>\n",
       "      <td>197581.000000</td>\n",
       "      <td>33722.000000</td>\n",
       "      <td>814908.000000</td>\n",
       "      <td>72778.000000</td>\n",
       "      <td>8092.000000</td>\n",
       "      <td>776613.000000</td>\n",
       "      <td>7.753000e+03</td>\n",
       "      <td>6.772400e+04</td>\n",
       "      <td>3.171890e+05</td>\n",
       "      <td>1.616000e+05</td>\n",
       "      <td>2.770300e+04</td>\n",
       "      <td>6.273190e+05</td>\n",
       "      <td>5.564600e+04</td>\n",
       "      <td>1.017100e+04</td>\n",
       "      <td>6.104810e+05</td>\n",
       "      <td>686488.000000</td>\n",
       "      <td>40040.000000</td>\n",
       "      <td>642488.000000</td>\n",
       "      <td>6.864880e+05</td>\n",
       "      <td>40040.000000</td>\n",
       "      <td>6.424880e+05</td>\n",
       "      <td>19600.000000</td>\n",
       "      <td>36378.000000</td>\n",
       "      <td>33054.000000</td>\n",
       "      <td>3814.000000</td>\n",
       "      <td>159.000000</td>\n",
       "      <td>120843.000000</td>\n",
       "      <td>18513.000000</td>\n",
       "      <td>4930.000000</td>\n",
       "      <td>69475.000000</td>\n",
       "      <td>82976.000000</td>\n",
       "      <td>24118.000000</td>\n",
       "      <td>30994.000000</td>\n",
       "      <td>47604.000000</td>\n",
       "      <td>39366.000000</td>\n",
       "      <td>5174.000000</td>\n",
       "      <td>526.000000</td>\n",
       "      <td>114535.000000</td>\n",
       "      <td>21156.000000</td>\n",
       "      <td>14691.000000</td>\n",
       "      <td>89954.000000</td>\n",
       "      <td>80475.000000</td>\n",
       "      <td>27734.000000</td>\n",
       "      <td>3.569675e+06</td>\n",
       "      <td>2.875664e+06</td>\n",
       "      <td>2.875664e+06</td>\n",
       "      <td>895136.000000</td>\n",
       "      <td>74272.000000</td>\n",
       "      <td>844536.000000</td>\n",
       "      <td>895136.000000</td>\n",
       "      <td>74272.000000</td>\n",
       "      <td>844536.000000</td>\n",
       "      <td>1.280862e+06</td>\n",
       "      <td>5.123590e+05</td>\n",
       "      <td>2.333191e+06</td>\n",
       "      <td>3.195020e+06</td>\n",
       "      <td>2.627774e+06</td>\n",
       "      <td>1.313837e+06</td>\n",
       "      <td>3.638221e+06</td>\n",
       "      <td>3.073015e+06</td>\n",
       "      <td>1.296485e+06</td>\n",
       "      <td>3.631566e+06</td>\n",
       "      <td>3.612063e+06</td>\n",
       "      <td>3.684376e+06</td>\n",
       "      <td>1.337362e+06</td>\n",
       "      <td>1.339353e+06</td>\n",
       "      <td>1.253969e+06</td>\n",
       "      <td>723542.000000</td>\n",
       "      <td>1.334321e+06</td>\n",
       "    </tr>\n",
       "    <tr>\n",
       "      <th>mean</th>\n",
       "      <td>4.683726e+04</td>\n",
       "      <td>1.230490e+02</td>\n",
       "      <td>1.230721e+02</td>\n",
       "      <td>322.914946</td>\n",
       "      <td>188.769142</td>\n",
       "      <td>144.331279</td>\n",
       "      <td>154.549637</td>\n",
       "      <td>223.571617</td>\n",
       "      <td>158.755338</td>\n",
       "      <td>273.766816</td>\n",
       "      <td>228.069518</td>\n",
       "      <td>150.567647</td>\n",
       "      <td>2.630217e+05</td>\n",
       "      <td>2.388086e+05</td>\n",
       "      <td>2.470818e+05</td>\n",
       "      <td>3.937908e+05</td>\n",
       "      <td>8.394086e+05</td>\n",
       "      <td>2.785605e+05</td>\n",
       "      <td>3.102841e+05</td>\n",
       "      <td>4.966216e+05</td>\n",
       "      <td>2.896942e+05</td>\n",
       "      <td>4.213423</td>\n",
       "      <td>4.501746</td>\n",
       "      <td>4.195601</td>\n",
       "      <td>9.834591e+03</td>\n",
       "      <td>12069.728272</td>\n",
       "      <td>1.013018e+04</td>\n",
       "      <td>2.334064</td>\n",
       "      <td>1.698105</td>\n",
       "      <td>1.055774</td>\n",
       "      <td>1.078680</td>\n",
       "      <td>4.719254</td>\n",
       "      <td>1.207743</td>\n",
       "      <td>2.136242</td>\n",
       "      <td>2.697142</td>\n",
       "      <td>1.719023</td>\n",
       "      <td>1.019034</td>\n",
       "      <td>1.353846</td>\n",
       "      <td>1704.562173</td>\n",
       "      <td>1819.981388</td>\n",
       "      <td>1781.532744</td>\n",
       "      <td>2549.728740</td>\n",
       "      <td>4412.232890</td>\n",
       "      <td>1635.881429</td>\n",
       "      <td>2064.212257</td>\n",
       "      <td>2092.248349</td>\n",
       "      <td>1556.011133</td>\n",
       "      <td>1571.055092</td>\n",
       "      <td>1529.596290</td>\n",
       "      <td>1.246145e+02</td>\n",
       "      <td>3.466598e+01</td>\n",
       "      <td>5.795258e+01</td>\n",
       "      <td>12.938144</td>\n",
       "      <td>11.275611</td>\n",
       "      <td>13.235967</td>\n",
       "      <td>12.923149</td>\n",
       "      <td>11.260929</td>\n",
       "      <td>13.219574</td>\n",
       "      <td>1.116679e+01</td>\n",
       "      <td>1.590071e+05</td>\n",
       "      <td>1.593707e+05</td>\n",
       "      <td>1.987462e+05</td>\n",
       "      <td>2.779433e+05</td>\n",
       "      <td>4.438180e+05</td>\n",
       "      <td>1.976345e+05</td>\n",
       "      <td>1.485749e+05</td>\n",
       "      <td>1.877266e+05</td>\n",
       "      <td>1.977040e+05</td>\n",
       "      <td>2.079495e+05</td>\n",
       "      <td>2.932095e+05</td>\n",
       "      <td>1.429688e+03</td>\n",
       "      <td>1.414117e+03</td>\n",
       "      <td>9.484601e-01</td>\n",
       "      <td>1325.079733</td>\n",
       "      <td>1.463457e+03</td>\n",
       "    </tr>\n",
       "    <tr>\n",
       "      <th>std</th>\n",
       "      <td>2.883334e+04</td>\n",
       "      <td>1.172875e+02</td>\n",
       "      <td>1.180173e+02</td>\n",
       "      <td>301.027216</td>\n",
       "      <td>186.646266</td>\n",
       "      <td>115.581365</td>\n",
       "      <td>114.846920</td>\n",
       "      <td>216.186771</td>\n",
       "      <td>134.386742</td>\n",
       "      <td>290.412769</td>\n",
       "      <td>195.983474</td>\n",
       "      <td>105.408294</td>\n",
       "      <td>2.307051e+05</td>\n",
       "      <td>2.557611e+05</td>\n",
       "      <td>2.421257e+05</td>\n",
       "      <td>3.553844e+05</td>\n",
       "      <td>1.117868e+06</td>\n",
       "      <td>2.501648e+05</td>\n",
       "      <td>3.303760e+05</td>\n",
       "      <td>4.068856e+05</td>\n",
       "      <td>2.767894e+05</td>\n",
       "      <td>2.040705</td>\n",
       "      <td>2.066104</td>\n",
       "      <td>2.064019</td>\n",
       "      <td>1.204638e+04</td>\n",
       "      <td>16052.952737</td>\n",
       "      <td>1.405195e+04</td>\n",
       "      <td>0.988807</td>\n",
       "      <td>0.820759</td>\n",
       "      <td>0.589681</td>\n",
       "      <td>2.071355</td>\n",
       "      <td>6.520360</td>\n",
       "      <td>0.898108</td>\n",
       "      <td>1.201135</td>\n",
       "      <td>1.226605</td>\n",
       "      <td>0.847736</td>\n",
       "      <td>0.851736</td>\n",
       "      <td>1.194078</td>\n",
       "      <td>711.002461</td>\n",
       "      <td>898.925776</td>\n",
       "      <td>1527.628002</td>\n",
       "      <td>3605.737742</td>\n",
       "      <td>3786.721933</td>\n",
       "      <td>926.822707</td>\n",
       "      <td>905.313341</td>\n",
       "      <td>777.665515</td>\n",
       "      <td>682.425639</td>\n",
       "      <td>1229.319601</td>\n",
       "      <td>577.014372</td>\n",
       "      <td>1.009763e+02</td>\n",
       "      <td>2.788985e+01</td>\n",
       "      <td>2.913422e+01</td>\n",
       "      <td>4.683065</td>\n",
       "      <td>4.820278</td>\n",
       "      <td>4.767322</td>\n",
       "      <td>5.249719</td>\n",
       "      <td>5.249506</td>\n",
       "      <td>5.358528</td>\n",
       "      <td>3.626782e+00</td>\n",
       "      <td>1.246349e+05</td>\n",
       "      <td>1.367514e+05</td>\n",
       "      <td>1.688202e+05</td>\n",
       "      <td>2.392152e+05</td>\n",
       "      <td>4.454901e+05</td>\n",
       "      <td>1.772286e+05</td>\n",
       "      <td>1.240348e+05</td>\n",
       "      <td>1.426228e+05</td>\n",
       "      <td>1.771804e+05</td>\n",
       "      <td>2.040974e+05</td>\n",
       "      <td>2.970779e+05</td>\n",
       "      <td>7.197163e+02</td>\n",
       "      <td>6.913265e+02</td>\n",
       "      <td>4.240444e-01</td>\n",
       "      <td>568.827402</td>\n",
       "      <td>8.077924e+02</td>\n",
       "    </tr>\n",
       "    <tr>\n",
       "      <th>min</th>\n",
       "      <td>7.450000e+02</td>\n",
       "      <td>3.000000e+00</td>\n",
       "      <td>2.000000e+00</td>\n",
       "      <td>24.793388</td>\n",
       "      <td>21.045918</td>\n",
       "      <td>20.833333</td>\n",
       "      <td>21.384804</td>\n",
       "      <td>19.370574</td>\n",
       "      <td>15.716151</td>\n",
       "      <td>28.750000</td>\n",
       "      <td>16.987139</td>\n",
       "      <td>15.716151</td>\n",
       "      <td>1.990000e+04</td>\n",
       "      <td>2.619800e+04</td>\n",
       "      <td>2.942600e+04</td>\n",
       "      <td>3.000000e+04</td>\n",
       "      <td>3.375000e+04</td>\n",
       "      <td>1.500000e+04</td>\n",
       "      <td>2.525000e+04</td>\n",
       "      <td>3.310000e+04</td>\n",
       "      <td>1.500000e+04</td>\n",
       "      <td>0.000035</td>\n",
       "      <td>0.000226</td>\n",
       "      <td>0.000035</td>\n",
       "      <td>1.000000e+00</td>\n",
       "      <td>1.000000</td>\n",
       "      <td>1.000000e+00</td>\n",
       "      <td>0.720708</td>\n",
       "      <td>0.485884</td>\n",
       "      <td>0.505859</td>\n",
       "      <td>0.531226</td>\n",
       "      <td>0.672194</td>\n",
       "      <td>0.430228</td>\n",
       "      <td>0.575506</td>\n",
       "      <td>0.518293</td>\n",
       "      <td>0.501520</td>\n",
       "      <td>0.430228</td>\n",
       "      <td>0.428897</td>\n",
       "      <td>420.000000</td>\n",
       "      <td>451.000000</td>\n",
       "      <td>550.000000</td>\n",
       "      <td>1025.000000</td>\n",
       "      <td>2400.000000</td>\n",
       "      <td>512.500000</td>\n",
       "      <td>650.000000</td>\n",
       "      <td>497.500000</td>\n",
       "      <td>375.000000</td>\n",
       "      <td>512.500000</td>\n",
       "      <td>600.000000</td>\n",
       "      <td>1.400000e+01</td>\n",
       "      <td>0.000000e+00</td>\n",
       "      <td>0.000000e+00</td>\n",
       "      <td>-3.922714</td>\n",
       "      <td>-4.569741</td>\n",
       "      <td>-4.271567</td>\n",
       "      <td>0.000000</td>\n",
       "      <td>0.000000</td>\n",
       "      <td>0.000000</td>\n",
       "      <td>4.900000e-01</td>\n",
       "      <td>2.130000e+04</td>\n",
       "      <td>1.560000e+04</td>\n",
       "      <td>2.460000e+04</td>\n",
       "      <td>2.050000e+04</td>\n",
       "      <td>2.670000e+04</td>\n",
       "      <td>1.670000e+04</td>\n",
       "      <td>1.350000e+04</td>\n",
       "      <td>2.700000e+04</td>\n",
       "      <td>1.670000e+04</td>\n",
       "      <td>1.670000e+04</td>\n",
       "      <td>2.690000e+04</td>\n",
       "      <td>4.110000e+02</td>\n",
       "      <td>4.110000e+02</td>\n",
       "      <td>2.760000e-01</td>\n",
       "      <td>414.000000</td>\n",
       "      <td>4.110000e+02</td>\n",
       "    </tr>\n",
       "    <tr>\n",
       "      <th>25%</th>\n",
       "      <td>2.183000e+04</td>\n",
       "      <td>4.600000e+01</td>\n",
       "      <td>4.600000e+01</td>\n",
       "      <td>155.056896</td>\n",
       "      <td>97.826937</td>\n",
       "      <td>91.187739</td>\n",
       "      <td>99.996853</td>\n",
       "      <td>109.830759</td>\n",
       "      <td>92.095406</td>\n",
       "      <td>122.861795</td>\n",
       "      <td>66.036579</td>\n",
       "      <td>91.339016</td>\n",
       "      <td>1.150000e+05</td>\n",
       "      <td>1.179000e+05</td>\n",
       "      <td>1.449000e+05</td>\n",
       "      <td>2.429980e+05</td>\n",
       "      <td>3.498600e+05</td>\n",
       "      <td>1.500000e+05</td>\n",
       "      <td>1.499000e+05</td>\n",
       "      <td>1.890000e+05</td>\n",
       "      <td>1.525000e+05</td>\n",
       "      <td>2.893159</td>\n",
       "      <td>3.115176</td>\n",
       "      <td>2.860296</td>\n",
       "      <td>5.000000e+03</td>\n",
       "      <td>5034.625000</td>\n",
       "      <td>5.000000e+03</td>\n",
       "      <td>1.616905</td>\n",
       "      <td>1.119909</td>\n",
       "      <td>0.756266</td>\n",
       "      <td>0.692921</td>\n",
       "      <td>0.722525</td>\n",
       "      <td>0.765527</td>\n",
       "      <td>1.266798</td>\n",
       "      <td>1.811408</td>\n",
       "      <td>1.130952</td>\n",
       "      <td>0.729755</td>\n",
       "      <td>0.735782</td>\n",
       "      <td>1211.250000</td>\n",
       "      <td>1200.000000</td>\n",
       "      <td>1172.000000</td>\n",
       "      <td>1600.000000</td>\n",
       "      <td>3300.000000</td>\n",
       "      <td>1150.000000</td>\n",
       "      <td>1350.000000</td>\n",
       "      <td>1550.000000</td>\n",
       "      <td>1074.000000</td>\n",
       "      <td>1100.000000</td>\n",
       "      <td>1100.000000</td>\n",
       "      <td>6.900000e+01</td>\n",
       "      <td>1.106000e+01</td>\n",
       "      <td>3.551000e+01</td>\n",
       "      <td>9.674628</td>\n",
       "      <td>7.870348</td>\n",
       "      <td>9.902918</td>\n",
       "      <td>9.202454</td>\n",
       "      <td>7.488987</td>\n",
       "      <td>9.411765</td>\n",
       "      <td>8.820000e+00</td>\n",
       "      <td>7.750000e+04</td>\n",
       "      <td>8.220000e+04</td>\n",
       "      <td>1.079000e+05</td>\n",
       "      <td>1.488000e+05</td>\n",
       "      <td>2.146000e+05</td>\n",
       "      <td>1.012000e+05</td>\n",
       "      <td>7.560000e+04</td>\n",
       "      <td>1.045000e+05</td>\n",
       "      <td>1.014000e+05</td>\n",
       "      <td>1.022000e+05</td>\n",
       "      <td>1.499000e+05</td>\n",
       "      <td>1.006000e+03</td>\n",
       "      <td>1.000000e+03</td>\n",
       "      <td>6.980000e-01</td>\n",
       "      <td>933.000000</td>\n",
       "      <td>1.007000e+03</td>\n",
       "    </tr>\n",
       "    <tr>\n",
       "      <th>50%</th>\n",
       "      <td>4.466900e+04</td>\n",
       "      <td>8.800000e+01</td>\n",
       "      <td>8.800000e+01</td>\n",
       "      <td>230.835830</td>\n",
       "      <td>139.332358</td>\n",
       "      <td>117.742281</td>\n",
       "      <td>125.722509</td>\n",
       "      <td>147.375569</td>\n",
       "      <td>122.694639</td>\n",
       "      <td>184.293515</td>\n",
       "      <td>195.462073</td>\n",
       "      <td>120.910134</td>\n",
       "      <td>2.060000e+05</td>\n",
       "      <td>1.699990e+05</td>\n",
       "      <td>1.959000e+05</td>\n",
       "      <td>3.169900e+05</td>\n",
       "      <td>4.749495e+05</td>\n",
       "      <td>2.190000e+05</td>\n",
       "      <td>2.374000e+05</td>\n",
       "      <td>4.494950e+05</td>\n",
       "      <td>2.200000e+05</td>\n",
       "      <td>3.746356</td>\n",
       "      <td>4.038462</td>\n",
       "      <td>3.710575</td>\n",
       "      <td>7.650000e+03</td>\n",
       "      <td>9750.000000</td>\n",
       "      <td>7.700000e+03</td>\n",
       "      <td>2.108982</td>\n",
       "      <td>1.471973</td>\n",
       "      <td>0.885892</td>\n",
       "      <td>0.760404</td>\n",
       "      <td>0.810443</td>\n",
       "      <td>0.929522</td>\n",
       "      <td>1.785714</td>\n",
       "      <td>2.420914</td>\n",
       "      <td>1.494366</td>\n",
       "      <td>0.841346</td>\n",
       "      <td>0.878184</td>\n",
       "      <td>1564.000000</td>\n",
       "      <td>1615.000000</td>\n",
       "      <td>1445.000000</td>\n",
       "      <td>1995.000000</td>\n",
       "      <td>3975.000000</td>\n",
       "      <td>1447.500000</td>\n",
       "      <td>1875.000000</td>\n",
       "      <td>2000.000000</td>\n",
       "      <td>1400.000000</td>\n",
       "      <td>1375.000000</td>\n",
       "      <td>1425.000000</td>\n",
       "      <td>9.500000e+01</td>\n",
       "      <td>2.793000e+01</td>\n",
       "      <td>6.207000e+01</td>\n",
       "      <td>12.722432</td>\n",
       "      <td>10.945674</td>\n",
       "      <td>12.997600</td>\n",
       "      <td>12.568306</td>\n",
       "      <td>10.769231</td>\n",
       "      <td>12.840467</td>\n",
       "      <td>1.063000e+01</td>\n",
       "      <td>1.228000e+05</td>\n",
       "      <td>1.212000e+05</td>\n",
       "      <td>1.496000e+05</td>\n",
       "      <td>2.137000e+05</td>\n",
       "      <td>3.202000e+05</td>\n",
       "      <td>1.469000e+05</td>\n",
       "      <td>1.129000e+05</td>\n",
       "      <td>1.457000e+05</td>\n",
       "      <td>1.470000e+05</td>\n",
       "      <td>1.495000e+05</td>\n",
       "      <td>2.152000e+05</td>\n",
       "      <td>1.246000e+03</td>\n",
       "      <td>1.238000e+03</td>\n",
       "      <td>8.340000e-01</td>\n",
       "      <td>1194.000000</td>\n",
       "      <td>1.251000e+03</td>\n",
       "    </tr>\n",
       "    <tr>\n",
       "      <th>75%</th>\n",
       "      <td>7.271800e+04</td>\n",
       "      <td>1.600000e+02</td>\n",
       "      <td>1.600000e+02</td>\n",
       "      <td>380.292972</td>\n",
       "      <td>215.616002</td>\n",
       "      <td>160.705393</td>\n",
       "      <td>168.603216</td>\n",
       "      <td>241.664617</td>\n",
       "      <td>175.354721</td>\n",
       "      <td>312.237594</td>\n",
       "      <td>311.227307</td>\n",
       "      <td>170.726172</td>\n",
       "      <td>3.250000e+05</td>\n",
       "      <td>2.850000e+05</td>\n",
       "      <td>2.804000e+05</td>\n",
       "      <td>4.375000e+05</td>\n",
       "      <td>7.424500e+05</td>\n",
       "      <td>3.250000e+05</td>\n",
       "      <td>3.590000e+05</td>\n",
       "      <td>6.490000e+05</td>\n",
       "      <td>3.344500e+05</td>\n",
       "      <td>5.000000</td>\n",
       "      <td>5.405405</td>\n",
       "      <td>4.994572</td>\n",
       "      <td>1.000000e+04</td>\n",
       "      <td>11950.000000</td>\n",
       "      <td>1.000000e+04</td>\n",
       "      <td>2.758255</td>\n",
       "      <td>2.079227</td>\n",
       "      <td>1.164020</td>\n",
       "      <td>0.860556</td>\n",
       "      <td>5.479575</td>\n",
       "      <td>1.332650</td>\n",
       "      <td>2.590612</td>\n",
       "      <td>3.123734</td>\n",
       "      <td>2.067885</td>\n",
       "      <td>1.085403</td>\n",
       "      <td>1.288885</td>\n",
       "      <td>2000.000000</td>\n",
       "      <td>2225.000000</td>\n",
       "      <td>2000.000000</td>\n",
       "      <td>2700.000000</td>\n",
       "      <td>4500.000000</td>\n",
       "      <td>1895.000000</td>\n",
       "      <td>2595.000000</td>\n",
       "      <td>2600.000000</td>\n",
       "      <td>1869.875000</td>\n",
       "      <td>1762.500000</td>\n",
       "      <td>1795.000000</td>\n",
       "      <td>1.430000e+02</td>\n",
       "      <td>5.330000e+01</td>\n",
       "      <td>8.297000e+01</td>\n",
       "      <td>15.946533</td>\n",
       "      <td>14.290810</td>\n",
       "      <td>16.292357</td>\n",
       "      <td>16.260163</td>\n",
       "      <td>14.482759</td>\n",
       "      <td>16.666667</td>\n",
       "      <td>1.294000e+01</td>\n",
       "      <td>1.967000e+05</td>\n",
       "      <td>1.847000e+05</td>\n",
       "      <td>2.296000e+05</td>\n",
       "      <td>3.250000e+05</td>\n",
       "      <td>5.098000e+05</td>\n",
       "      <td>2.300000e+05</td>\n",
       "      <td>1.735000e+05</td>\n",
       "      <td>2.211000e+05</td>\n",
       "      <td>2.301000e+05</td>\n",
       "      <td>2.390000e+05</td>\n",
       "      <td>3.318000e+05</td>\n",
       "      <td>1.613000e+03</td>\n",
       "      <td>1.598000e+03</td>\n",
       "      <td>1.052000e+00</td>\n",
       "      <td>1549.000000</td>\n",
       "      <td>1.642000e+03</td>\n",
       "    </tr>\n",
       "    <tr>\n",
       "      <th>max</th>\n",
       "      <td>9.990100e+04</td>\n",
       "      <td>2.560000e+03</td>\n",
       "      <td>2.639000e+03</td>\n",
       "      <td>2128.129602</td>\n",
       "      <td>2746.913580</td>\n",
       "      <td>3167.641326</td>\n",
       "      <td>3364.485981</td>\n",
       "      <td>2310.628893</td>\n",
       "      <td>2799.423447</td>\n",
       "      <td>2802.346570</td>\n",
       "      <td>1209.056644</td>\n",
       "      <td>2077.205882</td>\n",
       "      <td>1.580000e+06</td>\n",
       "      <td>4.300000e+06</td>\n",
       "      <td>7.950000e+06</td>\n",
       "      <td>1.175000e+07</td>\n",
       "      <td>1.349250e+07</td>\n",
       "      <td>6.299000e+06</td>\n",
       "      <td>5.750000e+06</td>\n",
       "      <td>3.175000e+06</td>\n",
       "      <td>6.897500e+06</td>\n",
       "      <td>49.031211</td>\n",
       "      <td>41.860465</td>\n",
       "      <td>49.031211</td>\n",
       "      <td>2.525000e+06</td>\n",
       "      <td>500000.000000</td>\n",
       "      <td>1.497500e+06</td>\n",
       "      <td>6.248168</td>\n",
       "      <td>6.017505</td>\n",
       "      <td>18.000000</td>\n",
       "      <td>25.000000</td>\n",
       "      <td>19.696970</td>\n",
       "      <td>22.566872</td>\n",
       "      <td>7.175295</td>\n",
       "      <td>6.271643</td>\n",
       "      <td>6.208843</td>\n",
       "      <td>22.566872</td>\n",
       "      <td>7.142857</td>\n",
       "      <td>4595.000000</td>\n",
       "      <td>7597.500000</td>\n",
       "      <td>45000.000000</td>\n",
       "      <td>50000.000000</td>\n",
       "      <td>35000.000000</td>\n",
       "      <td>50000.000000</td>\n",
       "      <td>8500.000000</td>\n",
       "      <td>6950.000000</td>\n",
       "      <td>6595.000000</td>\n",
       "      <td>50000.000000</td>\n",
       "      <td>6000.000000</td>\n",
       "      <td>2.041000e+03</td>\n",
       "      <td>1.000000e+02</td>\n",
       "      <td>1.000000e+02</td>\n",
       "      <td>43.218021</td>\n",
       "      <td>50.991518</td>\n",
       "      <td>43.224984</td>\n",
       "      <td>48.214286</td>\n",
       "      <td>55.681818</td>\n",
       "      <td>48.214286</td>\n",
       "      <td>7.170000e+01</td>\n",
       "      <td>1.717100e+06</td>\n",
       "      <td>3.365100e+06</td>\n",
       "      <td>5.506300e+06</td>\n",
       "      <td>6.712100e+06</td>\n",
       "      <td>1.088390e+07</td>\n",
       "      <td>7.212500e+06</td>\n",
       "      <td>3.872400e+06</td>\n",
       "      <td>3.083700e+06</td>\n",
       "      <td>7.212500e+06</td>\n",
       "      <td>7.313400e+06</td>\n",
       "      <td>1.296680e+07</td>\n",
       "      <td>1.837500e+04</td>\n",
       "      <td>1.780800e+04</td>\n",
       "      <td>6.496000e+00</td>\n",
       "      <td>15891.000000</td>\n",
       "      <td>2.096400e+04</td>\n",
       "    </tr>\n",
       "  </tbody>\n",
       "</table>\n",
       "</div>"
      ],
      "text/plain": [
       "         RegionName  InventorySeasonallyAdjusted_AllHomes  InventoryRaw_AllHomes  MedianListingPricePerSqft_1Bedroom  MedianListingPricePerSqft_2Bedroom  MedianListingPricePerSqft_3Bedroom  MedianListingPricePerSqft_4Bedroom  MedianListingPricePerSqft_5BedroomOrMore  MedianListingPricePerSqft_AllHomes  MedianListingPricePerSqft_CondoCoop  MedianListingPricePerSqft_DuplexTriplex  MedianListingPricePerSqft_SingleFamilyResidence  MedianListingPrice_1Bedroom  MedianListingPrice_2Bedroom  MedianListingPrice_3Bedroom  MedianListingPrice_4Bedroom  MedianListingPrice_5BedroomOrMore  MedianListingPrice_AllHomes  MedianListingPrice_CondoCoop  MedianListingPrice_DuplexTriplex  MedianListingPrice_SingleFamilyResidence  MedianPctOfPriceReduction_AllHomes  MedianPctOfPriceReduction_CondoCoop  MedianPctOfPriceReduction_SingleFamilyResidence  MedianPriceCutDollar_AllHomes  MedianPriceCutDollar_CondoCoop  MedianPriceCutDollar_SingleFamilyResidence  MedianRentalPricePerSqft_1Bedroom  \\\n",
       "count  4.383885e+06                          1.051104e+06           1.051104e+06                         8194.000000                        86554.000000                       384738.000000                       197581.000000                              33722.000000                       814908.000000                         72778.000000                              8092.000000                                    776613.000000                 7.753000e+03                 6.772400e+04                 3.171890e+05                 1.616000e+05                       2.770300e+04                 6.273190e+05                  5.564600e+04                      1.017100e+04                              6.104810e+05                       686488.000000                         40040.000000                                    642488.000000                   6.864880e+05                    40040.000000                                6.424880e+05                       19600.000000   \n",
       "mean   4.683726e+04                          1.230490e+02           1.230721e+02                          322.914946                          188.769142                          144.331279                          154.549637                                223.571617                          158.755338                           273.766816                               228.069518                                       150.567647                 2.630217e+05                 2.388086e+05                 2.470818e+05                 3.937908e+05                       8.394086e+05                 2.785605e+05                  3.102841e+05                      4.966216e+05                              2.896942e+05                            4.213423                             4.501746                                         4.195601                   9.834591e+03                    12069.728272                                1.013018e+04                           2.334064   \n",
       "std    2.883334e+04                          1.172875e+02           1.180173e+02                          301.027216                          186.646266                          115.581365                          114.846920                                216.186771                          134.386742                           290.412769                               195.983474                                       105.408294                 2.307051e+05                 2.557611e+05                 2.421257e+05                 3.553844e+05                       1.117868e+06                 2.501648e+05                  3.303760e+05                      4.068856e+05                              2.767894e+05                            2.040705                             2.066104                                         2.064019                   1.204638e+04                    16052.952737                                1.405195e+04                           0.988807   \n",
       "min    7.450000e+02                          3.000000e+00           2.000000e+00                           24.793388                           21.045918                           20.833333                           21.384804                                 19.370574                           15.716151                            28.750000                                16.987139                                        15.716151                 1.990000e+04                 2.619800e+04                 2.942600e+04                 3.000000e+04                       3.375000e+04                 1.500000e+04                  2.525000e+04                      3.310000e+04                              1.500000e+04                            0.000035                             0.000226                                         0.000035                   1.000000e+00                        1.000000                                1.000000e+00                           0.720708   \n",
       "25%    2.183000e+04                          4.600000e+01           4.600000e+01                          155.056896                           97.826937                           91.187739                           99.996853                                109.830759                           92.095406                           122.861795                                66.036579                                        91.339016                 1.150000e+05                 1.179000e+05                 1.449000e+05                 2.429980e+05                       3.498600e+05                 1.500000e+05                  1.499000e+05                      1.890000e+05                              1.525000e+05                            2.893159                             3.115176                                         2.860296                   5.000000e+03                     5034.625000                                5.000000e+03                           1.616905   \n",
       "50%    4.466900e+04                          8.800000e+01           8.800000e+01                          230.835830                          139.332358                          117.742281                          125.722509                                147.375569                          122.694639                           184.293515                               195.462073                                       120.910134                 2.060000e+05                 1.699990e+05                 1.959000e+05                 3.169900e+05                       4.749495e+05                 2.190000e+05                  2.374000e+05                      4.494950e+05                              2.200000e+05                            3.746356                             4.038462                                         3.710575                   7.650000e+03                     9750.000000                                7.700000e+03                           2.108982   \n",
       "75%    7.271800e+04                          1.600000e+02           1.600000e+02                          380.292972                          215.616002                          160.705393                          168.603216                                241.664617                          175.354721                           312.237594                               311.227307                                       170.726172                 3.250000e+05                 2.850000e+05                 2.804000e+05                 4.375000e+05                       7.424500e+05                 3.250000e+05                  3.590000e+05                      6.490000e+05                              3.344500e+05                            5.000000                             5.405405                                         4.994572                   1.000000e+04                    11950.000000                                1.000000e+04                           2.758255   \n",
       "max    9.990100e+04                          2.560000e+03           2.639000e+03                         2128.129602                         2746.913580                         3167.641326                         3364.485981                               2310.628893                         2799.423447                          2802.346570                              1209.056644                                      2077.205882                 1.580000e+06                 4.300000e+06                 7.950000e+06                 1.175000e+07                       1.349250e+07                 6.299000e+06                  5.750000e+06                      3.175000e+06                              6.897500e+06                           49.031211                            41.860465                                        49.031211                   2.525000e+06                   500000.000000                                1.497500e+06                           6.248168   \n",
       "\n",
       "       MedianRentalPricePerSqft_2Bedroom  MedianRentalPricePerSqft_3Bedroom  MedianRentalPricePerSqft_4Bedroom  MedianRentalPricePerSqft_5BedroomOrMore  MedianRentalPricePerSqft_AllHomes  MedianRentalPricePerSqft_CondoCoop  MedianRentalPricePerSqft_DuplexTriplex  MedianRentalPricePerSqft_MultiFamilyResidence5PlusUnits  MedianRentalPricePerSqft_SingleFamilyResidence  MedianRentalPricePerSqft_Studio  MedianRentalPrice_1Bedroom  MedianRentalPrice_2Bedroom  MedianRentalPrice_3Bedroom  MedianRentalPrice_4Bedroom  MedianRentalPrice_5BedroomOrMore  MedianRentalPrice_AllHomes  MedianRentalPrice_CondoCoop  MedianRentalPrice_DuplexTriplex  MedianRentalPrice_MultiFamilyResidence5PlusUnits  MedianRentalPrice_SingleFamilyResidence  MedianRentalPrice_Studio  ZHVIPerSqft_AllHomes  PctOfHomesDecreasingInValues_AllHomes  PctOfHomesIncreasingInValues_AllHomes  PctOfListingsWithPriceReductionsSeasAdj_AllHomes  PctOfListingsWithPriceReductionsSeasAdj_CondoCoop  \\\n",
       "count                       36378.000000                       33054.000000                        3814.000000                               159.000000                      120843.000000                        18513.000000                             4930.000000                                       69475.000000                                          82976.000000                     24118.000000                30994.000000                47604.000000                39366.000000                 5174.000000                        526.000000               114535.000000                 21156.000000                     14691.000000                                      89954.000000                             80475.000000              27734.000000          3.569675e+06                           2.875664e+06                           2.875664e+06                                     895136.000000                                       74272.000000   \n",
       "mean                            1.698105                           1.055774                           1.078680                                 4.719254                           1.207743                            2.136242                                2.697142                                           1.719023                                              1.019034                         1.353846                 1704.562173                 1819.981388                 1781.532744                 2549.728740                       4412.232890                 1635.881429                  2064.212257                      2092.248349                                       1556.011133                              1571.055092               1529.596290          1.246145e+02                           3.466598e+01                           5.795258e+01                                         12.938144                                          11.275611   \n",
       "std                             0.820759                           0.589681                           2.071355                                 6.520360                           0.898108                            1.201135                                1.226605                                           0.847736                                              0.851736                         1.194078                  711.002461                  898.925776                 1527.628002                 3605.737742                       3786.721933                  926.822707                   905.313341                       777.665515                                        682.425639                              1229.319601                577.014372          1.009763e+02                           2.788985e+01                           2.913422e+01                                          4.683065                                           4.820278   \n",
       "min                             0.485884                           0.505859                           0.531226                                 0.672194                           0.430228                            0.575506                                0.518293                                           0.501520                                              0.430228                         0.428897                  420.000000                  451.000000                  550.000000                 1025.000000                       2400.000000                  512.500000                   650.000000                       497.500000                                        375.000000                               512.500000                600.000000          1.400000e+01                           0.000000e+00                           0.000000e+00                                         -3.922714                                          -4.569741   \n",
       "25%                             1.119909                           0.756266                           0.692921                                 0.722525                           0.765527                            1.266798                                1.811408                                           1.130952                                              0.729755                         0.735782                 1211.250000                 1200.000000                 1172.000000                 1600.000000                       3300.000000                 1150.000000                  1350.000000                      1550.000000                                       1074.000000                              1100.000000               1100.000000          6.900000e+01                           1.106000e+01                           3.551000e+01                                          9.674628                                           7.870348   \n",
       "50%                             1.471973                           0.885892                           0.760404                                 0.810443                           0.929522                            1.785714                                2.420914                                           1.494366                                              0.841346                         0.878184                 1564.000000                 1615.000000                 1445.000000                 1995.000000                       3975.000000                 1447.500000                  1875.000000                      2000.000000                                       1400.000000                              1375.000000               1425.000000          9.500000e+01                           2.793000e+01                           6.207000e+01                                         12.722432                                          10.945674   \n",
       "75%                             2.079227                           1.164020                           0.860556                                 5.479575                           1.332650                            2.590612                                3.123734                                           2.067885                                              1.085403                         1.288885                 2000.000000                 2225.000000                 2000.000000                 2700.000000                       4500.000000                 1895.000000                  2595.000000                      2600.000000                                       1869.875000                              1762.500000               1795.000000          1.430000e+02                           5.330000e+01                           8.297000e+01                                         15.946533                                          14.290810   \n",
       "max                             6.017505                          18.000000                          25.000000                                19.696970                          22.566872                            7.175295                                6.271643                                           6.208843                                             22.566872                         7.142857                 4595.000000                 7597.500000                45000.000000                50000.000000                      35000.000000                50000.000000                  8500.000000                      6950.000000                                       6595.000000                             50000.000000               6000.000000          2.041000e+03                           1.000000e+02                           1.000000e+02                                         43.218021                                          50.991518   \n",
       "\n",
       "       PctOfListingsWithPriceReductionsSeasAdj_SingleFamilyResidence  PctOfListingsWithPriceReductions_AllHomes  PctOfListingsWithPriceReductions_CondoCoop  PctOfListingsWithPriceReductions_SingleFamilyResidence  PriceToRentRatio_AllHomes  ZHVI_1bedroom  ZHVI_2bedroom  ZHVI_3bedroom  ZHVI_4bedroom  ZHVI_5BedroomOrMore  ZHVI_AllHomes  ZHVI_BottomTier  ZHVI_CondoCoop  ZHVI_MiddleTier  ZHVI_SingleFamilyResidence  ZHVI_TopTier  ZRI_AllHomes  ZRI_AllHomesPlusMultifamily  ZriPerSqft_AllHomes  Zri_MultiFamilyResidenceRental  Zri_SingleFamilyResidenceRental  \n",
       "count                                      844536.000000                                          895136.000000                                74272.000000                                      844536.000000                    1.280862e+06   5.123590e+05   2.333191e+06   3.195020e+06   2.627774e+06         1.313837e+06   3.638221e+06     3.073015e+06    1.296485e+06     3.631566e+06                3.612063e+06  3.684376e+06  1.337362e+06                 1.339353e+06         1.253969e+06                   723542.000000                     1.334321e+06  \n",
       "mean                                           13.235967                                              12.923149                                   11.260929                                          13.219574                    1.116679e+01   1.590071e+05   1.593707e+05   1.987462e+05   2.779433e+05         4.438180e+05   1.976345e+05     1.485749e+05    1.877266e+05     1.977040e+05                2.079495e+05  2.932095e+05  1.429688e+03                 1.414117e+03         9.484601e-01                     1325.079733                     1.463457e+03  \n",
       "std                                             4.767322                                               5.249719                                    5.249506                                           5.358528                    3.626782e+00   1.246349e+05   1.367514e+05   1.688202e+05   2.392152e+05         4.454901e+05   1.772286e+05     1.240348e+05    1.426228e+05     1.771804e+05                2.040974e+05  2.970779e+05  7.197163e+02                 6.913265e+02         4.240444e-01                      568.827402                     8.077924e+02  \n",
       "min                                            -4.271567                                               0.000000                                    0.000000                                           0.000000                    4.900000e-01   2.130000e+04   1.560000e+04   2.460000e+04   2.050000e+04         2.670000e+04   1.670000e+04     1.350000e+04    2.700000e+04     1.670000e+04                1.670000e+04  2.690000e+04  4.110000e+02                 4.110000e+02         2.760000e-01                      414.000000                     4.110000e+02  \n",
       "25%                                             9.902918                                               9.202454                                    7.488987                                           9.411765                    8.820000e+00   7.750000e+04   8.220000e+04   1.079000e+05   1.488000e+05         2.146000e+05   1.012000e+05     7.560000e+04    1.045000e+05     1.014000e+05                1.022000e+05  1.499000e+05  1.006000e+03                 1.000000e+03         6.980000e-01                      933.000000                     1.007000e+03  \n",
       "50%                                            12.997600                                              12.568306                                   10.769231                                          12.840467                    1.063000e+01   1.228000e+05   1.212000e+05   1.496000e+05   2.137000e+05         3.202000e+05   1.469000e+05     1.129000e+05    1.457000e+05     1.470000e+05                1.495000e+05  2.152000e+05  1.246000e+03                 1.238000e+03         8.340000e-01                     1194.000000                     1.251000e+03  \n",
       "75%                                            16.292357                                              16.260163                                   14.482759                                          16.666667                    1.294000e+01   1.967000e+05   1.847000e+05   2.296000e+05   3.250000e+05         5.098000e+05   2.300000e+05     1.735000e+05    2.211000e+05     2.301000e+05                2.390000e+05  3.318000e+05  1.613000e+03                 1.598000e+03         1.052000e+00                     1549.000000                     1.642000e+03  \n",
       "max                                            43.224984                                              48.214286                                   55.681818                                          48.214286                    7.170000e+01   1.717100e+06   3.365100e+06   5.506300e+06   6.712100e+06         1.088390e+07   7.212500e+06     3.872400e+06    3.083700e+06     7.212500e+06                7.313400e+06  1.296680e+07  1.837500e+04                 1.780800e+04         6.496000e+00                    15891.000000                     2.096400e+04  "
      ]
     },
     "execution_count": 71,
     "metadata": {},
     "output_type": "execute_result"
    }
   ],
   "source": [
    "#######################\n",
    "## Zip -- Cleaning MN #\n",
    "#######################\n",
    "zip_df.shape\n",
    "#Understand range of outputs\n",
    "zip_df.describe()"
   ]
  },
  {
   "cell_type": "code",
   "execution_count": 72,
   "metadata": {},
   "outputs": [
    {
     "data": {
      "text/plain": [
       "RegionName                                    0\n",
       "InventorySeasonallyAdjusted_AllHomes    3332781\n",
       "InventoryRaw_AllHomes                   3332781\n",
       "MedianListingPricePerSqft_1Bedroom      4375691\n",
       "MedianListingPricePerSqft_2Bedroom      4297331\n",
       "                                         ...   \n",
       "ZRI_AllHomes                            3046523\n",
       "ZRI_AllHomesPlusMultifamily             3044532\n",
       "ZriPerSqft_AllHomes                     3129916\n",
       "Zri_MultiFamilyResidenceRental          3660343\n",
       "Zri_SingleFamilyResidenceRental         3049564\n",
       "Length: 75, dtype: int64"
      ]
     },
     "execution_count": 72,
     "metadata": {},
     "output_type": "execute_result"
    }
   ],
   "source": [
    "## Understand the number of nulls\n",
    "zip_df.isnull().sum()"
   ]
  },
  {
   "cell_type": "code",
   "execution_count": 73,
   "metadata": {},
   "outputs": [],
   "source": [
    "## Establish date range to 2017 for normalization\n",
    "zip_df = zip_df.loc['2010-01-01':'2017-12-31']"
   ]
  },
  {
   "cell_type": "code",
   "execution_count": 74,
   "metadata": {},
   "outputs": [],
   "source": [
    "## Drop index variable\n",
    "zip_df.reset_index(drop=True, inplace=True)"
   ]
  },
  {
   "cell_type": "code",
   "execution_count": 75,
   "metadata": {},
   "outputs": [
    {
     "data": {
      "text/html": [
       "<div>\n",
       "<style scoped>\n",
       "    .dataframe tbody tr th:only-of-type {\n",
       "        vertical-align: middle;\n",
       "    }\n",
       "\n",
       "    .dataframe tbody tr th {\n",
       "        vertical-align: top;\n",
       "    }\n",
       "\n",
       "    .dataframe thead tr th {\n",
       "        text-align: left;\n",
       "    }\n",
       "</style>\n",
       "<table border=\"1\" class=\"dataframe\">\n",
       "  <thead>\n",
       "    <tr>\n",
       "      <th></th>\n",
       "      <th>index</th>\n",
       "      <th>RegionName</th>\n",
       "      <th>InventorySeasonallyAdjusted_AllHomes</th>\n",
       "      <th>InventoryRaw_AllHomes</th>\n",
       "      <th>MedianListingPricePerSqft_1Bedroom</th>\n",
       "      <th>MedianListingPricePerSqft_2Bedroom</th>\n",
       "      <th>MedianListingPricePerSqft_3Bedroom</th>\n",
       "      <th>MedianListingPricePerSqft_4Bedroom</th>\n",
       "      <th>MedianListingPricePerSqft_5BedroomOrMore</th>\n",
       "      <th>MedianListingPricePerSqft_AllHomes</th>\n",
       "      <th>MedianListingPricePerSqft_CondoCoop</th>\n",
       "      <th>MedianListingPricePerSqft_DuplexTriplex</th>\n",
       "      <th>MedianListingPricePerSqft_SingleFamilyResidence</th>\n",
       "      <th>MedianListingPrice_1Bedroom</th>\n",
       "      <th>MedianListingPrice_2Bedroom</th>\n",
       "      <th>MedianListingPrice_3Bedroom</th>\n",
       "      <th>MedianListingPrice_4Bedroom</th>\n",
       "      <th>MedianListingPrice_5BedroomOrMore</th>\n",
       "      <th>MedianListingPrice_AllHomes</th>\n",
       "      <th>MedianListingPrice_CondoCoop</th>\n",
       "      <th>MedianListingPrice_DuplexTriplex</th>\n",
       "      <th>MedianListingPrice_SingleFamilyResidence</th>\n",
       "      <th>MedianPctOfPriceReduction_AllHomes</th>\n",
       "      <th>MedianPctOfPriceReduction_CondoCoop</th>\n",
       "      <th>MedianPctOfPriceReduction_SingleFamilyResidence</th>\n",
       "      <th>MedianPriceCutDollar_AllHomes</th>\n",
       "      <th>MedianPriceCutDollar_CondoCoop</th>\n",
       "      <th>MedianPriceCutDollar_SingleFamilyResidence</th>\n",
       "      <th>MedianRentalPricePerSqft_1Bedroom</th>\n",
       "      <th>MedianRentalPricePerSqft_2Bedroom</th>\n",
       "      <th>MedianRentalPricePerSqft_3Bedroom</th>\n",
       "      <th>MedianRentalPricePerSqft_4Bedroom</th>\n",
       "      <th>MedianRentalPricePerSqft_5BedroomOrMore</th>\n",
       "      <th>MedianRentalPricePerSqft_AllHomes</th>\n",
       "      <th>MedianRentalPricePerSqft_CondoCoop</th>\n",
       "      <th>MedianRentalPricePerSqft_DuplexTriplex</th>\n",
       "      <th>MedianRentalPricePerSqft_MultiFamilyResidence5PlusUnits</th>\n",
       "      <th>MedianRentalPricePerSqft_SingleFamilyResidence</th>\n",
       "      <th>MedianRentalPricePerSqft_Studio</th>\n",
       "      <th>MedianRentalPrice_1Bedroom</th>\n",
       "      <th>MedianRentalPrice_2Bedroom</th>\n",
       "      <th>MedianRentalPrice_3Bedroom</th>\n",
       "      <th>MedianRentalPrice_4Bedroom</th>\n",
       "      <th>MedianRentalPrice_5BedroomOrMore</th>\n",
       "      <th>MedianRentalPrice_AllHomes</th>\n",
       "      <th>MedianRentalPrice_CondoCoop</th>\n",
       "      <th>MedianRentalPrice_DuplexTriplex</th>\n",
       "      <th>MedianRentalPrice_MultiFamilyResidence5PlusUnits</th>\n",
       "      <th>MedianRentalPrice_SingleFamilyResidence</th>\n",
       "      <th>MedianRentalPrice_Studio</th>\n",
       "      <th>PctOfHomesDecreasingInValues_AllHomes</th>\n",
       "      <th>PctOfHomesIncreasingInValues_AllHomes</th>\n",
       "      <th>PctOfListingsWithPriceReductionsSeasAdj_AllHomes</th>\n",
       "      <th>PctOfListingsWithPriceReductionsSeasAdj_CondoCoop</th>\n",
       "      <th>PctOfListingsWithPriceReductionsSeasAdj_SingleFamilyResidence</th>\n",
       "      <th>PctOfListingsWithPriceReductions_AllHomes</th>\n",
       "      <th>PctOfListingsWithPriceReductions_CondoCoop</th>\n",
       "      <th>PctOfListingsWithPriceReductions_SingleFamilyResidence</th>\n",
       "      <th>PriceToRentRatio_AllHomes</th>\n",
       "      <th>ZHVI_1bedroom</th>\n",
       "      <th>ZHVI_2bedroom</th>\n",
       "      <th>ZHVI_3bedroom</th>\n",
       "      <th>ZHVI_4bedroom</th>\n",
       "      <th>ZHVI_5BedroomOrMore</th>\n",
       "      <th>ZHVI_AllHomes</th>\n",
       "      <th>ZHVI_BottomTier</th>\n",
       "      <th>ZHVI_CondoCoop</th>\n",
       "      <th>ZHVI_MiddleTier</th>\n",
       "      <th>ZHVI_SingleFamilyResidence</th>\n",
       "      <th>ZHVI_TopTier</th>\n",
       "      <th>ZRI_AllHomes</th>\n",
       "      <th>ZRI_AllHomesPlusMultifamily</th>\n",
       "      <th>ZriPerSqft_AllHomes</th>\n",
       "      <th>Zri_MultiFamilyResidenceRental</th>\n",
       "      <th>Zri_SingleFamilyResidenceRental</th>\n",
       "    </tr>\n",
       "    <tr>\n",
       "      <th></th>\n",
       "      <th></th>\n",
       "      <th></th>\n",
       "      <th>mean</th>\n",
       "      <th>mean</th>\n",
       "      <th>mean</th>\n",
       "      <th>mean</th>\n",
       "      <th>mean</th>\n",
       "      <th>mean</th>\n",
       "      <th>mean</th>\n",
       "      <th>mean</th>\n",
       "      <th>mean</th>\n",
       "      <th>mean</th>\n",
       "      <th>mean</th>\n",
       "      <th>mean</th>\n",
       "      <th>mean</th>\n",
       "      <th>mean</th>\n",
       "      <th>mean</th>\n",
       "      <th>mean</th>\n",
       "      <th>mean</th>\n",
       "      <th>mean</th>\n",
       "      <th>mean</th>\n",
       "      <th>mean</th>\n",
       "      <th>mean</th>\n",
       "      <th>mean</th>\n",
       "      <th>mean</th>\n",
       "      <th>mean</th>\n",
       "      <th>mean</th>\n",
       "      <th>mean</th>\n",
       "      <th>mean</th>\n",
       "      <th>mean</th>\n",
       "      <th>mean</th>\n",
       "      <th>mean</th>\n",
       "      <th>mean</th>\n",
       "      <th>mean</th>\n",
       "      <th>mean</th>\n",
       "      <th>mean</th>\n",
       "      <th>mean</th>\n",
       "      <th>mean</th>\n",
       "      <th>mean</th>\n",
       "      <th>mean</th>\n",
       "      <th>mean</th>\n",
       "      <th>mean</th>\n",
       "      <th>mean</th>\n",
       "      <th>mean</th>\n",
       "      <th>mean</th>\n",
       "      <th>mean</th>\n",
       "      <th>mean</th>\n",
       "      <th>mean</th>\n",
       "      <th>mean</th>\n",
       "      <th>mean</th>\n",
       "      <th>mean</th>\n",
       "      <th>mean</th>\n",
       "      <th>mean</th>\n",
       "      <th>mean</th>\n",
       "      <th>mean</th>\n",
       "      <th>mean</th>\n",
       "      <th>mean</th>\n",
       "      <th>mean</th>\n",
       "      <th>mean</th>\n",
       "      <th>mean</th>\n",
       "      <th>mean</th>\n",
       "      <th>mean</th>\n",
       "      <th>mean</th>\n",
       "      <th>mean</th>\n",
       "      <th>mean</th>\n",
       "      <th>mean</th>\n",
       "      <th>mean</th>\n",
       "      <th>mean</th>\n",
       "      <th>mean</th>\n",
       "      <th>mean</th>\n",
       "      <th>mean</th>\n",
       "      <th>mean</th>\n",
       "      <th>mean</th>\n",
       "      <th>mean</th>\n",
       "      <th>mean</th>\n",
       "    </tr>\n",
       "  </thead>\n",
       "  <tbody>\n",
       "    <tr>\n",
       "      <th>0</th>\n",
       "      <td>0</td>\n",
       "      <td>745</td>\n",
       "      <td>NaN</td>\n",
       "      <td>NaN</td>\n",
       "      <td>NaN</td>\n",
       "      <td>NaN</td>\n",
       "      <td>NaN</td>\n",
       "      <td>NaN</td>\n",
       "      <td>NaN</td>\n",
       "      <td>NaN</td>\n",
       "      <td>NaN</td>\n",
       "      <td>NaN</td>\n",
       "      <td>93.240419</td>\n",
       "      <td>NaN</td>\n",
       "      <td>NaN</td>\n",
       "      <td>NaN</td>\n",
       "      <td>NaN</td>\n",
       "      <td>NaN</td>\n",
       "      <td>NaN</td>\n",
       "      <td>NaN</td>\n",
       "      <td>NaN</td>\n",
       "      <td>NaN</td>\n",
       "      <td>NaN</td>\n",
       "      <td>NaN</td>\n",
       "      <td>NaN</td>\n",
       "      <td>NaN</td>\n",
       "      <td>NaN</td>\n",
       "      <td>NaN</td>\n",
       "      <td>NaN</td>\n",
       "      <td>NaN</td>\n",
       "      <td>NaN</td>\n",
       "      <td>NaN</td>\n",
       "      <td>NaN</td>\n",
       "      <td>NaN</td>\n",
       "      <td>NaN</td>\n",
       "      <td>NaN</td>\n",
       "      <td>NaN</td>\n",
       "      <td>NaN</td>\n",
       "      <td>NaN</td>\n",
       "      <td>NaN</td>\n",
       "      <td>NaN</td>\n",
       "      <td>NaN</td>\n",
       "      <td>NaN</td>\n",
       "      <td>NaN</td>\n",
       "      <td>NaN</td>\n",
       "      <td>NaN</td>\n",
       "      <td>NaN</td>\n",
       "      <td>NaN</td>\n",
       "      <td>NaN</td>\n",
       "      <td>NaN</td>\n",
       "      <td>NaN</td>\n",
       "      <td>NaN</td>\n",
       "      <td>NaN</td>\n",
       "      <td>NaN</td>\n",
       "      <td>NaN</td>\n",
       "      <td>NaN</td>\n",
       "      <td>NaN</td>\n",
       "      <td>NaN</td>\n",
       "      <td>NaN</td>\n",
       "      <td>NaN</td>\n",
       "      <td>NaN</td>\n",
       "      <td>NaN</td>\n",
       "      <td>NaN</td>\n",
       "      <td>NaN</td>\n",
       "      <td>NaN</td>\n",
       "      <td>NaN</td>\n",
       "      <td>NaN</td>\n",
       "      <td>NaN</td>\n",
       "      <td>NaN</td>\n",
       "      <td>NaN</td>\n",
       "      <td>NaN</td>\n",
       "      <td>NaN</td>\n",
       "      <td>NaN</td>\n",
       "      <td>NaN</td>\n",
       "      <td>NaN</td>\n",
       "    </tr>\n",
       "    <tr>\n",
       "      <th>1</th>\n",
       "      <td>1</td>\n",
       "      <td>1001</td>\n",
       "      <td>78.135417</td>\n",
       "      <td>78.187500</td>\n",
       "      <td>NaN</td>\n",
       "      <td>140.826375</td>\n",
       "      <td>NaN</td>\n",
       "      <td>NaN</td>\n",
       "      <td>NaN</td>\n",
       "      <td>143.969963</td>\n",
       "      <td>NaN</td>\n",
       "      <td>NaN</td>\n",
       "      <td>152.344176</td>\n",
       "      <td>NaN</td>\n",
       "      <td>168329.6875</td>\n",
       "      <td>NaN</td>\n",
       "      <td>NaN</td>\n",
       "      <td>NaN</td>\n",
       "      <td>189913.338542</td>\n",
       "      <td>NaN</td>\n",
       "      <td>NaN</td>\n",
       "      <td>210968.369792</td>\n",
       "      <td>3.029398</td>\n",
       "      <td>NaN</td>\n",
       "      <td>2.993525</td>\n",
       "      <td>5736.511364</td>\n",
       "      <td>NaN</td>\n",
       "      <td>6881.250000</td>\n",
       "      <td>NaN</td>\n",
       "      <td>NaN</td>\n",
       "      <td>NaN</td>\n",
       "      <td>NaN</td>\n",
       "      <td>NaN</td>\n",
       "      <td>NaN</td>\n",
       "      <td>NaN</td>\n",
       "      <td>NaN</td>\n",
       "      <td>NaN</td>\n",
       "      <td>NaN</td>\n",
       "      <td>NaN</td>\n",
       "      <td>NaN</td>\n",
       "      <td>NaN</td>\n",
       "      <td>NaN</td>\n",
       "      <td>NaN</td>\n",
       "      <td>NaN</td>\n",
       "      <td>NaN</td>\n",
       "      <td>NaN</td>\n",
       "      <td>NaN</td>\n",
       "      <td>NaN</td>\n",
       "      <td>NaN</td>\n",
       "      <td>NaN</td>\n",
       "      <td>40.043646</td>\n",
       "      <td>44.001250</td>\n",
       "      <td>17.751160</td>\n",
       "      <td>NaN</td>\n",
       "      <td>18.945096</td>\n",
       "      <td>17.769963</td>\n",
       "      <td>NaN</td>\n",
       "      <td>18.981072</td>\n",
       "      <td>10.630345</td>\n",
       "      <td>65748.958333</td>\n",
       "      <td>155172.916667</td>\n",
       "      <td>195243.750000</td>\n",
       "      <td>216195.833333</td>\n",
       "      <td>252576.041667</td>\n",
       "      <td>181509.375000</td>\n",
       "      <td>135272.916667</td>\n",
       "      <td>134261.458333</td>\n",
       "      <td>181509.375000</td>\n",
       "      <td>194297.916667</td>\n",
       "      <td>240321.875000</td>\n",
       "      <td>1450.686047</td>\n",
       "      <td>1441.837209</td>\n",
       "      <td>1.142535</td>\n",
       "      <td>1287.418605</td>\n",
       "      <td>1500.930233</td>\n",
       "    </tr>\n",
       "    <tr>\n",
       "      <th>2</th>\n",
       "      <td>2</td>\n",
       "      <td>1002</td>\n",
       "      <td>129.979167</td>\n",
       "      <td>129.979167</td>\n",
       "      <td>NaN</td>\n",
       "      <td>NaN</td>\n",
       "      <td>NaN</td>\n",
       "      <td>NaN</td>\n",
       "      <td>NaN</td>\n",
       "      <td>194.249250</td>\n",
       "      <td>NaN</td>\n",
       "      <td>NaN</td>\n",
       "      <td>196.557306</td>\n",
       "      <td>NaN</td>\n",
       "      <td>NaN</td>\n",
       "      <td>NaN</td>\n",
       "      <td>NaN</td>\n",
       "      <td>NaN</td>\n",
       "      <td>315550.781250</td>\n",
       "      <td>NaN</td>\n",
       "      <td>NaN</td>\n",
       "      <td>366685.416667</td>\n",
       "      <td>3.302529</td>\n",
       "      <td>NaN</td>\n",
       "      <td>3.480619</td>\n",
       "      <td>10297.727273</td>\n",
       "      <td>NaN</td>\n",
       "      <td>11815.340909</td>\n",
       "      <td>NaN</td>\n",
       "      <td>NaN</td>\n",
       "      <td>NaN</td>\n",
       "      <td>NaN</td>\n",
       "      <td>NaN</td>\n",
       "      <td>NaN</td>\n",
       "      <td>NaN</td>\n",
       "      <td>NaN</td>\n",
       "      <td>NaN</td>\n",
       "      <td>NaN</td>\n",
       "      <td>NaN</td>\n",
       "      <td>NaN</td>\n",
       "      <td>NaN</td>\n",
       "      <td>NaN</td>\n",
       "      <td>NaN</td>\n",
       "      <td>NaN</td>\n",
       "      <td>NaN</td>\n",
       "      <td>NaN</td>\n",
       "      <td>NaN</td>\n",
       "      <td>NaN</td>\n",
       "      <td>NaN</td>\n",
       "      <td>NaN</td>\n",
       "      <td>39.175833</td>\n",
       "      <td>45.775833</td>\n",
       "      <td>13.034648</td>\n",
       "      <td>NaN</td>\n",
       "      <td>14.577852</td>\n",
       "      <td>12.990573</td>\n",
       "      <td>NaN</td>\n",
       "      <td>14.523412</td>\n",
       "      <td>13.200000</td>\n",
       "      <td>138125.000000</td>\n",
       "      <td>186536.458333</td>\n",
       "      <td>275701.041667</td>\n",
       "      <td>358784.375000</td>\n",
       "      <td>446906.741573</td>\n",
       "      <td>296305.208333</td>\n",
       "      <td>212530.208333</td>\n",
       "      <td>168543.750000</td>\n",
       "      <td>296305.208333</td>\n",
       "      <td>319227.083333</td>\n",
       "      <td>431629.166667</td>\n",
       "      <td>1929.360465</td>\n",
       "      <td>1920.000000</td>\n",
       "      <td>1.183116</td>\n",
       "      <td>1572.313953</td>\n",
       "      <td>2021.290698</td>\n",
       "    </tr>\n",
       "    <tr>\n",
       "      <th>3</th>\n",
       "      <td>3</td>\n",
       "      <td>1005</td>\n",
       "      <td>33.479167</td>\n",
       "      <td>33.489583</td>\n",
       "      <td>NaN</td>\n",
       "      <td>NaN</td>\n",
       "      <td>NaN</td>\n",
       "      <td>NaN</td>\n",
       "      <td>NaN</td>\n",
       "      <td>NaN</td>\n",
       "      <td>NaN</td>\n",
       "      <td>NaN</td>\n",
       "      <td>NaN</td>\n",
       "      <td>NaN</td>\n",
       "      <td>NaN</td>\n",
       "      <td>NaN</td>\n",
       "      <td>NaN</td>\n",
       "      <td>NaN</td>\n",
       "      <td>NaN</td>\n",
       "      <td>NaN</td>\n",
       "      <td>NaN</td>\n",
       "      <td>NaN</td>\n",
       "      <td>NaN</td>\n",
       "      <td>NaN</td>\n",
       "      <td>NaN</td>\n",
       "      <td>NaN</td>\n",
       "      <td>NaN</td>\n",
       "      <td>NaN</td>\n",
       "      <td>NaN</td>\n",
       "      <td>NaN</td>\n",
       "      <td>NaN</td>\n",
       "      <td>NaN</td>\n",
       "      <td>NaN</td>\n",
       "      <td>NaN</td>\n",
       "      <td>NaN</td>\n",
       "      <td>NaN</td>\n",
       "      <td>NaN</td>\n",
       "      <td>NaN</td>\n",
       "      <td>NaN</td>\n",
       "      <td>NaN</td>\n",
       "      <td>NaN</td>\n",
       "      <td>NaN</td>\n",
       "      <td>NaN</td>\n",
       "      <td>NaN</td>\n",
       "      <td>NaN</td>\n",
       "      <td>NaN</td>\n",
       "      <td>NaN</td>\n",
       "      <td>NaN</td>\n",
       "      <td>NaN</td>\n",
       "      <td>NaN</td>\n",
       "      <td>41.080208</td>\n",
       "      <td>48.649167</td>\n",
       "      <td>NaN</td>\n",
       "      <td>NaN</td>\n",
       "      <td>NaN</td>\n",
       "      <td>NaN</td>\n",
       "      <td>NaN</td>\n",
       "      <td>NaN</td>\n",
       "      <td>11.464598</td>\n",
       "      <td>NaN</td>\n",
       "      <td>157896.875000</td>\n",
       "      <td>187269.791667</td>\n",
       "      <td>224420.833333</td>\n",
       "      <td>NaN</td>\n",
       "      <td>189014.583333</td>\n",
       "      <td>148967.708333</td>\n",
       "      <td>NaN</td>\n",
       "      <td>189014.583333</td>\n",
       "      <td>189226.041667</td>\n",
       "      <td>248231.250000</td>\n",
       "      <td>1375.709302</td>\n",
       "      <td>1359.988372</td>\n",
       "      <td>0.940628</td>\n",
       "      <td>1076.000000</td>\n",
       "      <td>1376.302326</td>\n",
       "    </tr>\n",
       "    <tr>\n",
       "      <th>4</th>\n",
       "      <td>4</td>\n",
       "      <td>1007</td>\n",
       "      <td>102.822917</td>\n",
       "      <td>102.822917</td>\n",
       "      <td>NaN</td>\n",
       "      <td>NaN</td>\n",
       "      <td>144.227791</td>\n",
       "      <td>NaN</td>\n",
       "      <td>NaN</td>\n",
       "      <td>140.799821</td>\n",
       "      <td>NaN</td>\n",
       "      <td>NaN</td>\n",
       "      <td>141.109067</td>\n",
       "      <td>NaN</td>\n",
       "      <td>NaN</td>\n",
       "      <td>NaN</td>\n",
       "      <td>NaN</td>\n",
       "      <td>NaN</td>\n",
       "      <td>265732.291667</td>\n",
       "      <td>NaN</td>\n",
       "      <td>NaN</td>\n",
       "      <td>271404.750000</td>\n",
       "      <td>3.456499</td>\n",
       "      <td>NaN</td>\n",
       "      <td>3.419851</td>\n",
       "      <td>8930.465909</td>\n",
       "      <td>NaN</td>\n",
       "      <td>9076.431818</td>\n",
       "      <td>NaN</td>\n",
       "      <td>NaN</td>\n",
       "      <td>NaN</td>\n",
       "      <td>NaN</td>\n",
       "      <td>NaN</td>\n",
       "      <td>NaN</td>\n",
       "      <td>NaN</td>\n",
       "      <td>NaN</td>\n",
       "      <td>NaN</td>\n",
       "      <td>NaN</td>\n",
       "      <td>NaN</td>\n",
       "      <td>NaN</td>\n",
       "      <td>NaN</td>\n",
       "      <td>NaN</td>\n",
       "      <td>NaN</td>\n",
       "      <td>NaN</td>\n",
       "      <td>NaN</td>\n",
       "      <td>NaN</td>\n",
       "      <td>NaN</td>\n",
       "      <td>NaN</td>\n",
       "      <td>NaN</td>\n",
       "      <td>NaN</td>\n",
       "      <td>37.011250</td>\n",
       "      <td>45.729271</td>\n",
       "      <td>12.983595</td>\n",
       "      <td>NaN</td>\n",
       "      <td>13.832079</td>\n",
       "      <td>12.978023</td>\n",
       "      <td>NaN</td>\n",
       "      <td>13.830798</td>\n",
       "      <td>12.553333</td>\n",
       "      <td>NaN</td>\n",
       "      <td>193432.291667</td>\n",
       "      <td>249833.333333</td>\n",
       "      <td>302739.583333</td>\n",
       "      <td>NaN</td>\n",
       "      <td>248307.291667</td>\n",
       "      <td>192279.166667</td>\n",
       "      <td>172906.250000</td>\n",
       "      <td>248307.291667</td>\n",
       "      <td>250259.375000</td>\n",
       "      <td>330533.333333</td>\n",
       "      <td>NaN</td>\n",
       "      <td>NaN</td>\n",
       "      <td>NaN</td>\n",
       "      <td>NaN</td>\n",
       "      <td>NaN</td>\n",
       "    </tr>\n",
       "    <tr>\n",
       "      <th>...</th>\n",
       "      <td>...</td>\n",
       "      <td>...</td>\n",
       "      <td>...</td>\n",
       "      <td>...</td>\n",
       "      <td>...</td>\n",
       "      <td>...</td>\n",
       "      <td>...</td>\n",
       "      <td>...</td>\n",
       "      <td>...</td>\n",
       "      <td>...</td>\n",
       "      <td>...</td>\n",
       "      <td>...</td>\n",
       "      <td>...</td>\n",
       "      <td>...</td>\n",
       "      <td>...</td>\n",
       "      <td>...</td>\n",
       "      <td>...</td>\n",
       "      <td>...</td>\n",
       "      <td>...</td>\n",
       "      <td>...</td>\n",
       "      <td>...</td>\n",
       "      <td>...</td>\n",
       "      <td>...</td>\n",
       "      <td>...</td>\n",
       "      <td>...</td>\n",
       "      <td>...</td>\n",
       "      <td>...</td>\n",
       "      <td>...</td>\n",
       "      <td>...</td>\n",
       "      <td>...</td>\n",
       "      <td>...</td>\n",
       "      <td>...</td>\n",
       "      <td>...</td>\n",
       "      <td>...</td>\n",
       "      <td>...</td>\n",
       "      <td>...</td>\n",
       "      <td>...</td>\n",
       "      <td>...</td>\n",
       "      <td>...</td>\n",
       "      <td>...</td>\n",
       "      <td>...</td>\n",
       "      <td>...</td>\n",
       "      <td>...</td>\n",
       "      <td>...</td>\n",
       "      <td>...</td>\n",
       "      <td>...</td>\n",
       "      <td>...</td>\n",
       "      <td>...</td>\n",
       "      <td>...</td>\n",
       "      <td>...</td>\n",
       "      <td>...</td>\n",
       "      <td>...</td>\n",
       "      <td>...</td>\n",
       "      <td>...</td>\n",
       "      <td>...</td>\n",
       "      <td>...</td>\n",
       "      <td>...</td>\n",
       "      <td>...</td>\n",
       "      <td>...</td>\n",
       "      <td>...</td>\n",
       "      <td>...</td>\n",
       "      <td>...</td>\n",
       "      <td>...</td>\n",
       "      <td>...</td>\n",
       "      <td>...</td>\n",
       "      <td>...</td>\n",
       "      <td>...</td>\n",
       "      <td>...</td>\n",
       "      <td>...</td>\n",
       "      <td>...</td>\n",
       "      <td>...</td>\n",
       "      <td>...</td>\n",
       "      <td>...</td>\n",
       "      <td>...</td>\n",
       "      <td>...</td>\n",
       "    </tr>\n",
       "    <tr>\n",
       "      <th>19046</th>\n",
       "      <td>19046</td>\n",
       "      <td>99709</td>\n",
       "      <td>102.812500</td>\n",
       "      <td>102.760417</td>\n",
       "      <td>NaN</td>\n",
       "      <td>NaN</td>\n",
       "      <td>NaN</td>\n",
       "      <td>NaN</td>\n",
       "      <td>NaN</td>\n",
       "      <td>179.511796</td>\n",
       "      <td>NaN</td>\n",
       "      <td>NaN</td>\n",
       "      <td>182.683556</td>\n",
       "      <td>NaN</td>\n",
       "      <td>NaN</td>\n",
       "      <td>NaN</td>\n",
       "      <td>NaN</td>\n",
       "      <td>NaN</td>\n",
       "      <td>226419.619792</td>\n",
       "      <td>NaN</td>\n",
       "      <td>NaN</td>\n",
       "      <td>234582.812500</td>\n",
       "      <td>NaN</td>\n",
       "      <td>NaN</td>\n",
       "      <td>NaN</td>\n",
       "      <td>NaN</td>\n",
       "      <td>NaN</td>\n",
       "      <td>NaN</td>\n",
       "      <td>NaN</td>\n",
       "      <td>NaN</td>\n",
       "      <td>NaN</td>\n",
       "      <td>NaN</td>\n",
       "      <td>NaN</td>\n",
       "      <td>NaN</td>\n",
       "      <td>NaN</td>\n",
       "      <td>NaN</td>\n",
       "      <td>NaN</td>\n",
       "      <td>NaN</td>\n",
       "      <td>NaN</td>\n",
       "      <td>NaN</td>\n",
       "      <td>NaN</td>\n",
       "      <td>NaN</td>\n",
       "      <td>NaN</td>\n",
       "      <td>NaN</td>\n",
       "      <td>NaN</td>\n",
       "      <td>NaN</td>\n",
       "      <td>NaN</td>\n",
       "      <td>NaN</td>\n",
       "      <td>NaN</td>\n",
       "      <td>NaN</td>\n",
       "      <td>NaN</td>\n",
       "      <td>NaN</td>\n",
       "      <td>14.897396</td>\n",
       "      <td>NaN</td>\n",
       "      <td>15.267032</td>\n",
       "      <td>14.881134</td>\n",
       "      <td>NaN</td>\n",
       "      <td>15.254671</td>\n",
       "      <td>11.505476</td>\n",
       "      <td>NaN</td>\n",
       "      <td>NaN</td>\n",
       "      <td>240635.416667</td>\n",
       "      <td>NaN</td>\n",
       "      <td>NaN</td>\n",
       "      <td>221098.958333</td>\n",
       "      <td>166201.041667</td>\n",
       "      <td>141718.750000</td>\n",
       "      <td>221098.958333</td>\n",
       "      <td>223994.791667</td>\n",
       "      <td>294289.583333</td>\n",
       "      <td>NaN</td>\n",
       "      <td>NaN</td>\n",
       "      <td>NaN</td>\n",
       "      <td>NaN</td>\n",
       "      <td>NaN</td>\n",
       "    </tr>\n",
       "    <tr>\n",
       "      <th>19047</th>\n",
       "      <td>19047</td>\n",
       "      <td>99712</td>\n",
       "      <td>63.822917</td>\n",
       "      <td>63.875000</td>\n",
       "      <td>NaN</td>\n",
       "      <td>NaN</td>\n",
       "      <td>NaN</td>\n",
       "      <td>NaN</td>\n",
       "      <td>NaN</td>\n",
       "      <td>NaN</td>\n",
       "      <td>NaN</td>\n",
       "      <td>NaN</td>\n",
       "      <td>NaN</td>\n",
       "      <td>NaN</td>\n",
       "      <td>NaN</td>\n",
       "      <td>NaN</td>\n",
       "      <td>NaN</td>\n",
       "      <td>NaN</td>\n",
       "      <td>241647.619048</td>\n",
       "      <td>NaN</td>\n",
       "      <td>NaN</td>\n",
       "      <td>242411.904762</td>\n",
       "      <td>NaN</td>\n",
       "      <td>NaN</td>\n",
       "      <td>NaN</td>\n",
       "      <td>NaN</td>\n",
       "      <td>NaN</td>\n",
       "      <td>NaN</td>\n",
       "      <td>NaN</td>\n",
       "      <td>NaN</td>\n",
       "      <td>NaN</td>\n",
       "      <td>NaN</td>\n",
       "      <td>NaN</td>\n",
       "      <td>NaN</td>\n",
       "      <td>NaN</td>\n",
       "      <td>NaN</td>\n",
       "      <td>NaN</td>\n",
       "      <td>NaN</td>\n",
       "      <td>NaN</td>\n",
       "      <td>NaN</td>\n",
       "      <td>NaN</td>\n",
       "      <td>NaN</td>\n",
       "      <td>NaN</td>\n",
       "      <td>NaN</td>\n",
       "      <td>NaN</td>\n",
       "      <td>NaN</td>\n",
       "      <td>NaN</td>\n",
       "      <td>NaN</td>\n",
       "      <td>NaN</td>\n",
       "      <td>NaN</td>\n",
       "      <td>NaN</td>\n",
       "      <td>NaN</td>\n",
       "      <td>NaN</td>\n",
       "      <td>NaN</td>\n",
       "      <td>NaN</td>\n",
       "      <td>NaN</td>\n",
       "      <td>NaN</td>\n",
       "      <td>NaN</td>\n",
       "      <td>11.883929</td>\n",
       "      <td>NaN</td>\n",
       "      <td>NaN</td>\n",
       "      <td>NaN</td>\n",
       "      <td>NaN</td>\n",
       "      <td>NaN</td>\n",
       "      <td>236053.125000</td>\n",
       "      <td>166388.541667</td>\n",
       "      <td>NaN</td>\n",
       "      <td>236053.125000</td>\n",
       "      <td>236079.166667</td>\n",
       "      <td>294056.250000</td>\n",
       "      <td>NaN</td>\n",
       "      <td>NaN</td>\n",
       "      <td>NaN</td>\n",
       "      <td>NaN</td>\n",
       "      <td>NaN</td>\n",
       "    </tr>\n",
       "    <tr>\n",
       "      <th>19048</th>\n",
       "      <td>19048</td>\n",
       "      <td>99801</td>\n",
       "      <td>87.437500</td>\n",
       "      <td>87.541667</td>\n",
       "      <td>NaN</td>\n",
       "      <td>NaN</td>\n",
       "      <td>220.878237</td>\n",
       "      <td>NaN</td>\n",
       "      <td>NaN</td>\n",
       "      <td>204.045695</td>\n",
       "      <td>NaN</td>\n",
       "      <td>NaN</td>\n",
       "      <td>207.400918</td>\n",
       "      <td>NaN</td>\n",
       "      <td>NaN</td>\n",
       "      <td>337367.1875</td>\n",
       "      <td>NaN</td>\n",
       "      <td>NaN</td>\n",
       "      <td>343289.062500</td>\n",
       "      <td>NaN</td>\n",
       "      <td>NaN</td>\n",
       "      <td>341207.286458</td>\n",
       "      <td>2.795018</td>\n",
       "      <td>NaN</td>\n",
       "      <td>2.700686</td>\n",
       "      <td>9215.352273</td>\n",
       "      <td>NaN</td>\n",
       "      <td>9783.863636</td>\n",
       "      <td>NaN</td>\n",
       "      <td>NaN</td>\n",
       "      <td>NaN</td>\n",
       "      <td>NaN</td>\n",
       "      <td>NaN</td>\n",
       "      <td>NaN</td>\n",
       "      <td>NaN</td>\n",
       "      <td>NaN</td>\n",
       "      <td>NaN</td>\n",
       "      <td>NaN</td>\n",
       "      <td>NaN</td>\n",
       "      <td>NaN</td>\n",
       "      <td>NaN</td>\n",
       "      <td>NaN</td>\n",
       "      <td>NaN</td>\n",
       "      <td>NaN</td>\n",
       "      <td>NaN</td>\n",
       "      <td>NaN</td>\n",
       "      <td>NaN</td>\n",
       "      <td>NaN</td>\n",
       "      <td>NaN</td>\n",
       "      <td>NaN</td>\n",
       "      <td>NaN</td>\n",
       "      <td>NaN</td>\n",
       "      <td>10.185390</td>\n",
       "      <td>NaN</td>\n",
       "      <td>10.055832</td>\n",
       "      <td>10.187859</td>\n",
       "      <td>NaN</td>\n",
       "      <td>10.056033</td>\n",
       "      <td>14.989405</td>\n",
       "      <td>NaN</td>\n",
       "      <td>252856.250000</td>\n",
       "      <td>320644.791667</td>\n",
       "      <td>390655.208333</td>\n",
       "      <td>419298.958333</td>\n",
       "      <td>319641.666667</td>\n",
       "      <td>250754.166667</td>\n",
       "      <td>171142.708333</td>\n",
       "      <td>319641.666667</td>\n",
       "      <td>336747.916667</td>\n",
       "      <td>432995.833333</td>\n",
       "      <td>NaN</td>\n",
       "      <td>NaN</td>\n",
       "      <td>NaN</td>\n",
       "      <td>NaN</td>\n",
       "      <td>NaN</td>\n",
       "    </tr>\n",
       "    <tr>\n",
       "      <th>19049</th>\n",
       "      <td>19049</td>\n",
       "      <td>99835</td>\n",
       "      <td>NaN</td>\n",
       "      <td>NaN</td>\n",
       "      <td>NaN</td>\n",
       "      <td>NaN</td>\n",
       "      <td>NaN</td>\n",
       "      <td>NaN</td>\n",
       "      <td>NaN</td>\n",
       "      <td>NaN</td>\n",
       "      <td>NaN</td>\n",
       "      <td>NaN</td>\n",
       "      <td>NaN</td>\n",
       "      <td>NaN</td>\n",
       "      <td>NaN</td>\n",
       "      <td>NaN</td>\n",
       "      <td>NaN</td>\n",
       "      <td>NaN</td>\n",
       "      <td>419610.294118</td>\n",
       "      <td>NaN</td>\n",
       "      <td>NaN</td>\n",
       "      <td>426482.352941</td>\n",
       "      <td>NaN</td>\n",
       "      <td>NaN</td>\n",
       "      <td>NaN</td>\n",
       "      <td>NaN</td>\n",
       "      <td>NaN</td>\n",
       "      <td>NaN</td>\n",
       "      <td>NaN</td>\n",
       "      <td>NaN</td>\n",
       "      <td>NaN</td>\n",
       "      <td>NaN</td>\n",
       "      <td>NaN</td>\n",
       "      <td>NaN</td>\n",
       "      <td>NaN</td>\n",
       "      <td>NaN</td>\n",
       "      <td>NaN</td>\n",
       "      <td>NaN</td>\n",
       "      <td>NaN</td>\n",
       "      <td>NaN</td>\n",
       "      <td>NaN</td>\n",
       "      <td>NaN</td>\n",
       "      <td>NaN</td>\n",
       "      <td>NaN</td>\n",
       "      <td>NaN</td>\n",
       "      <td>NaN</td>\n",
       "      <td>NaN</td>\n",
       "      <td>NaN</td>\n",
       "      <td>NaN</td>\n",
       "      <td>NaN</td>\n",
       "      <td>NaN</td>\n",
       "      <td>NaN</td>\n",
       "      <td>NaN</td>\n",
       "      <td>NaN</td>\n",
       "      <td>NaN</td>\n",
       "      <td>NaN</td>\n",
       "      <td>NaN</td>\n",
       "      <td>NaN</td>\n",
       "      <td>NaN</td>\n",
       "      <td>NaN</td>\n",
       "      <td>NaN</td>\n",
       "      <td>NaN</td>\n",
       "      <td>NaN</td>\n",
       "      <td>NaN</td>\n",
       "      <td>NaN</td>\n",
       "      <td>NaN</td>\n",
       "      <td>NaN</td>\n",
       "      <td>NaN</td>\n",
       "      <td>NaN</td>\n",
       "      <td>NaN</td>\n",
       "      <td>NaN</td>\n",
       "      <td>NaN</td>\n",
       "      <td>NaN</td>\n",
       "      <td>NaN</td>\n",
       "      <td>NaN</td>\n",
       "    </tr>\n",
       "    <tr>\n",
       "      <th>19050</th>\n",
       "      <td>19050</td>\n",
       "      <td>99901</td>\n",
       "      <td>NaN</td>\n",
       "      <td>NaN</td>\n",
       "      <td>NaN</td>\n",
       "      <td>NaN</td>\n",
       "      <td>NaN</td>\n",
       "      <td>NaN</td>\n",
       "      <td>NaN</td>\n",
       "      <td>157.780411</td>\n",
       "      <td>NaN</td>\n",
       "      <td>NaN</td>\n",
       "      <td>181.391772</td>\n",
       "      <td>NaN</td>\n",
       "      <td>NaN</td>\n",
       "      <td>NaN</td>\n",
       "      <td>NaN</td>\n",
       "      <td>NaN</td>\n",
       "      <td>NaN</td>\n",
       "      <td>NaN</td>\n",
       "      <td>NaN</td>\n",
       "      <td>NaN</td>\n",
       "      <td>NaN</td>\n",
       "      <td>NaN</td>\n",
       "      <td>NaN</td>\n",
       "      <td>NaN</td>\n",
       "      <td>NaN</td>\n",
       "      <td>NaN</td>\n",
       "      <td>NaN</td>\n",
       "      <td>NaN</td>\n",
       "      <td>NaN</td>\n",
       "      <td>NaN</td>\n",
       "      <td>NaN</td>\n",
       "      <td>NaN</td>\n",
       "      <td>NaN</td>\n",
       "      <td>NaN</td>\n",
       "      <td>NaN</td>\n",
       "      <td>NaN</td>\n",
       "      <td>NaN</td>\n",
       "      <td>NaN</td>\n",
       "      <td>NaN</td>\n",
       "      <td>NaN</td>\n",
       "      <td>NaN</td>\n",
       "      <td>NaN</td>\n",
       "      <td>NaN</td>\n",
       "      <td>NaN</td>\n",
       "      <td>NaN</td>\n",
       "      <td>NaN</td>\n",
       "      <td>NaN</td>\n",
       "      <td>NaN</td>\n",
       "      <td>NaN</td>\n",
       "      <td>NaN</td>\n",
       "      <td>NaN</td>\n",
       "      <td>NaN</td>\n",
       "      <td>NaN</td>\n",
       "      <td>NaN</td>\n",
       "      <td>NaN</td>\n",
       "      <td>NaN</td>\n",
       "      <td>12.574286</td>\n",
       "      <td>NaN</td>\n",
       "      <td>163360.416667</td>\n",
       "      <td>239814.583333</td>\n",
       "      <td>285815.625000</td>\n",
       "      <td>NaN</td>\n",
       "      <td>225263.541667</td>\n",
       "      <td>155169.791667</td>\n",
       "      <td>119436.458333</td>\n",
       "      <td>225263.541667</td>\n",
       "      <td>242763.541667</td>\n",
       "      <td>307737.500000</td>\n",
       "      <td>NaN</td>\n",
       "      <td>NaN</td>\n",
       "      <td>NaN</td>\n",
       "      <td>NaN</td>\n",
       "      <td>NaN</td>\n",
       "    </tr>\n",
       "  </tbody>\n",
       "</table>\n",
       "<p>19051 rows × 75 columns</p>\n",
       "</div>"
      ],
      "text/plain": [
       "       index RegionName InventorySeasonallyAdjusted_AllHomes InventoryRaw_AllHomes MedianListingPricePerSqft_1Bedroom MedianListingPricePerSqft_2Bedroom MedianListingPricePerSqft_3Bedroom MedianListingPricePerSqft_4Bedroom MedianListingPricePerSqft_5BedroomOrMore MedianListingPricePerSqft_AllHomes MedianListingPricePerSqft_CondoCoop MedianListingPricePerSqft_DuplexTriplex MedianListingPricePerSqft_SingleFamilyResidence MedianListingPrice_1Bedroom MedianListingPrice_2Bedroom MedianListingPrice_3Bedroom MedianListingPrice_4Bedroom MedianListingPrice_5BedroomOrMore MedianListingPrice_AllHomes MedianListingPrice_CondoCoop MedianListingPrice_DuplexTriplex MedianListingPrice_SingleFamilyResidence MedianPctOfPriceReduction_AllHomes MedianPctOfPriceReduction_CondoCoop MedianPctOfPriceReduction_SingleFamilyResidence MedianPriceCutDollar_AllHomes MedianPriceCutDollar_CondoCoop MedianPriceCutDollar_SingleFamilyResidence MedianRentalPricePerSqft_1Bedroom MedianRentalPricePerSqft_2Bedroom  \\\n",
       "                                                        mean                  mean                               mean                               mean                               mean                               mean                                     mean                               mean                                mean                                    mean                                            mean                        mean                        mean                        mean                        mean                              mean                        mean                         mean                             mean                                     mean                               mean                                mean                                            mean                          mean                           mean                                       mean                              mean                              mean   \n",
       "0          0        745                                  NaN                   NaN                                NaN                                NaN                                NaN                                NaN                                      NaN                                NaN                                 NaN                                     NaN                                       93.240419                         NaN                         NaN                         NaN                         NaN                               NaN                         NaN                          NaN                              NaN                                      NaN                                NaN                                 NaN                                             NaN                           NaN                            NaN                                        NaN                               NaN                               NaN   \n",
       "1          1       1001                            78.135417             78.187500                                NaN                         140.826375                                NaN                                NaN                                      NaN                         143.969963                                 NaN                                     NaN                                      152.344176                         NaN                 168329.6875                         NaN                         NaN                               NaN               189913.338542                          NaN                              NaN                            210968.369792                           3.029398                                 NaN                                        2.993525                   5736.511364                            NaN                                6881.250000                               NaN                               NaN   \n",
       "2          2       1002                           129.979167            129.979167                                NaN                                NaN                                NaN                                NaN                                      NaN                         194.249250                                 NaN                                     NaN                                      196.557306                         NaN                         NaN                         NaN                         NaN                               NaN               315550.781250                          NaN                              NaN                            366685.416667                           3.302529                                 NaN                                        3.480619                  10297.727273                            NaN                               11815.340909                               NaN                               NaN   \n",
       "3          3       1005                            33.479167             33.489583                                NaN                                NaN                                NaN                                NaN                                      NaN                                NaN                                 NaN                                     NaN                                             NaN                         NaN                         NaN                         NaN                         NaN                               NaN                         NaN                          NaN                              NaN                                      NaN                                NaN                                 NaN                                             NaN                           NaN                            NaN                                        NaN                               NaN                               NaN   \n",
       "4          4       1007                           102.822917            102.822917                                NaN                                NaN                         144.227791                                NaN                                      NaN                         140.799821                                 NaN                                     NaN                                      141.109067                         NaN                         NaN                         NaN                         NaN                               NaN               265732.291667                          NaN                              NaN                            271404.750000                           3.456499                                 NaN                                        3.419851                   8930.465909                            NaN                                9076.431818                               NaN                               NaN   \n",
       "...      ...        ...                                  ...                   ...                                ...                                ...                                ...                                ...                                      ...                                ...                                 ...                                     ...                                             ...                         ...                         ...                         ...                         ...                               ...                         ...                          ...                              ...                                      ...                                ...                                 ...                                             ...                           ...                            ...                                        ...                               ...                               ...   \n",
       "19046  19046      99709                           102.812500            102.760417                                NaN                                NaN                                NaN                                NaN                                      NaN                         179.511796                                 NaN                                     NaN                                      182.683556                         NaN                         NaN                         NaN                         NaN                               NaN               226419.619792                          NaN                              NaN                            234582.812500                                NaN                                 NaN                                             NaN                           NaN                            NaN                                        NaN                               NaN                               NaN   \n",
       "19047  19047      99712                            63.822917             63.875000                                NaN                                NaN                                NaN                                NaN                                      NaN                                NaN                                 NaN                                     NaN                                             NaN                         NaN                         NaN                         NaN                         NaN                               NaN               241647.619048                          NaN                              NaN                            242411.904762                                NaN                                 NaN                                             NaN                           NaN                            NaN                                        NaN                               NaN                               NaN   \n",
       "19048  19048      99801                            87.437500             87.541667                                NaN                                NaN                         220.878237                                NaN                                      NaN                         204.045695                                 NaN                                     NaN                                      207.400918                         NaN                         NaN                 337367.1875                         NaN                               NaN               343289.062500                          NaN                              NaN                            341207.286458                           2.795018                                 NaN                                        2.700686                   9215.352273                            NaN                                9783.863636                               NaN                               NaN   \n",
       "19049  19049      99835                                  NaN                   NaN                                NaN                                NaN                                NaN                                NaN                                      NaN                                NaN                                 NaN                                     NaN                                             NaN                         NaN                         NaN                         NaN                         NaN                               NaN               419610.294118                          NaN                              NaN                            426482.352941                                NaN                                 NaN                                             NaN                           NaN                            NaN                                        NaN                               NaN                               NaN   \n",
       "19050  19050      99901                                  NaN                   NaN                                NaN                                NaN                                NaN                                NaN                                      NaN                         157.780411                                 NaN                                     NaN                                      181.391772                         NaN                         NaN                         NaN                         NaN                               NaN                         NaN                          NaN                              NaN                                      NaN                                NaN                                 NaN                                             NaN                           NaN                            NaN                                        NaN                               NaN                               NaN   \n",
       "\n",
       "      MedianRentalPricePerSqft_3Bedroom MedianRentalPricePerSqft_4Bedroom MedianRentalPricePerSqft_5BedroomOrMore MedianRentalPricePerSqft_AllHomes MedianRentalPricePerSqft_CondoCoop MedianRentalPricePerSqft_DuplexTriplex MedianRentalPricePerSqft_MultiFamilyResidence5PlusUnits MedianRentalPricePerSqft_SingleFamilyResidence MedianRentalPricePerSqft_Studio MedianRentalPrice_1Bedroom MedianRentalPrice_2Bedroom MedianRentalPrice_3Bedroom MedianRentalPrice_4Bedroom MedianRentalPrice_5BedroomOrMore MedianRentalPrice_AllHomes MedianRentalPrice_CondoCoop MedianRentalPrice_DuplexTriplex MedianRentalPrice_MultiFamilyResidence5PlusUnits MedianRentalPrice_SingleFamilyResidence MedianRentalPrice_Studio PctOfHomesDecreasingInValues_AllHomes PctOfHomesIncreasingInValues_AllHomes PctOfListingsWithPriceReductionsSeasAdj_AllHomes PctOfListingsWithPriceReductionsSeasAdj_CondoCoop PctOfListingsWithPriceReductionsSeasAdj_SingleFamilyResidence PctOfListingsWithPriceReductions_AllHomes  \\\n",
       "                                   mean                              mean                                    mean                              mean                               mean                                   mean                                                    mean                                           mean                            mean                       mean                       mean                       mean                       mean                             mean                       mean                        mean                            mean                                             mean                                    mean                     mean                                  mean                                  mean                                             mean                                              mean                                                          mean                                      mean   \n",
       "0                                   NaN                               NaN                                     NaN                               NaN                                NaN                                    NaN                                                NaN                                                 NaN                             NaN                        NaN                        NaN                        NaN                        NaN                              NaN                        NaN                         NaN                             NaN                                              NaN                                     NaN                      NaN                                   NaN                                   NaN                                              NaN                                               NaN                                                NaN                                                  NaN   \n",
       "1                                   NaN                               NaN                                     NaN                               NaN                                NaN                                    NaN                                                NaN                                                 NaN                             NaN                        NaN                        NaN                        NaN                        NaN                              NaN                        NaN                         NaN                             NaN                                              NaN                                     NaN                      NaN                             40.043646                             44.001250                                        17.751160                                               NaN                                          18.945096                                            17.769963   \n",
       "2                                   NaN                               NaN                                     NaN                               NaN                                NaN                                    NaN                                                NaN                                                 NaN                             NaN                        NaN                        NaN                        NaN                        NaN                              NaN                        NaN                         NaN                             NaN                                              NaN                                     NaN                      NaN                             39.175833                             45.775833                                        13.034648                                               NaN                                          14.577852                                            12.990573   \n",
       "3                                   NaN                               NaN                                     NaN                               NaN                                NaN                                    NaN                                                NaN                                                 NaN                             NaN                        NaN                        NaN                        NaN                        NaN                              NaN                        NaN                         NaN                             NaN                                              NaN                                     NaN                      NaN                             41.080208                             48.649167                                              NaN                                               NaN                                                NaN                                                  NaN   \n",
       "4                                   NaN                               NaN                                     NaN                               NaN                                NaN                                    NaN                                                NaN                                                 NaN                             NaN                        NaN                        NaN                        NaN                        NaN                              NaN                        NaN                         NaN                             NaN                                              NaN                                     NaN                      NaN                             37.011250                             45.729271                                        12.983595                                               NaN                                          13.832079                                            12.978023   \n",
       "...                                 ...                               ...                                     ...                               ...                                ...                                    ...                                                ...                                                 ...                             ...                        ...                        ...                        ...                        ...                              ...                        ...                         ...                             ...                                              ...                                     ...                      ...                                   ...                                   ...                                              ...                                               ...                                                ...                                                  ...   \n",
       "19046                               NaN                               NaN                                     NaN                               NaN                                NaN                                    NaN                                                NaN                                                 NaN                             NaN                        NaN                        NaN                        NaN                        NaN                              NaN                        NaN                         NaN                             NaN                                              NaN                                     NaN                      NaN                                   NaN                                   NaN                                        14.897396                                               NaN                                          15.267032                                            14.881134   \n",
       "19047                               NaN                               NaN                                     NaN                               NaN                                NaN                                    NaN                                                NaN                                                 NaN                             NaN                        NaN                        NaN                        NaN                        NaN                              NaN                        NaN                         NaN                             NaN                                              NaN                                     NaN                      NaN                                   NaN                                   NaN                                              NaN                                               NaN                                                NaN                                                  NaN   \n",
       "19048                               NaN                               NaN                                     NaN                               NaN                                NaN                                    NaN                                                NaN                                                 NaN                             NaN                        NaN                        NaN                        NaN                        NaN                              NaN                        NaN                         NaN                             NaN                                              NaN                                     NaN                      NaN                                   NaN                                   NaN                                        10.185390                                               NaN                                          10.055832                                            10.187859   \n",
       "19049                               NaN                               NaN                                     NaN                               NaN                                NaN                                    NaN                                                NaN                                                 NaN                             NaN                        NaN                        NaN                        NaN                        NaN                              NaN                        NaN                         NaN                             NaN                                              NaN                                     NaN                      NaN                                   NaN                                   NaN                                              NaN                                               NaN                                                NaN                                                  NaN   \n",
       "19050                               NaN                               NaN                                     NaN                               NaN                                NaN                                    NaN                                                NaN                                                 NaN                             NaN                        NaN                        NaN                        NaN                        NaN                              NaN                        NaN                         NaN                             NaN                                              NaN                                     NaN                      NaN                                   NaN                                   NaN                                              NaN                                               NaN                                                NaN                                                  NaN   \n",
       "\n",
       "      PctOfListingsWithPriceReductions_CondoCoop PctOfListingsWithPriceReductions_SingleFamilyResidence PriceToRentRatio_AllHomes  ZHVI_1bedroom  ZHVI_2bedroom  ZHVI_3bedroom  ZHVI_4bedroom ZHVI_5BedroomOrMore  ZHVI_AllHomes ZHVI_BottomTier ZHVI_CondoCoop ZHVI_MiddleTier ZHVI_SingleFamilyResidence   ZHVI_TopTier ZRI_AllHomes ZRI_AllHomesPlusMultifamily ZriPerSqft_AllHomes Zri_MultiFamilyResidenceRental Zri_SingleFamilyResidenceRental  \n",
       "                                            mean                                                   mean                      mean           mean           mean           mean           mean                mean           mean            mean           mean            mean                       mean           mean         mean                        mean                mean                           mean                            mean  \n",
       "0                                            NaN                                                NaN                           NaN            NaN            NaN            NaN            NaN                 NaN            NaN             NaN            NaN             NaN                        NaN            NaN          NaN                         NaN                 NaN                            NaN                             NaN  \n",
       "1                                            NaN                                          18.981072                     10.630345   65748.958333  155172.916667  195243.750000  216195.833333       252576.041667  181509.375000   135272.916667  134261.458333   181509.375000              194297.916667  240321.875000  1450.686047                 1441.837209            1.142535                    1287.418605                     1500.930233  \n",
       "2                                            NaN                                          14.523412                     13.200000  138125.000000  186536.458333  275701.041667  358784.375000       446906.741573  296305.208333   212530.208333  168543.750000   296305.208333              319227.083333  431629.166667  1929.360465                 1920.000000            1.183116                    1572.313953                     2021.290698  \n",
       "3                                            NaN                                                NaN                     11.464598            NaN  157896.875000  187269.791667  224420.833333                 NaN  189014.583333   148967.708333            NaN   189014.583333              189226.041667  248231.250000  1375.709302                 1359.988372            0.940628                    1076.000000                     1376.302326  \n",
       "4                                            NaN                                          13.830798                     12.553333            NaN  193432.291667  249833.333333  302739.583333                 NaN  248307.291667   192279.166667  172906.250000   248307.291667              250259.375000  330533.333333          NaN                         NaN                 NaN                            NaN                             NaN  \n",
       "...                                          ...                                                ...                           ...            ...            ...            ...            ...                 ...            ...             ...            ...             ...                        ...            ...          ...                         ...                 ...                            ...                             ...  \n",
       "19046                                        NaN                                          15.254671                     11.505476            NaN            NaN  240635.416667            NaN                 NaN  221098.958333   166201.041667  141718.750000   221098.958333              223994.791667  294289.583333          NaN                         NaN                 NaN                            NaN                             NaN  \n",
       "19047                                        NaN                                                NaN                     11.883929            NaN            NaN            NaN            NaN                 NaN  236053.125000   166388.541667            NaN   236053.125000              236079.166667  294056.250000          NaN                         NaN                 NaN                            NaN                             NaN  \n",
       "19048                                        NaN                                          10.056033                     14.989405            NaN  252856.250000  320644.791667  390655.208333       419298.958333  319641.666667   250754.166667  171142.708333   319641.666667              336747.916667  432995.833333          NaN                         NaN                 NaN                            NaN                             NaN  \n",
       "19049                                        NaN                                                NaN                           NaN            NaN            NaN            NaN            NaN                 NaN            NaN             NaN            NaN             NaN                        NaN            NaN          NaN                         NaN                 NaN                            NaN                             NaN  \n",
       "19050                                        NaN                                                NaN                     12.574286            NaN  163360.416667  239814.583333  285815.625000                 NaN  225263.541667   155169.791667  119436.458333   225263.541667              242763.541667  307737.500000          NaN                         NaN                 NaN                            NaN                             NaN  \n",
       "\n",
       "[19051 rows x 75 columns]"
      ]
     },
     "execution_count": 75,
     "metadata": {},
     "output_type": "execute_result"
    }
   ],
   "source": [
    "## Create variable named multi that utilizes the groupby function to reduce to a singular of zip code then\n",
    "##  aggregate the reamining columns in an effort to reduce overall complexity \n",
    "zip_multi = zip_df.groupby(['RegionName']).agg({'InventorySeasonallyAdjusted_AllHomes':['mean'], \n",
    "                                                'InventoryRaw_AllHomes':['mean'],\n",
    "                                                'MedianListingPricePerSqft_1Bedroom':['mean'],\n",
    "                                                'MedianListingPricePerSqft_2Bedroom':['mean'],\n",
    "                                                'MedianListingPricePerSqft_3Bedroom':['mean'],\n",
    "                                                'MedianListingPricePerSqft_4Bedroom':['mean'],\n",
    "                                                'MedianListingPricePerSqft_5BedroomOrMore':['mean'],\n",
    "                                                'MedianListingPricePerSqft_AllHomes':['mean'],\n",
    "                                                'MedianListingPricePerSqft_CondoCoop':['mean'],\n",
    "                                                'MedianListingPricePerSqft_DuplexTriplex':['mean'],\n",
    "                                                'MedianListingPricePerSqft_SingleFamilyResidence':['mean'],\n",
    "                                                'MedianListingPricePerSqft_SingleFamilyResidence':['mean'],\n",
    "                                                'MedianListingPrice_1Bedroom':['mean'],\n",
    "                                                'MedianListingPrice_2Bedroom':['mean'],\n",
    "                                                'MedianListingPrice_3Bedroom':['mean'],\n",
    "                                                'MedianListingPrice_4Bedroom':['mean'],\n",
    "                                                'MedianListingPrice_5BedroomOrMore':['mean'],\n",
    "                                                'MedianListingPrice_AllHomes':['mean'],\n",
    "                                                'MedianListingPrice_CondoCoop':['mean'],\n",
    "                                                'MedianListingPrice_DuplexTriplex':['mean'],\n",
    "                                                'MedianListingPrice_SingleFamilyResidence':['mean'],\n",
    "                                                'MedianPctOfPriceReduction_AllHomes':['mean'],\n",
    "                                                'MedianPctOfPriceReduction_CondoCoop':['mean'],\n",
    "                                                'MedianPctOfPriceReduction_SingleFamilyResidence':['mean'],\n",
    "                                                'MedianPriceCutDollar_AllHomes':['mean'],\n",
    "                                                'MedianPriceCutDollar_CondoCoop':['mean'],\n",
    "                                                'MedianPriceCutDollar_SingleFamilyResidence':['mean'],\n",
    "                                                'MedianRentalPricePerSqft_1Bedroom':['mean'],\n",
    "                                                'MedianRentalPricePerSqft_2Bedroom':['mean'],\n",
    "                                                'MedianRentalPricePerSqft_3Bedroom':['mean'],\n",
    "                                                'MedianRentalPricePerSqft_4Bedroom':['mean'],\n",
    "                                                'MedianRentalPricePerSqft_5BedroomOrMore':['mean'],\n",
    "                                                'MedianRentalPricePerSqft_AllHomes':['mean'],\n",
    "                                                'MedianRentalPricePerSqft_CondoCoop':['mean'],\n",
    "                                                'MedianRentalPricePerSqft_DuplexTriplex':['mean'],\n",
    "                                                'MedianRentalPricePerSqft_MultiFamilyResidence5PlusUnits':['mean'],\n",
    "                                                'MedianRentalPricePerSqft_SingleFamilyResidence':['mean'],\n",
    "                                                'MedianRentalPricePerSqft_Studio':['mean'],\n",
    "                                                'MedianRentalPrice_1Bedroom':['mean'],\n",
    "                                                'MedianRentalPrice_2Bedroom':['mean'],\n",
    "                                                'MedianRentalPrice_3Bedroom':['mean'],\n",
    "                                                'MedianRentalPrice_4Bedroom':['mean'],\n",
    "                                                'MedianRentalPrice_5BedroomOrMore':['mean'],\n",
    "                                                'MedianRentalPrice_AllHomes':['mean'],\n",
    "                                                'MedianRentalPrice_CondoCoop':['mean'],\n",
    "                                                'MedianRentalPrice_DuplexTriplex':['mean'],\n",
    "                                                'MedianRentalPrice_MultiFamilyResidence5PlusUnits':['mean'],\n",
    "                                                'MedianRentalPrice_SingleFamilyResidence':['mean'],\n",
    "                                                'MedianRentalPrice_Studio':['mean'],\n",
    "                                                'PctOfHomesDecreasingInValues_AllHomes':['mean'],\n",
    "                                                'PctOfHomesIncreasingInValues_AllHomes':['mean'],\n",
    "                                                'PctOfListingsWithPriceReductionsSeasAdj_AllHomes':['mean'],\n",
    "                                                'PctOfListingsWithPriceReductionsSeasAdj_CondoCoop':['mean'],\n",
    "                                                'PctOfListingsWithPriceReductionsSeasAdj_SingleFamilyResidence':['mean'],\n",
    "                                                'PctOfListingsWithPriceReductions_AllHomes':['mean'],\n",
    "                                                'PctOfListingsWithPriceReductions_CondoCoop':['mean'],\n",
    "                                                'PctOfListingsWithPriceReductions_SingleFamilyResidence':['mean'],\n",
    "                                                'PriceToRentRatio_AllHomes':['mean'],\n",
    "                                                'ZHVI_1bedroom':['mean'],\n",
    "                                                'ZHVI_2bedroom':['mean'],\n",
    "                                                'ZHVI_3bedroom':['mean'],\n",
    "                                                'ZHVI_4bedroom':['mean'],\n",
    "                                                'ZHVI_5BedroomOrMore':['mean'],\n",
    "                                                'ZHVI_AllHomes':['mean'],\n",
    "                                                'ZHVI_BottomTier':['mean'],\n",
    "                                                'ZHVI_CondoCoop':['mean'],\n",
    "                                                'ZHVI_MiddleTier':['mean'],\n",
    "                                                'ZHVI_SingleFamilyResidence':['mean'],\n",
    "                                                'ZHVI_TopTier':['mean'],\n",
    "                                                'ZRI_AllHomes':['mean'],\n",
    "                                                'ZRI_AllHomesPlusMultifamily':['mean'],\n",
    "                                                'ZriPerSqft_AllHomes':['mean'],\n",
    "                                                'Zri_MultiFamilyResidenceRental':['mean'],\n",
    "                                                'Zri_SingleFamilyResidenceRental':['mean'],                                               \n",
    "                                               }).reset_index()\n",
    "zip_multi.reset_index()"
   ]
  },
  {
   "cell_type": "code",
   "execution_count": 76,
   "metadata": {},
   "outputs": [],
   "source": [
    "zip_multi.columns = zip_multi.columns.droplevel(1) "
   ]
  },
  {
   "cell_type": "code",
   "execution_count": 77,
   "metadata": {},
   "outputs": [
    {
     "data": {
      "text/plain": [
       "Index(['RegionName', 'InventorySeasonallyAdjusted_AllHomes', 'InventoryRaw_AllHomes', 'MedianListingPricePerSqft_1Bedroom', 'MedianListingPricePerSqft_2Bedroom', 'MedianListingPricePerSqft_3Bedroom', 'MedianListingPricePerSqft_4Bedroom', 'MedianListingPricePerSqft_5BedroomOrMore', 'MedianListingPricePerSqft_AllHomes', 'MedianListingPricePerSqft_CondoCoop', 'MedianListingPricePerSqft_DuplexTriplex', 'MedianListingPricePerSqft_SingleFamilyResidence', 'MedianListingPrice_1Bedroom', 'MedianListingPrice_2Bedroom', 'MedianListingPrice_3Bedroom', 'MedianListingPrice_4Bedroom', 'MedianListingPrice_5BedroomOrMore', 'MedianListingPrice_AllHomes', 'MedianListingPrice_CondoCoop', 'MedianListingPrice_DuplexTriplex', 'MedianListingPrice_SingleFamilyResidence', 'MedianPctOfPriceReduction_AllHomes', 'MedianPctOfPriceReduction_CondoCoop', 'MedianPctOfPriceReduction_SingleFamilyResidence', 'MedianPriceCutDollar_AllHomes', 'MedianPriceCutDollar_CondoCoop', 'MedianPriceCutDollar_SingleFamilyResidence',\n",
       "       'MedianRentalPricePerSqft_1Bedroom', 'MedianRentalPricePerSqft_2Bedroom', 'MedianRentalPricePerSqft_3Bedroom', 'MedianRentalPricePerSqft_4Bedroom', 'MedianRentalPricePerSqft_5BedroomOrMore', 'MedianRentalPricePerSqft_AllHomes', 'MedianRentalPricePerSqft_CondoCoop', 'MedianRentalPricePerSqft_DuplexTriplex', 'MedianRentalPricePerSqft_MultiFamilyResidence5PlusUnits', 'MedianRentalPricePerSqft_SingleFamilyResidence', 'MedianRentalPricePerSqft_Studio', 'MedianRentalPrice_1Bedroom', 'MedianRentalPrice_2Bedroom', 'MedianRentalPrice_3Bedroom', 'MedianRentalPrice_4Bedroom', 'MedianRentalPrice_5BedroomOrMore', 'MedianRentalPrice_AllHomes', 'MedianRentalPrice_CondoCoop', 'MedianRentalPrice_DuplexTriplex', 'MedianRentalPrice_MultiFamilyResidence5PlusUnits', 'MedianRentalPrice_SingleFamilyResidence', 'MedianRentalPrice_Studio', 'PctOfHomesDecreasingInValues_AllHomes', 'PctOfHomesIncreasingInValues_AllHomes', 'PctOfListingsWithPriceReductionsSeasAdj_AllHomes',\n",
       "       'PctOfListingsWithPriceReductionsSeasAdj_CondoCoop', 'PctOfListingsWithPriceReductionsSeasAdj_SingleFamilyResidence', 'PctOfListingsWithPriceReductions_AllHomes', 'PctOfListingsWithPriceReductions_CondoCoop', 'PctOfListingsWithPriceReductions_SingleFamilyResidence', 'PriceToRentRatio_AllHomes', 'ZHVI_1bedroom', 'ZHVI_2bedroom', 'ZHVI_3bedroom', 'ZHVI_4bedroom', 'ZHVI_5BedroomOrMore', 'ZHVI_AllHomes', 'ZHVI_BottomTier', 'ZHVI_CondoCoop', 'ZHVI_MiddleTier', 'ZHVI_SingleFamilyResidence', 'ZHVI_TopTier', 'ZRI_AllHomes', 'ZRI_AllHomesPlusMultifamily', 'ZriPerSqft_AllHomes', 'Zri_MultiFamilyResidenceRental', 'Zri_SingleFamilyResidenceRental'],\n",
       "      dtype='object')"
      ]
     },
     "execution_count": 77,
     "metadata": {},
     "output_type": "execute_result"
    }
   ],
   "source": [
    "zip_multi.columns"
   ]
  },
  {
   "cell_type": "code",
   "execution_count": 78,
   "metadata": {},
   "outputs": [],
   "source": [
    "## Establish two new columns in order to test logic of replacement / consolidation\n",
    "zip_df['NumberOfBedrooms'] = 0\n",
    "zip_df['DwellingType'] = 0\n",
    "zip_df['ZHVIPricing'] = 0\n"
   ]
  },
  {
   "cell_type": "code",
   "execution_count": 79,
   "metadata": {},
   "outputs": [],
   "source": [
    "## Replace null with 0\n",
    "\n",
    "zip_df['ZHVI_1bedroom'] = zip_df['ZHVI_1bedroom'].fillna(0)\n",
    "zip_df['ZHVI_2bedroom'] = zip_df['ZHVI_2bedroom'].fillna(0)\n",
    "zip_df['ZHVI_3bedroom'] = zip_df['ZHVI_3bedroom'].fillna(0)\n",
    "zip_df['ZHVI_4bedroom'] = zip_df['ZHVI_4bedroom'].fillna(0)\n",
    "zip_df['ZHVI_5BedroomOrMore'] = zip_df['ZHVI_5BedroomOrMore'].fillna(0)\n",
    "zip_df['ZHVI_CondoCoop'] = zip_df['ZHVI_CondoCoop'].fillna(0)\n",
    "zip_df['ZHVI_SingleFamilyResidence'] = zip_df['ZHVI_SingleFamilyResidence'].fillna(0)\n"
   ]
  },
  {
   "cell_type": "code",
   "execution_count": 80,
   "metadata": {},
   "outputs": [
    {
     "data": {
      "text/plain": [
       "(1802607, 78)"
      ]
     },
     "execution_count": 80,
     "metadata": {},
     "output_type": "execute_result"
    }
   ],
   "source": [
    "zip_df.shape"
   ]
  },
  {
   "cell_type": "code",
   "execution_count": 81,
   "metadata": {},
   "outputs": [],
   "source": [
    "z1 = zip_df\n",
    "z2 = zip_df"
   ]
  },
  {
   "cell_type": "code",
   "execution_count": 82,
   "metadata": {},
   "outputs": [],
   "source": [
    "z1 = z1[[\n",
    "        'RegionName'\n",
    "        , 'ZHVI_1bedroom'\n",
    "        , 'ZHVI_2bedroom'\n",
    "        , 'ZHVI_3bedroom'\n",
    "        , 'ZHVI_4bedroom'\n",
    "        , 'ZHVI_5BedroomOrMore'\n",
    "]]\n",
    "\n",
    "z2 = z2[[ 'RegionName'\n",
    "        , 'ZHVI_CondoCoop'\n",
    "        , 'ZHVI_SingleFamilyResidence'\n",
    "]]"
   ]
  },
  {
   "cell_type": "code",
   "execution_count": 83,
   "metadata": {},
   "outputs": [],
   "source": [
    "## Utilize melt to pivot the data\n",
    "z1 = z1.melt(id_vars=['RegionName'])\n",
    "z2 = z2.melt(id_vars=['RegionName'])"
   ]
  },
  {
   "cell_type": "code",
   "execution_count": 84,
   "metadata": {},
   "outputs": [],
   "source": [
    "## Need to rename columns after melt  to properly identify\n",
    "z1.rename(columns = {'variable': 'NumberOfBedrooms'}, inplace=True)\n",
    "z1.rename(columns = {'value': 'ZVHIPricing'}, inplace=True)\n",
    "z2.rename(columns = {'variable': 'DwellingType'}, inplace=True)\n",
    "z2.rename(columns = {'value': 'DwellingPricing'}, inplace=True)"
   ]
  },
  {
   "cell_type": "code",
   "execution_count": 85,
   "metadata": {},
   "outputs": [
    {
     "name": "stdout",
     "output_type": "stream",
     "text": [
      "(4013202, 3)\n",
      "(1983020, 3)\n"
     ]
    }
   ],
   "source": [
    "z1 = z1[(z1['ZVHIPricing'] !=0)]\n",
    "z2 = z2[(z2['DwellingPricing'] !=0)]\n",
    "print(z1.shape)\n",
    "print(z2.shape)"
   ]
  },
  {
   "cell_type": "code",
   "execution_count": 86,
   "metadata": {},
   "outputs": [],
   "source": [
    "## Factorize the dwelling\n",
    "# ## Ensure weight is given to the size\n",
    "No = {'ZHVI_1bedroom':1,\n",
    "              'ZHVI_2bedroom':2,\n",
    "              'ZHVI_3bedroom':3,\n",
    "              'ZHVI_4bedroom':4,\n",
    "              'ZHVI_5BedroomOrMore':5}\n",
    "\n",
    "No2 = {'ZHVI_CondoCoop':1,\n",
    "              'ZHVI_SingleFamilyResidence':2,\n",
    "      }\n",
    "\n",
    "z1['NumberOfBedrooms'] = z1['NumberOfBedrooms'].map(No)\n",
    "z2['DwellingType'] = z2['DwellingType'].map(No2)"
   ]
  },
  {
   "cell_type": "code",
   "execution_count": 87,
   "metadata": {},
   "outputs": [],
   "source": [
    "## Aggregate pricing values by region name and subset\n",
    "z1 = z1.groupby(['RegionName','NumberOfBedrooms']).agg({'ZVHIPricing':['mean']}).reset_index(level=[1,0])\n",
    "z2 = z2.groupby(['RegionName','DwellingType']).agg({'DwellingPricing':['mean']}).reset_index(level=[1,0])\n"
   ]
  },
  {
   "cell_type": "code",
   "execution_count": 88,
   "metadata": {},
   "outputs": [
    {
     "name": "stdout",
     "output_type": "stream",
     "text": [
      "(42355, 3)\n",
      "(20983, 3)\n"
     ]
    }
   ],
   "source": [
    "print(z1.shape)\n",
    "print(z2.shape)"
   ]
  },
  {
   "cell_type": "code",
   "execution_count": 89,
   "metadata": {},
   "outputs": [],
   "source": [
    "## merge z1 and z2 on the region name for a consolidated dataset\n",
    "#zipy = pd.concat([z1,z2],join='outer',keys='RegionName')\n",
    "zz = z1.merge(z2,how='left',on='RegionName')"
   ]
  },
  {
   "cell_type": "code",
   "execution_count": 90,
   "metadata": {},
   "outputs": [
    {
     "data": {
      "text/html": [
       "<div>\n",
       "<style scoped>\n",
       "    .dataframe tbody tr th:only-of-type {\n",
       "        vertical-align: middle;\n",
       "    }\n",
       "\n",
       "    .dataframe tbody tr th {\n",
       "        vertical-align: top;\n",
       "    }\n",
       "\n",
       "    .dataframe thead tr th {\n",
       "        text-align: left;\n",
       "    }\n",
       "</style>\n",
       "<table border=\"1\" class=\"dataframe\">\n",
       "  <thead>\n",
       "    <tr>\n",
       "      <th></th>\n",
       "      <th>index</th>\n",
       "      <th>RegionName</th>\n",
       "      <th>NumberOfBedrooms</th>\n",
       "      <th>ZVHIPricing</th>\n",
       "      <th>DwellingType</th>\n",
       "      <th>DwellingPricing</th>\n",
       "    </tr>\n",
       "    <tr>\n",
       "      <th></th>\n",
       "      <th></th>\n",
       "      <th></th>\n",
       "      <th></th>\n",
       "      <th>mean</th>\n",
       "      <th></th>\n",
       "      <th>mean</th>\n",
       "    </tr>\n",
       "  </thead>\n",
       "  <tbody>\n",
       "    <tr>\n",
       "      <th>0</th>\n",
       "      <td>0</td>\n",
       "      <td>1001</td>\n",
       "      <td>1</td>\n",
       "      <td>65748.958333</td>\n",
       "      <td>1.0</td>\n",
       "      <td>134261.458333</td>\n",
       "    </tr>\n",
       "    <tr>\n",
       "      <th>1</th>\n",
       "      <td>1</td>\n",
       "      <td>1001</td>\n",
       "      <td>1</td>\n",
       "      <td>65748.958333</td>\n",
       "      <td>2.0</td>\n",
       "      <td>194297.916667</td>\n",
       "    </tr>\n",
       "    <tr>\n",
       "      <th>2</th>\n",
       "      <td>2</td>\n",
       "      <td>1001</td>\n",
       "      <td>2</td>\n",
       "      <td>155172.916667</td>\n",
       "      <td>1.0</td>\n",
       "      <td>134261.458333</td>\n",
       "    </tr>\n",
       "    <tr>\n",
       "      <th>3</th>\n",
       "      <td>3</td>\n",
       "      <td>1001</td>\n",
       "      <td>2</td>\n",
       "      <td>155172.916667</td>\n",
       "      <td>2.0</td>\n",
       "      <td>194297.916667</td>\n",
       "    </tr>\n",
       "    <tr>\n",
       "      <th>4</th>\n",
       "      <td>4</td>\n",
       "      <td>1001</td>\n",
       "      <td>3</td>\n",
       "      <td>195243.750000</td>\n",
       "      <td>1.0</td>\n",
       "      <td>134261.458333</td>\n",
       "    </tr>\n",
       "    <tr>\n",
       "      <th>...</th>\n",
       "      <td>...</td>\n",
       "      <td>...</td>\n",
       "      <td>...</td>\n",
       "      <td>...</td>\n",
       "      <td>...</td>\n",
       "      <td>...</td>\n",
       "    </tr>\n",
       "    <tr>\n",
       "      <th>62515</th>\n",
       "      <td>62515</td>\n",
       "      <td>99901</td>\n",
       "      <td>2</td>\n",
       "      <td>163360.416667</td>\n",
       "      <td>2.0</td>\n",
       "      <td>242763.541667</td>\n",
       "    </tr>\n",
       "    <tr>\n",
       "      <th>62516</th>\n",
       "      <td>62516</td>\n",
       "      <td>99901</td>\n",
       "      <td>3</td>\n",
       "      <td>239814.583333</td>\n",
       "      <td>1.0</td>\n",
       "      <td>119436.458333</td>\n",
       "    </tr>\n",
       "    <tr>\n",
       "      <th>62517</th>\n",
       "      <td>62517</td>\n",
       "      <td>99901</td>\n",
       "      <td>3</td>\n",
       "      <td>239814.583333</td>\n",
       "      <td>2.0</td>\n",
       "      <td>242763.541667</td>\n",
       "    </tr>\n",
       "    <tr>\n",
       "      <th>62518</th>\n",
       "      <td>62518</td>\n",
       "      <td>99901</td>\n",
       "      <td>4</td>\n",
       "      <td>285815.625000</td>\n",
       "      <td>1.0</td>\n",
       "      <td>119436.458333</td>\n",
       "    </tr>\n",
       "    <tr>\n",
       "      <th>62519</th>\n",
       "      <td>62519</td>\n",
       "      <td>99901</td>\n",
       "      <td>4</td>\n",
       "      <td>285815.625000</td>\n",
       "      <td>2.0</td>\n",
       "      <td>242763.541667</td>\n",
       "    </tr>\n",
       "  </tbody>\n",
       "</table>\n",
       "<p>62520 rows × 6 columns</p>\n",
       "</div>"
      ],
      "text/plain": [
       "       index RegionName NumberOfBedrooms    ZVHIPricing DwellingType DwellingPricing\n",
       "                                                   mean                         mean\n",
       "0          0       1001                1   65748.958333          1.0   134261.458333\n",
       "1          1       1001                1   65748.958333          2.0   194297.916667\n",
       "2          2       1001                2  155172.916667          1.0   134261.458333\n",
       "3          3       1001                2  155172.916667          2.0   194297.916667\n",
       "4          4       1001                3  195243.750000          1.0   134261.458333\n",
       "...      ...        ...              ...            ...          ...             ...\n",
       "62515  62515      99901                2  163360.416667          2.0   242763.541667\n",
       "62516  62516      99901                3  239814.583333          1.0   119436.458333\n",
       "62517  62517      99901                3  239814.583333          2.0   242763.541667\n",
       "62518  62518      99901                4  285815.625000          1.0   119436.458333\n",
       "62519  62519      99901                4  285815.625000          2.0   242763.541667\n",
       "\n",
       "[62520 rows x 6 columns]"
      ]
     },
     "execution_count": 90,
     "metadata": {},
     "output_type": "execute_result"
    }
   ],
   "source": [
    "zz.reset_index()"
   ]
  },
  {
   "cell_type": "code",
   "execution_count": 91,
   "metadata": {},
   "outputs": [
    {
     "data": {
      "text/plain": [
       "MultiIndex([(      'RegionName',     ''),\n",
       "            ('NumberOfBedrooms',     ''),\n",
       "            (     'ZVHIPricing', 'mean'),\n",
       "            (    'DwellingType',     ''),\n",
       "            ( 'DwellingPricing', 'mean')],\n",
       "           )"
      ]
     },
     "execution_count": 91,
     "metadata": {},
     "output_type": "execute_result"
    }
   ],
   "source": [
    "zz.columns"
   ]
  },
  {
   "cell_type": "code",
   "execution_count": 92,
   "metadata": {},
   "outputs": [],
   "source": [
    "## Create a price delta column and a price column \n",
    "\n",
    "##\n",
    "\n",
    "zz['Dw'] = zz['DwellingPricing']\n",
    "zz['zv'] = zz['ZVHIPricing']\n",
    "zz['Delta'] = (zz['Dw'] - zz['zv'])\n",
    "zz['Pricing'] = zz['zv'] + zz['Delta']\n"
   ]
  },
  {
   "cell_type": "code",
   "execution_count": 93,
   "metadata": {},
   "outputs": [],
   "source": [
    "## Replace variable name\n",
    "zip_df = zz[[\n",
    "    'RegionName'\n",
    "    ,'NumberOfBedrooms'\n",
    "    ,'DwellingType'\n",
    "    ,'Pricing'\n",
    "]]"
   ]
  },
  {
   "cell_type": "code",
   "execution_count": 94,
   "metadata": {},
   "outputs": [],
   "source": [
    "## Rename column to fall in line with other code for joining\n",
    "zip_df.rename(columns = {'RegionName': 'ZIP'}, inplace=True)\n",
    "#zip_multi.rename(columns = {'RegionName': 'ZIP'}, inplace=True)"
   ]
  },
  {
   "cell_type": "code",
   "execution_count": 95,
   "metadata": {},
   "outputs": [
    {
     "data": {
      "text/html": [
       "<div>\n",
       "<style scoped>\n",
       "    .dataframe tbody tr th:only-of-type {\n",
       "        vertical-align: middle;\n",
       "    }\n",
       "\n",
       "    .dataframe tbody tr th {\n",
       "        vertical-align: top;\n",
       "    }\n",
       "\n",
       "    .dataframe thead tr th {\n",
       "        text-align: left;\n",
       "    }\n",
       "</style>\n",
       "<table border=\"1\" class=\"dataframe\">\n",
       "  <thead>\n",
       "    <tr>\n",
       "      <th></th>\n",
       "      <th>ZIP</th>\n",
       "      <th>NumberOfBedrooms</th>\n",
       "      <th>DwellingType</th>\n",
       "      <th>Pricing</th>\n",
       "    </tr>\n",
       "    <tr>\n",
       "      <th></th>\n",
       "      <th></th>\n",
       "      <th></th>\n",
       "      <th></th>\n",
       "      <th></th>\n",
       "    </tr>\n",
       "  </thead>\n",
       "  <tbody>\n",
       "    <tr>\n",
       "      <th>0</th>\n",
       "      <td>1001</td>\n",
       "      <td>1</td>\n",
       "      <td>1.0</td>\n",
       "      <td>134261.458333</td>\n",
       "    </tr>\n",
       "    <tr>\n",
       "      <th>1</th>\n",
       "      <td>1001</td>\n",
       "      <td>1</td>\n",
       "      <td>2.0</td>\n",
       "      <td>194297.916667</td>\n",
       "    </tr>\n",
       "    <tr>\n",
       "      <th>2</th>\n",
       "      <td>1001</td>\n",
       "      <td>2</td>\n",
       "      <td>1.0</td>\n",
       "      <td>134261.458333</td>\n",
       "    </tr>\n",
       "    <tr>\n",
       "      <th>3</th>\n",
       "      <td>1001</td>\n",
       "      <td>2</td>\n",
       "      <td>2.0</td>\n",
       "      <td>194297.916667</td>\n",
       "    </tr>\n",
       "    <tr>\n",
       "      <th>4</th>\n",
       "      <td>1001</td>\n",
       "      <td>3</td>\n",
       "      <td>1.0</td>\n",
       "      <td>134261.458333</td>\n",
       "    </tr>\n",
       "  </tbody>\n",
       "</table>\n",
       "</div>"
      ],
      "text/plain": [
       "    ZIP NumberOfBedrooms DwellingType        Pricing\n",
       "                                                    \n",
       "0  1001                1          1.0  134261.458333\n",
       "1  1001                1          2.0  194297.916667\n",
       "2  1001                2          1.0  134261.458333\n",
       "3  1001                2          2.0  194297.916667\n",
       "4  1001                3          1.0  134261.458333"
      ]
     },
     "execution_count": 95,
     "metadata": {},
     "output_type": "execute_result"
    }
   ],
   "source": [
    "zip_df.head()"
   ]
  },
  {
   "cell_type": "code",
   "execution_count": 96,
   "metadata": {},
   "outputs": [
    {
     "data": {
      "text/plain": [
       "(62520, 4)"
      ]
     },
     "execution_count": 96,
     "metadata": {},
     "output_type": "execute_result"
    }
   ],
   "source": [
    "zip_df.shape"
   ]
  },
  {
   "cell_type": "code",
   "execution_count": 97,
   "metadata": {},
   "outputs": [],
   "source": [
    "zip_df.columns = zip_df.columns.droplevel(1) "
   ]
  },
  {
   "cell_type": "code",
   "execution_count": 98,
   "metadata": {},
   "outputs": [
    {
     "data": {
      "text/plain": [
       "Index(['ZIP', 'NumberOfBedrooms', 'DwellingType', 'Pricing'], dtype='object')"
      ]
     },
     "execution_count": 98,
     "metadata": {},
     "output_type": "execute_result"
    }
   ],
   "source": [
    "zip_df.columns"
   ]
  },
  {
   "cell_type": "code",
   "execution_count": 99,
   "metadata": {},
   "outputs": [
    {
     "data": {
      "text/plain": [
       "pandas.core.frame.DataFrame"
      ]
     },
     "execution_count": 99,
     "metadata": {},
     "output_type": "execute_result"
    }
   ],
   "source": [
    "type(zip_df)"
   ]
  },
  {
   "cell_type": "code",
   "execution_count": 100,
   "metadata": {},
   "outputs": [
    {
     "data": {
      "text/plain": [
       "(4812, 28)"
      ]
     },
     "execution_count": 100,
     "metadata": {},
     "output_type": "execute_result"
    }
   ],
   "source": [
    "#########################################\n",
    "## Hospital Quality Care -- Cleaning SL #\n",
    "#########################################\n",
    "hospital_df = pd.read_csv('Hospital General Information.csv', encoding=\"ISO-8859-1\")\n",
    "\n",
    "hospital_df.shape"
   ]
  },
  {
   "cell_type": "code",
   "execution_count": 101,
   "metadata": {},
   "outputs": [],
   "source": [
    "hospital_df=hospital_df.rename(columns={\"ZIP Code\": \"Zipcode\"})\n",
    "hospital_df=hospital_df[hospital_df['Hospital overall rating']!='Not Available']"
   ]
  },
  {
   "cell_type": "code",
   "execution_count": 102,
   "metadata": {},
   "outputs": [
    {
     "data": {
      "text/html": [
       "<div>\n",
       "<style scoped>\n",
       "    .dataframe tbody tr th:only-of-type {\n",
       "        vertical-align: middle;\n",
       "    }\n",
       "\n",
       "    .dataframe tbody tr th {\n",
       "        vertical-align: top;\n",
       "    }\n",
       "\n",
       "    .dataframe thead th {\n",
       "        text-align: right;\n",
       "    }\n",
       "</style>\n",
       "<table border=\"1\" class=\"dataframe\">\n",
       "  <thead>\n",
       "    <tr style=\"text-align: right;\">\n",
       "      <th></th>\n",
       "      <th>Provider ID</th>\n",
       "      <th>Hospital Name</th>\n",
       "      <th>Address</th>\n",
       "      <th>City</th>\n",
       "      <th>State</th>\n",
       "      <th>Zipcode</th>\n",
       "      <th>County Name</th>\n",
       "      <th>Phone Number</th>\n",
       "      <th>Hospital Type</th>\n",
       "      <th>Hospital Ownership</th>\n",
       "      <th>Emergency Services</th>\n",
       "      <th>Meets criteria for meaningful use of EHRs</th>\n",
       "      <th>Hospital overall rating</th>\n",
       "      <th>Hospital overall rating footnote</th>\n",
       "      <th>Mortality national comparison</th>\n",
       "      <th>Mortality national comparison footnote</th>\n",
       "      <th>Safety of care national comparison</th>\n",
       "      <th>Safety of care national comparison footnote</th>\n",
       "      <th>Readmission national comparison</th>\n",
       "      <th>Readmission national comparison footnote</th>\n",
       "      <th>Patient experience national comparison</th>\n",
       "      <th>Patient experience national comparison footnote</th>\n",
       "      <th>Effectiveness of care national comparison</th>\n",
       "      <th>Effectiveness of care national comparison footnote</th>\n",
       "      <th>Timeliness of care national comparison</th>\n",
       "      <th>Timeliness of care national comparison footnote</th>\n",
       "      <th>Efficient use of medical imaging national comparison</th>\n",
       "      <th>Efficient use of medical imaging national comparison footnote</th>\n",
       "    </tr>\n",
       "  </thead>\n",
       "  <tbody>\n",
       "    <tr>\n",
       "      <th>0</th>\n",
       "      <td>10001</td>\n",
       "      <td>SOUTHEAST ALABAMA MEDICAL CENTER</td>\n",
       "      <td>1108 ROSS CLARK CIRCLE</td>\n",
       "      <td>DOTHAN</td>\n",
       "      <td>AL</td>\n",
       "      <td>36301</td>\n",
       "      <td>HOUSTON</td>\n",
       "      <td>3347938701</td>\n",
       "      <td>Acute Care Hospitals</td>\n",
       "      <td>Government - Hospital District or Authority</td>\n",
       "      <td>Yes</td>\n",
       "      <td>Y</td>\n",
       "      <td>3</td>\n",
       "      <td>NaN</td>\n",
       "      <td>Same as the national average</td>\n",
       "      <td>NaN</td>\n",
       "      <td>Above the national average</td>\n",
       "      <td>NaN</td>\n",
       "      <td>Same as the national average</td>\n",
       "      <td>NaN</td>\n",
       "      <td>Below the national average</td>\n",
       "      <td>NaN</td>\n",
       "      <td>Same as the national average</td>\n",
       "      <td>NaN</td>\n",
       "      <td>Same as the national average</td>\n",
       "      <td>NaN</td>\n",
       "      <td>Same as the national average</td>\n",
       "      <td>NaN</td>\n",
       "    </tr>\n",
       "    <tr>\n",
       "      <th>1</th>\n",
       "      <td>10005</td>\n",
       "      <td>MARSHALL MEDICAL CENTER SOUTH</td>\n",
       "      <td>2505 U S HIGHWAY 431 NORTH</td>\n",
       "      <td>BOAZ</td>\n",
       "      <td>AL</td>\n",
       "      <td>35957</td>\n",
       "      <td>MARSHALL</td>\n",
       "      <td>2565938310</td>\n",
       "      <td>Acute Care Hospitals</td>\n",
       "      <td>Government - Hospital District or Authority</td>\n",
       "      <td>Yes</td>\n",
       "      <td>Y</td>\n",
       "      <td>3</td>\n",
       "      <td>NaN</td>\n",
       "      <td>Below the national average</td>\n",
       "      <td>NaN</td>\n",
       "      <td>Same as the national average</td>\n",
       "      <td>NaN</td>\n",
       "      <td>Above the national average</td>\n",
       "      <td>NaN</td>\n",
       "      <td>Same as the national average</td>\n",
       "      <td>NaN</td>\n",
       "      <td>Same as the national average</td>\n",
       "      <td>NaN</td>\n",
       "      <td>Above the national average</td>\n",
       "      <td>NaN</td>\n",
       "      <td>Below the national average</td>\n",
       "      <td>NaN</td>\n",
       "    </tr>\n",
       "    <tr>\n",
       "      <th>2</th>\n",
       "      <td>10006</td>\n",
       "      <td>ELIZA COFFEE MEMORIAL HOSPITAL</td>\n",
       "      <td>205 MARENGO STREET</td>\n",
       "      <td>FLORENCE</td>\n",
       "      <td>AL</td>\n",
       "      <td>35631</td>\n",
       "      <td>LAUDERDALE</td>\n",
       "      <td>2567688400</td>\n",
       "      <td>Acute Care Hospitals</td>\n",
       "      <td>Government - Hospital District or Authority</td>\n",
       "      <td>Yes</td>\n",
       "      <td>Y</td>\n",
       "      <td>2</td>\n",
       "      <td>NaN</td>\n",
       "      <td>Below the national average</td>\n",
       "      <td>NaN</td>\n",
       "      <td>Same as the national average</td>\n",
       "      <td>NaN</td>\n",
       "      <td>Same as the national average</td>\n",
       "      <td>NaN</td>\n",
       "      <td>Below the national average</td>\n",
       "      <td>NaN</td>\n",
       "      <td>Same as the national average</td>\n",
       "      <td>NaN</td>\n",
       "      <td>Above the national average</td>\n",
       "      <td>NaN</td>\n",
       "      <td>Same as the national average</td>\n",
       "      <td>NaN</td>\n",
       "    </tr>\n",
       "    <tr>\n",
       "      <th>3</th>\n",
       "      <td>10007</td>\n",
       "      <td>MIZELL MEMORIAL HOSPITAL</td>\n",
       "      <td>702 N MAIN ST</td>\n",
       "      <td>OPP</td>\n",
       "      <td>AL</td>\n",
       "      <td>36467</td>\n",
       "      <td>COVINGTON</td>\n",
       "      <td>3344933541</td>\n",
       "      <td>Acute Care Hospitals</td>\n",
       "      <td>Voluntary non-profit - Private</td>\n",
       "      <td>Yes</td>\n",
       "      <td>Y</td>\n",
       "      <td>2</td>\n",
       "      <td>NaN</td>\n",
       "      <td>Same as the national average</td>\n",
       "      <td>NaN</td>\n",
       "      <td>Not Available</td>\n",
       "      <td>Results are not available for this reporting p...</td>\n",
       "      <td>Below the national average</td>\n",
       "      <td>NaN</td>\n",
       "      <td>Same as the national average</td>\n",
       "      <td>NaN</td>\n",
       "      <td>Below the national average</td>\n",
       "      <td>NaN</td>\n",
       "      <td>Above the national average</td>\n",
       "      <td>NaN</td>\n",
       "      <td>Not Available</td>\n",
       "      <td>Results are not available for this reporting p...</td>\n",
       "    </tr>\n",
       "    <tr>\n",
       "      <th>4</th>\n",
       "      <td>10008</td>\n",
       "      <td>CRENSHAW COMMUNITY HOSPITAL</td>\n",
       "      <td>101 HOSPITAL CIRCLE</td>\n",
       "      <td>LUVERNE</td>\n",
       "      <td>AL</td>\n",
       "      <td>36049</td>\n",
       "      <td>CRENSHAW</td>\n",
       "      <td>3343353374</td>\n",
       "      <td>Acute Care Hospitals</td>\n",
       "      <td>Proprietary</td>\n",
       "      <td>Yes</td>\n",
       "      <td>Y</td>\n",
       "      <td>3</td>\n",
       "      <td>NaN</td>\n",
       "      <td>Same as the national average</td>\n",
       "      <td>NaN</td>\n",
       "      <td>Not Available</td>\n",
       "      <td>Results are not available for this reporting p...</td>\n",
       "      <td>Same as the national average</td>\n",
       "      <td>NaN</td>\n",
       "      <td>Not Available</td>\n",
       "      <td>Results are not available for this reporting p...</td>\n",
       "      <td>Same as the national average</td>\n",
       "      <td>NaN</td>\n",
       "      <td>Above the national average</td>\n",
       "      <td>NaN</td>\n",
       "      <td>Not Available</td>\n",
       "      <td>Results are not available for this reporting p...</td>\n",
       "    </tr>\n",
       "  </tbody>\n",
       "</table>\n",
       "</div>"
      ],
      "text/plain": [
       "   Provider ID                     Hospital Name                     Address      City State  Zipcode County Name  Phone Number         Hospital Type                           Hospital Ownership Emergency Services Meets criteria for meaningful use of EHRs Hospital overall rating Hospital overall rating footnote Mortality national comparison Mortality national comparison footnote Safety of care national comparison        Safety of care national comparison footnote Readmission national comparison Readmission national comparison footnote Patient experience national comparison    Patient experience national comparison footnote Effectiveness of care national comparison Effectiveness of care national comparison footnote Timeliness of care national comparison Timeliness of care national comparison footnote Efficient use of medical imaging national comparison Efficient use of medical imaging national comparison footnote\n",
       "0        10001  SOUTHEAST ALABAMA MEDICAL CENTER      1108 ROSS CLARK CIRCLE    DOTHAN    AL    36301     HOUSTON    3347938701  Acute Care Hospitals  Government - Hospital District or Authority                Yes                                         Y                       3                              NaN  Same as the national average                                    NaN         Above the national average                                                NaN    Same as the national average                                      NaN             Below the national average                                                NaN              Same as the national average                                                NaN           Same as the national average                                             NaN                       Same as the national average                                                  NaN           \n",
       "1        10005     MARSHALL MEDICAL CENTER SOUTH  2505 U S HIGHWAY 431 NORTH      BOAZ    AL    35957    MARSHALL    2565938310  Acute Care Hospitals  Government - Hospital District or Authority                Yes                                         Y                       3                              NaN    Below the national average                                    NaN       Same as the national average                                                NaN      Above the national average                                      NaN           Same as the national average                                                NaN              Same as the national average                                                NaN             Above the national average                                             NaN                         Below the national average                                                  NaN           \n",
       "2        10006    ELIZA COFFEE MEMORIAL HOSPITAL          205 MARENGO STREET  FLORENCE    AL    35631  LAUDERDALE    2567688400  Acute Care Hospitals  Government - Hospital District or Authority                Yes                                         Y                       2                              NaN    Below the national average                                    NaN       Same as the national average                                                NaN    Same as the national average                                      NaN             Below the national average                                                NaN              Same as the national average                                                NaN             Above the national average                                             NaN                       Same as the national average                                                  NaN           \n",
       "3        10007          MIZELL MEMORIAL HOSPITAL               702 N MAIN ST       OPP    AL    36467   COVINGTON    3344933541  Acute Care Hospitals               Voluntary non-profit - Private                Yes                                         Y                       2                              NaN  Same as the national average                                    NaN                      Not Available  Results are not available for this reporting p...      Below the national average                                      NaN           Same as the national average                                                NaN                Below the national average                                                NaN             Above the national average                                             NaN                                      Not Available    Results are not available for this reporting p...           \n",
       "4        10008       CRENSHAW COMMUNITY HOSPITAL         101 HOSPITAL CIRCLE   LUVERNE    AL    36049    CRENSHAW    3343353374  Acute Care Hospitals                                  Proprietary                Yes                                         Y                       3                              NaN  Same as the national average                                    NaN                      Not Available  Results are not available for this reporting p...    Same as the national average                                      NaN                          Not Available  Results are not available for this reporting p...              Same as the national average                                                NaN             Above the national average                                             NaN                                      Not Available    Results are not available for this reporting p...           "
      ]
     },
     "execution_count": 102,
     "metadata": {},
     "output_type": "execute_result"
    }
   ],
   "source": [
    "hospital_df.head()"
   ]
  },
  {
   "cell_type": "code",
   "execution_count": 103,
   "metadata": {},
   "outputs": [
    {
     "name": "stdout",
     "output_type": "stream",
     "text": [
      "<class 'pandas.core.frame.DataFrame'>\n",
      "Int64Index: 3567 entries, 0 to 4809\n",
      "Data columns (total 28 columns):\n",
      " #   Column                                                         Non-Null Count  Dtype \n",
      "---  ------                                                         --------------  ----- \n",
      " 0   Provider ID                                                    3567 non-null   int64 \n",
      " 1   Hospital Name                                                  3567 non-null   object\n",
      " 2   Address                                                        3567 non-null   object\n",
      " 3   City                                                           3567 non-null   object\n",
      " 4   State                                                          3567 non-null   object\n",
      " 5   Zipcode                                                        3567 non-null   int64 \n",
      " 6   County Name                                                    3563 non-null   object\n",
      " 7   Phone Number                                                   3567 non-null   int64 \n",
      " 8   Hospital Type                                                  3567 non-null   object\n",
      " 9   Hospital Ownership                                             3567 non-null   object\n",
      " 10  Emergency Services                                             3567 non-null   object\n",
      " 11  Meets criteria for meaningful use of EHRs                      3546 non-null   object\n",
      " 12  Hospital overall rating                                        3567 non-null   object\n",
      " 13  Hospital overall rating footnote                               153 non-null    object\n",
      " 14  Mortality national comparison                                  3567 non-null   object\n",
      " 15  Mortality national comparison footnote                         234 non-null    object\n",
      " 16  Safety of care national comparison                             3567 non-null   object\n",
      " 17  Safety of care national comparison footnote                    932 non-null    object\n",
      " 18  Readmission national comparison                                3567 non-null   object\n",
      " 19  Readmission national comparison footnote                       62 non-null     object\n",
      " 20  Patient experience national comparison                         3567 non-null   object\n",
      " 21  Patient experience national comparison footnote                279 non-null    object\n",
      " 22  Effectiveness of care national comparison                      3567 non-null   object\n",
      " 23  Effectiveness of care national comparison footnote             207 non-null    object\n",
      " 24  Timeliness of care national comparison                         3567 non-null   object\n",
      " 25  Timeliness of care national comparison footnote                252 non-null    object\n",
      " 26  Efficient use of medical imaging national comparison           3567 non-null   object\n",
      " 27  Efficient use of medical imaging national comparison footnote  828 non-null    object\n",
      "dtypes: int64(3), object(25)\n",
      "memory usage: 808.1+ KB\n"
     ]
    }
   ],
   "source": [
    "hospital_df.info()"
   ]
  },
  {
   "cell_type": "code",
   "execution_count": 104,
   "metadata": {},
   "outputs": [],
   "source": [
    "# clean Hospital overall rating, convert to numeric\n",
    "hospital_df['Hospital overall rating'] =pd.to_numeric(hospital_df['Hospital overall rating'], errors='coerce')"
   ]
  },
  {
   "cell_type": "code",
   "execution_count": 105,
   "metadata": {
    "scrolled": true
   },
   "outputs": [
    {
     "data": {
      "text/html": [
       "<div>\n",
       "<style scoped>\n",
       "    .dataframe tbody tr th:only-of-type {\n",
       "        vertical-align: middle;\n",
       "    }\n",
       "\n",
       "    .dataframe tbody tr th {\n",
       "        vertical-align: top;\n",
       "    }\n",
       "\n",
       "    .dataframe thead th {\n",
       "        text-align: right;\n",
       "    }\n",
       "</style>\n",
       "<table border=\"1\" class=\"dataframe\">\n",
       "  <thead>\n",
       "    <tr style=\"text-align: right;\">\n",
       "      <th></th>\n",
       "      <th>index</th>\n",
       "      <th>missing_value</th>\n",
       "    </tr>\n",
       "  </thead>\n",
       "  <tbody>\n",
       "    <tr>\n",
       "      <th>0</th>\n",
       "      <td>County Name</td>\n",
       "      <td>4</td>\n",
       "    </tr>\n",
       "    <tr>\n",
       "      <th>1</th>\n",
       "      <td>Meets criteria for meaningful use of EHRs</td>\n",
       "      <td>21</td>\n",
       "    </tr>\n",
       "    <tr>\n",
       "      <th>2</th>\n",
       "      <td>Safety of care national comparison footnote</td>\n",
       "      <td>2635</td>\n",
       "    </tr>\n",
       "    <tr>\n",
       "      <th>3</th>\n",
       "      <td>Efficient use of medical imaging national comp...</td>\n",
       "      <td>2739</td>\n",
       "    </tr>\n",
       "    <tr>\n",
       "      <th>4</th>\n",
       "      <td>Patient experience national comparison footnote</td>\n",
       "      <td>3288</td>\n",
       "    </tr>\n",
       "    <tr>\n",
       "      <th>5</th>\n",
       "      <td>Timeliness of care national comparison footnote</td>\n",
       "      <td>3315</td>\n",
       "    </tr>\n",
       "    <tr>\n",
       "      <th>6</th>\n",
       "      <td>Mortality national comparison footnote</td>\n",
       "      <td>3333</td>\n",
       "    </tr>\n",
       "    <tr>\n",
       "      <th>7</th>\n",
       "      <td>Effectiveness of care national comparison foot...</td>\n",
       "      <td>3360</td>\n",
       "    </tr>\n",
       "    <tr>\n",
       "      <th>8</th>\n",
       "      <td>Hospital overall rating footnote</td>\n",
       "      <td>3414</td>\n",
       "    </tr>\n",
       "    <tr>\n",
       "      <th>9</th>\n",
       "      <td>Readmission national comparison footnote</td>\n",
       "      <td>3505</td>\n",
       "    </tr>\n",
       "  </tbody>\n",
       "</table>\n",
       "</div>"
      ],
      "text/plain": [
       "                                               index  missing_value\n",
       "0                                        County Name              4\n",
       "1          Meets criteria for meaningful use of EHRs             21\n",
       "2        Safety of care national comparison footnote           2635\n",
       "3  Efficient use of medical imaging national comp...           2739\n",
       "4    Patient experience national comparison footnote           3288\n",
       "5    Timeliness of care national comparison footnote           3315\n",
       "6             Mortality national comparison footnote           3333\n",
       "7  Effectiveness of care national comparison foot...           3360\n",
       "8                   Hospital overall rating footnote           3414\n",
       "9           Readmission national comparison footnote           3505"
      ]
     },
     "execution_count": 105,
     "metadata": {},
     "output_type": "execute_result"
    }
   ],
   "source": [
    "null_df = hospital_df.isnull().sum(axis = 0).sort_values().to_frame('missing_value')\n",
    "null_df[null_df['missing_value'] > 0].reset_index()"
   ]
  },
  {
   "cell_type": "code",
   "execution_count": 106,
   "metadata": {},
   "outputs": [],
   "source": [
    "# drop provider id, hospital name, address, phone number since they are all irrelevant \n",
    "# also drop all footnote since they are all incorporate in the other columns.\n",
    "drop_these = ['Provider ID', 'Hospital Name', 'Phone Number']\n",
    "drop_these.extend([col for col in hospital_df if 'footnote' in col])\n",
    "hospital_df = hospital_df.drop(columns = drop_these)\n",
    "\n",
    "# hospital_df.loc[:,hospital_df.columns.str.endswith('footnote')]"
   ]
  },
  {
   "cell_type": "code",
   "execution_count": 107,
   "metadata": {},
   "outputs": [],
   "source": [
    "# drop provider id, hospital name, address, phone number since they are all irrelevant \n",
    "# also drop all footnote since they are all incorporate in the other columns.\n",
    "drop_these = ['County Name','Address','City','State']\n",
    "drop_these.extend([col for col in hospital_df if 'footnote' in col])\n",
    "hospital_df = hospital_df.drop(columns = drop_these)\n",
    "\n",
    "# hospital_df.loc[:,hospital_df.columns.str.endswith('footnote')]"
   ]
  },
  {
   "cell_type": "code",
   "execution_count": 108,
   "metadata": {},
   "outputs": [
    {
     "data": {
      "text/html": [
       "<div>\n",
       "<style scoped>\n",
       "    .dataframe tbody tr th:only-of-type {\n",
       "        vertical-align: middle;\n",
       "    }\n",
       "\n",
       "    .dataframe tbody tr th {\n",
       "        vertical-align: top;\n",
       "    }\n",
       "\n",
       "    .dataframe thead th {\n",
       "        text-align: right;\n",
       "    }\n",
       "</style>\n",
       "<table border=\"1\" class=\"dataframe\">\n",
       "  <thead>\n",
       "    <tr style=\"text-align: right;\">\n",
       "      <th></th>\n",
       "      <th>Zipcode</th>\n",
       "      <th>Hospital Type</th>\n",
       "      <th>Hospital Ownership</th>\n",
       "      <th>Emergency Services</th>\n",
       "      <th>Meets criteria for meaningful use of EHRs</th>\n",
       "      <th>Hospital overall rating</th>\n",
       "      <th>Mortality national comparison</th>\n",
       "      <th>Safety of care national comparison</th>\n",
       "      <th>Readmission national comparison</th>\n",
       "      <th>Patient experience national comparison</th>\n",
       "      <th>Effectiveness of care national comparison</th>\n",
       "      <th>Timeliness of care national comparison</th>\n",
       "      <th>Efficient use of medical imaging national comparison</th>\n",
       "    </tr>\n",
       "  </thead>\n",
       "  <tbody>\n",
       "    <tr>\n",
       "      <th>0</th>\n",
       "      <td>36301</td>\n",
       "      <td>Acute Care Hospitals</td>\n",
       "      <td>Government - Hospital District or Authority</td>\n",
       "      <td>Yes</td>\n",
       "      <td>Y</td>\n",
       "      <td>3</td>\n",
       "      <td>Same as the national average</td>\n",
       "      <td>Above the national average</td>\n",
       "      <td>Same as the national average</td>\n",
       "      <td>Below the national average</td>\n",
       "      <td>Same as the national average</td>\n",
       "      <td>Same as the national average</td>\n",
       "      <td>Same as the national average</td>\n",
       "    </tr>\n",
       "    <tr>\n",
       "      <th>1</th>\n",
       "      <td>35957</td>\n",
       "      <td>Acute Care Hospitals</td>\n",
       "      <td>Government - Hospital District or Authority</td>\n",
       "      <td>Yes</td>\n",
       "      <td>Y</td>\n",
       "      <td>3</td>\n",
       "      <td>Below the national average</td>\n",
       "      <td>Same as the national average</td>\n",
       "      <td>Above the national average</td>\n",
       "      <td>Same as the national average</td>\n",
       "      <td>Same as the national average</td>\n",
       "      <td>Above the national average</td>\n",
       "      <td>Below the national average</td>\n",
       "    </tr>\n",
       "    <tr>\n",
       "      <th>2</th>\n",
       "      <td>35631</td>\n",
       "      <td>Acute Care Hospitals</td>\n",
       "      <td>Government - Hospital District or Authority</td>\n",
       "      <td>Yes</td>\n",
       "      <td>Y</td>\n",
       "      <td>2</td>\n",
       "      <td>Below the national average</td>\n",
       "      <td>Same as the national average</td>\n",
       "      <td>Same as the national average</td>\n",
       "      <td>Below the national average</td>\n",
       "      <td>Same as the national average</td>\n",
       "      <td>Above the national average</td>\n",
       "      <td>Same as the national average</td>\n",
       "    </tr>\n",
       "    <tr>\n",
       "      <th>3</th>\n",
       "      <td>36467</td>\n",
       "      <td>Acute Care Hospitals</td>\n",
       "      <td>Voluntary non-profit - Private</td>\n",
       "      <td>Yes</td>\n",
       "      <td>Y</td>\n",
       "      <td>2</td>\n",
       "      <td>Same as the national average</td>\n",
       "      <td>Not Available</td>\n",
       "      <td>Below the national average</td>\n",
       "      <td>Same as the national average</td>\n",
       "      <td>Below the national average</td>\n",
       "      <td>Above the national average</td>\n",
       "      <td>Not Available</td>\n",
       "    </tr>\n",
       "    <tr>\n",
       "      <th>4</th>\n",
       "      <td>36049</td>\n",
       "      <td>Acute Care Hospitals</td>\n",
       "      <td>Proprietary</td>\n",
       "      <td>Yes</td>\n",
       "      <td>Y</td>\n",
       "      <td>3</td>\n",
       "      <td>Same as the national average</td>\n",
       "      <td>Not Available</td>\n",
       "      <td>Same as the national average</td>\n",
       "      <td>Not Available</td>\n",
       "      <td>Same as the national average</td>\n",
       "      <td>Above the national average</td>\n",
       "      <td>Not Available</td>\n",
       "    </tr>\n",
       "  </tbody>\n",
       "</table>\n",
       "</div>"
      ],
      "text/plain": [
       "   Zipcode         Hospital Type                           Hospital Ownership Emergency Services Meets criteria for meaningful use of EHRs  Hospital overall rating Mortality national comparison Safety of care national comparison Readmission national comparison Patient experience national comparison Effectiveness of care national comparison Timeliness of care national comparison Efficient use of medical imaging national comparison\n",
       "0    36301  Acute Care Hospitals  Government - Hospital District or Authority                Yes                                         Y                        3  Same as the national average         Above the national average    Same as the national average             Below the national average              Same as the national average           Same as the national average                       Same as the national average  \n",
       "1    35957  Acute Care Hospitals  Government - Hospital District or Authority                Yes                                         Y                        3    Below the national average       Same as the national average      Above the national average           Same as the national average              Same as the national average             Above the national average                         Below the national average  \n",
       "2    35631  Acute Care Hospitals  Government - Hospital District or Authority                Yes                                         Y                        2    Below the national average       Same as the national average    Same as the national average             Below the national average              Same as the national average             Above the national average                       Same as the national average  \n",
       "3    36467  Acute Care Hospitals               Voluntary non-profit - Private                Yes                                         Y                        2  Same as the national average                      Not Available      Below the national average           Same as the national average                Below the national average             Above the national average                                      Not Available  \n",
       "4    36049  Acute Care Hospitals                                  Proprietary                Yes                                         Y                        3  Same as the national average                      Not Available    Same as the national average                          Not Available              Same as the national average             Above the national average                                      Not Available  "
      ]
     },
     "execution_count": 108,
     "metadata": {},
     "output_type": "execute_result"
    }
   ],
   "source": [
    "hospital_df.head()"
   ]
  },
  {
   "cell_type": "code",
   "execution_count": 109,
   "metadata": {},
   "outputs": [
    {
     "data": {
      "text/html": [
       "<div>\n",
       "<style scoped>\n",
       "    .dataframe tbody tr th:only-of-type {\n",
       "        vertical-align: middle;\n",
       "    }\n",
       "\n",
       "    .dataframe tbody tr th {\n",
       "        vertical-align: top;\n",
       "    }\n",
       "\n",
       "    .dataframe thead th {\n",
       "        text-align: right;\n",
       "    }\n",
       "</style>\n",
       "<table border=\"1\" class=\"dataframe\">\n",
       "  <thead>\n",
       "    <tr style=\"text-align: right;\">\n",
       "      <th></th>\n",
       "      <th>index</th>\n",
       "      <th>missing_value</th>\n",
       "    </tr>\n",
       "  </thead>\n",
       "  <tbody>\n",
       "    <tr>\n",
       "      <th>0</th>\n",
       "      <td>Meets criteria for meaningful use of EHRs</td>\n",
       "      <td>21</td>\n",
       "    </tr>\n",
       "  </tbody>\n",
       "</table>\n",
       "</div>"
      ],
      "text/plain": [
       "                                       index  missing_value\n",
       "0  Meets criteria for meaningful use of EHRs             21"
      ]
     },
     "execution_count": 109,
     "metadata": {},
     "output_type": "execute_result"
    }
   ],
   "source": [
    "# find missing value, and clean missing value\n",
    "null_df = hospital_df.isnull().sum(axis = 0).sort_values().to_frame('missing_value')\n",
    "null_df[null_df['missing_value'] > 0].reset_index()"
   ]
  },
  {
   "cell_type": "code",
   "execution_count": 110,
   "metadata": {},
   "outputs": [
    {
     "data": {
      "text/plain": [
       "Y    3546\n",
       "Name: Meets criteria for meaningful use of EHRs, dtype: int64"
      ]
     },
     "execution_count": 110,
     "metadata": {},
     "output_type": "execute_result"
    }
   ],
   "source": [
    "hospital_df['Meets criteria for meaningful use of EHRs'].value_counts()"
   ]
  },
  {
   "cell_type": "code",
   "execution_count": 111,
   "metadata": {},
   "outputs": [],
   "source": [
    "hospital_df['Meets criteria for meaningful use of EHRs'] = hospital_df['Meets criteria for meaningful use of EHRs'].fillna('Not Available')"
   ]
  },
  {
   "cell_type": "code",
   "execution_count": 112,
   "metadata": {},
   "outputs": [
    {
     "data": {
      "text/plain": [
       "Voluntary non-profit - Private                 1605\n",
       "Proprietary                                     617\n",
       "Voluntary non-profit - Other                    373\n",
       "Government - Hospital District or Authority     337\n",
       "Voluntary non-profit - Church                   309\n",
       "Government - Local                              243\n",
       "Government - State                               45\n",
       "Physician                                        20\n",
       "Government - Federal                             16\n",
       "Tribal                                            2\n",
       "Name: Hospital Ownership, dtype: int64"
      ]
     },
     "execution_count": 112,
     "metadata": {},
     "output_type": "execute_result"
    }
   ],
   "source": [
    "hospital_df['Hospital Ownership'].value_counts()"
   ]
  },
  {
   "cell_type": "code",
   "execution_count": 113,
   "metadata": {},
   "outputs": [],
   "source": [
    "hospital_df['Hospital Ownership'] = hospital_df['Hospital Ownership'].replace({\n",
    "                    'Voluntary non-profit - Private': 'non-profit', \n",
    "                    'Proprietary':'for-profit', \n",
    "                    'Government - Hospital District or Authority': 'government',\n",
    "                    'Voluntary non-profit - Other':'non-profit',\n",
    "                    'Government - Local':'government',\n",
    "                    'Voluntary non-profit - Church':'non-profit',\n",
    "                    'Physician':'for-profit',\n",
    "                    'Government - State':'government',\n",
    "                    'Tribal ':'government',\n",
    "                    'Government - Federal':'government',\n",
    "                                  })"
   ]
  },
  {
   "cell_type": "code",
   "execution_count": 114,
   "metadata": {},
   "outputs": [
    {
     "data": {
      "text/plain": [
       "Acute Care Hospitals         2971\n",
       "Critical Access Hospitals     596\n",
       "Name: Hospital Type, dtype: int64"
      ]
     },
     "execution_count": 114,
     "metadata": {},
     "output_type": "execute_result"
    }
   ],
   "source": [
    "# clean hostipal ownership\n",
    "hospital_df['Hospital Type'].value_counts()"
   ]
  },
  {
   "cell_type": "markdown",
   "metadata": {},
   "source": [
    "There are four level in the following 7 aspect: \n",
    "Mortality national comparison; \n",
    "Safety of care national comparison;\n",
    "Safety of care national comparison;\n",
    "Readmission national comparison\tPatient experience national comparison\tEffectiveness of care national comparison\tTimeliness of care national comparison\tEfficient use of medical imaging national comparison\n",
    "-1 Below the national average\n",
    "0Same as the national average                    \n",
    "1Above the national average       \n",
    "Not Available   "
   ]
  },
  {
   "cell_type": "code",
   "execution_count": 115,
   "metadata": {},
   "outputs": [
    {
     "data": {
      "text/plain": [
       "Same as the national average    2592\n",
       "Above the national average       400\n",
       "Below the national average       341\n",
       "Not Available                    234\n",
       "Name: Mortality national comparison, dtype: int64"
      ]
     },
     "execution_count": 115,
     "metadata": {},
     "output_type": "execute_result"
    }
   ],
   "source": [
    "# there are four level in the following 7 aspect\n",
    "#Same as the national average    \n",
    "#Not Available                   \n",
    "#Above the national average       \n",
    "#Below the national average\n",
    "hospital_df['Mortality national comparison'].value_counts()"
   ]
  },
  {
   "cell_type": "code",
   "execution_count": 116,
   "metadata": {},
   "outputs": [],
   "source": [
    "# drop 'Mortality national comparison', 'Safety of care national comparison','Readmission national comparison',\n",
    "# 'Patient experience national comparison', 'Effectiveness of care national comparison',\n",
    "# 'Timeliness of care national comparison','Efficient use of medical imaging national comparison'\n",
    "# since they are Incorporate in the overall rating\n",
    "drop_these = ['Mortality national comparison', 'Safety of care national comparison','Readmission national comparison',\n",
    "'Patient experience national comparison', 'Effectiveness of care national comparison',\n",
    "'Timeliness of care national comparison','Efficient use of medical imaging national comparison']\n",
    "hospital_df = hospital_df.drop(columns = drop_these)\n"
   ]
  },
  {
   "cell_type": "code",
   "execution_count": 117,
   "metadata": {},
   "outputs": [
    {
     "data": {
      "text/plain": [
       "Index(['Emergency Services', 'Hospital Ownership', 'Hospital Type', 'Meets criteria for meaningful use of EHRs'], dtype='object')"
      ]
     },
     "execution_count": 117,
     "metadata": {},
     "output_type": "execute_result"
    }
   ],
   "source": [
    "cols_categorical = hospital_df.columns.difference(hospital_df._get_numeric_data().columns)\n",
    "categorical = hospital_df[cols_categorical]\n",
    "cols_categorical\n",
    "#categorical_dummy = pd.get_dummies(categorical,columns = cols_categorical)"
   ]
  },
  {
   "cell_type": "code",
   "execution_count": 118,
   "metadata": {},
   "outputs": [
    {
     "data": {
      "text/html": [
       "<div>\n",
       "<style scoped>\n",
       "    .dataframe tbody tr th:only-of-type {\n",
       "        vertical-align: middle;\n",
       "    }\n",
       "\n",
       "    .dataframe tbody tr th {\n",
       "        vertical-align: top;\n",
       "    }\n",
       "\n",
       "    .dataframe thead th {\n",
       "        text-align: right;\n",
       "    }\n",
       "</style>\n",
       "<table border=\"1\" class=\"dataframe\">\n",
       "  <thead>\n",
       "    <tr style=\"text-align: right;\">\n",
       "      <th></th>\n",
       "      <th>Zipcode</th>\n",
       "      <th>Hospital overall rating</th>\n",
       "    </tr>\n",
       "  </thead>\n",
       "  <tbody>\n",
       "    <tr>\n",
       "      <th>0</th>\n",
       "      <td>36301</td>\n",
       "      <td>3</td>\n",
       "    </tr>\n",
       "    <tr>\n",
       "      <th>1</th>\n",
       "      <td>35957</td>\n",
       "      <td>3</td>\n",
       "    </tr>\n",
       "    <tr>\n",
       "      <th>2</th>\n",
       "      <td>35631</td>\n",
       "      <td>2</td>\n",
       "    </tr>\n",
       "    <tr>\n",
       "      <th>3</th>\n",
       "      <td>36467</td>\n",
       "      <td>2</td>\n",
       "    </tr>\n",
       "    <tr>\n",
       "      <th>4</th>\n",
       "      <td>36049</td>\n",
       "      <td>3</td>\n",
       "    </tr>\n",
       "  </tbody>\n",
       "</table>\n",
       "</div>"
      ],
      "text/plain": [
       "   Zipcode  Hospital overall rating\n",
       "0    36301                        3\n",
       "1    35957                        3\n",
       "2    35631                        2\n",
       "3    36467                        2\n",
       "4    36049                        3"
      ]
     },
     "execution_count": 118,
     "metadata": {},
     "output_type": "execute_result"
    }
   ],
   "source": [
    "numeric = hospital_df._get_numeric_data()\n",
    "numeric.head()"
   ]
  },
  {
   "cell_type": "code",
   "execution_count": 119,
   "metadata": {},
   "outputs": [],
   "source": [
    "categorical_dummy = pd.get_dummies(hospital_df,columns = cols_categorical).drop(columns=['Zipcode','Hospital overall rating'])"
   ]
  },
  {
   "cell_type": "code",
   "execution_count": 120,
   "metadata": {},
   "outputs": [
    {
     "data": {
      "text/html": [
       "<div>\n",
       "<style scoped>\n",
       "    .dataframe tbody tr th:only-of-type {\n",
       "        vertical-align: middle;\n",
       "    }\n",
       "\n",
       "    .dataframe tbody tr th {\n",
       "        vertical-align: top;\n",
       "    }\n",
       "\n",
       "    .dataframe thead th {\n",
       "        text-align: right;\n",
       "    }\n",
       "</style>\n",
       "<table border=\"1\" class=\"dataframe\">\n",
       "  <thead>\n",
       "    <tr style=\"text-align: right;\">\n",
       "      <th></th>\n",
       "      <th>Zipcode</th>\n",
       "      <th>Hospital overall rating</th>\n",
       "      <th>Emergency Services_No</th>\n",
       "      <th>Emergency Services_Yes</th>\n",
       "      <th>Hospital Ownership_Tribal</th>\n",
       "      <th>Hospital Ownership_for-profit</th>\n",
       "      <th>Hospital Ownership_government</th>\n",
       "      <th>Hospital Ownership_non-profit</th>\n",
       "      <th>Hospital Type_Acute Care Hospitals</th>\n",
       "      <th>Hospital Type_Critical Access Hospitals</th>\n",
       "      <th>Meets criteria for meaningful use of EHRs_Not Available</th>\n",
       "      <th>Meets criteria for meaningful use of EHRs_Y</th>\n",
       "    </tr>\n",
       "  </thead>\n",
       "  <tbody>\n",
       "    <tr>\n",
       "      <th>0</th>\n",
       "      <td>36301</td>\n",
       "      <td>3</td>\n",
       "      <td>0</td>\n",
       "      <td>1</td>\n",
       "      <td>0</td>\n",
       "      <td>0</td>\n",
       "      <td>1</td>\n",
       "      <td>0</td>\n",
       "      <td>1</td>\n",
       "      <td>0</td>\n",
       "      <td>0</td>\n",
       "      <td>1</td>\n",
       "    </tr>\n",
       "    <tr>\n",
       "      <th>1</th>\n",
       "      <td>35957</td>\n",
       "      <td>3</td>\n",
       "      <td>0</td>\n",
       "      <td>1</td>\n",
       "      <td>0</td>\n",
       "      <td>0</td>\n",
       "      <td>1</td>\n",
       "      <td>0</td>\n",
       "      <td>1</td>\n",
       "      <td>0</td>\n",
       "      <td>0</td>\n",
       "      <td>1</td>\n",
       "    </tr>\n",
       "    <tr>\n",
       "      <th>2</th>\n",
       "      <td>35631</td>\n",
       "      <td>2</td>\n",
       "      <td>0</td>\n",
       "      <td>1</td>\n",
       "      <td>0</td>\n",
       "      <td>0</td>\n",
       "      <td>1</td>\n",
       "      <td>0</td>\n",
       "      <td>1</td>\n",
       "      <td>0</td>\n",
       "      <td>0</td>\n",
       "      <td>1</td>\n",
       "    </tr>\n",
       "    <tr>\n",
       "      <th>3</th>\n",
       "      <td>36467</td>\n",
       "      <td>2</td>\n",
       "      <td>0</td>\n",
       "      <td>1</td>\n",
       "      <td>0</td>\n",
       "      <td>0</td>\n",
       "      <td>0</td>\n",
       "      <td>1</td>\n",
       "      <td>1</td>\n",
       "      <td>0</td>\n",
       "      <td>0</td>\n",
       "      <td>1</td>\n",
       "    </tr>\n",
       "    <tr>\n",
       "      <th>4</th>\n",
       "      <td>36049</td>\n",
       "      <td>3</td>\n",
       "      <td>0</td>\n",
       "      <td>1</td>\n",
       "      <td>0</td>\n",
       "      <td>1</td>\n",
       "      <td>0</td>\n",
       "      <td>0</td>\n",
       "      <td>1</td>\n",
       "      <td>0</td>\n",
       "      <td>0</td>\n",
       "      <td>1</td>\n",
       "    </tr>\n",
       "  </tbody>\n",
       "</table>\n",
       "</div>"
      ],
      "text/plain": [
       "   Zipcode  Hospital overall rating  Emergency Services_No  Emergency Services_Yes  Hospital Ownership_Tribal  Hospital Ownership_for-profit  Hospital Ownership_government  Hospital Ownership_non-profit  Hospital Type_Acute Care Hospitals  Hospital Type_Critical Access Hospitals  Meets criteria for meaningful use of EHRs_Not Available  Meets criteria for meaningful use of EHRs_Y\n",
       "0    36301                        3                      0                       1                          0                              0                              1                              0                                   1                                        0                                                  0                                                  1\n",
       "1    35957                        3                      0                       1                          0                              0                              1                              0                                   1                                        0                                                  0                                                  1\n",
       "2    35631                        2                      0                       1                          0                              0                              1                              0                                   1                                        0                                                  0                                                  1\n",
       "3    36467                        2                      0                       1                          0                              0                              0                              1                                   1                                        0                                                  0                                                  1\n",
       "4    36049                        3                      0                       1                          0                              1                              0                              0                                   1                                        0                                                  0                                                  1"
      ]
     },
     "execution_count": 120,
     "metadata": {},
     "output_type": "execute_result"
    }
   ],
   "source": [
    "hospital_df = pd.concat([numeric,categorical_dummy],axis = 1)\n",
    "hospital_df.head()"
   ]
  },
  {
   "cell_type": "code",
   "execution_count": 121,
   "metadata": {},
   "outputs": [
    {
     "data": {
      "text/html": [
       "<div>\n",
       "<style scoped>\n",
       "    .dataframe tbody tr th:only-of-type {\n",
       "        vertical-align: middle;\n",
       "    }\n",
       "\n",
       "    .dataframe tbody tr th {\n",
       "        vertical-align: top;\n",
       "    }\n",
       "\n",
       "    .dataframe thead th {\n",
       "        text-align: right;\n",
       "    }\n",
       "</style>\n",
       "<table border=\"1\" class=\"dataframe\">\n",
       "  <thead>\n",
       "    <tr style=\"text-align: right;\">\n",
       "      <th></th>\n",
       "      <th>Zipcode</th>\n",
       "      <th>Hospital overall rating</th>\n",
       "    </tr>\n",
       "  </thead>\n",
       "  <tbody>\n",
       "    <tr>\n",
       "      <th>0</th>\n",
       "      <td>674</td>\n",
       "      <td>2.0</td>\n",
       "    </tr>\n",
       "    <tr>\n",
       "      <th>1</th>\n",
       "      <td>683</td>\n",
       "      <td>2.0</td>\n",
       "    </tr>\n",
       "    <tr>\n",
       "      <th>2</th>\n",
       "      <td>717</td>\n",
       "      <td>2.0</td>\n",
       "    </tr>\n",
       "    <tr>\n",
       "      <th>3</th>\n",
       "      <td>725</td>\n",
       "      <td>2.0</td>\n",
       "    </tr>\n",
       "    <tr>\n",
       "      <th>4</th>\n",
       "      <td>733</td>\n",
       "      <td>2.0</td>\n",
       "    </tr>\n",
       "    <tr>\n",
       "      <th>...</th>\n",
       "      <td>...</td>\n",
       "      <td>...</td>\n",
       "    </tr>\n",
       "    <tr>\n",
       "      <th>3364</th>\n",
       "      <td>99645</td>\n",
       "      <td>3.0</td>\n",
       "    </tr>\n",
       "    <tr>\n",
       "      <th>3365</th>\n",
       "      <td>99669</td>\n",
       "      <td>3.0</td>\n",
       "    </tr>\n",
       "    <tr>\n",
       "      <th>3366</th>\n",
       "      <td>99701</td>\n",
       "      <td>3.0</td>\n",
       "    </tr>\n",
       "    <tr>\n",
       "      <th>3367</th>\n",
       "      <td>99801</td>\n",
       "      <td>3.0</td>\n",
       "    </tr>\n",
       "    <tr>\n",
       "      <th>3368</th>\n",
       "      <td>99901</td>\n",
       "      <td>3.0</td>\n",
       "    </tr>\n",
       "  </tbody>\n",
       "</table>\n",
       "<p>3369 rows × 2 columns</p>\n",
       "</div>"
      ],
      "text/plain": [
       "      Zipcode  Hospital overall rating\n",
       "0         674                      2.0\n",
       "1         683                      2.0\n",
       "2         717                      2.0\n",
       "3         725                      2.0\n",
       "4         733                      2.0\n",
       "...       ...                      ...\n",
       "3364    99645                      3.0\n",
       "3365    99669                      3.0\n",
       "3366    99701                      3.0\n",
       "3367    99801                      3.0\n",
       "3368    99901                      3.0\n",
       "\n",
       "[3369 rows x 2 columns]"
      ]
     },
     "execution_count": 121,
     "metadata": {},
     "output_type": "execute_result"
    }
   ],
   "source": [
    "#Groupby Zipcode and find the average of features\n",
    "hospital_df.groupby('Zipcode', as_index=False)['Hospital overall rating'].mean()"
   ]
  },
  {
   "cell_type": "code",
   "execution_count": 122,
   "metadata": {
    "scrolled": true
   },
   "outputs": [
    {
     "data": {
      "text/html": [
       "<div>\n",
       "<style scoped>\n",
       "    .dataframe tbody tr th:only-of-type {\n",
       "        vertical-align: middle;\n",
       "    }\n",
       "\n",
       "    .dataframe tbody tr th {\n",
       "        vertical-align: top;\n",
       "    }\n",
       "\n",
       "    .dataframe thead th {\n",
       "        text-align: right;\n",
       "    }\n",
       "</style>\n",
       "<table border=\"1\" class=\"dataframe\">\n",
       "  <thead>\n",
       "    <tr style=\"text-align: right;\">\n",
       "      <th></th>\n",
       "      <th>Zipcode</th>\n",
       "      <th>Hospital overall rating</th>\n",
       "      <th>Emergency Services_No</th>\n",
       "      <th>Emergency Services_Yes</th>\n",
       "      <th>Hospital Ownership_Tribal</th>\n",
       "      <th>Hospital Ownership_for-profit</th>\n",
       "      <th>Hospital Ownership_government</th>\n",
       "      <th>Hospital Ownership_non-profit</th>\n",
       "      <th>Hospital Type_Acute Care Hospitals</th>\n",
       "      <th>Hospital Type_Critical Access Hospitals</th>\n",
       "      <th>Meets criteria for meaningful use of EHRs_Not Available</th>\n",
       "      <th>Meets criteria for meaningful use of EHRs_Y</th>\n",
       "    </tr>\n",
       "  </thead>\n",
       "  <tbody>\n",
       "    <tr>\n",
       "      <th>0</th>\n",
       "      <td>674</td>\n",
       "      <td>2.0</td>\n",
       "      <td>0.0</td>\n",
       "      <td>1.0</td>\n",
       "      <td>0.0</td>\n",
       "      <td>1.0</td>\n",
       "      <td>0.0</td>\n",
       "      <td>0.0</td>\n",
       "      <td>1.0</td>\n",
       "      <td>0.0</td>\n",
       "      <td>0.0</td>\n",
       "      <td>1.0</td>\n",
       "    </tr>\n",
       "    <tr>\n",
       "      <th>1</th>\n",
       "      <td>683</td>\n",
       "      <td>2.0</td>\n",
       "      <td>0.0</td>\n",
       "      <td>1.0</td>\n",
       "      <td>0.0</td>\n",
       "      <td>0.0</td>\n",
       "      <td>0.0</td>\n",
       "      <td>1.0</td>\n",
       "      <td>1.0</td>\n",
       "      <td>0.0</td>\n",
       "      <td>0.0</td>\n",
       "      <td>1.0</td>\n",
       "    </tr>\n",
       "    <tr>\n",
       "      <th>2</th>\n",
       "      <td>717</td>\n",
       "      <td>2.0</td>\n",
       "      <td>0.0</td>\n",
       "      <td>1.0</td>\n",
       "      <td>0.0</td>\n",
       "      <td>0.0</td>\n",
       "      <td>0.0</td>\n",
       "      <td>1.0</td>\n",
       "      <td>1.0</td>\n",
       "      <td>0.0</td>\n",
       "      <td>1.0</td>\n",
       "      <td>0.0</td>\n",
       "    </tr>\n",
       "    <tr>\n",
       "      <th>3</th>\n",
       "      <td>725</td>\n",
       "      <td>2.0</td>\n",
       "      <td>0.0</td>\n",
       "      <td>1.0</td>\n",
       "      <td>0.0</td>\n",
       "      <td>1.0</td>\n",
       "      <td>0.0</td>\n",
       "      <td>0.0</td>\n",
       "      <td>1.0</td>\n",
       "      <td>0.0</td>\n",
       "      <td>0.0</td>\n",
       "      <td>1.0</td>\n",
       "    </tr>\n",
       "    <tr>\n",
       "      <th>4</th>\n",
       "      <td>733</td>\n",
       "      <td>2.0</td>\n",
       "      <td>0.0</td>\n",
       "      <td>1.0</td>\n",
       "      <td>0.0</td>\n",
       "      <td>0.0</td>\n",
       "      <td>0.0</td>\n",
       "      <td>1.0</td>\n",
       "      <td>1.0</td>\n",
       "      <td>0.0</td>\n",
       "      <td>0.0</td>\n",
       "      <td>1.0</td>\n",
       "    </tr>\n",
       "  </tbody>\n",
       "</table>\n",
       "</div>"
      ],
      "text/plain": [
       "   Zipcode  Hospital overall rating  Emergency Services_No  Emergency Services_Yes  Hospital Ownership_Tribal  Hospital Ownership_for-profit  Hospital Ownership_government  Hospital Ownership_non-profit  Hospital Type_Acute Care Hospitals  Hospital Type_Critical Access Hospitals  Meets criteria for meaningful use of EHRs_Not Available  Meets criteria for meaningful use of EHRs_Y\n",
       "0      674                      2.0                    0.0                     1.0                        0.0                            1.0                            0.0                            0.0                                 1.0                                      0.0                                                0.0                                                1.0\n",
       "1      683                      2.0                    0.0                     1.0                        0.0                            0.0                            0.0                            1.0                                 1.0                                      0.0                                                0.0                                                1.0\n",
       "2      717                      2.0                    0.0                     1.0                        0.0                            0.0                            0.0                            1.0                                 1.0                                      0.0                                                1.0                                                0.0\n",
       "3      725                      2.0                    0.0                     1.0                        0.0                            1.0                            0.0                            0.0                                 1.0                                      0.0                                                0.0                                                1.0\n",
       "4      733                      2.0                    0.0                     1.0                        0.0                            0.0                            0.0                            1.0                                 1.0                                      0.0                                                0.0                                                1.0"
      ]
     },
     "execution_count": 122,
     "metadata": {},
     "output_type": "execute_result"
    }
   ],
   "source": [
    "hospital_df = hospital_df.groupby('Zipcode', as_index=False).mean()\n",
    "hospital_df.head()"
   ]
  },
  {
   "cell_type": "code",
   "execution_count": 123,
   "metadata": {},
   "outputs": [],
   "source": [
    "\n",
    "hospital_df.drop(['Emergency Services_No', 'Hospital Ownership_Tribal', 'Hospital Ownership_for-profit', \n",
    "                  'Hospital Ownership_government', 'Hospital Ownership_non-profit', \n",
    "                  'Hospital Type_Acute Care Hospitals', 'Hospital Type_Critical Access Hospitals', \n",
    "                  'Meets criteria for meaningful use of EHRs_Not Available',\n",
    "                  'Meets criteria for meaningful use of EHRs_Y'], axis = 1, inplace = True)"
   ]
  },
  {
   "cell_type": "code",
   "execution_count": 124,
   "metadata": {},
   "outputs": [],
   "source": [
    "hospital_df.to_csv('hostipal_clean.csv')"
   ]
  },
  {
   "cell_type": "markdown",
   "metadata": {},
   "source": [
    "### Consolidation\n",
    "https://jakevdp.github.io/PythonDataScienceHandbook/03.07-merge-and-join.html"
   ]
  },
  {
   "cell_type": "code",
   "execution_count": 125,
   "metadata": {},
   "outputs": [
    {
     "data": {
      "text/plain": [
       "(20732, 3)"
      ]
     },
     "execution_count": 125,
     "metadata": {},
     "output_type": "execute_result"
    }
   ],
   "source": [
    "#### Consolidate dataframes for ease of use\n",
    "#pd.concat()\n",
    "PS_df.shape"
   ]
  },
  {
   "cell_type": "code",
   "execution_count": 126,
   "metadata": {},
   "outputs": [
    {
     "data": {
      "text/html": [
       "<div>\n",
       "<style scoped>\n",
       "    .dataframe tbody tr th:only-of-type {\n",
       "        vertical-align: middle;\n",
       "    }\n",
       "\n",
       "    .dataframe tbody tr th {\n",
       "        vertical-align: top;\n",
       "    }\n",
       "\n",
       "    .dataframe thead th {\n",
       "        text-align: right;\n",
       "    }\n",
       "</style>\n",
       "<table border=\"1\" class=\"dataframe\">\n",
       "  <thead>\n",
       "    <tr style=\"text-align: right;\">\n",
       "      <th></th>\n",
       "      <th>Zipcode</th>\n",
       "      <th>Urban</th>\n",
       "      <th>OHU2010</th>\n",
       "      <th>LowIncomeTracts</th>\n",
       "      <th>MedianFamilyIncome</th>\n",
       "      <th>LA1and10</th>\n",
       "    </tr>\n",
       "  </thead>\n",
       "  <tbody>\n",
       "    <tr>\n",
       "      <th>0</th>\n",
       "      <td>1001.0</td>\n",
       "      <td>1.000000</td>\n",
       "      <td>2098.000000</td>\n",
       "      <td>0.200000</td>\n",
       "      <td>73672.800000</td>\n",
       "      <td>1.000000</td>\n",
       "    </tr>\n",
       "    <tr>\n",
       "      <th>1</th>\n",
       "      <td>1002.0</td>\n",
       "      <td>0.777778</td>\n",
       "      <td>1298.666667</td>\n",
       "      <td>0.666667</td>\n",
       "      <td>76141.333333</td>\n",
       "      <td>0.666667</td>\n",
       "    </tr>\n",
       "    <tr>\n",
       "      <th>2</th>\n",
       "      <td>1005.0</td>\n",
       "      <td>0.000000</td>\n",
       "      <td>2025.000000</td>\n",
       "      <td>0.000000</td>\n",
       "      <td>80846.000000</td>\n",
       "      <td>0.000000</td>\n",
       "    </tr>\n",
       "    <tr>\n",
       "      <th>3</th>\n",
       "      <td>1007.0</td>\n",
       "      <td>0.000000</td>\n",
       "      <td>2797.500000</td>\n",
       "      <td>0.000000</td>\n",
       "      <td>93071.000000</td>\n",
       "      <td>0.000000</td>\n",
       "    </tr>\n",
       "    <tr>\n",
       "      <th>4</th>\n",
       "      <td>1008.0</td>\n",
       "      <td>0.000000</td>\n",
       "      <td>2826.000000</td>\n",
       "      <td>0.000000</td>\n",
       "      <td>79719.000000</td>\n",
       "      <td>1.000000</td>\n",
       "    </tr>\n",
       "  </tbody>\n",
       "</table>\n",
       "</div>"
      ],
      "text/plain": [
       "   Zipcode     Urban      OHU2010  LowIncomeTracts  MedianFamilyIncome  LA1and10\n",
       "0   1001.0  1.000000  2098.000000         0.200000        73672.800000  1.000000\n",
       "1   1002.0  0.777778  1298.666667         0.666667        76141.333333  0.666667\n",
       "2   1005.0  0.000000  2025.000000         0.000000        80846.000000  0.000000\n",
       "3   1007.0  0.000000  2797.500000         0.000000        93071.000000  0.000000\n",
       "4   1008.0  0.000000  2826.000000         0.000000        79719.000000  1.000000"
      ]
     },
     "execution_count": 126,
     "metadata": {},
     "output_type": "execute_result"
    }
   ],
   "source": [
    "food_df.head()"
   ]
  },
  {
   "cell_type": "code",
   "execution_count": 127,
   "metadata": {},
   "outputs": [],
   "source": [
    "#Rename Column\n",
    "food_df.rename(columns = {'Zipcode': 'ZIP'}, inplace=True)"
   ]
  },
  {
   "cell_type": "code",
   "execution_count": 128,
   "metadata": {},
   "outputs": [
    {
     "data": {
      "text/html": [
       "<div>\n",
       "<style scoped>\n",
       "    .dataframe tbody tr th:only-of-type {\n",
       "        vertical-align: middle;\n",
       "    }\n",
       "\n",
       "    .dataframe tbody tr th {\n",
       "        vertical-align: top;\n",
       "    }\n",
       "\n",
       "    .dataframe thead th {\n",
       "        text-align: right;\n",
       "    }\n",
       "</style>\n",
       "<table border=\"1\" class=\"dataframe\">\n",
       "  <thead>\n",
       "    <tr style=\"text-align: right;\">\n",
       "      <th></th>\n",
       "      <th>ZIP</th>\n",
       "      <th>LEVEL_</th>\n",
       "      <th>Class_Teacher_RATIO</th>\n",
       "      <th>Urban</th>\n",
       "      <th>OHU2010</th>\n",
       "      <th>LowIncomeTracts</th>\n",
       "      <th>MedianFamilyIncome</th>\n",
       "      <th>LA1and10</th>\n",
       "    </tr>\n",
       "  </thead>\n",
       "  <tbody>\n",
       "    <tr>\n",
       "      <th>0</th>\n",
       "      <td>1001</td>\n",
       "      <td>1.50</td>\n",
       "      <td>15.247192</td>\n",
       "      <td>1.000000</td>\n",
       "      <td>2098.000000</td>\n",
       "      <td>0.200000</td>\n",
       "      <td>73672.800000</td>\n",
       "      <td>1.000000</td>\n",
       "    </tr>\n",
       "    <tr>\n",
       "      <th>1</th>\n",
       "      <td>1002</td>\n",
       "      <td>1.50</td>\n",
       "      <td>10.940945</td>\n",
       "      <td>0.777778</td>\n",
       "      <td>1298.666667</td>\n",
       "      <td>0.666667</td>\n",
       "      <td>76141.333333</td>\n",
       "      <td>0.666667</td>\n",
       "    </tr>\n",
       "    <tr>\n",
       "      <th>2</th>\n",
       "      <td>1005</td>\n",
       "      <td>2.25</td>\n",
       "      <td>13.025238</td>\n",
       "      <td>0.000000</td>\n",
       "      <td>2025.000000</td>\n",
       "      <td>0.000000</td>\n",
       "      <td>80846.000000</td>\n",
       "      <td>0.000000</td>\n",
       "    </tr>\n",
       "    <tr>\n",
       "      <th>3</th>\n",
       "      <td>1007</td>\n",
       "      <td>1.80</td>\n",
       "      <td>13.791365</td>\n",
       "      <td>0.000000</td>\n",
       "      <td>2797.500000</td>\n",
       "      <td>0.000000</td>\n",
       "      <td>93071.000000</td>\n",
       "      <td>0.000000</td>\n",
       "    </tr>\n",
       "    <tr>\n",
       "      <th>4</th>\n",
       "      <td>1010</td>\n",
       "      <td>1.00</td>\n",
       "      <td>10.777778</td>\n",
       "      <td>0.000000</td>\n",
       "      <td>1429.000000</td>\n",
       "      <td>0.000000</td>\n",
       "      <td>115927.000000</td>\n",
       "      <td>0.000000</td>\n",
       "    </tr>\n",
       "  </tbody>\n",
       "</table>\n",
       "</div>"
      ],
      "text/plain": [
       "    ZIP  LEVEL_  Class_Teacher_RATIO     Urban      OHU2010  LowIncomeTracts  MedianFamilyIncome  LA1and10\n",
       "0  1001    1.50            15.247192  1.000000  2098.000000         0.200000        73672.800000  1.000000\n",
       "1  1002    1.50            10.940945  0.777778  1298.666667         0.666667        76141.333333  0.666667\n",
       "2  1005    2.25            13.025238  0.000000  2025.000000         0.000000        80846.000000  0.000000\n",
       "3  1007    1.80            13.791365  0.000000  2797.500000         0.000000        93071.000000  0.000000\n",
       "4  1010    1.00            10.777778  0.000000  1429.000000         0.000000       115927.000000  0.000000"
      ]
     },
     "execution_count": 128,
     "metadata": {},
     "output_type": "execute_result"
    }
   ],
   "source": [
    "#Left Join food to PS data (want to make sure keep as much data as possible)\n",
    "PS_food_df = PS_df.merge(food_df, on=\"ZIP\", how=\"left\") \n",
    "PS_food_df.head()"
   ]
  },
  {
   "cell_type": "code",
   "execution_count": 129,
   "metadata": {},
   "outputs": [
    {
     "data": {
      "text/plain": [
       "(20732, 8)"
      ]
     },
     "execution_count": 129,
     "metadata": {},
     "output_type": "execute_result"
    }
   ],
   "source": [
    "PS_food_df.shape"
   ]
  },
  {
   "cell_type": "code",
   "execution_count": 130,
   "metadata": {},
   "outputs": [
    {
     "data": {
      "text/plain": [
       "(1828, 2)"
      ]
     },
     "execution_count": 130,
     "metadata": {},
     "output_type": "execute_result"
    }
   ],
   "source": [
    "TGT_df.shape"
   ]
  },
  {
   "cell_type": "code",
   "execution_count": 131,
   "metadata": {},
   "outputs": [
    {
     "data": {
      "text/plain": [
       "(5983, 2)"
      ]
     },
     "execution_count": 131,
     "metadata": {},
     "output_type": "execute_result"
    }
   ],
   "source": [
    "SBUX_df.shape"
   ]
  },
  {
   "cell_type": "code",
   "execution_count": 132,
   "metadata": {},
   "outputs": [],
   "source": [
    "#Rename SBUX and TGT columns\n",
    "SBUX_df.rename(columns = {'Postcode': 'ZIP'}, inplace=True)\n",
    "TGT_df.rename(columns = {'PostalCode': 'ZIP'}, inplace=True)"
   ]
  },
  {
   "cell_type": "code",
   "execution_count": 133,
   "metadata": {},
   "outputs": [
    {
     "data": {
      "text/html": [
       "<div>\n",
       "<style scoped>\n",
       "    .dataframe tbody tr th:only-of-type {\n",
       "        vertical-align: middle;\n",
       "    }\n",
       "\n",
       "    .dataframe tbody tr th {\n",
       "        vertical-align: top;\n",
       "    }\n",
       "\n",
       "    .dataframe thead th {\n",
       "        text-align: right;\n",
       "    }\n",
       "</style>\n",
       "<table border=\"1\" class=\"dataframe\">\n",
       "  <thead>\n",
       "    <tr style=\"text-align: right;\">\n",
       "      <th></th>\n",
       "      <th>ZIP</th>\n",
       "      <th>Starbucks_count</th>\n",
       "      <th>Target_count</th>\n",
       "    </tr>\n",
       "  </thead>\n",
       "  <tbody>\n",
       "    <tr>\n",
       "      <th>0</th>\n",
       "      <td>10001</td>\n",
       "      <td>15</td>\n",
       "      <td>NaN</td>\n",
       "    </tr>\n",
       "    <tr>\n",
       "      <th>1</th>\n",
       "      <td>10002</td>\n",
       "      <td>1</td>\n",
       "      <td>NaN</td>\n",
       "    </tr>\n",
       "    <tr>\n",
       "      <th>2</th>\n",
       "      <td>10003</td>\n",
       "      <td>10</td>\n",
       "      <td>NaN</td>\n",
       "    </tr>\n",
       "    <tr>\n",
       "      <th>3</th>\n",
       "      <td>10004</td>\n",
       "      <td>6</td>\n",
       "      <td>NaN</td>\n",
       "    </tr>\n",
       "    <tr>\n",
       "      <th>4</th>\n",
       "      <td>10005</td>\n",
       "      <td>6</td>\n",
       "      <td>NaN</td>\n",
       "    </tr>\n",
       "  </tbody>\n",
       "</table>\n",
       "</div>"
      ],
      "text/plain": [
       "     ZIP  Starbucks_count  Target_count\n",
       "0  10001               15           NaN\n",
       "1  10002                1           NaN\n",
       "2  10003               10           NaN\n",
       "3  10004                6           NaN\n",
       "4  10005                6           NaN"
      ]
     },
     "execution_count": 133,
     "metadata": {},
     "output_type": "execute_result"
    }
   ],
   "source": [
    "#Left Join TGT to SBUX\n",
    "SBUX_TGT_df = SBUX_df.merge(TGT_df, on=\"ZIP\", how=\"left\")\n",
    "SBUX_TGT_df.head()"
   ]
  },
  {
   "cell_type": "code",
   "execution_count": 134,
   "metadata": {},
   "outputs": [
    {
     "data": {
      "text/plain": [
       "(6035, 3)"
      ]
     },
     "execution_count": 134,
     "metadata": {},
     "output_type": "execute_result"
    }
   ],
   "source": [
    "SBUX_TGT_df.shape"
   ]
  },
  {
   "cell_type": "code",
   "execution_count": 135,
   "metadata": {},
   "outputs": [
    {
     "data": {
      "text/html": [
       "<div>\n",
       "<style scoped>\n",
       "    .dataframe tbody tr th:only-of-type {\n",
       "        vertical-align: middle;\n",
       "    }\n",
       "\n",
       "    .dataframe tbody tr th {\n",
       "        vertical-align: top;\n",
       "    }\n",
       "\n",
       "    .dataframe thead th {\n",
       "        text-align: right;\n",
       "    }\n",
       "</style>\n",
       "<table border=\"1\" class=\"dataframe\">\n",
       "  <thead>\n",
       "    <tr style=\"text-align: right;\">\n",
       "      <th></th>\n",
       "      <th>ZIP</th>\n",
       "      <th>LEVEL_</th>\n",
       "      <th>Class_Teacher_RATIO</th>\n",
       "      <th>Urban</th>\n",
       "      <th>OHU2010</th>\n",
       "      <th>LowIncomeTracts</th>\n",
       "      <th>MedianFamilyIncome</th>\n",
       "      <th>LA1and10</th>\n",
       "      <th>Starbucks_count</th>\n",
       "      <th>Target_count</th>\n",
       "    </tr>\n",
       "  </thead>\n",
       "  <tbody>\n",
       "    <tr>\n",
       "      <th>0</th>\n",
       "      <td>1001</td>\n",
       "      <td>1.50</td>\n",
       "      <td>15.247192</td>\n",
       "      <td>1.000000</td>\n",
       "      <td>2098.000000</td>\n",
       "      <td>0.200000</td>\n",
       "      <td>73672.800000</td>\n",
       "      <td>1.000000</td>\n",
       "      <td>NaN</td>\n",
       "      <td>NaN</td>\n",
       "    </tr>\n",
       "    <tr>\n",
       "      <th>1</th>\n",
       "      <td>1002</td>\n",
       "      <td>1.50</td>\n",
       "      <td>10.940945</td>\n",
       "      <td>0.777778</td>\n",
       "      <td>1298.666667</td>\n",
       "      <td>0.666667</td>\n",
       "      <td>76141.333333</td>\n",
       "      <td>0.666667</td>\n",
       "      <td>NaN</td>\n",
       "      <td>NaN</td>\n",
       "    </tr>\n",
       "    <tr>\n",
       "      <th>2</th>\n",
       "      <td>1005</td>\n",
       "      <td>2.25</td>\n",
       "      <td>13.025238</td>\n",
       "      <td>0.000000</td>\n",
       "      <td>2025.000000</td>\n",
       "      <td>0.000000</td>\n",
       "      <td>80846.000000</td>\n",
       "      <td>0.000000</td>\n",
       "      <td>NaN</td>\n",
       "      <td>NaN</td>\n",
       "    </tr>\n",
       "    <tr>\n",
       "      <th>3</th>\n",
       "      <td>1007</td>\n",
       "      <td>1.80</td>\n",
       "      <td>13.791365</td>\n",
       "      <td>0.000000</td>\n",
       "      <td>2797.500000</td>\n",
       "      <td>0.000000</td>\n",
       "      <td>93071.000000</td>\n",
       "      <td>0.000000</td>\n",
       "      <td>NaN</td>\n",
       "      <td>NaN</td>\n",
       "    </tr>\n",
       "    <tr>\n",
       "      <th>4</th>\n",
       "      <td>1010</td>\n",
       "      <td>1.00</td>\n",
       "      <td>10.777778</td>\n",
       "      <td>0.000000</td>\n",
       "      <td>1429.000000</td>\n",
       "      <td>0.000000</td>\n",
       "      <td>115927.000000</td>\n",
       "      <td>0.000000</td>\n",
       "      <td>NaN</td>\n",
       "      <td>NaN</td>\n",
       "    </tr>\n",
       "  </tbody>\n",
       "</table>\n",
       "</div>"
      ],
      "text/plain": [
       "    ZIP  LEVEL_  Class_Teacher_RATIO     Urban      OHU2010  LowIncomeTracts  MedianFamilyIncome  LA1and10  Starbucks_count  Target_count\n",
       "0  1001    1.50            15.247192  1.000000  2098.000000         0.200000        73672.800000  1.000000              NaN           NaN\n",
       "1  1002    1.50            10.940945  0.777778  1298.666667         0.666667        76141.333333  0.666667              NaN           NaN\n",
       "2  1005    2.25            13.025238  0.000000  2025.000000         0.000000        80846.000000  0.000000              NaN           NaN\n",
       "3  1007    1.80            13.791365  0.000000  2797.500000         0.000000        93071.000000  0.000000              NaN           NaN\n",
       "4  1010    1.00            10.777778  0.000000  1429.000000         0.000000       115927.000000  0.000000              NaN           NaN"
      ]
     },
     "execution_count": 135,
     "metadata": {},
     "output_type": "execute_result"
    }
   ],
   "source": [
    "features_df = PS_food_df.merge(SBUX_TGT_df, on=\"ZIP\", how=\"left\")\n",
    "features_df.head()"
   ]
  },
  {
   "cell_type": "code",
   "execution_count": 136,
   "metadata": {},
   "outputs": [
    {
     "data": {
      "text/plain": [
       "(20781, 10)"
      ]
     },
     "execution_count": 136,
     "metadata": {},
     "output_type": "execute_result"
    }
   ],
   "source": [
    "features_df.shape"
   ]
  },
  {
   "cell_type": "code",
   "execution_count": 137,
   "metadata": {},
   "outputs": [
    {
     "data": {
      "text/plain": [
       "ZIP                        0\n",
       "LEVEL_                     0\n",
       "Class_Teacher_RATIO        0\n",
       "Urban                   7153\n",
       "OHU2010                 7153\n",
       "LowIncomeTracts         7153\n",
       "MedianFamilyIncome      7153\n",
       "LA1and10                7153\n",
       "Starbucks_count        15730\n",
       "Target_count           19215\n",
       "dtype: int64"
      ]
     },
     "execution_count": 137,
     "metadata": {},
     "output_type": "execute_result"
    }
   ],
   "source": [
    "features_df.apply(lambda x: sum(x.isnull()))"
   ]
  },
  {
   "cell_type": "code",
   "execution_count": 138,
   "metadata": {},
   "outputs": [],
   "source": [
    "#Fill NA's with 0 for Starbucks and Target because those zipcodes don't have locations. \n",
    "features_df[['Starbucks_count', 'Target_count']] = features_df[['Starbucks_count', 'Target_count']].fillna(value=0)"
   ]
  },
  {
   "cell_type": "code",
   "execution_count": 139,
   "metadata": {},
   "outputs": [
    {
     "data": {
      "text/plain": [
       "ZIP                       0\n",
       "LEVEL_                    0\n",
       "Class_Teacher_RATIO       0\n",
       "Urban                  7153\n",
       "OHU2010                7153\n",
       "LowIncomeTracts        7153\n",
       "MedianFamilyIncome     7153\n",
       "LA1and10               7153\n",
       "Starbucks_count           0\n",
       "Target_count              0\n",
       "dtype: int64"
      ]
     },
     "execution_count": 139,
     "metadata": {},
     "output_type": "execute_result"
    }
   ],
   "source": [
    "features_df.apply(lambda x: sum(x.isnull()))"
   ]
  },
  {
   "cell_type": "code",
   "execution_count": 140,
   "metadata": {},
   "outputs": [],
   "source": [
    "#Rename hospital columns\n",
    "hospital_df = pd.read_csv('hostipal_clean.csv')\n",
    "hospital_df.rename(columns = {'Zipcode': 'ZIP'}, inplace=True)"
   ]
  },
  {
   "cell_type": "code",
   "execution_count": 141,
   "metadata": {},
   "outputs": [
    {
     "data": {
      "text/plain": [
       "(3369, 4)"
      ]
     },
     "execution_count": 141,
     "metadata": {},
     "output_type": "execute_result"
    }
   ],
   "source": [
    "hospital_df.shape"
   ]
  },
  {
   "cell_type": "code",
   "execution_count": 142,
   "metadata": {
    "scrolled": true
   },
   "outputs": [
    {
     "data": {
      "text/html": [
       "<div>\n",
       "<style scoped>\n",
       "    .dataframe tbody tr th:only-of-type {\n",
       "        vertical-align: middle;\n",
       "    }\n",
       "\n",
       "    .dataframe tbody tr th {\n",
       "        vertical-align: top;\n",
       "    }\n",
       "\n",
       "    .dataframe thead th {\n",
       "        text-align: right;\n",
       "    }\n",
       "</style>\n",
       "<table border=\"1\" class=\"dataframe\">\n",
       "  <thead>\n",
       "    <tr style=\"text-align: right;\">\n",
       "      <th></th>\n",
       "      <th>ZIP</th>\n",
       "      <th>LEVEL_</th>\n",
       "      <th>Class_Teacher_RATIO</th>\n",
       "      <th>Urban</th>\n",
       "      <th>OHU2010</th>\n",
       "      <th>LowIncomeTracts</th>\n",
       "      <th>MedianFamilyIncome</th>\n",
       "      <th>LA1and10</th>\n",
       "      <th>Starbucks_count</th>\n",
       "      <th>Target_count</th>\n",
       "      <th>Unnamed: 0</th>\n",
       "      <th>Hospital overall rating</th>\n",
       "      <th>Emergency Services_Yes</th>\n",
       "    </tr>\n",
       "  </thead>\n",
       "  <tbody>\n",
       "    <tr>\n",
       "      <th>0</th>\n",
       "      <td>1001</td>\n",
       "      <td>1.50</td>\n",
       "      <td>15.247192</td>\n",
       "      <td>1.000000</td>\n",
       "      <td>2098.000000</td>\n",
       "      <td>0.200000</td>\n",
       "      <td>73672.800000</td>\n",
       "      <td>1.000000</td>\n",
       "      <td>0.0</td>\n",
       "      <td>0.0</td>\n",
       "      <td>NaN</td>\n",
       "      <td>NaN</td>\n",
       "      <td>NaN</td>\n",
       "    </tr>\n",
       "    <tr>\n",
       "      <th>1</th>\n",
       "      <td>1002</td>\n",
       "      <td>1.50</td>\n",
       "      <td>10.940945</td>\n",
       "      <td>0.777778</td>\n",
       "      <td>1298.666667</td>\n",
       "      <td>0.666667</td>\n",
       "      <td>76141.333333</td>\n",
       "      <td>0.666667</td>\n",
       "      <td>0.0</td>\n",
       "      <td>0.0</td>\n",
       "      <td>NaN</td>\n",
       "      <td>NaN</td>\n",
       "      <td>NaN</td>\n",
       "    </tr>\n",
       "    <tr>\n",
       "      <th>2</th>\n",
       "      <td>1005</td>\n",
       "      <td>2.25</td>\n",
       "      <td>13.025238</td>\n",
       "      <td>0.000000</td>\n",
       "      <td>2025.000000</td>\n",
       "      <td>0.000000</td>\n",
       "      <td>80846.000000</td>\n",
       "      <td>0.000000</td>\n",
       "      <td>0.0</td>\n",
       "      <td>0.0</td>\n",
       "      <td>NaN</td>\n",
       "      <td>NaN</td>\n",
       "      <td>NaN</td>\n",
       "    </tr>\n",
       "    <tr>\n",
       "      <th>3</th>\n",
       "      <td>1007</td>\n",
       "      <td>1.80</td>\n",
       "      <td>13.791365</td>\n",
       "      <td>0.000000</td>\n",
       "      <td>2797.500000</td>\n",
       "      <td>0.000000</td>\n",
       "      <td>93071.000000</td>\n",
       "      <td>0.000000</td>\n",
       "      <td>0.0</td>\n",
       "      <td>0.0</td>\n",
       "      <td>NaN</td>\n",
       "      <td>NaN</td>\n",
       "      <td>NaN</td>\n",
       "    </tr>\n",
       "    <tr>\n",
       "      <th>4</th>\n",
       "      <td>1010</td>\n",
       "      <td>1.00</td>\n",
       "      <td>10.777778</td>\n",
       "      <td>0.000000</td>\n",
       "      <td>1429.000000</td>\n",
       "      <td>0.000000</td>\n",
       "      <td>115927.000000</td>\n",
       "      <td>0.000000</td>\n",
       "      <td>0.0</td>\n",
       "      <td>0.0</td>\n",
       "      <td>NaN</td>\n",
       "      <td>NaN</td>\n",
       "      <td>NaN</td>\n",
       "    </tr>\n",
       "  </tbody>\n",
       "</table>\n",
       "</div>"
      ],
      "text/plain": [
       "    ZIP  LEVEL_  Class_Teacher_RATIO     Urban      OHU2010  LowIncomeTracts  MedianFamilyIncome  LA1and10  Starbucks_count  Target_count  Unnamed: 0  Hospital overall rating  Emergency Services_Yes\n",
       "0  1001    1.50            15.247192  1.000000  2098.000000         0.200000        73672.800000  1.000000              0.0           0.0         NaN                      NaN                     NaN\n",
       "1  1002    1.50            10.940945  0.777778  1298.666667         0.666667        76141.333333  0.666667              0.0           0.0         NaN                      NaN                     NaN\n",
       "2  1005    2.25            13.025238  0.000000  2025.000000         0.000000        80846.000000  0.000000              0.0           0.0         NaN                      NaN                     NaN\n",
       "3  1007    1.80            13.791365  0.000000  2797.500000         0.000000        93071.000000  0.000000              0.0           0.0         NaN                      NaN                     NaN\n",
       "4  1010    1.00            10.777778  0.000000  1429.000000         0.000000       115927.000000  0.000000              0.0           0.0         NaN                      NaN                     NaN"
      ]
     },
     "execution_count": 142,
     "metadata": {},
     "output_type": "execute_result"
    }
   ],
   "source": [
    "#Left Join hospital to features_df\n",
    "features_df = features_df.merge(hospital_df, on=\"ZIP\", how=\"left\")\n",
    "features_df.head()"
   ]
  },
  {
   "cell_type": "code",
   "execution_count": 143,
   "metadata": {},
   "outputs": [
    {
     "data": {
      "text/plain": [
       "ZIP                            0\n",
       "LEVEL_                         0\n",
       "Class_Teacher_RATIO            0\n",
       "Urban                       7153\n",
       "OHU2010                     7153\n",
       "LowIncomeTracts             7153\n",
       "MedianFamilyIncome          7153\n",
       "LA1and10                    7153\n",
       "Starbucks_count                0\n",
       "Target_count                   0\n",
       "Unnamed: 0                 17863\n",
       "Hospital overall rating    17863\n",
       "Emergency Services_Yes     17863\n",
       "dtype: int64"
      ]
     },
     "execution_count": 143,
     "metadata": {},
     "output_type": "execute_result"
    }
   ],
   "source": [
    "pd.set_option('display.max_rows', 30)\n",
    "features_df.apply(lambda x: sum(x.isnull()))"
   ]
  },
  {
   "cell_type": "code",
   "execution_count": 144,
   "metadata": {},
   "outputs": [
    {
     "data": {
      "image/png": "[encoded data removed]",
      "text/plain": [
       "<Figure size 720x576 with 2 Axes>"
      ]
     },
     "metadata": {
      "needs_background": "light"
     },
     "output_type": "display_data"
    }
   ],
   "source": [
    "#Visually represent collinearity\n",
    "import matplotlib.pyplot as plt\n",
    "plt.figure(figsize=(10,8))\n",
    "sns.heatmap(features_df.corr(),annot=True,cmap=\"YlGnBu\")\n",
    "plt.show()"
   ]
  },
  {
   "cell_type": "code",
   "execution_count": 145,
   "metadata": {},
   "outputs": [
    {
     "data": {
      "text/plain": [
       "pandas.core.frame.DataFrame"
      ]
     },
     "execution_count": 145,
     "metadata": {},
     "output_type": "execute_result"
    }
   ],
   "source": [
    "type(features_df)"
   ]
  },
  {
   "cell_type": "code",
   "execution_count": 146,
   "metadata": {},
   "outputs": [
    {
     "data": {
      "text/html": [
       "<div>\n",
       "<style scoped>\n",
       "    .dataframe tbody tr th:only-of-type {\n",
       "        vertical-align: middle;\n",
       "    }\n",
       "\n",
       "    .dataframe tbody tr th {\n",
       "        vertical-align: top;\n",
       "    }\n",
       "\n",
       "    .dataframe thead th {\n",
       "        text-align: right;\n",
       "    }\n",
       "</style>\n",
       "<table border=\"1\" class=\"dataframe\">\n",
       "  <thead>\n",
       "    <tr style=\"text-align: right;\">\n",
       "      <th></th>\n",
       "      <th>ZIP</th>\n",
       "      <th>NumberOfBedrooms</th>\n",
       "      <th>DwellingType</th>\n",
       "      <th>Pricing</th>\n",
       "    </tr>\n",
       "  </thead>\n",
       "  <tbody>\n",
       "    <tr>\n",
       "      <th>0</th>\n",
       "      <td>1001</td>\n",
       "      <td>1</td>\n",
       "      <td>1.0</td>\n",
       "      <td>134261.458333</td>\n",
       "    </tr>\n",
       "    <tr>\n",
       "      <th>1</th>\n",
       "      <td>1001</td>\n",
       "      <td>1</td>\n",
       "      <td>2.0</td>\n",
       "      <td>194297.916667</td>\n",
       "    </tr>\n",
       "    <tr>\n",
       "      <th>2</th>\n",
       "      <td>1001</td>\n",
       "      <td>2</td>\n",
       "      <td>1.0</td>\n",
       "      <td>134261.458333</td>\n",
       "    </tr>\n",
       "    <tr>\n",
       "      <th>3</th>\n",
       "      <td>1001</td>\n",
       "      <td>2</td>\n",
       "      <td>2.0</td>\n",
       "      <td>194297.916667</td>\n",
       "    </tr>\n",
       "    <tr>\n",
       "      <th>4</th>\n",
       "      <td>1001</td>\n",
       "      <td>3</td>\n",
       "      <td>1.0</td>\n",
       "      <td>134261.458333</td>\n",
       "    </tr>\n",
       "  </tbody>\n",
       "</table>\n",
       "</div>"
      ],
      "text/plain": [
       "    ZIP  NumberOfBedrooms  DwellingType        Pricing\n",
       "0  1001                 1           1.0  134261.458333\n",
       "1  1001                 1           2.0  194297.916667\n",
       "2  1001                 2           1.0  134261.458333\n",
       "3  1001                 2           2.0  194297.916667\n",
       "4  1001                 3           1.0  134261.458333"
      ]
     },
     "execution_count": 146,
     "metadata": {},
     "output_type": "execute_result"
    }
   ],
   "source": [
    "zip_df.head()"
   ]
  },
  {
   "cell_type": "code",
   "execution_count": 147,
   "metadata": {},
   "outputs": [
    {
     "data": {
      "text/html": [
       "<div>\n",
       "<style scoped>\n",
       "    .dataframe tbody tr th:only-of-type {\n",
       "        vertical-align: middle;\n",
       "    }\n",
       "\n",
       "    .dataframe tbody tr th {\n",
       "        vertical-align: top;\n",
       "    }\n",
       "\n",
       "    .dataframe thead th {\n",
       "        text-align: right;\n",
       "    }\n",
       "</style>\n",
       "<table border=\"1\" class=\"dataframe\">\n",
       "  <thead>\n",
       "    <tr style=\"text-align: right;\">\n",
       "      <th></th>\n",
       "      <th>ZIP</th>\n",
       "      <th>LEVEL_</th>\n",
       "      <th>Class_Teacher_RATIO</th>\n",
       "      <th>Urban</th>\n",
       "      <th>OHU2010</th>\n",
       "      <th>LowIncomeTracts</th>\n",
       "      <th>MedianFamilyIncome</th>\n",
       "      <th>LA1and10</th>\n",
       "      <th>Starbucks_count</th>\n",
       "      <th>Target_count</th>\n",
       "      <th>Unnamed: 0</th>\n",
       "      <th>Hospital overall rating</th>\n",
       "      <th>Emergency Services_Yes</th>\n",
       "    </tr>\n",
       "  </thead>\n",
       "  <tbody>\n",
       "    <tr>\n",
       "      <th>0</th>\n",
       "      <td>1001</td>\n",
       "      <td>1.50</td>\n",
       "      <td>15.247192</td>\n",
       "      <td>1.000000</td>\n",
       "      <td>2098.000000</td>\n",
       "      <td>0.200000</td>\n",
       "      <td>73672.800000</td>\n",
       "      <td>1.000000</td>\n",
       "      <td>0.0</td>\n",
       "      <td>0.0</td>\n",
       "      <td>NaN</td>\n",
       "      <td>NaN</td>\n",
       "      <td>NaN</td>\n",
       "    </tr>\n",
       "    <tr>\n",
       "      <th>1</th>\n",
       "      <td>1002</td>\n",
       "      <td>1.50</td>\n",
       "      <td>10.940945</td>\n",
       "      <td>0.777778</td>\n",
       "      <td>1298.666667</td>\n",
       "      <td>0.666667</td>\n",
       "      <td>76141.333333</td>\n",
       "      <td>0.666667</td>\n",
       "      <td>0.0</td>\n",
       "      <td>0.0</td>\n",
       "      <td>NaN</td>\n",
       "      <td>NaN</td>\n",
       "      <td>NaN</td>\n",
       "    </tr>\n",
       "    <tr>\n",
       "      <th>2</th>\n",
       "      <td>1005</td>\n",
       "      <td>2.25</td>\n",
       "      <td>13.025238</td>\n",
       "      <td>0.000000</td>\n",
       "      <td>2025.000000</td>\n",
       "      <td>0.000000</td>\n",
       "      <td>80846.000000</td>\n",
       "      <td>0.000000</td>\n",
       "      <td>0.0</td>\n",
       "      <td>0.0</td>\n",
       "      <td>NaN</td>\n",
       "      <td>NaN</td>\n",
       "      <td>NaN</td>\n",
       "    </tr>\n",
       "    <tr>\n",
       "      <th>3</th>\n",
       "      <td>1007</td>\n",
       "      <td>1.80</td>\n",
       "      <td>13.791365</td>\n",
       "      <td>0.000000</td>\n",
       "      <td>2797.500000</td>\n",
       "      <td>0.000000</td>\n",
       "      <td>93071.000000</td>\n",
       "      <td>0.000000</td>\n",
       "      <td>0.0</td>\n",
       "      <td>0.0</td>\n",
       "      <td>NaN</td>\n",
       "      <td>NaN</td>\n",
       "      <td>NaN</td>\n",
       "    </tr>\n",
       "    <tr>\n",
       "      <th>4</th>\n",
       "      <td>1010</td>\n",
       "      <td>1.00</td>\n",
       "      <td>10.777778</td>\n",
       "      <td>0.000000</td>\n",
       "      <td>1429.000000</td>\n",
       "      <td>0.000000</td>\n",
       "      <td>115927.000000</td>\n",
       "      <td>0.000000</td>\n",
       "      <td>0.0</td>\n",
       "      <td>0.0</td>\n",
       "      <td>NaN</td>\n",
       "      <td>NaN</td>\n",
       "      <td>NaN</td>\n",
       "    </tr>\n",
       "  </tbody>\n",
       "</table>\n",
       "</div>"
      ],
      "text/plain": [
       "    ZIP  LEVEL_  Class_Teacher_RATIO     Urban      OHU2010  LowIncomeTracts  MedianFamilyIncome  LA1and10  Starbucks_count  Target_count  Unnamed: 0  Hospital overall rating  Emergency Services_Yes\n",
       "0  1001    1.50            15.247192  1.000000  2098.000000         0.200000        73672.800000  1.000000              0.0           0.0         NaN                      NaN                     NaN\n",
       "1  1002    1.50            10.940945  0.777778  1298.666667         0.666667        76141.333333  0.666667              0.0           0.0         NaN                      NaN                     NaN\n",
       "2  1005    2.25            13.025238  0.000000  2025.000000         0.000000        80846.000000  0.000000              0.0           0.0         NaN                      NaN                     NaN\n",
       "3  1007    1.80            13.791365  0.000000  2797.500000         0.000000        93071.000000  0.000000              0.0           0.0         NaN                      NaN                     NaN\n",
       "4  1010    1.00            10.777778  0.000000  1429.000000         0.000000       115927.000000  0.000000              0.0           0.0         NaN                      NaN                     NaN"
      ]
     },
     "execution_count": 147,
     "metadata": {},
     "output_type": "execute_result"
    }
   ],
   "source": [
    "features_df.head()"
   ]
  },
  {
   "cell_type": "code",
   "execution_count": 148,
   "metadata": {
    "scrolled": true
   },
   "outputs": [
    {
     "data": {
      "text/html": [
       "<div>\n",
       "<style scoped>\n",
       "    .dataframe tbody tr th:only-of-type {\n",
       "        vertical-align: middle;\n",
       "    }\n",
       "\n",
       "    .dataframe tbody tr th {\n",
       "        vertical-align: top;\n",
       "    }\n",
       "\n",
       "    .dataframe thead th {\n",
       "        text-align: right;\n",
       "    }\n",
       "</style>\n",
       "<table border=\"1\" class=\"dataframe\">\n",
       "  <thead>\n",
       "    <tr style=\"text-align: right;\">\n",
       "      <th></th>\n",
       "      <th>ZIP</th>\n",
       "      <th>NumberOfBedrooms</th>\n",
       "      <th>DwellingType</th>\n",
       "      <th>Pricing</th>\n",
       "      <th>LEVEL_</th>\n",
       "      <th>Class_Teacher_RATIO</th>\n",
       "      <th>Urban</th>\n",
       "      <th>OHU2010</th>\n",
       "      <th>LowIncomeTracts</th>\n",
       "      <th>MedianFamilyIncome</th>\n",
       "      <th>LA1and10</th>\n",
       "      <th>Starbucks_count</th>\n",
       "      <th>Target_count</th>\n",
       "      <th>Unnamed: 0</th>\n",
       "      <th>Hospital overall rating</th>\n",
       "      <th>Emergency Services_Yes</th>\n",
       "    </tr>\n",
       "  </thead>\n",
       "  <tbody>\n",
       "    <tr>\n",
       "      <th>0</th>\n",
       "      <td>1001</td>\n",
       "      <td>1</td>\n",
       "      <td>1.0</td>\n",
       "      <td>134261.458333</td>\n",
       "      <td>1.5</td>\n",
       "      <td>15.247192</td>\n",
       "      <td>1.0</td>\n",
       "      <td>2098.0</td>\n",
       "      <td>0.2</td>\n",
       "      <td>73672.8</td>\n",
       "      <td>1.0</td>\n",
       "      <td>0.0</td>\n",
       "      <td>0.0</td>\n",
       "      <td>NaN</td>\n",
       "      <td>NaN</td>\n",
       "      <td>NaN</td>\n",
       "    </tr>\n",
       "    <tr>\n",
       "      <th>1</th>\n",
       "      <td>1001</td>\n",
       "      <td>1</td>\n",
       "      <td>2.0</td>\n",
       "      <td>194297.916667</td>\n",
       "      <td>1.5</td>\n",
       "      <td>15.247192</td>\n",
       "      <td>1.0</td>\n",
       "      <td>2098.0</td>\n",
       "      <td>0.2</td>\n",
       "      <td>73672.8</td>\n",
       "      <td>1.0</td>\n",
       "      <td>0.0</td>\n",
       "      <td>0.0</td>\n",
       "      <td>NaN</td>\n",
       "      <td>NaN</td>\n",
       "      <td>NaN</td>\n",
       "    </tr>\n",
       "    <tr>\n",
       "      <th>2</th>\n",
       "      <td>1001</td>\n",
       "      <td>2</td>\n",
       "      <td>1.0</td>\n",
       "      <td>134261.458333</td>\n",
       "      <td>1.5</td>\n",
       "      <td>15.247192</td>\n",
       "      <td>1.0</td>\n",
       "      <td>2098.0</td>\n",
       "      <td>0.2</td>\n",
       "      <td>73672.8</td>\n",
       "      <td>1.0</td>\n",
       "      <td>0.0</td>\n",
       "      <td>0.0</td>\n",
       "      <td>NaN</td>\n",
       "      <td>NaN</td>\n",
       "      <td>NaN</td>\n",
       "    </tr>\n",
       "    <tr>\n",
       "      <th>3</th>\n",
       "      <td>1001</td>\n",
       "      <td>2</td>\n",
       "      <td>2.0</td>\n",
       "      <td>194297.916667</td>\n",
       "      <td>1.5</td>\n",
       "      <td>15.247192</td>\n",
       "      <td>1.0</td>\n",
       "      <td>2098.0</td>\n",
       "      <td>0.2</td>\n",
       "      <td>73672.8</td>\n",
       "      <td>1.0</td>\n",
       "      <td>0.0</td>\n",
       "      <td>0.0</td>\n",
       "      <td>NaN</td>\n",
       "      <td>NaN</td>\n",
       "      <td>NaN</td>\n",
       "    </tr>\n",
       "    <tr>\n",
       "      <th>4</th>\n",
       "      <td>1001</td>\n",
       "      <td>3</td>\n",
       "      <td>1.0</td>\n",
       "      <td>134261.458333</td>\n",
       "      <td>1.5</td>\n",
       "      <td>15.247192</td>\n",
       "      <td>1.0</td>\n",
       "      <td>2098.0</td>\n",
       "      <td>0.2</td>\n",
       "      <td>73672.8</td>\n",
       "      <td>1.0</td>\n",
       "      <td>0.0</td>\n",
       "      <td>0.0</td>\n",
       "      <td>NaN</td>\n",
       "      <td>NaN</td>\n",
       "      <td>NaN</td>\n",
       "    </tr>\n",
       "  </tbody>\n",
       "</table>\n",
       "</div>"
      ],
      "text/plain": [
       "    ZIP  NumberOfBedrooms  DwellingType        Pricing  LEVEL_  Class_Teacher_RATIO  Urban  OHU2010  LowIncomeTracts  MedianFamilyIncome  LA1and10  Starbucks_count  Target_count  Unnamed: 0  Hospital overall rating  Emergency Services_Yes\n",
       "0  1001                 1           1.0  134261.458333     1.5            15.247192    1.0   2098.0              0.2             73672.8       1.0              0.0           0.0         NaN                      NaN                     NaN\n",
       "1  1001                 1           2.0  194297.916667     1.5            15.247192    1.0   2098.0              0.2             73672.8       1.0              0.0           0.0         NaN                      NaN                     NaN\n",
       "2  1001                 2           1.0  134261.458333     1.5            15.247192    1.0   2098.0              0.2             73672.8       1.0              0.0           0.0         NaN                      NaN                     NaN\n",
       "3  1001                 2           2.0  194297.916667     1.5            15.247192    1.0   2098.0              0.2             73672.8       1.0              0.0           0.0         NaN                      NaN                     NaN\n",
       "4  1001                 3           1.0  134261.458333     1.5            15.247192    1.0   2098.0              0.2             73672.8       1.0              0.0           0.0         NaN                      NaN                     NaN"
      ]
     },
     "execution_count": 148,
     "metadata": {},
     "output_type": "execute_result"
    }
   ],
   "source": [
    "#Left Join features_df to primary Zillow dataset\n",
    "df = zip_df.merge(features_df, on=\"ZIP\", how=\"left\")\n",
    "#df = df.drop(df.columns[1], axis=1)\n",
    "df.head()"
   ]
  },
  {
   "cell_type": "code",
   "execution_count": 150,
   "metadata": {},
   "outputs": [
    {
     "data": {
      "image/png": "[encoded data removed]",
      "text/plain": [
       "<Figure size 720x576 with 2 Axes>"
      ]
     },
     "metadata": {
      "needs_background": "light"
     },
     "output_type": "display_data"
    }
   ],
   "source": [
    "#Visually represent collinearity\n",
    "import matplotlib.pyplot as plt\n",
    "plt.figure(figsize=(10,8))\n",
    "sns.heatmap(df.corr(),annot=True,cmap=\"YlGnBu\")\n",
    "plt.show()"
   ]
  },
  {
   "cell_type": "code",
   "execution_count": 151,
   "metadata": {},
   "outputs": [
    {
     "data": {
      "text/html": [
       "<div>\n",
       "<style scoped>\n",
       "    .dataframe tbody tr th:only-of-type {\n",
       "        vertical-align: middle;\n",
       "    }\n",
       "\n",
       "    .dataframe tbody tr th {\n",
       "        vertical-align: top;\n",
       "    }\n",
       "\n",
       "    .dataframe thead th {\n",
       "        text-align: right;\n",
       "    }\n",
       "</style>\n",
       "<table border=\"1\" class=\"dataframe\">\n",
       "  <thead>\n",
       "    <tr style=\"text-align: right;\">\n",
       "      <th></th>\n",
       "      <th>ZIP</th>\n",
       "      <th>NumberOfBedrooms</th>\n",
       "      <th>DwellingType</th>\n",
       "      <th>Pricing</th>\n",
       "      <th>LEVEL_</th>\n",
       "      <th>Class_Teacher_RATIO</th>\n",
       "      <th>Urban</th>\n",
       "      <th>OHU2010</th>\n",
       "      <th>LowIncomeTracts</th>\n",
       "      <th>MedianFamilyIncome</th>\n",
       "      <th>LA1and10</th>\n",
       "      <th>Starbucks_count</th>\n",
       "      <th>Target_count</th>\n",
       "      <th>Unnamed: 0</th>\n",
       "      <th>Hospital overall rating</th>\n",
       "      <th>Emergency Services_Yes</th>\n",
       "    </tr>\n",
       "  </thead>\n",
       "  <tbody>\n",
       "    <tr>\n",
       "      <th>count</th>\n",
       "      <td>62909.000000</td>\n",
       "      <td>62909.000000</td>\n",
       "      <td>61722.000000</td>\n",
       "      <td>6.172200e+04</td>\n",
       "      <td>55064.000000</td>\n",
       "      <td>55064.000000</td>\n",
       "      <td>49551.000000</td>\n",
       "      <td>49551.000000</td>\n",
       "      <td>49551.000000</td>\n",
       "      <td>49551.000000</td>\n",
       "      <td>49551.000000</td>\n",
       "      <td>55064.000000</td>\n",
       "      <td>55064.000000</td>\n",
       "      <td>11658.000000</td>\n",
       "      <td>11658.000000</td>\n",
       "      <td>11658.000000</td>\n",
       "    </tr>\n",
       "    <tr>\n",
       "      <th>mean</th>\n",
       "      <td>48031.398830</td>\n",
       "      <td>3.166129</td>\n",
       "      <td>1.663281</td>\n",
       "      <td>2.419257e+05</td>\n",
       "      <td>1.639547</td>\n",
       "      <td>16.809194</td>\n",
       "      <td>0.833232</td>\n",
       "      <td>1727.753770</td>\n",
       "      <td>0.317712</td>\n",
       "      <td>78058.574720</td>\n",
       "      <td>0.424238</td>\n",
       "      <td>1.346143</td>\n",
       "      <td>0.178992</td>\n",
       "      <td>1694.990650</td>\n",
       "      <td>3.019729</td>\n",
       "      <td>0.976554</td>\n",
       "    </tr>\n",
       "    <tr>\n",
       "      <th>std</th>\n",
       "      <td>31051.620363</td>\n",
       "      <td>1.147363</td>\n",
       "      <td>0.472592</td>\n",
       "      <td>2.328879e+05</td>\n",
       "      <td>0.438199</td>\n",
       "      <td>5.741230</td>\n",
       "      <td>0.300020</td>\n",
       "      <td>504.886341</td>\n",
       "      <td>0.343505</td>\n",
       "      <td>31259.330566</td>\n",
       "      <td>0.342341</td>\n",
       "      <td>1.885507</td>\n",
       "      <td>0.383349</td>\n",
       "      <td>1104.151727</td>\n",
       "      <td>0.824239</td>\n",
       "      <td>0.145329</td>\n",
       "    </tr>\n",
       "    <tr>\n",
       "      <th>min</th>\n",
       "      <td>1001.000000</td>\n",
       "      <td>1.000000</td>\n",
       "      <td>1.000000</td>\n",
       "      <td>3.041169e+04</td>\n",
       "      <td>1.000000</td>\n",
       "      <td>1.451613</td>\n",
       "      <td>0.000000</td>\n",
       "      <td>0.000000</td>\n",
       "      <td>0.000000</td>\n",
       "      <td>0.000000</td>\n",
       "      <td>0.000000</td>\n",
       "      <td>0.000000</td>\n",
       "      <td>0.000000</td>\n",
       "      <td>11.000000</td>\n",
       "      <td>1.000000</td>\n",
       "      <td>0.000000</td>\n",
       "    </tr>\n",
       "    <tr>\n",
       "      <th>25%</th>\n",
       "      <td>21222.000000</td>\n",
       "      <td>2.000000</td>\n",
       "      <td>1.000000</td>\n",
       "      <td>1.212510e+05</td>\n",
       "      <td>1.375000</td>\n",
       "      <td>13.879836</td>\n",
       "      <td>0.800000</td>\n",
       "      <td>1414.700000</td>\n",
       "      <td>0.000000</td>\n",
       "      <td>55859.000000</td>\n",
       "      <td>0.090909</td>\n",
       "      <td>0.000000</td>\n",
       "      <td>0.000000</td>\n",
       "      <td>685.000000</td>\n",
       "      <td>2.500000</td>\n",
       "      <td>1.000000</td>\n",
       "    </tr>\n",
       "    <tr>\n",
       "      <th>50%</th>\n",
       "      <td>44319.000000</td>\n",
       "      <td>3.000000</td>\n",
       "      <td>2.000000</td>\n",
       "      <td>1.744094e+05</td>\n",
       "      <td>1.600000</td>\n",
       "      <td>15.844018</td>\n",
       "      <td>1.000000</td>\n",
       "      <td>1671.000000</td>\n",
       "      <td>0.200000</td>\n",
       "      <td>71769.000000</td>\n",
       "      <td>0.400000</td>\n",
       "      <td>1.000000</td>\n",
       "      <td>0.000000</td>\n",
       "      <td>1617.000000</td>\n",
       "      <td>3.000000</td>\n",
       "      <td>1.000000</td>\n",
       "    </tr>\n",
       "    <tr>\n",
       "      <th>75%</th>\n",
       "      <td>78754.000000</td>\n",
       "      <td>4.000000</td>\n",
       "      <td>2.000000</td>\n",
       "      <td>2.825323e+05</td>\n",
       "      <td>1.928571</td>\n",
       "      <td>18.629032</td>\n",
       "      <td>1.000000</td>\n",
       "      <td>1978.666667</td>\n",
       "      <td>0.571429</td>\n",
       "      <td>95062.500000</td>\n",
       "      <td>0.666667</td>\n",
       "      <td>2.000000</td>\n",
       "      <td>0.000000</td>\n",
       "      <td>2838.000000</td>\n",
       "      <td>4.000000</td>\n",
       "      <td>1.000000</td>\n",
       "    </tr>\n",
       "    <tr>\n",
       "      <th>max</th>\n",
       "      <td>99901.000000</td>\n",
       "      <td>5.000000</td>\n",
       "      <td>2.000000</td>\n",
       "      <td>4.536160e+06</td>\n",
       "      <td>4.000000</td>\n",
       "      <td>421.000000</td>\n",
       "      <td>1.000000</td>\n",
       "      <td>8705.000000</td>\n",
       "      <td>1.000000</td>\n",
       "      <td>250000.000000</td>\n",
       "      <td>1.000000</td>\n",
       "      <td>21.000000</td>\n",
       "      <td>1.000000</td>\n",
       "      <td>3368.000000</td>\n",
       "      <td>5.000000</td>\n",
       "      <td>1.000000</td>\n",
       "    </tr>\n",
       "  </tbody>\n",
       "</table>\n",
       "</div>"
      ],
      "text/plain": [
       "                ZIP  NumberOfBedrooms  DwellingType       Pricing        LEVEL_  Class_Teacher_RATIO         Urban       OHU2010  LowIncomeTracts  MedianFamilyIncome      LA1and10  Starbucks_count  Target_count    Unnamed: 0  Hospital overall rating  Emergency Services_Yes\n",
       "count  62909.000000      62909.000000  61722.000000  6.172200e+04  55064.000000         55064.000000  49551.000000  49551.000000     49551.000000        49551.000000  49551.000000     55064.000000  55064.000000  11658.000000             11658.000000            11658.000000\n",
       "mean   48031.398830          3.166129      1.663281  2.419257e+05      1.639547            16.809194      0.833232   1727.753770         0.317712        78058.574720      0.424238         1.346143      0.178992   1694.990650                 3.019729                0.976554\n",
       "std    31051.620363          1.147363      0.472592  2.328879e+05      0.438199             5.741230      0.300020    504.886341         0.343505        31259.330566      0.342341         1.885507      0.383349   1104.151727                 0.824239                0.145329\n",
       "min     1001.000000          1.000000      1.000000  3.041169e+04      1.000000             1.451613      0.000000      0.000000         0.000000            0.000000      0.000000         0.000000      0.000000     11.000000                 1.000000                0.000000\n",
       "25%    21222.000000          2.000000      1.000000  1.212510e+05      1.375000            13.879836      0.800000   1414.700000         0.000000        55859.000000      0.090909         0.000000      0.000000    685.000000                 2.500000                1.000000\n",
       "50%    44319.000000          3.000000      2.000000  1.744094e+05      1.600000            15.844018      1.000000   1671.000000         0.200000        71769.000000      0.400000         1.000000      0.000000   1617.000000                 3.000000                1.000000\n",
       "75%    78754.000000          4.000000      2.000000  2.825323e+05      1.928571            18.629032      1.000000   1978.666667         0.571429        95062.500000      0.666667         2.000000      0.000000   2838.000000                 4.000000                1.000000\n",
       "max    99901.000000          5.000000      2.000000  4.536160e+06      4.000000           421.000000      1.000000   8705.000000         1.000000       250000.000000      1.000000        21.000000      1.000000   3368.000000                 5.000000                1.000000"
      ]
     },
     "execution_count": 151,
     "metadata": {},
     "output_type": "execute_result"
    }
   ],
   "source": [
    "df.describe()"
   ]
  },
  {
   "cell_type": "code",
   "execution_count": null,
   "metadata": {},
   "outputs": [],
   "source": []
  },
  {
   "cell_type": "code",
   "execution_count": null,
   "metadata": {},
   "outputs": [],
   "source": []
  },
  {
   "cell_type": "markdown",
   "metadata": {},
   "source": [
    "Save datasets to csv"
   ]
  },
  {
   "cell_type": "code",
   "execution_count": null,
   "metadata": {},
   "outputs": [],
   "source": [
    "### Save the features dataset\n",
    "df.to_csv('CleanHouse.csv') "
   ]
  },
  {
   "cell_type": "code",
   "execution_count": null,
   "metadata": {},
   "outputs": [],
   "source": [
    "### Save the final zillow dataset with features\n",
    "df.to_csv('CleanHouseFinal.csv')"
   ]
  },
  {
   "cell_type": "code",
   "execution_count": null,
   "metadata": {},
   "outputs": [],
   "source": [
    "### Load the data\n",
    "#df = pd.read_csv('/Users/sunny/Data mining/final project/US_HousingData-/docs/CleanHouse.csv')\n",
    "#df = pd.read_csv('CleanHouseFinal.csv')"
   ]
  },
  {
   "cell_type": "code",
   "execution_count": null,
   "metadata": {},
   "outputs": [],
   "source": [
    "#Final Clean dataset\n",
    "df.head()"
   ]
  },
  {
   "cell_type": "code",
   "execution_count": null,
   "metadata": {},
   "outputs": [],
   "source": [
    "df = df.drop(df.columns[1], axis =1)"
   ]
  },
  {
   "cell_type": "code",
   "execution_count": null,
   "metadata": {},
   "outputs": [],
   "source": [
    "df.shape"
   ]
  },
  {
   "cell_type": "code",
   "execution_count": null,
   "metadata": {},
   "outputs": [],
   "source": [
    "df.head()"
   ]
  },
  {
   "cell_type": "markdown",
   "metadata": {},
   "source": [
    "### Dimensional Reduction & Quick Analysis"
   ]
  },
  {
   "cell_type": "markdown",
   "metadata": {},
   "source": [
    "#### Before impute in featuer engineering, attempt KDE\n",
    "How data is distributed at high level and potential data generation for specific features. Test different features. "
   ]
  },
  {
   "cell_type": "code",
   "execution_count": null,
   "metadata": {},
   "outputs": [],
   "source": [
    "#Plot one-dimension data ()\n",
    "from sklearn.neighbors import KernelDensity\n",
    "\n",
    "# Gaussian KDE with Seaborn bandwidth\n",
    "kde = KernelDensity(kernel='gaussian', bandwidth=bw)\n",
    "\n",
    "# Grab the data, and compute the support (sampling points)\n",
    "x = dataset['SepalLengthCm']\n",
    "support = np.linspace(3, 9, len(x))\n",
    "\n",
    "# Create the KDE, and return the support values.\n",
    "kde.fit(x[:, np.newaxis])\n",
    "y = kde.score_samples(support[:, np.newaxis])\n",
    "\n",
    "# Plot the results including underlying histogram\n",
    "fig, ax = plt.subplots(figsize=(8, 5))\n",
    "ax.hist(x, bins=10, alpha=0.5, color=sns.xkcd_rgb[\"denim blue\"], normed=True)\n",
    "ax.plot(support, np.exp(y))\n",
    "plt.xlabel('Sepal Length', fontsize=14)\n",
    "plt.title('Kernel Density Plot', fontsize=14)\n",
    "\n",
    "sns.despine(offset=5, trim=True)\n",
    "plt.show()\n"
   ]
  },
  {
   "cell_type": "code",
   "execution_count": null,
   "metadata": {},
   "outputs": [],
   "source": [
    "#If want to test for different bandwidth selection\n",
    "# Compare the impact of bandwidth selection on a KDE\n",
    "from sklearn.neighbors import KernelDensity\n",
    "\n",
    "# Make plots\n",
    "fig, ax = plt.subplots(figsize=(8, 5))\n",
    "ax.hist(x, bins=10, alpha=0.5, color=sns.xkcd_rgb[\"denim blue\"], normed=True, label='')\n",
    "\n",
    "# Gaussian KDE with varying bandwidths\n",
    "for bw in np.linspace(0.1, 0.9, 4):\n",
    "    kde = KernelDensity(kernel='gaussian', bandwidth=bw)\n",
    "    kde.fit(x[:, np.newaxis])\n",
    "    y = kde.score_samples(support[:, np.newaxis])\n",
    "    ax.plot(support, np.exp(y), label='bw = {0:3.1f}'.format(bw))\n",
    "\n",
    "# Decorate plot\n",
    "plt.xlabel('Sepal Length', fontsize=14)\n",
    "plt.title('Kernel Density Plot', fontsize=14)\n",
    "plt.legend()\n",
    "\n",
    "sns.despine(offset=5, trim=True)\n",
    "plt.show()"
   ]
  },
  {
   "cell_type": "code",
   "execution_count": null,
   "metadata": {},
   "outputs": [],
   "source": [
    "#In event that want to use this data generation, can sample from scikit learn KDE model\n",
    "# We can now sample from the scikit learn KDE model\n",
    "for val in kde.sample(n_samples=15):\n",
    "    print('{0:4.1f}, '.format(val[0]), end='')"
   ]
  },
  {
   "cell_type": "markdown",
   "metadata": {},
   "source": [
    "#### PCA"
   ]
  },
  {
   "cell_type": "code",
   "execution_count": null,
   "metadata": {},
   "outputs": [],
   "source": [
    "from sklearn.decomposition import PCA\n",
    "from sklearn.preprocessing import StandardScaler\n",
    "from sklearn.pipeline import make_pipeline\n",
    "import matplotlib.pyplot as plt"
   ]
  },
  {
   "cell_type": "code",
   "execution_count": null,
   "metadata": {},
   "outputs": [],
   "source": [
    "def scaled(df):\n",
    "    return pd.DataFrame(StandardScaler().fit_transform(df), columns = df.columns)\n",
    "\n",
    "train_standardized = scaled(df)"
   ]
  },
  {
   "cell_type": "code",
   "execution_count": null,
   "metadata": {},
   "outputs": [],
   "source": [
    "def fit_pca(df, n_components):\n",
    "    pca = PCA(n_components)  \n",
    "    pca = pca.fit(df)  #fit the PCA model to the df (which will be the original, non-reduced df when used below)\n",
    "    \n",
    "    return pca"
   ]
  },
  {
   "cell_type": "code",
   "execution_count": null,
   "metadata": {},
   "outputs": [],
   "source": [
    "# we keep only 10 components\n",
    "n_components = 10\n",
    "pca = fit_pca(train_standardized, n_components=n_components)"
   ]
  },
  {
   "cell_type": "code",
   "execution_count": null,
   "metadata": {},
   "outputs": [],
   "source": [
    "def plot_scaled_variance(pca):\n",
    "    #same as above, create a subplot, decorate the plot, and show the percentage of variance\n",
    "    fig, ax = plt.subplots(figsize=(10, 6)) \n",
    "    ax.set_xlabel('Dimension #')\n",
    "    ax.set_ylabel('Explained Variance Ratio')\n",
    "    ax.set_title('Fraction of Explained Variance')\n",
    "    ax.plot(pca.explained_variance_ratio_)   \n",
    "    \n",
    "    return ax"
   ]
  },
  {
   "cell_type": "code",
   "execution_count": null,
   "metadata": {},
   "outputs": [],
   "source": [
    "ax = plot_scaled_variance(pca)"
   ]
  },
  {
   "cell_type": "markdown",
   "metadata": {},
   "source": [
    "#### Cluster using DBSCAN"
   ]
  },
  {
   "cell_type": "code",
   "execution_count": null,
   "metadata": {},
   "outputs": [],
   "source": [
    "#Import StandardScaler\n",
    "from sklearn.preprocessing import StandardScaler\n",
    "#Just compare loan_amount and loan_grade\n",
    "data_loangrade_cluster = data[['loan_amount', 'loan_grade']]\n",
    "#turn to matrix\n",
    "data_loangrade_cluster = data_loangrade_cluster.as_matrix().astype(\"float32\", copy = False)\n",
    "\n",
    "#Create a standardizer\n",
    "data_standardized = StandardScaler().fit_transform(data_loangrade_cluster)"
   ]
  },
  {
   "cell_type": "code",
   "execution_count": null,
   "metadata": {},
   "outputs": [],
   "source": [
    "#Apply k-nearest to determine best suitable esp neighborhood for DBSCAN (the knee in the plot)\n",
    "#min.sample = # of dimensions + 1 --> 2+1 = 3. Use 3 to start with. \n",
    "from sklearn.neighbors import NearestNeighbors\n",
    "nbrs = NearestNeighbors(n_neighbors=2).fit(data_standardized)\n",
    "distances, indices = nbrs.kneighbors(data_standardized)\n",
    "\n",
    "distances = np.sort(distances, axis=0)\n",
    "distances = distances[:,1]\n",
    "plt.plot(distances)"
   ]
  },
  {
   "cell_type": "code",
   "execution_count": null,
   "metadata": {},
   "outputs": [],
   "source": [
    "import pandas as pd\n",
    "from sklearn.preprocessing import StandardScaler\n",
    "from sklearn.cluster import DBSCAN\n",
    "import numpy as np\n",
    "from matplotlib import pyplot as plt\n",
    "\n",
    "#fit data to DBSCAN function. In this case use radius (aka epsilon) of 0.01 per k-nearest and min_samples of 5\n",
    "dbsc = DBSCAN(eps = 0.01, min_samples = 5).fit(data_standardized)\n",
    "#Get the cluster labels\n",
    "labels = dbsc.labels_\n",
    "#Identify the core and border points\n",
    "core_samples = np.zeros_like(labels, dtype = bool)\n",
    "core_samples[dbsc.core_sample_indices_] = True\n",
    "\n",
    "#Pair labels with colors\n",
    "unique_labels = np.unique(labels)\n",
    "colors = plt.cm.Spectral(np.linspace(0,1, len(unique_labels)))\n",
    "\n",
    "#Plot the data \n",
    "for (label, color) in zip(unique_labels, colors):\n",
    "    class_member_mask = (labels == label)\n",
    "    xy = data_standardized[class_member_mask & core_samples]  \n",
    "    plt.plot(xy[:,0],xy[:,1], 'o', markerfacecolor = color, markersize = 10)\n",
    "    \n",
    "    xy2 = data_standardized[class_member_mask & ~core_samples]\n",
    "    plt.plot(xy2[:,0],xy2[:,1], 'o', markerfacecolor = color, markersize = 5)\n",
    "    \n",
    "#Decorate the plot\n",
    "plt.title(\"DBSCAN on Standardized Loan data\")\n",
    "plt.xlabel(\"Feature1\")\n",
    "plt.ylabel(\"Feature2\")"
   ]
  },
  {
   "cell_type": "markdown",
   "metadata": {},
   "source": [
    "### Feature Engineering\n",
    "https://pypi.org/project/autoimpute/"
   ]
  },
  {
   "cell_type": "markdown",
   "metadata": {},
   "source": [
    "The challenge we have is severity of missing values. So the solutions is impute missing data. \n",
    "\n",
    "Three imputation methods for severe missing data problems:\n",
    "\n",
    "1. Use tree-based models since are a reasonable choice for an imputation technique since a tree can be constructed in the presence of other missing data.\n",
    "2. Linear imputation to impute numeric variables. Logistic regression for a categorical features.(computationally expensive and time consuming)\n",
    "3. Employed FAMD algorithm, one of most recent way to deal with the high dimentional missing data. There is one good paper published on 2016. 'A principal component method to impute missingvalues for mixed data', I upload to the github.\n",
    "We can use two libraries to apply FAMD algorithm, Light_FAMD https://pypi.org/project/light-famd/ or \n",
    "prince https://github.com/MaxHalford/prince\n",
    "\n",
    "However, we still need to realized that we are building a predictive model, the value of predictive model lie on their ability to accurately predict yet-to-be-seen samples (including the test set and new unknown samples), as opposed to statistical appropriateness, it is critical that the imputed values be as close as possible to their true (unobserved) values. "
   ]
  },
  {
   "cell_type": "code",
   "execution_count": null,
   "metadata": {},
   "outputs": [],
   "source": [
    "pip install Light_FAMD"
   ]
  },
  {
   "cell_type": "code",
   "execution_count": null,
   "metadata": {},
   "outputs": [],
   "source": [
    "pip install prince"
   ]
  },
  {
   "cell_type": "code",
   "execution_count": null,
   "metadata": {},
   "outputs": [],
   "source": []
  },
  {
   "cell_type": "code",
   "execution_count": null,
   "metadata": {},
   "outputs": [],
   "source": []
  },
  {
   "cell_type": "markdown",
   "metadata": {},
   "source": [
    "### Balancing Imbalanced Dataset"
   ]
  },
  {
   "cell_type": "code",
   "execution_count": null,
   "metadata": {},
   "outputs": [],
   "source": [
    "import numpy as np\n",
    "import pandas as pd\n",
    "import sklearn\n",
    "import scipy\n",
    "import matplotlib.pyplot as plt\n",
    "import seaborn as sns\n",
    "from sklearn.metrics import classification_report,accuracy_score\n",
    "from sklearn.neighbors import LocalOutlierFactor\n",
    "from pylab import rcParams\n",
    "from sklearn.model_selection import train_test_split\n",
    "rcParams['figure.figsize'] = 14, 8\n",
    "RANDOM_SEED = 42\n",
    "LABELS = [\"Normal\", \"Fraud\"]"
   ]
  },
  {
   "cell_type": "code",
   "execution_count": null,
   "metadata": {},
   "outputs": [],
   "source": [
    "data = df\n",
    "data.columns.tolist()"
   ]
  },
  {
   "cell_type": "code",
   "execution_count": null,
   "metadata": {},
   "outputs": [],
   "source": [
    "#Create independent and Dependent Features\n",
    "columns = data.columns.tolist()\n",
    "# Filter the columns to remove data we do not want \n",
    "state = np.random.RandomState(42)\n",
    "columns = [c for c in columns if c not in [\"CHANGE TO HOUSE PRICE\"]]\n",
    "# Store the variable we are predicting \n",
    "target = \"CHANGE TO HOUSE PRICE\""
   ]
  },
  {
   "cell_type": "code",
   "execution_count": null,
   "metadata": {},
   "outputs": [],
   "source": [
    "X = data.drop(\"CHANGE TO HOUSE PRICE\",axis=1)\n",
    "Y = data['CHANGE TO HOUSE PRICE']\n",
    "print(X.shape)\n",
    "print(Y.shape)"
   ]
  },
  {
   "cell_type": "code",
   "execution_count": null,
   "metadata": {},
   "outputs": [],
   "source": [
    "#Finding if any any null values present\n",
    "data.isnull().values.any()"
   ]
  },
  {
   "cell_type": "code",
   "execution_count": null,
   "metadata": {},
   "outputs": [],
   "source": [
    "count_classes = pd.value_counts(data['Class'], sort = True)\n",
    "\n",
    "count_classes.plot(kind = 'bar', rot=0)\n",
    "\n",
    "plt.title(\"Transaction Class Distribution\")\n",
    "\n",
    "plt.xticks(range(2), LABELS)\n",
    "\n",
    "plt.xlabel(\"Class\")\n",
    "\n",
    "plt.ylabel(\"Frequency\")"
   ]
  },
  {
   "cell_type": "code",
   "execution_count": null,
   "metadata": {},
   "outputs": [],
   "source": [
    "## Get the Fraud and the normal dataset \n",
    "\n",
    "fraud = data[data['Class']==1]\n",
    "\n",
    "normal = data[data['Class']==0]\n",
    "print(fraud.shape,normal.shape)"
   ]
  },
  {
   "cell_type": "markdown",
   "metadata": {},
   "source": [
    "Apply model before sampling"
   ]
  },
  {
   "cell_type": "code",
   "execution_count": null,
   "metadata": {},
   "outputs": [],
   "source": [
    "#Splitting the main data into 80/20 ratio\n",
    "X_train, X_test, y_train, y_test = train_test_split(X, Y, test_size=0.20, random_state=27)"
   ]
  },
  {
   "cell_type": "code",
   "execution_count": null,
   "metadata": {},
   "outputs": [],
   "source": [
    "print(X_train.shape, y_train.shape)"
   ]
  },
  {
   "cell_type": "code",
   "execution_count": null,
   "metadata": {},
   "outputs": [],
   "source": [
    "## Get the Fraud and the normal dataset \n",
    "\n",
    "train_fraud = y_train[y_train==1]\n",
    "\n",
    "train_normal = y_train[y_train==0]\n",
    "print(train_fraud.shape,train_normal.shape)"
   ]
  },
  {
   "cell_type": "code",
   "execution_count": null,
   "metadata": {},
   "outputs": [],
   "source": [
    "from sklearn.linear_model import LogisticRegression\n",
    "lr = LogisticRegression(solver='liblinear')\n",
    "lr.fit(X_train,y_train)"
   ]
  },
  {
   "cell_type": "code",
   "execution_count": null,
   "metadata": {},
   "outputs": [],
   "source": [
    "from sklearn import metrics\n",
    "y_pred = lr.predict(X_test)\n",
    "print(\"Accuracy of LR classifier on test set is {}\".format(lr.score(X_test,y_test)))"
   ]
  },
  {
   "cell_type": "code",
   "execution_count": null,
   "metadata": {},
   "outputs": [],
   "source": [
    "from sklearn.metrics import accuracy_score\n",
    "print(\"Accuracy of LR classifier on test set is {}\".format(accuracy_score(y_test,y_pred)))"
   ]
  },
  {
   "cell_type": "code",
   "execution_count": null,
   "metadata": {},
   "outputs": [],
   "source": [
    "pd.crosstab(y_test,y_pred)"
   ]
  },
  {
   "cell_type": "code",
   "execution_count": null,
   "metadata": {},
   "outputs": [],
   "source": [
    "print(\"Percentage of correct classification of 0(Non_fraud) is {}\".format(56846/56858))\n",
    "print(\"Percentage of correct classification of 1(fraud) is {}\".format(65/104))"
   ]
  },
  {
   "cell_type": "markdown",
   "metadata": {},
   "source": [
    "Balance data using SMOTE"
   ]
  },
  {
   "cell_type": "code",
   "execution_count": null,
   "metadata": {},
   "outputs": [],
   "source": [
    "from imblearn.over_sampling import SMOTE\n",
    "sm = SMOTE(sampling_strategy='auto')\n",
    "\n",
    "X_train_sm, y_train_sm = sm.fit_sample(X_train, y_train)\n",
    "\n",
    "X_train_sm.shape, y_train_sm.shape"
   ]
  },
  {
   "cell_type": "code",
   "execution_count": null,
   "metadata": {},
   "outputs": [],
   "source": [
    "from collections import Counter\n",
    "print('Original dataset shape {}'.format(Counter(y_train)))\n",
    "print('Resampled dataset shape {}'.format(Counter(y_train_sm)))"
   ]
  },
  {
   "cell_type": "markdown",
   "metadata": {},
   "source": [
    "Apply model after SMOTE"
   ]
  },
  {
   "cell_type": "code",
   "execution_count": null,
   "metadata": {},
   "outputs": [],
   "source": [
    "lr = LogisticRegression(solver='liblinear')\n",
    "lr.fit(X_train_sm,y_train_sm)\n",
    "\n",
    "y_pred = lr.predict(X_test)\n",
    "print(\"Accuracy of LR classifier on test set after oversampling is {}\".format(accuracy_score(y_test,y_pred)))"
   ]
  },
  {
   "cell_type": "code",
   "execution_count": null,
   "metadata": {},
   "outputs": [],
   "source": [
    "pd.crosstab(y_test,y_pred)"
   ]
  },
  {
   "cell_type": "code",
   "execution_count": null,
   "metadata": {},
   "outputs": [],
   "source": [
    "print(\"Percentage of correct classification of 0(Non_fraud) is {}\".format(55981/56858))\n",
    "print(\"Percentage of correct classification of 1(fraud) is {}\".format(91/104))"
   ]
  },
  {
   "cell_type": "markdown",
   "metadata": {},
   "source": [
    "### Model Training"
   ]
  },
  {
   "cell_type": "code",
   "execution_count": null,
   "metadata": {},
   "outputs": [],
   "source": [
    "#(test as much algorithm as possible, possible models include Random Forest, Gradient Boosting, Ada-Boosting, Voting Classifier...)"
   ]
  },
  {
   "cell_type": "markdown",
   "metadata": {},
   "source": [
    "#### Linear Regression Model"
   ]
  },
  {
   "cell_type": "markdown",
   "metadata": {},
   "source": [
    "X and y \n",
    "\n",
    "Standardized variables to consider: train_X, train_y, test_X, test_y\n",
    "\n",
    "Non standardized variables to consider: X_train, X_test, y_train, y_test"
   ]
  },
  {
   "cell_type": "code",
   "execution_count": null,
   "metadata": {},
   "outputs": [],
   "source": [
    "#Instantiate function\n",
    "regressor = LinearRegression() "
   ]
  },
  {
   "cell_type": "code",
   "execution_count": null,
   "metadata": {},
   "outputs": [],
   "source": [
    "#fit the model with training data\n",
    "regressor.fit(train_X, train_y)"
   ]
  },
  {
   "cell_type": "code",
   "execution_count": null,
   "metadata": {},
   "outputs": [],
   "source": [
    "# Compute y predictor: predict the target (Y) on the testing dataset\n",
    "pred_y = regressor.predict(test_X)"
   ]
  },
  {
   "cell_type": "markdown",
   "metadata": {},
   "source": [
    "Desired Error"
   ]
  },
  {
   "cell_type": "code",
   "execution_count": null,
   "metadata": {},
   "outputs": [],
   "source": [
    "## Evaluate the RMSE on the testing dataset to get the desired error\n",
    "# Compute mse\n",
    "mse = MSE(test_y, pred_y)\n",
    "\n",
    "# Compute rmse & multiply by 100 because I turned % values to decimal which will affect the MSE/RMSE score\n",
    "rmse = (mse**(1/2))*100\n",
    "\n",
    "# Print rmse\n",
    "print(\"Test set RMSE of dt: {:.2f}\".format(rmse))"
   ]
  },
  {
   "cell_type": "markdown",
   "metadata": {},
   "source": [
    "Linear Regression: Training Error"
   ]
  },
  {
   "cell_type": "code",
   "execution_count": null,
   "metadata": {},
   "outputs": [],
   "source": [
    "#predict the target on the train dataset\n",
    "y_pred_train = regressor.predict(train_X)\n",
    "\n",
    "##Evaluate RMSE on the training dataset to get the training error\n",
    "#Compute mse\n",
    "mse = MSE(train_y, y_pred_train)\n",
    "\n",
    "#Compute rmse & multiply by 100 because I turned % values to decimal which will affect the MSE/RMSE score\n",
    "RMSE_train = (mse**(1/2))*100\n",
    "\n",
    "#Print RMSE train\n",
    "print('Train RMSE: {:.2f}'.format(RMSE_train))"
   ]
  },
  {
   "cell_type": "markdown",
   "metadata": {},
   "source": [
    "Linear Regression: Cross Validation"
   ]
  },
  {
   "cell_type": "code",
   "execution_count": null,
   "metadata": {},
   "outputs": [],
   "source": [
    "## Cross Validate \n",
    "from sklearn.model_selection import cross_val_score\n",
    "\n",
    "# Compute the array containing the 10-folds CV MSEs\n",
    "MSE_CV_scores = - cross_val_score(regressor, train_X, train_y, cv=10, \n",
    "                                  scoring='neg_mean_squared_error', \n",
    "                                  n_jobs=-1) \n",
    "\n",
    "# Compute the 10-folds CV RMSE & multiply by 100 because I turned % values to decimal which will affect the MSE/RMSE score\n",
    "RMSE_CV = ((MSE_CV_scores.mean())**(1/2))*100\n",
    "\n",
    "# Print RMSE_CV\n",
    "print('CV RMSE: {:.2f}'.format(RMSE_CV))"
   ]
  },
  {
   "cell_type": "markdown",
   "metadata": {},
   "source": [
    "#### Decision Tree"
   ]
  },
  {
   "cell_type": "code",
   "execution_count": null,
   "metadata": {},
   "outputs": [],
   "source": [
    "# Import DecisionTreeRegressor from sklearn.tree\n",
    "import numpy as np\n",
    "import matplotlib.pyplot as plt\n",
    "import pandas as pd\n",
    "from sklearn.metrics import classification_report\n",
    "import sklearn.model_selection as cv\n",
    "from sklearn.tree import DecisionTreeRegressor\n",
    "from sklearn.model_selection import RandomizedSearchCV\n",
    "from pprint import pprint"
   ]
  },
  {
   "cell_type": "markdown",
   "metadata": {},
   "source": [
    "Hyperparameter Tuning"
   ]
  },
  {
   "cell_type": "code",
   "execution_count": null,
   "metadata": {},
   "outputs": [],
   "source": [
    "#apply cv.train_test (produce new split here)\n",
    "(X_train, X_test, y_train, y_test) = cv.train_test_split(X, y, test_size=.20)"
   ]
  },
  {
   "cell_type": "code",
   "execution_count": null,
   "metadata": {},
   "outputs": [],
   "source": [
    "# Maximum number of levels in tree\n",
    "max_depth = [int(x) for x in np.linspace(2, 20, num = 10)]\n",
    "max_depth.append(None)\n",
    "\n",
    "# Minimum number of samples required at each leaf node\n",
    "min_samples_leaf = [0.05, 0.10, 0.13, 0.15, 0.20, 0.26, 0.5]\n",
    "\n",
    "# Create the random grid\n",
    "random_grid = {'max_depth': max_depth, 'min_samples_leaf': min_samples_leaf}\n",
    "pprint(random_grid)"
   ]
  },
  {
   "cell_type": "code",
   "execution_count": null,
   "metadata": {},
   "outputs": [],
   "source": [
    "# Use the random grid to search for best hyperparameters\n",
    "# First create the base model to tune\n",
    "dt = DecisionTreeRegressor()\n",
    "\n",
    "# Random search of parameters, using 10 fold cross validation, \n",
    "dt_random = RandomizedSearchCV(estimator = dt, param_distributions = random_grid, cv = 10, random_state=3, n_jobs = -1)\n",
    "#dt_random = RandomizedSearchCV(estimator = dt, param_distributions = random_grid, n_iter = 100, cv = 10, verbose=2, random_state=3, n_jobs = -1)\n",
    "\n",
    "# Fit the random search model\n",
    "dt_random.fit(X_train, y_train)"
   ]
  },
  {
   "cell_type": "code",
   "execution_count": null,
   "metadata": {},
   "outputs": [],
   "source": [
    "#See what best parameters from fitting the random search: \n",
    "dt_random.best_params_"
   ]
  },
  {
   "cell_type": "markdown",
   "metadata": {},
   "source": [
    "Decision Tree"
   ]
  },
  {
   "cell_type": "code",
   "execution_count": null,
   "metadata": {},
   "outputs": [],
   "source": [
    "# Instantiate dt\n",
    "dt = DecisionTreeRegressor(max_depth=4,\n",
    "                           min_samples_leaf=0.1,\n",
    "                           random_state=3)\n",
    "\n",
    "# Fit dt to the training set\n",
    "dt.fit(X_train, y_train)"
   ]
  },
  {
   "cell_type": "markdown",
   "metadata": {},
   "source": [
    "Decision Tree: Desired error"
   ]
  },
  {
   "cell_type": "code",
   "execution_count": null,
   "metadata": {},
   "outputs": [],
   "source": [
    "from sklearn.metrics import mean_squared_error as MSE\n",
    "\n",
    "# Compute y_pred\n",
    "y_pred = dt.predict(X_test)\n",
    "\n",
    "# Compute mse_dt\n",
    "mse_dt = MSE(y_test, y_pred)\n",
    "\n",
    "# Compute rmse_dt & multiply by 100 because I turned % values to decimal which will affect the MSE/RMSE score\n",
    "rmse_dt = (mse_dt**(1/2))*100\n",
    "\n",
    "# Print rmse_dt\n",
    "print(\"Test set RMSE of dt: {:.2f}\".format(rmse_dt))"
   ]
  },
  {
   "cell_type": "markdown",
   "metadata": {},
   "source": [
    "Decision Tree: Training Error"
   ]
  },
  {
   "cell_type": "code",
   "execution_count": null,
   "metadata": {},
   "outputs": [],
   "source": [
    "from sklearn.model_selection import cross_val_score\n",
    "\n",
    "# Compute the array containing the 10-folds CV MSEs\n",
    "MSE_CV_scores = - cross_val_score(dt, X_train, y_train, cv=10, \n",
    "                                  scoring='neg_mean_squared_error', \n",
    "                                  n_jobs=-1) \n",
    "\n",
    "# Compute the 10-folds CV RMSE & multiply by 100 because I turned % values to decimal which will affect the MSE/RMSE score\n",
    "RMSE_CV = ((MSE_CV_scores.mean())**(1/2)) * 100\n",
    "\n",
    "# Print RMSE_CV\n",
    "print('CV RMSE: {:.2f}'.format(RMSE_CV))"
   ]
  },
  {
   "cell_type": "markdown",
   "metadata": {},
   "source": [
    "Decision Tree: Training Error"
   ]
  },
  {
   "cell_type": "code",
   "execution_count": null,
   "metadata": {},
   "outputs": [],
   "source": [
    "# Fit dt to the training set\n",
    "#dt.fit(X_train, y_train)\n",
    "\n",
    "# Predict the labels of the training set\n",
    "y_pred_train = dt.predict(X_train)\n",
    "\n",
    "# Evaluate the training set RMSE of dt & multiply by 100 because I turned % values to decimal which will affect the MSE/RMSE score\n",
    "RMSE_train = ((MSE(y_train, y_pred_train))**(1/2))*100\n",
    "\n",
    "# Print RMSE_train\n",
    "print('Train RMSE: {:.2f}'.format(RMSE_train))"
   ]
  },
  {
   "cell_type": "code",
   "execution_count": null,
   "metadata": {},
   "outputs": [],
   "source": [
    "def feat_importances(m, df):\n",
    "        \n",
    "    return pd.DataFrame({'cols':df.columns, 'feat_imp': m.feature_importances_}\n",
    "                       ).sort_values('feat_imp', ascending=False)\n",
    "\n",
    "def plot_fi(fi): return fi.plot('cols', 'feat_imp', 'barh', figsize=(12,7), legend=False)"
   ]
  },
  {
   "cell_type": "code",
   "execution_count": null,
   "metadata": {},
   "outputs": [],
   "source": [
    "feature = feat_importances(dt,X_train)\n",
    "plot_fi(feature).figure.savefig('fi_importance_dt')"
   ]
  },
  {
   "cell_type": "code",
   "execution_count": null,
   "metadata": {},
   "outputs": [],
   "source": []
  },
  {
   "cell_type": "markdown",
   "metadata": {},
   "source": [
    "#### Random Forest"
   ]
  },
  {
   "cell_type": "code",
   "execution_count": null,
   "metadata": {},
   "outputs": [],
   "source": [
    "# Basic imports\n",
    "from sklearn.ensemble import RandomForestRegressor\n",
    "from sklearn.model_selection import train_test_split\n",
    "from sklearn.metrics import mean_squared_error as MSE"
   ]
  },
  {
   "cell_type": "code",
   "execution_count": null,
   "metadata": {},
   "outputs": [],
   "source": [
    "# Set seed for reproducibility\n",
    "SEED = 1\n",
    "# Split dataset into 80% train and 20% test\n",
    "X_train, X_test, y_train, y_test = train_test_split(X, y, test_size=0.2, random_state=SEED)"
   ]
  },
  {
   "cell_type": "markdown",
   "metadata": {},
   "source": [
    "Hyperparameter Tuning"
   ]
  },
  {
   "cell_type": "code",
   "execution_count": null,
   "metadata": {},
   "outputs": [],
   "source": [
    "# Number of trees in random forest\n",
    "n_estimators = [int(x) for x in np.linspace(start = 200, stop = 2000, num = 10)]\n",
    "\n",
    "# Number of features to consider at every split\n",
    "max_features = ['auto', 'sqrt']\n",
    "\n",
    "# Maximum number of levels in tree\n",
    "max_depth = [int(x) for x in np.linspace(2, 20, num = 10)]\n",
    "max_depth.append(None)\n",
    "\n",
    "# Minimum number of samples required to split a node\n",
    "min_samples_split = [2, 5, 10]\n",
    "\n",
    "# Minimum number of samples required at each leaf node\n",
    "min_samples_leaf = [0.05, 0.10, 0.13, 0.15, 0.20, 0.26, 0.5]\n",
    "\n",
    "# Method of selecting samples for training each tree\n",
    "bootstrap = [True, False]\n",
    "\n",
    "# Create the random grid\n",
    "random_grid = {'n_estimators': n_estimators,\n",
    "               'max_features': max_features,\n",
    "               'max_depth': max_depth,\n",
    "               'min_samples_split': min_samples_split,\n",
    "               'min_samples_leaf': min_samples_leaf,\n",
    "               'bootstrap': bootstrap}\n",
    "pprint(random_grid)"
   ]
  },
  {
   "cell_type": "code",
   "execution_count": null,
   "metadata": {},
   "outputs": [],
   "source": [
    "# Use the random grid to search for best hyperparameters\n",
    "# First create the base model to tune\n",
    "rf = RandomForestRegressor()\n",
    "\n",
    "# Random search of parameters, using 3 fold cross validation, \n",
    "# search across 100 different combinations, and use all available cores\n",
    "rf_random = RandomizedSearchCV(estimator = rf, param_distributions = random_grid, cv = 10, random_state=3, n_jobs = -1)\n",
    "#rf_random = RandomizedSearchCV(estimator = rf, param_distributions = random_grid, n_iter = 100, cv = 10, verbose=2, random_state=3, n_jobs = -1)\n",
    "\n",
    "# Fit the random search model\n",
    "rf_random.fit(X_train, y_train)"
   ]
  },
  {
   "cell_type": "code",
   "execution_count": null,
   "metadata": {},
   "outputs": [],
   "source": [
    "#See what best parameters from fitting the random search: \n",
    "dt_random.best_params_"
   ]
  },
  {
   "cell_type": "code",
   "execution_count": null,
   "metadata": {},
   "outputs": [],
   "source": [
    "# Instantiate a random forests regressor 'rf' 600 estimators\n",
    "rf = RandomForestRegressor(n_estimators=600,\n",
    "min_samples_leaf=0.01,\n",
    "random_state=SEED)\n",
    "\n",
    "# Fit 'rf' to the training set\n",
    "rf.fit(X_train, y_train)"
   ]
  },
  {
   "cell_type": "markdown",
   "metadata": {},
   "source": [
    "Random Forest: Desired Error"
   ]
  },
  {
   "cell_type": "code",
   "execution_count": null,
   "metadata": {},
   "outputs": [],
   "source": [
    "# Predict the test set labels 'y_pred'\n",
    "y_pred = rf.predict(X_test)\n",
    "\n",
    "# Evaluate the test set RMSE & multiply by 100 because I turned % values to decimal which will affect the MSE/RMSE score\n",
    "rmse_test = (MSE(y_test, y_pred)**(1/2))*100\n",
    "\n",
    "# Print the test set RMSE\n",
    "print('Test set RMSE of rf: {:.2f}'.format(rmse_test))"
   ]
  },
  {
   "cell_type": "markdown",
   "metadata": {},
   "source": [
    "Random Forest: Train Error"
   ]
  },
  {
   "cell_type": "code",
   "execution_count": null,
   "metadata": {},
   "outputs": [],
   "source": [
    "# Predict the train features\n",
    "y_pred_train=rf.predict(X_train)\n",
    "\n",
    "# Evaluate the train set RMSE & multiply by 100 because I turned % values to decimal which will affect the MSE/RMSE score\n",
    "rmse_train = (MSE(y_train, y_pred_train)**(1/2))*100\n",
    "\n",
    "# Print the train set RMSE\n",
    "print('Train set RMSE of rf: {:.2f}'.format(rmse_train))"
   ]
  },
  {
   "cell_type": "code",
   "execution_count": null,
   "metadata": {},
   "outputs": [],
   "source": [
    "#Don't need to do cross-validation when using random forest because mutliple bagging in process of training random forest \n",
    "#prevents over-fitting.\n",
    "import pandas as pd\n",
    "import matplotlib.pyplot as plt\n",
    "\n",
    "# Create a pd.Series of features importances\n",
    "importances_rf = pd.Series(rf.feature_importances_,\n",
    "index = X.columns)\n",
    "\n",
    "# Sort importances_rf\n",
    "sorted_importances_rf = importances_rf.sort_values()\n",
    "\n",
    "# Make a horizontal bar plot\n",
    "sorted_importances_rf.plot(kind='barh', color='blue')\n",
    "plt.show()"
   ]
  },
  {
   "cell_type": "code",
   "execution_count": null,
   "metadata": {},
   "outputs": [],
   "source": [
    "feature = feat_importances(rf,X_train)\n",
    "plot_fi(feature).figure.savefig('fi_importance_rf')"
   ]
  },
  {
   "cell_type": "markdown",
   "metadata": {},
   "source": [
    "#### Support Vector Machines (SVM)"
   ]
  },
  {
   "cell_type": "code",
   "execution_count": null,
   "metadata": {},
   "outputs": [],
   "source": [
    "#Important Note: X=pca.fit_transform(data) (USE PCA from above)\n",
    "\n",
    "#Determine best parameters\n",
    "from sklearn.model_selection import GridSearchCV\n",
    "\n",
    "svm = SVC()\n",
    "\n",
    "# Instantiate the GridSearchCV object and run the search\n",
    "parameters = {'gamma':[0.00001, 0.0001, 0.001, 0.01, 0.1,1,2]}\n",
    "searcher = GridSearchCV(svm, parameters)\n",
    "searcher.fit(X, y)\n",
    "\n",
    "# Report the best parameters\n",
    "print(\"Best CV params\", searcher.best_params_)"
   ]
  },
  {
   "cell_type": "code",
   "execution_count": null,
   "metadata": {},
   "outputs": [],
   "source": [
    "#Determine best parameters\n",
    "\n",
    "# split X and y into training and testing sets\n",
    "#from sklearn.cross_validation import train_test_split\n",
    "from sklearn.model_selection import train_test_split\n",
    "from sklearn.linear_model import SGDClassifier\n",
    "import warnings\n",
    "warnings.filterwarnings(\"ignore\")\n",
    "\n",
    "X_train,X_test,y_train,y_test=train_test_split(X,y,test_size=0.25,random_state=0)\n",
    "\n",
    "# We set random_state=0 for reproducibility \n",
    "linear_classifier = SGDClassifier(random_state=0)\n",
    "\n",
    "# Instantiate the GridSearchCV object and run the search\n",
    "parameters = {'alpha':[0.00001, 0.0001, 0.001, 0.01, 0.1, 1], \n",
    "             'loss':['hinge', 'log'], 'penalty':['l1','l2']}\n",
    "searcher = GridSearchCV(linear_classifier, parameters, cv=10)\n",
    "searcher.fit(X_train, y_train)\n",
    "\n",
    "# Report the best parameters and the corresponding score\n",
    "print(\"Best CV params\", searcher.best_params_)\n",
    "print(\"Best CV accuracy\", searcher.best_score_)\n",
    "print(\"Test accuracy of best grid search hypers:\", searcher.score(X_test, y_test))"
   ]
  },
  {
   "cell_type": "code",
   "execution_count": null,
   "metadata": {},
   "outputs": [],
   "source": [
    "#Test\n",
    "from sklearn.metrics import classification_report\n",
    "#import sklearn.cross_validation as cv (if you are using an earlier version)\n",
    "import sklearn.model_selection as cv\n",
    "(x_train, x_test, y_train, y_test) = cv.train_test_split(X, y, test_size=.25)\n",
    "\n",
    "# Next lets try Linear SVM\n",
    "from sklearn import svm\n",
    "\n",
    "svc = svm.SVC(kernel='linear', C=1)\n",
    "svc.fit(x_train, y_train)\n",
    "y_pred = svc.predict(x_test)\n",
    "print(classification_report(y_test, y_pred, \\\n",
    "                            target_names = ['Setosa', 'Versicolor', 'Virginica']))"
   ]
  },
  {
   "cell_type": "code",
   "execution_count": null,
   "metadata": {},
   "outputs": [],
   "source": [
    "C = 1.0  # SVM regularization parameter\n",
    "svc = svm.SVC(kernel='linear', C=C).fit(x_train, y_train)\n",
    "rbf_svc = svm.SVC(kernel='rbf', gamma=0.7, C=C).fit(x_train, y_train)\n",
    "poly_svc = svm.SVC(kernel='poly', degree=3, C=C).fit(x_train, y_train)\n",
    "lin_svc = svm.LinearSVC(C=C).fit(x_train,y_train)"
   ]
  },
  {
   "cell_type": "code",
   "execution_count": null,
   "metadata": {},
   "outputs": [],
   "source": [
    "y_pred=rbf_svc.predict(x_test)\n",
    "print(classification_report(y_test, y_pred, \\\n",
    "                            target_names = ['Setosa', 'Versicolor', 'Virginica']))"
   ]
  },
  {
   "cell_type": "code",
   "execution_count": null,
   "metadata": {},
   "outputs": [],
   "source": [
    "#fit actual data \n",
    "import numpy as np\n",
    "import matplotlib.pyplot as plt\n",
    "from sklearn import svm\n",
    "\n",
    "\n",
    "h = .02  # step size in the mesh\n",
    "\n",
    "# we create an instance of SVM and fit out data. We do not scale our\n",
    "# data since we want to plot the support vectors\n",
    "C = 1.0  # SVM regularization parameter\n",
    "svc = svm.SVC(kernel='linear', C=C).fit(X, y)\n",
    "rbf_svc = svm.SVC(kernel='rbf', gamma=0.7, C=C).fit(X, y)\n",
    "poly_svc = svm.SVC(kernel='poly', degree=3, C=C).fit(X, y)\n",
    "lin_svc = svm.LinearSVC(C=C).fit(X, y)\n",
    "\n",
    "# create a mesh to plot in\n",
    "x_min, x_max = X[:, 0].min() - 1, X[:, 0].max() + 1\n",
    "y_min, y_max = X[:, 1].min() - 1, X[:, 1].max() + 1\n",
    "xx, yy = np.meshgrid(np.arange(x_min, x_max, h),\n",
    "                     np.arange(y_min, y_max, h))\n",
    "\n",
    "# title for the plots\n",
    "titles = ['SVC with linear kernel',\n",
    "          'LinearSVC (linear kernel)',\n",
    "          'SVC with RBF kernel',\n",
    "          'SVC with polynomial (degree 3) kernel']\n",
    "\n",
    "\n",
    "for i, clf in enumerate((svc, lin_svc, rbf_svc, poly_svc)):\n",
    "    # Plot the decision boundary. For that, we will assign a color to each\n",
    "    # point in the mesh [x_min, m_max]x[y_min, y_max].\n",
    "    plt.subplot(2, 2, i + 1)\n",
    "    plt.subplots_adjust(wspace=0.4, hspace=0.4)\n",
    "\n",
    "    Z = clf.predict(np.c_[xx.ravel(), yy.ravel()])\n",
    "\n",
    "    # Put the result into a color plot\n",
    "    Z = Z.reshape(xx.shape)\n",
    "    plt.contourf(xx, yy, Z, cmap=plt.cm.Paired, alpha=0.6)\n",
    "\n",
    "    # Plot also the training points\n",
    "    plt.scatter(X[:, 0], X[:, 1], c=y, cmap=plt.cm.Paired)\n",
    "    plt.xlabel('PCA_1')\n",
    "    plt.ylabel('PCA_2')\n",
    "    plt.xlim(xx.min(), xx.max())\n",
    "    plt.ylim(yy.min(), yy.max())\n",
    "    plt.xticks(())\n",
    "    plt.yticks(())\n",
    "    plt.title(titles[i])\n",
    "\n",
    "plt.show()"
   ]
  },
  {
   "cell_type": "markdown",
   "metadata": {},
   "source": [
    "EA SVR"
   ]
  },
  {
   "cell_type": "code",
   "execution_count": null,
   "metadata": {},
   "outputs": [],
   "source": [
    "# Instantiate Support Vector Regressor\n",
    "sv = SVR(kernel = 'rbf')\n",
    "\n",
    "# Fit the data to the training set\n",
    "sv.fit(x_train, y_train)\n",
    "\n",
    "# Predict test set labels\n",
    "sv_y_pred = sv.predict(x_test)\n",
    "print(sv_y_pred[0:10])"
   ]
  },
  {
   "cell_type": "code",
   "execution_count": null,
   "metadata": {},
   "outputs": [],
   "source": [
    "# Compute rmse_dt and R2\n",
    "r2_dt = r2_score(y_test, sv_y_pred)\n",
    "rmse_dt = MSE(y_test, sv_y_pred)**(1/2)\n",
    "print(rmse_dt, r2_dt)"
   ]
  },
  {
   "cell_type": "code",
   "execution_count": null,
   "metadata": {},
   "outputs": [],
   "source": [
    "# Compute rmse_dt\n",
    "mseCV_DT = cross_val_score(sv, x_train,y_train, cv=5, scoring='neg_mean_squared_error', n_jobs=-1)\n",
    "rmseCV_DT = (-mseCV_DT.mean())**(1/2)\n",
    "print(\"RMSE score:\", rmseCV_DT)"
   ]
  },
  {
   "cell_type": "markdown",
   "metadata": {},
   "source": [
    "#### Gradient Boosting"
   ]
  },
  {
   "cell_type": "code",
   "execution_count": null,
   "metadata": {},
   "outputs": [],
   "source": [
    "# Instantiate Gradient Boosting\n",
    "gb = GradientBoostingRegressor(random_state=0)\n",
    "\n",
    "# Fit the data to the training set\n",
    "gb.fit(x_train, y_train)\n",
    "\n",
    "# Predict test set labels\n",
    "gb_y_pred = gb.predict(x_test)\n",
    "print(gb_y_pred[0:10])"
   ]
  },
  {
   "cell_type": "code",
   "execution_count": null,
   "metadata": {},
   "outputs": [],
   "source": [
    "# Compute rmse_dt and R2\n",
    "r2_dt = r2_score(y_test, gb_y_pred)\n",
    "rmse_dt = MSE(y_test, gb_y_pred)**(1/2)\n",
    "print(rmse_dt, r2_dt)"
   ]
  },
  {
   "cell_type": "code",
   "execution_count": null,
   "metadata": {},
   "outputs": [],
   "source": [
    "# Compute rmse_dt\n",
    "mseCV_DT = cross_val_score(gb, x_train,y_train, cv=5, scoring='neg_mean_squared_error', n_jobs=-1)\n",
    "rmseCV_DT = (-mseCV_DT.mean())**(1/2)\n",
    "print(\"RMSE score:\", rmseCV_DT)"
   ]
  },
  {
   "cell_type": "markdown",
   "metadata": {},
   "source": [
    "### KNN for regression\n",
    "https://www.analyticsvidhya.com/blog/2018/08/k-nearest-neighbor-introduction-regression-python/"
   ]
  },
  {
   "cell_type": "code",
   "execution_count": null,
   "metadata": {},
   "outputs": [],
   "source": [
    "#Create train and test set\n",
    "from sklearn.model_selection import train_test_split\n",
    "train , test = train_test_split(df, test_size = 0.3)\n",
    "\n",
    "x_train = train.drop('Item_Outlet_Sales', axis=1)\n",
    "y_train = train['Item_Outlet_Sales']\n",
    "\n",
    "x_test = test.drop('Item_Outlet_Sales', axis = 1)\n",
    "y_test = test['Item_Outlet_Sales']"
   ]
  },
  {
   "cell_type": "code",
   "execution_count": null,
   "metadata": {},
   "outputs": [],
   "source": [
    "#Preprocessing-Scaling the features\n",
    "from sklearn.preprocessing import MinMaxScaler\n",
    "scaler = MinMaxScaler(feature_range=(0, 1))\n",
    "\n",
    "x_train_scaled = scaler.fit_transform(x_train)\n",
    "x_train = pd.DataFrame(x_train_scaled)\n",
    "\n",
    "x_test_scaled = scaler.fit_transform(x_test)\n",
    "x_test = pd.DataFrame(x_test_scaled)\n",
    " "
   ]
  },
  {
   "cell_type": "code",
   "execution_count": null,
   "metadata": {},
   "outputs": [],
   "source": [
    "#Look at error rate for different K values\n",
    "#import required packages\n",
    "from sklearn import neighbors\n",
    "from sklearn.metrics import mean_squared_error \n",
    "from math import sqrt\n",
    "import matplotlib.pyplot as plt\n",
    "%matplotlib inline\n",
    "\n",
    "rmse_val = [] #to store rmse values for different k\n",
    "for K in range(20):\n",
    "    K = K+1\n",
    "    model = neighbors.KNeighborsRegressor(n_neighbors = K)\n",
    "\n",
    "    model.fit(x_train, y_train)  #fit the model\n",
    "    pred=model.predict(x_test) #make prediction on test set\n",
    "    error = sqrt(mean_squared_error(y_test,pred)) #calculate rmse\n",
    "    rmse_val.append(error) #store rmse values\n",
    "    print('RMSE value for k= ' , K , 'is:', error)\n",
    "\n",
    "#plotting the rmse values against k values\n",
    "curve = pd.DataFrame(rmse_val) #elbow curve \n",
    "curve.plot()"
   ]
  },
  {
   "cell_type": "code",
   "execution_count": null,
   "metadata": {},
   "outputs": [],
   "source": [
    "#Predictions on the test dataset\n",
    "#reading test and submission files\n",
    "test = pd.read_csv('test.csv')\n",
    "submission = pd.read_csv('SampleSubmission.csv')\n",
    "submission['Item_Identifier'] = test['Item_Identifier']\n",
    "submission['Outlet_Identifier'] = test['Outlet_Identifier']\n",
    "\n",
    "#preprocessing test dataset\n",
    "test.drop(['Item_Identifier', 'Outlet_Identifier'], axis=1, inplace=True)\n",
    "test['Item_Weight'].fillna(mean, inplace =True)\n",
    "test = pd.get_dummies(test)\n",
    "test_scaled = scaler.fit_transform(test)\n",
    "test = pd.DataFrame(test_scaled)\n",
    "\n",
    "#predicting on the test set and creating submission file\n",
    "predict = model.predict(test)\n",
    "submission['Item_Outlet_Sales'] = predict\n",
    "submission.to_csv('submit_file.csv',index=False)"
   ]
  },
  {
   "cell_type": "code",
   "execution_count": null,
   "metadata": {},
   "outputs": [],
   "source": [
    "#To decide value of k, implement GridsearchCV\n",
    "from sklearn.model_selection import GridSearchCV\n",
    "params = {'n_neighbors':[2,3,4,5,6,7,8,9]}\n",
    "\n",
    "knn = neighbors.KNeighborsRegressor()\n",
    "\n",
    "model = GridSearchCV(knn, params, cv=5)\n",
    "model.fit(x_train,y_train)\n",
    "model.best_params_"
   ]
  },
  {
   "cell_type": "code",
   "execution_count": null,
   "metadata": {},
   "outputs": [],
   "source": []
  },
  {
   "cell_type": "markdown",
   "metadata": {},
   "source": [
    "### Save model to pickle"
   ]
  },
  {
   "cell_type": "code",
   "execution_count": null,
   "metadata": {},
   "outputs": [],
   "source": [
    "#To save model to pickle import\n",
    "import pickle\n",
    "\n",
    "#Save\n",
    "model_rf_file = open(\"FinalProjectModel.pkl\", \"wb\")\n",
    "pickle.dump(rf, model_rf_file)"
   ]
  },
  {
   "cell_type": "markdown",
   "metadata": {},
   "source": [
    "#### Load and apply model"
   ]
  },
  {
   "cell_type": "code",
   "execution_count": null,
   "metadata": {},
   "outputs": [],
   "source": [
    "#loading\n",
    "model_rf_file = open('FinalProjectModel.pkl', 'rb')\n",
    "rf_pi2 = pickle.load(model_rf_file)"
   ]
  },
  {
   "cell_type": "code",
   "execution_count": null,
   "metadata": {},
   "outputs": [],
   "source": [
    "#Apply the model: use loaded picked model to make predictions\n",
    "#this is the code used to apply the model used to make predictions.  \n",
    "y_pred_train = rf_pi2.predict(X_test)"
   ]
  },
  {
   "cell_type": "code",
   "execution_count": null,
   "metadata": {},
   "outputs": [],
   "source": [
    "print(y_pred_train)"
   ]
  },
  {
   "cell_type": "markdown",
   "metadata": {},
   "source": [
    "### Model Accuracy Testing"
   ]
  },
  {
   "cell_type": "code",
   "execution_count": null,
   "metadata": {},
   "outputs": [],
   "source": [
    "#Split test data \n",
    "X_Htest, y_Htest  = test_holdout.drop(['loan_interest_rate'], axis =1), test_holdout['loan_interest_rate'] "
   ]
  },
  {
   "cell_type": "code",
   "execution_count": null,
   "metadata": {},
   "outputs": [],
   "source": [
    "#Predict \n",
    "y_pred_rf = rf_pi2.predict(X_Htest)\n",
    "print(y_pred_rf)"
   ]
  },
  {
   "cell_type": "code",
   "execution_count": null,
   "metadata": {},
   "outputs": [],
   "source": [
    "final_data = pd.DataFrame(data = y_pred_rf, columns=['loan_interest_rate'])"
   ]
  },
  {
   "cell_type": "code",
   "execution_count": null,
   "metadata": {},
   "outputs": [],
   "source": [
    "final_data.head()"
   ]
  },
  {
   "cell_type": "code",
   "execution_count": null,
   "metadata": {},
   "outputs": [],
   "source": [
    "final_data['loan_interest_rate'] = final_data['loan_interest_rate'].mul(100).round(2).astype(str)+'%'"
   ]
  },
  {
   "cell_type": "code",
   "execution_count": null,
   "metadata": {},
   "outputs": [],
   "source": [
    "final_data.head()"
   ]
  },
  {
   "cell_type": "code",
   "execution_count": null,
   "metadata": {},
   "outputs": [],
   "source": [
    "#Save Results to csv\n",
    "final_data.to_csv(\"FinalProjectResults.csv\",index=False)"
   ]
  }
 ],
 "metadata": {
  "kernelspec": {
   "display_name": "Python 3",
   "language": "python",
   "name": "python3"
  },
  "language_info": {
   "codemirror_mode": {
    "name": "ipython",
    "version": 3
   },
   "file_extension": ".py",
   "mimetype": "text/x-python",
   "name": "python",
   "nbconvert_exporter": "python",
   "pygments_lexer": "ipython3",
   "version": "3.8.5"
  }
 },
 "nbformat": 4,
 "nbformat_minor": 4
}
